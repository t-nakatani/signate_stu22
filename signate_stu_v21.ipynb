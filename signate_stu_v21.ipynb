{
  "nbformat": 4,
  "nbformat_minor": 0,
  "metadata": {
    "colab": {
      "name": "signate_stu_v21.ipynb",
      "provenance": [],
      "collapsed_sections": [],
      "authorship_tag": "ABX9TyOBkSx3MPtQ8g2Rs5dxuQKt",
      "include_colab_link": true
    },
    "kernelspec": {
      "name": "python3",
      "display_name": "Python 3"
    },
    "language_info": {
      "name": "python"
    },
    "accelerator": "GPU",
    "gpuClass": "standard"
  },
  "cells": [
    {
      "cell_type": "markdown",
      "metadata": {
        "id": "view-in-github",
        "colab_type": "text"
      },
      "source": [
        "<a href=\"https://colab.research.google.com/github/t-nakatani/signate_stu22/blob/exp/signate_stu_v21.ipynb\" target=\"_parent\"><img src=\"https://colab.research.google.com/assets/colab-badge.svg\" alt=\"Open In Colab\"/></a>"
      ]
    },
    {
      "cell_type": "markdown",
      "source": [
        "v20: max_len 128 >> 512"
      ],
      "metadata": {
        "id": "GDti4y2d6yb_"
      }
    },
    {
      "cell_type": "code",
      "execution_count": 1,
      "metadata": {
        "id": "ofvp5QVbEagJ",
        "colab": {
          "base_uri": "https://localhost:8080/"
        },
        "outputId": "8d11214b-67ec-4803-cd43-4098e333c8bb"
      },
      "outputs": [
        {
          "output_type": "stream",
          "name": "stdout",
          "text": [
            "Drive already mounted at /content/drive; to attempt to forcibly remount, call drive.mount(\"/content/drive\", force_remount=True).\n"
          ]
        }
      ],
      "source": [
        "import numpy as np\n",
        "import pandas as pd\n",
        "import matplotlib.pyplot as plt\n",
        "import seaborn as sns\n",
        "import os\n",
        "\n",
        "from google.colab import drive\n",
        "drive.mount('/content/drive')\n",
        "ROOT = \"/content/drive/MyDrive/Colab Notebooks/signate/\"\n",
        "\n",
        "#学習用データと評価用データの読み込み\n",
        "train = pd.read_csv(os.path.join(ROOT, \"train_cleaned.csv\")).drop_duplicates(subset='description')\n",
        "test = pd.read_csv(os.path.join(ROOT, \"test_cleaned.csv\"))\n",
        "\n",
        "jobdic = dict(zip([1, 2, 3, 4], ['DataScientist', 'ML Engineer', 'Software Engineer', 'Consultant']))"
      ]
    },
    {
      "cell_type": "code",
      "source": [
        "!pip install -q transformers==3"
      ],
      "metadata": {
        "id": "YisF3KcxVqbT"
      },
      "execution_count": 2,
      "outputs": []
    },
    {
      "cell_type": "code",
      "source": [
        "import numpy as np\n",
        "import transformers\n",
        "import torch\n",
        "from torch.utils.data import Dataset, DataLoader\n",
        "# from transformers import RobertaTokenizer, RobertaModel\n",
        "# from transformers import BertModel, AutoTokenizer \n",
        "\n",
        "from transformers import AutoTokenizer, AutoModel, AutoConfig\n",
        "# from transformers import BertTokenizer, BertModel\n",
        "from torch import optim\n",
        "from torch import cuda\n",
        "import time\n",
        "from matplotlib import pyplot as plt\n",
        "from tqdm import tqdm\n",
        "from sklearn.metrics import f1_score"
      ],
      "metadata": {
        "id": "IrNv3cPZOec-"
      },
      "execution_count": 3,
      "outputs": []
    },
    {
      "cell_type": "code",
      "source": [
        "# seeds\n",
        "SEED = 2022\n",
        "def seed_everything(seed):\n",
        "    os.environ['PYTHONHASHSEED'] = str(seed)\n",
        "    np.random.seed(seed)\n",
        "    torch.manual_seed(seed)\n",
        "    if torch.cuda.is_available():\n",
        "        torch.cuda.manual_seed(seed)\n",
        "        torch.cuda.manual_seed_all(seed)\n",
        "\n",
        "seed_everything(SEED)\n",
        "\n",
        "if torch.cuda.is_available():\n",
        "    torch.backends.cudnn.deterministic = True\n",
        "    torch.backends.cudnn.benchmark = False\n",
        "    current_device = torch.cuda.current_device()\n",
        "    print(\"Device:\", torch.cuda.get_device_name(current_device))"
      ],
      "metadata": {
        "colab": {
          "base_uri": "https://localhost:8080/"
        },
        "id": "qnz-PWYD9S92",
        "outputId": "be53545b-a159-45c7-e39b-6a87be3f6076"
      },
      "execution_count": 4,
      "outputs": [
        {
          "output_type": "stream",
          "name": "stdout",
          "text": [
            "Device: Tesla P100-PCIE-16GB\n"
          ]
        }
      ]
    },
    {
      "cell_type": "code",
      "source": [
        "# Datasetの定義\n",
        "class CreateDataset(Dataset):\n",
        "  def __init__(self, X, y, tokenizer, max_len):\n",
        "    self.X = X\n",
        "    self.y = y\n",
        "    self.tokenizer = tokenizer\n",
        "    self.max_len = max_len\n",
        "\n",
        "  def __len__(self):  # len(Dataset)で返す値を指定\n",
        "    return len(self.X)\n",
        "\n",
        "  def __getitem__(self, index):  # Dataset[index]で返す値を指定\n",
        "    text = self.X[index]\n",
        "    inputs = self.tokenizer.encode_plus(\n",
        "      text,\n",
        "      add_special_tokens=True,\n",
        "      max_length=self.max_len,\n",
        "      pad_to_max_length=True,\n",
        "      truncation=True\n",
        "    )\n",
        "    ids = inputs['input_ids']\n",
        "    mask = inputs['attention_mask']\n",
        "    labels = self.y[index]\n",
        "\n",
        "    return {\n",
        "      'ids': torch.LongTensor(ids),\n",
        "      'mask': torch.LongTensor(mask),\n",
        "      'labels': torch.Tensor(labels)\n",
        "    }"
      ],
      "metadata": {
        "id": "bTbjxDE60aFs"
      },
      "execution_count": 5,
      "outputs": []
    },
    {
      "cell_type": "markdown",
      "source": [
        "1. from_pretrainedの文字列でconfig.from_pretrainedを呼び出し\n",
        "2. config.from_pretrainedの結果をconfigにセット"
      ],
      "metadata": {
        "id": "yYsvP_-hf-pQ"
      }
    },
    {
      "cell_type": "code",
      "source": [
        "from pandas._config import config\n",
        "# BERT分類モデルの定義\n",
        "class BERTClass(torch.nn.Module):\n",
        "  def __init__(self, drop_rate, otuput_size):\n",
        "    super().__init__()\n",
        "    # self.config = AutoConfig.from_pretrained(\"allenai/scibert_scivocab_uncased\", num_labels=4)\n",
        "    self.config = AutoConfig.from_pretrained(\"bert-base-uncased\")\n",
        "    self.bert = AutoModel.from_config(config=self.config)\n",
        "    self.drop = torch.nn.Dropout(drop_rate)\n",
        "    self.fc = torch.nn.Linear(768, otuput_size)  # BERTの出力に合わせて768次元を指定\n",
        "    torch.nn.init.normal_(self.fc.weight, std=0.02)\n",
        "    torch.nn.init.zeros_(self.fc.bias)\n",
        "\n",
        "  def forward(self, ids, mask):\n",
        "    _, out = self.bert(ids, attention_mask=mask)\n",
        "    out = self.fc(self.drop(out))\n",
        "    # out = self.bert(ids, attention_mask=mask)\n",
        "    # out = self.fc(self.drop(out[:, 0, :]))\n",
        "    return out"
      ],
      "metadata": {
        "id": "M38JBNnv7QA4"
      },
      "execution_count": 6,
      "outputs": []
    },
    {
      "cell_type": "code",
      "source": [
        "def calculate_loss_and_f1_score(model, criterion, loader, device, epoch, max_epoch):\n",
        "  \"\"\" 損失・正解率を計算\"\"\"\n",
        "  model.eval()\n",
        "  loss = 0.0\n",
        "  total = 0\n",
        "  correct = 0\n",
        "  all_labels = []\n",
        "  all_preds = []\n",
        "\n",
        "  with torch.no_grad():\n",
        "    with tqdm(loader) as pbar:\n",
        "      pbar.set_description('valid')\n",
        "      for i, data in enumerate(pbar):\n",
        "        ids = data['ids'].to(device)\n",
        "        mask = data['mask'].to(device)\n",
        "        labels = data['labels'].to(device)\n",
        "\n",
        "\n",
        "        outputs = model(ids, mask)\n",
        "        loss += criterion(outputs, labels).item()\n",
        "\n",
        "        preds = torch.argmax(outputs, dim=-1).cpu().numpy() # バッチサイズの長さの予測ラベル配列\n",
        "        labels = torch.argmax(labels, dim=-1).cpu().numpy()  # バッチサイズの長さの正解ラベル配列\n",
        "        all_labels += labels.tolist()\n",
        "        all_preds += preds.tolist()\n",
        "        total += len(labels)\n",
        "        correct += (preds == labels).sum().item()\n",
        "        pbar.set_postfix(loss=loss/(i+1), f1=f1_score(all_labels, all_preds, average=\"macro\"))\n",
        "\n",
        "  return loss / len(loader), f1_score(all_labels, all_preds, average=\"macro\")"
      ],
      "metadata": {
        "id": "KFQSOOn7SbPp"
      },
      "execution_count": 7,
      "outputs": []
    },
    {
      "cell_type": "code",
      "source": [
        "def train_val(train_loader, val_loader, model_path):\n",
        "  device = 'cuda' if cuda.is_available() else 'cpu'\n",
        "  model = BERTClass(DROP_RATE, OUTPUT_SIZE).to(device)\n",
        "  criterion = torch.nn.CrossEntropyLoss()\n",
        "  optimizer = torch.optim.AdamW(params=model.parameters(), lr=LEARNING_RATE)\n",
        "  \n",
        "  log_valid = []\n",
        "  best_acc = 0\n",
        "  all_labels = []\n",
        "  all_preds = []\n",
        "\n",
        "  # train\n",
        "  for epoch in range(NUM_EPOCHS):\n",
        "    print('\\nepoch:', epoch+1)\n",
        "    loss_train = correct = total = 0\n",
        "    model.train()\n",
        "    with tqdm(train_loader) as pbar:\n",
        "      pbar.set_description('train')\n",
        "      for i, data in enumerate(pbar):\n",
        "        ids = data['ids'].to(device)\n",
        "        mask = data['mask'].to(device)\n",
        "        labels = data['labels'].to(device)\n",
        "\n",
        "        optimizer.zero_grad()\n",
        "\n",
        "        outputs = model(ids, mask)\n",
        "        loss = criterion(outputs, labels)\n",
        "        loss.backward()\n",
        "        optimizer.step()\n",
        "        \n",
        "        loss_train += loss.item()\n",
        "        preds = torch.argmax(outputs, dim=-1).cpu().numpy()\n",
        "        labels = torch.argmax(labels, dim=-1).cpu().numpy()\n",
        "\n",
        "        all_labels += labels.tolist()\n",
        "        all_preds += preds.tolist()\n",
        "\n",
        "        total += len(labels)\n",
        "        correct += (preds == labels).sum().item()\n",
        "        pbar.set_postfix(loss=loss_train/(i+1), f1=f1_score(all_labels, all_preds, average=\"macro\"))\n",
        "\n",
        "    loss_valid, f1_valid = calculate_loss_and_f1_score(model, criterion, val_loader, device, epoch, NUM_EPOCHS)\n",
        "    log_valid.append([loss_valid, f1_valid])\n",
        "    if best_acc < f1_valid:\n",
        "      best_acc = f1_valid\n",
        "      \n",
        "      torch.save(model, os.path.join(ROOT, model_path))\n",
        "      print('==== model saved ====')\n",
        "\n",
        "  return log_valid"
      ],
      "metadata": {
        "id": "T9Hy83GPWD1C"
      },
      "execution_count": 8,
      "outputs": []
    },
    {
      "cell_type": "code",
      "source": [
        "DROP_RATE = 0.1\n",
        "OUTPUT_SIZE = 4\n",
        "BATCH_SIZE = 16\n",
        "NUM_EPOCHS = 20\n",
        "LEARNING_RATE = 2e-5\n",
        "N_CV = 3\n",
        "VERSION = 'v21'"
      ],
      "metadata": {
        "id": "XfF5KLQJWJCG"
      },
      "execution_count": 9,
      "outputs": []
    },
    {
      "cell_type": "code",
      "source": [
        "import sklearn.metrics\n",
        "def train_val_predict(\n",
        "        df_train,       # 学習用のデータ\n",
        "        text_column,    # 対象のカラム名\n",
        "        target_column,  # 目的変数のカラム名\n",
        "        df_valid=None,  # 検証用データ\n",
        "        df_val_test=None,       # 予測用データ\n",
        "        model_file_prefix=\"\",  # 保存時のファイル名識別子\n",
        "        epochs=NUM_EPOCHS,\n",
        "        batch_size=BATCH_SIZE,\n",
        "    ):\n",
        "  \n",
        "    # model\n",
        "    model_path = \"{}_{}.pth\".format(model_file_prefix, VERSION)\n",
        "    model = BERTClass(DROP_RATE, OUTPUT_SIZE)\n",
        "    criterion = torch.nn.CrossEntropyLoss()\n",
        "    optimizer = torch.optim.AdamW(params=model.parameters(), lr=LEARNING_RATE)\n",
        "    device = 'cuda' if cuda.is_available() else 'cpu'\n",
        "\n",
        "    # dataset\n",
        "    df_val_test[target_column].fillna(0)\n",
        "\n",
        "    max_len = 512\n",
        "    tokenizer = AutoTokenizer.from_pretrained(\"bert-base-uncased\")\n",
        "    dataset_train = CreateDataset(df_train[text_column].values, pd.get_dummies(df_train[target_column]).values, tokenizer, max_len)\n",
        "    dataset_val = CreateDataset(df_valid[text_column].values, pd.get_dummies(df_valid[target_column]).values, tokenizer, max_len)\n",
        "    dataset_test = CreateDataset(df_val_test[text_column].values, pd.get_dummies(df_val_test[target_column]).values, tokenizer, max_len)\n",
        "\n",
        "    dataloader_train = DataLoader(dataset_train, batch_size=BATCH_SIZE, shuffle=True)\n",
        "    dataloader_valid = DataLoader(dataset_val, batch_size=BATCH_SIZE, shuffle=True)\n",
        "    dataloader_test = DataLoader(dataset_test, batch_size=BATCH_SIZE, shuffle=False)\n",
        "\n",
        "    # train\n",
        "    print('\\n================  start train  ================')\n",
        "    metric = train_val(dataloader_train, dataloader_valid, model_path)\n",
        "    print('================  end train  ================\\n')\n",
        "\n",
        "    # predict\n",
        "    model = torch.load(os.path.join(ROOT, model_path))\n",
        "    model.eval()\n",
        "    pred_y_list = []\n",
        "    emb_list = []\n",
        "    with torch.no_grad():\n",
        "      with tqdm(dataloader_test) as pbar:\n",
        "        pbar.set_description('test')\n",
        "        for data in pbar:\n",
        "          ids = data['ids'].to(device)\n",
        "          mask = data['mask'].to(device)\n",
        "          labels = data['labels'].to(device)\n",
        "\n",
        "          output = model.forward(ids, mask)\n",
        "          pred = torch.argmax(output, dim=-1).cpu().numpy()\n",
        "\n",
        "          pred_y_list.extend(pred)\n",
        "          emb_list.extend(output.cpu().numpy())\n",
        "    return metric, pred_y_list, emb_list"
      ],
      "metadata": {
        "id": "La2mPphur18q"
      },
      "execution_count": 10,
      "outputs": []
    },
    {
      "cell_type": "code",
      "source": [
        "import sklearn.model_selection\n",
        "\n",
        "text_column, target_column, n_splits = ('description', 'jobflag', N_CV)\n",
        "\n",
        "df = pd.concat([train, test], ignore_index=True, sort=False)\n",
        "df_train = df[df[target_column].notnull()]\n",
        "df_test = df[df[target_column].isnull()]\n",
        "\n",
        "df_train_idx = df_train.index\n",
        "\n",
        "# store result\n",
        "df_pred = pd.DataFrame(df.index, columns=[\"index\"]).set_index(\"index\")\n",
        "df_emb = pd.DataFrame(df.index, columns=[\"index\"]).set_index(\"index\")\n",
        "df_emb_pred = None\n",
        "metric_list = []\n",
        "all_emb = []\n",
        "\n",
        "# cross validation\n",
        "kf = sklearn.model_selection.StratifiedKFold(n_splits=n_splits, shuffle=True, random_state=SEED)\n",
        "for i, (train_idx, test_idx) in enumerate(kf.split(df_train, df_train[target_column])):\n",
        "  df_train_sub = df_train.iloc[train_idx]\n",
        "  df_test_sub = df_train.iloc[test_idx]\n",
        "\n",
        "  df_val_test = pd.concat([df_test_sub, df_test], ignore_index=True, sort=False)\n",
        "\n",
        "  model_file_prefix = \"cv_{}\".format(i)\n",
        "\n",
        "  # train\n",
        "  metric, pred_y_list, emb_list = train_val_predict(\n",
        "      df_train=df_train_sub, \n",
        "      text_column=text_column,\n",
        "      target_column=target_column, \n",
        "      df_valid=df_test_sub,\n",
        "      df_val_test=df_val_test,\n",
        "      model_file_prefix=model_file_prefix,\n",
        "  )\n",
        "  metric_list.append(metric)\n",
        "  all_emb.append(emb_list)\n",
        "  # break"
      ],
      "metadata": {
        "colab": {
          "base_uri": "https://localhost:8080/"
        },
        "id": "QB2vixNEo7_B",
        "outputId": "27f25a45-0322-48cb-badb-6a0cc8f92ff3"
      },
      "execution_count": 11,
      "outputs": [
        {
          "output_type": "stream",
          "name": "stdout",
          "text": [
            "\n",
            "================  start train  ================\n",
            "\n",
            "epoch: 1\n"
          ]
        },
        {
          "output_type": "stream",
          "name": "stderr",
          "text": [
            "train: 100%|██████████| 63/63 [00:55<00:00,  1.15it/s, f1=0.24, loss=1.29]\n",
            "valid: 100%|██████████| 32/32 [00:09<00:00,  3.43it/s, f1=0.118, loss=1.26]\n"
          ]
        },
        {
          "output_type": "stream",
          "name": "stdout",
          "text": [
            "==== model saved ====\n",
            "\n",
            "epoch: 2\n"
          ]
        },
        {
          "output_type": "stream",
          "name": "stderr",
          "text": [
            "train: 100%|██████████| 63/63 [00:53<00:00,  1.18it/s, f1=0.253, loss=1.27]\n",
            "valid: 100%|██████████| 32/32 [00:09<00:00,  3.36it/s, f1=0.124, loss=1.31]\n"
          ]
        },
        {
          "output_type": "stream",
          "name": "stdout",
          "text": [
            "==== model saved ====\n",
            "\n",
            "epoch: 3\n"
          ]
        },
        {
          "output_type": "stream",
          "name": "stderr",
          "text": [
            "train: 100%|██████████| 63/63 [00:53<00:00,  1.18it/s, f1=0.273, loss=1.2]\n",
            "valid: 100%|██████████| 32/32 [00:09<00:00,  3.44it/s, f1=0.285, loss=1.18]\n"
          ]
        },
        {
          "output_type": "stream",
          "name": "stdout",
          "text": [
            "==== model saved ====\n",
            "\n",
            "epoch: 4\n"
          ]
        },
        {
          "output_type": "stream",
          "name": "stderr",
          "text": [
            "train: 100%|██████████| 63/63 [00:53<00:00,  1.18it/s, f1=0.321, loss=0.975]\n",
            "valid: 100%|██████████| 32/32 [00:09<00:00,  3.43it/s, f1=0.463, loss=1]\n"
          ]
        },
        {
          "output_type": "stream",
          "name": "stdout",
          "text": [
            "==== model saved ====\n",
            "\n",
            "epoch: 5\n"
          ]
        },
        {
          "output_type": "stream",
          "name": "stderr",
          "text": [
            "train: 100%|██████████| 63/63 [00:53<00:00,  1.18it/s, f1=0.373, loss=0.687]\n",
            "valid: 100%|██████████| 32/32 [00:09<00:00,  3.43it/s, f1=0.38, loss=0.96]\n"
          ]
        },
        {
          "output_type": "stream",
          "name": "stdout",
          "text": [
            "\n",
            "epoch: 6\n"
          ]
        },
        {
          "output_type": "stream",
          "name": "stderr",
          "text": [
            "train: 100%|██████████| 63/63 [00:53<00:00,  1.18it/s, f1=0.421, loss=0.545]\n",
            "valid: 100%|██████████| 32/32 [00:09<00:00,  3.43it/s, f1=0.44, loss=1.16]\n"
          ]
        },
        {
          "output_type": "stream",
          "name": "stdout",
          "text": [
            "\n",
            "epoch: 7\n"
          ]
        },
        {
          "output_type": "stream",
          "name": "stderr",
          "text": [
            "train: 100%|██████████| 63/63 [00:53<00:00,  1.18it/s, f1=0.458, loss=0.519]\n",
            "valid: 100%|██████████| 32/32 [00:09<00:00,  3.37it/s, f1=0.55, loss=0.812]\n"
          ]
        },
        {
          "output_type": "stream",
          "name": "stdout",
          "text": [
            "==== model saved ====\n",
            "\n",
            "epoch: 8\n"
          ]
        },
        {
          "output_type": "stream",
          "name": "stderr",
          "text": [
            "train: 100%|██████████| 63/63 [00:53<00:00,  1.18it/s, f1=0.495, loss=0.377]\n",
            "valid: 100%|██████████| 32/32 [00:09<00:00,  3.43it/s, f1=0.547, loss=0.947]\n"
          ]
        },
        {
          "output_type": "stream",
          "name": "stdout",
          "text": [
            "\n",
            "epoch: 9\n"
          ]
        },
        {
          "output_type": "stream",
          "name": "stderr",
          "text": [
            "train: 100%|██████████| 63/63 [00:53<00:00,  1.17it/s, f1=0.543, loss=0.22]\n",
            "valid: 100%|██████████| 32/32 [00:09<00:00,  3.44it/s, f1=0.55, loss=1.13]\n"
          ]
        },
        {
          "output_type": "stream",
          "name": "stdout",
          "text": [
            "\n",
            "epoch: 10\n"
          ]
        },
        {
          "output_type": "stream",
          "name": "stderr",
          "text": [
            "train: 100%|██████████| 63/63 [00:53<00:00,  1.18it/s, f1=0.584, loss=0.156]\n",
            "valid: 100%|██████████| 32/32 [00:09<00:00,  3.44it/s, f1=0.578, loss=1.16]\n"
          ]
        },
        {
          "output_type": "stream",
          "name": "stdout",
          "text": [
            "==== model saved ====\n",
            "\n",
            "epoch: 11\n"
          ]
        },
        {
          "output_type": "stream",
          "name": "stderr",
          "text": [
            "train: 100%|██████████| 63/63 [00:54<00:00,  1.17it/s, f1=0.618, loss=0.121]\n",
            "valid: 100%|██████████| 32/32 [00:09<00:00,  3.43it/s, f1=0.613, loss=1.18]\n"
          ]
        },
        {
          "output_type": "stream",
          "name": "stdout",
          "text": [
            "==== model saved ====\n",
            "\n",
            "epoch: 12\n"
          ]
        },
        {
          "output_type": "stream",
          "name": "stderr",
          "text": [
            "train: 100%|██████████| 63/63 [00:53<00:00,  1.17it/s, f1=0.648, loss=0.132]\n",
            "valid: 100%|██████████| 32/32 [00:09<00:00,  3.43it/s, f1=0.587, loss=1.4]\n"
          ]
        },
        {
          "output_type": "stream",
          "name": "stdout",
          "text": [
            "\n",
            "epoch: 13\n"
          ]
        },
        {
          "output_type": "stream",
          "name": "stderr",
          "text": [
            "train: 100%|██████████| 63/63 [00:53<00:00,  1.17it/s, f1=0.673, loss=0.1]\n",
            "valid: 100%|██████████| 32/32 [00:09<00:00,  3.43it/s, f1=0.631, loss=1.32]\n"
          ]
        },
        {
          "output_type": "stream",
          "name": "stdout",
          "text": [
            "==== model saved ====\n",
            "\n",
            "epoch: 14\n"
          ]
        },
        {
          "output_type": "stream",
          "name": "stderr",
          "text": [
            "train: 100%|██████████| 63/63 [00:54<00:00,  1.16it/s, f1=0.697, loss=0.0624]\n",
            "valid: 100%|██████████| 32/32 [00:09<00:00,  3.44it/s, f1=0.652, loss=1.17]\n"
          ]
        },
        {
          "output_type": "stream",
          "name": "stdout",
          "text": [
            "==== model saved ====\n",
            "\n",
            "epoch: 15\n"
          ]
        },
        {
          "output_type": "stream",
          "name": "stderr",
          "text": [
            "train: 100%|██████████| 63/63 [00:54<00:00,  1.16it/s, f1=0.719, loss=0.0442]\n",
            "valid: 100%|██████████| 32/32 [00:09<00:00,  3.43it/s, f1=0.641, loss=1.34]\n"
          ]
        },
        {
          "output_type": "stream",
          "name": "stdout",
          "text": [
            "\n",
            "epoch: 16\n"
          ]
        },
        {
          "output_type": "stream",
          "name": "stderr",
          "text": [
            "train: 100%|██████████| 63/63 [00:54<00:00,  1.16it/s, f1=0.737, loss=0.0258]\n",
            "valid: 100%|██████████| 32/32 [00:09<00:00,  3.42it/s, f1=0.615, loss=1.58]\n"
          ]
        },
        {
          "output_type": "stream",
          "name": "stdout",
          "text": [
            "\n",
            "epoch: 17\n"
          ]
        },
        {
          "output_type": "stream",
          "name": "stderr",
          "text": [
            "train: 100%|██████████| 63/63 [00:54<00:00,  1.16it/s, f1=0.75, loss=0.117]\n",
            "valid: 100%|██████████| 32/32 [00:09<00:00,  3.43it/s, f1=0.611, loss=1.47]\n"
          ]
        },
        {
          "output_type": "stream",
          "name": "stdout",
          "text": [
            "\n",
            "epoch: 18\n"
          ]
        },
        {
          "output_type": "stream",
          "name": "stderr",
          "text": [
            "train: 100%|██████████| 63/63 [00:54<00:00,  1.16it/s, f1=0.765, loss=0.013]\n",
            "valid: 100%|██████████| 32/32 [00:09<00:00,  3.43it/s, f1=0.655, loss=1.41]\n"
          ]
        },
        {
          "output_type": "stream",
          "name": "stdout",
          "text": [
            "==== model saved ====\n",
            "\n",
            "epoch: 19\n"
          ]
        },
        {
          "output_type": "stream",
          "name": "stderr",
          "text": [
            "train: 100%|██████████| 63/63 [00:54<00:00,  1.16it/s, f1=0.778, loss=0.00403]\n",
            "valid: 100%|██████████| 32/32 [00:09<00:00,  3.42it/s, f1=0.639, loss=1.53]\n"
          ]
        },
        {
          "output_type": "stream",
          "name": "stdout",
          "text": [
            "\n",
            "epoch: 20\n"
          ]
        },
        {
          "output_type": "stream",
          "name": "stderr",
          "text": [
            "train: 100%|██████████| 63/63 [00:54<00:00,  1.16it/s, f1=0.79, loss=0.0247]\n",
            "valid: 100%|██████████| 32/32 [00:09<00:00,  3.43it/s, f1=0.426, loss=2.62]\n"
          ]
        },
        {
          "output_type": "stream",
          "name": "stdout",
          "text": [
            "================  end train  ================\n",
            "\n"
          ]
        },
        {
          "output_type": "stream",
          "name": "stderr",
          "text": [
            "test: 100%|██████████| 126/126 [00:37<00:00,  3.39it/s]\n"
          ]
        },
        {
          "output_type": "stream",
          "name": "stdout",
          "text": [
            "\n",
            "================  start train  ================\n",
            "\n",
            "epoch: 1\n"
          ]
        },
        {
          "output_type": "stream",
          "name": "stderr",
          "text": [
            "train: 100%|██████████| 63/63 [00:53<00:00,  1.19it/s, f1=0.267, loss=1.31]\n",
            "valid: 100%|██████████| 32/32 [00:09<00:00,  3.44it/s, f1=0.116, loss=1.26]\n"
          ]
        },
        {
          "output_type": "stream",
          "name": "stdout",
          "text": [
            "==== model saved ====\n",
            "\n",
            "epoch: 2\n"
          ]
        },
        {
          "output_type": "stream",
          "name": "stderr",
          "text": [
            "train: 100%|██████████| 63/63 [00:53<00:00,  1.18it/s, f1=0.266, loss=1.28]\n",
            "valid: 100%|██████████| 32/32 [00:09<00:00,  3.44it/s, f1=0.116, loss=1.24]\n"
          ]
        },
        {
          "output_type": "stream",
          "name": "stdout",
          "text": [
            "\n",
            "epoch: 3\n"
          ]
        },
        {
          "output_type": "stream",
          "name": "stderr",
          "text": [
            "train: 100%|██████████| 63/63 [00:53<00:00,  1.18it/s, f1=0.277, loss=1.22]\n",
            "valid: 100%|██████████| 32/32 [00:09<00:00,  3.44it/s, f1=0.257, loss=1.19]\n"
          ]
        },
        {
          "output_type": "stream",
          "name": "stdout",
          "text": [
            "==== model saved ====\n",
            "\n",
            "epoch: 4\n"
          ]
        },
        {
          "output_type": "stream",
          "name": "stderr",
          "text": [
            "train: 100%|██████████| 63/63 [00:53<00:00,  1.18it/s, f1=0.297, loss=1.13]\n",
            "valid: 100%|██████████| 32/32 [00:09<00:00,  3.43it/s, f1=0.28, loss=1.13]\n"
          ]
        },
        {
          "output_type": "stream",
          "name": "stdout",
          "text": [
            "==== model saved ====\n",
            "\n",
            "epoch: 5\n"
          ]
        },
        {
          "output_type": "stream",
          "name": "stderr",
          "text": [
            "train: 100%|██████████| 63/63 [00:53<00:00,  1.18it/s, f1=0.336, loss=0.887]\n",
            "valid: 100%|██████████| 32/32 [00:09<00:00,  3.44it/s, f1=0.418, loss=1.07]\n"
          ]
        },
        {
          "output_type": "stream",
          "name": "stdout",
          "text": [
            "==== model saved ====\n",
            "\n",
            "epoch: 6\n"
          ]
        },
        {
          "output_type": "stream",
          "name": "stderr",
          "text": [
            "train: 100%|██████████| 63/63 [00:53<00:00,  1.18it/s, f1=0.373, loss=0.742]\n",
            "valid: 100%|██████████| 32/32 [00:09<00:00,  3.43it/s, f1=0.478, loss=0.929]\n"
          ]
        },
        {
          "output_type": "stream",
          "name": "stdout",
          "text": [
            "==== model saved ====\n",
            "\n",
            "epoch: 7\n"
          ]
        },
        {
          "output_type": "stream",
          "name": "stderr",
          "text": [
            "train: 100%|██████████| 63/63 [00:53<00:00,  1.17it/s, f1=0.414, loss=0.495]\n",
            "valid: 100%|██████████| 32/32 [00:09<00:00,  3.44it/s, f1=0.53, loss=1.07]\n"
          ]
        },
        {
          "output_type": "stream",
          "name": "stdout",
          "text": [
            "==== model saved ====\n",
            "\n",
            "epoch: 8\n"
          ]
        },
        {
          "output_type": "stream",
          "name": "stderr",
          "text": [
            "train: 100%|██████████| 63/63 [00:53<00:00,  1.17it/s, f1=0.459, loss=0.363]\n",
            "valid: 100%|██████████| 32/32 [00:09<00:00,  3.44it/s, f1=0.634, loss=0.895]\n"
          ]
        },
        {
          "output_type": "stream",
          "name": "stdout",
          "text": [
            "==== model saved ====\n",
            "\n",
            "epoch: 9\n"
          ]
        },
        {
          "output_type": "stream",
          "name": "stderr",
          "text": [
            "train: 100%|██████████| 63/63 [00:53<00:00,  1.17it/s, f1=0.493, loss=0.401]\n",
            "valid: 100%|██████████| 32/32 [00:09<00:00,  3.44it/s, f1=0.522, loss=1.18]\n"
          ]
        },
        {
          "output_type": "stream",
          "name": "stdout",
          "text": [
            "\n",
            "epoch: 10\n"
          ]
        },
        {
          "output_type": "stream",
          "name": "stderr",
          "text": [
            "train: 100%|██████████| 63/63 [00:53<00:00,  1.17it/s, f1=0.535, loss=0.205]\n",
            "valid: 100%|██████████| 32/32 [00:09<00:00,  3.44it/s, f1=0.502, loss=1.72]\n"
          ]
        },
        {
          "output_type": "stream",
          "name": "stdout",
          "text": [
            "\n",
            "epoch: 11\n"
          ]
        },
        {
          "output_type": "stream",
          "name": "stderr",
          "text": [
            "train: 100%|██████████| 63/63 [00:53<00:00,  1.17it/s, f1=0.565, loss=0.258]\n",
            "valid: 100%|██████████| 32/32 [00:09<00:00,  3.43it/s, f1=0.624, loss=0.985]\n"
          ]
        },
        {
          "output_type": "stream",
          "name": "stdout",
          "text": [
            "\n",
            "epoch: 12\n"
          ]
        },
        {
          "output_type": "stream",
          "name": "stderr",
          "text": [
            "train: 100%|██████████| 63/63 [00:53<00:00,  1.17it/s, f1=0.596, loss=0.16]\n",
            "valid: 100%|██████████| 32/32 [00:09<00:00,  3.43it/s, f1=0.559, loss=1.15]\n"
          ]
        },
        {
          "output_type": "stream",
          "name": "stdout",
          "text": [
            "\n",
            "epoch: 13\n"
          ]
        },
        {
          "output_type": "stream",
          "name": "stderr",
          "text": [
            "train: 100%|██████████| 63/63 [00:53<00:00,  1.17it/s, f1=0.619, loss=0.178]\n",
            "valid: 100%|██████████| 32/32 [00:09<00:00,  3.44it/s, f1=0.593, loss=0.976]\n"
          ]
        },
        {
          "output_type": "stream",
          "name": "stdout",
          "text": [
            "\n",
            "epoch: 14\n"
          ]
        },
        {
          "output_type": "stream",
          "name": "stderr",
          "text": [
            "train: 100%|██████████| 63/63 [00:53<00:00,  1.17it/s, f1=0.646, loss=0.0784]\n",
            "valid: 100%|██████████| 32/32 [00:09<00:00,  3.44it/s, f1=0.623, loss=1.26]\n"
          ]
        },
        {
          "output_type": "stream",
          "name": "stdout",
          "text": [
            "\n",
            "epoch: 15\n"
          ]
        },
        {
          "output_type": "stream",
          "name": "stderr",
          "text": [
            "train: 100%|██████████| 63/63 [00:54<00:00,  1.16it/s, f1=0.671, loss=0.0629]\n",
            "valid: 100%|██████████| 32/32 [00:09<00:00,  3.44it/s, f1=0.619, loss=1.43]\n"
          ]
        },
        {
          "output_type": "stream",
          "name": "stdout",
          "text": [
            "\n",
            "epoch: 16\n"
          ]
        },
        {
          "output_type": "stream",
          "name": "stderr",
          "text": [
            "train: 100%|██████████| 63/63 [00:54<00:00,  1.16it/s, f1=0.692, loss=0.0528]\n",
            "valid: 100%|██████████| 32/32 [00:09<00:00,  3.44it/s, f1=0.649, loss=1.35]\n"
          ]
        },
        {
          "output_type": "stream",
          "name": "stdout",
          "text": [
            "==== model saved ====\n",
            "\n",
            "epoch: 17\n"
          ]
        },
        {
          "output_type": "stream",
          "name": "stderr",
          "text": [
            "train: 100%|██████████| 63/63 [00:54<00:00,  1.16it/s, f1=0.71, loss=0.0425]\n",
            "valid: 100%|██████████| 32/32 [00:09<00:00,  3.43it/s, f1=0.647, loss=1.39]\n"
          ]
        },
        {
          "output_type": "stream",
          "name": "stdout",
          "text": [
            "\n",
            "epoch: 18\n"
          ]
        },
        {
          "output_type": "stream",
          "name": "stderr",
          "text": [
            "train: 100%|██████████| 63/63 [00:54<00:00,  1.16it/s, f1=0.726, loss=0.0345]\n",
            "valid: 100%|██████████| 32/32 [00:09<00:00,  3.43it/s, f1=0.606, loss=1.41]\n"
          ]
        },
        {
          "output_type": "stream",
          "name": "stdout",
          "text": [
            "\n",
            "epoch: 19\n"
          ]
        },
        {
          "output_type": "stream",
          "name": "stderr",
          "text": [
            "train: 100%|██████████| 63/63 [00:54<00:00,  1.16it/s, f1=0.737, loss=0.195]\n",
            "valid: 100%|██████████| 32/32 [00:09<00:00,  3.43it/s, f1=0.578, loss=1.26]\n"
          ]
        },
        {
          "output_type": "stream",
          "name": "stdout",
          "text": [
            "\n",
            "epoch: 20\n"
          ]
        },
        {
          "output_type": "stream",
          "name": "stderr",
          "text": [
            "train: 100%|██████████| 63/63 [00:54<00:00,  1.16it/s, f1=0.747, loss=0.0863]\n",
            "valid: 100%|██████████| 32/32 [00:09<00:00,  3.44it/s, f1=0.64, loss=1.3]\n"
          ]
        },
        {
          "output_type": "stream",
          "name": "stdout",
          "text": [
            "================  end train  ================\n",
            "\n"
          ]
        },
        {
          "output_type": "stream",
          "name": "stderr",
          "text": [
            "test: 100%|██████████| 126/126 [00:36<00:00,  3.41it/s]\n"
          ]
        },
        {
          "output_type": "stream",
          "name": "stdout",
          "text": [
            "\n",
            "================  start train  ================\n",
            "\n",
            "epoch: 1\n"
          ]
        },
        {
          "output_type": "stream",
          "name": "stderr",
          "text": [
            "train: 100%|██████████| 63/63 [00:53<00:00,  1.18it/s, f1=0.245, loss=1.31]\n",
            "valid: 100%|██████████| 32/32 [00:09<00:00,  3.45it/s, f1=0.118, loss=1.25]\n"
          ]
        },
        {
          "output_type": "stream",
          "name": "stdout",
          "text": [
            "==== model saved ====\n",
            "\n",
            "epoch: 2\n"
          ]
        },
        {
          "output_type": "stream",
          "name": "stderr",
          "text": [
            "train: 100%|██████████| 63/63 [00:53<00:00,  1.18it/s, f1=0.256, loss=1.25]\n",
            "valid: 100%|██████████| 32/32 [00:09<00:00,  3.42it/s, f1=0.122, loss=1.28]\n"
          ]
        },
        {
          "output_type": "stream",
          "name": "stdout",
          "text": [
            "==== model saved ====\n",
            "\n",
            "epoch: 3\n"
          ]
        },
        {
          "output_type": "stream",
          "name": "stderr",
          "text": [
            "train: 100%|██████████| 63/63 [00:53<00:00,  1.18it/s, f1=0.298, loss=1.11]\n",
            "valid: 100%|██████████| 32/32 [00:09<00:00,  3.45it/s, f1=0.31, loss=1.35]\n"
          ]
        },
        {
          "output_type": "stream",
          "name": "stdout",
          "text": [
            "==== model saved ====\n",
            "\n",
            "epoch: 4\n"
          ]
        },
        {
          "output_type": "stream",
          "name": "stderr",
          "text": [
            "train: 100%|██████████| 63/63 [00:53<00:00,  1.18it/s, f1=0.355, loss=0.857]\n",
            "valid: 100%|██████████| 32/32 [00:09<00:00,  3.43it/s, f1=0.372, loss=1.26]\n"
          ]
        },
        {
          "output_type": "stream",
          "name": "stdout",
          "text": [
            "==== model saved ====\n",
            "\n",
            "epoch: 5\n"
          ]
        },
        {
          "output_type": "stream",
          "name": "stderr",
          "text": [
            "train: 100%|██████████| 63/63 [00:53<00:00,  1.18it/s, f1=0.412, loss=0.611]\n",
            "valid: 100%|██████████| 32/32 [00:09<00:00,  3.45it/s, f1=0.578, loss=0.853]\n"
          ]
        },
        {
          "output_type": "stream",
          "name": "stdout",
          "text": [
            "==== model saved ====\n",
            "\n",
            "epoch: 6\n"
          ]
        },
        {
          "output_type": "stream",
          "name": "stderr",
          "text": [
            "train: 100%|██████████| 63/63 [00:53<00:00,  1.17it/s, f1=0.466, loss=0.45]\n",
            "valid: 100%|██████████| 32/32 [00:09<00:00,  3.44it/s, f1=0.63, loss=0.852]\n"
          ]
        },
        {
          "output_type": "stream",
          "name": "stdout",
          "text": [
            "==== model saved ====\n",
            "\n",
            "epoch: 7\n"
          ]
        },
        {
          "output_type": "stream",
          "name": "stderr",
          "text": [
            "train: 100%|██████████| 63/63 [00:53<00:00,  1.18it/s, f1=0.518, loss=0.343]\n",
            "valid: 100%|██████████| 32/32 [00:09<00:00,  3.36it/s, f1=0.618, loss=1.01]\n"
          ]
        },
        {
          "output_type": "stream",
          "name": "stdout",
          "text": [
            "\n",
            "epoch: 8\n"
          ]
        },
        {
          "output_type": "stream",
          "name": "stderr",
          "text": [
            "train: 100%|██████████| 63/63 [00:53<00:00,  1.18it/s, f1=0.561, loss=0.33]\n",
            "valid: 100%|██████████| 32/32 [00:09<00:00,  3.44it/s, f1=0.526, loss=1.21]\n"
          ]
        },
        {
          "output_type": "stream",
          "name": "stdout",
          "text": [
            "\n",
            "epoch: 9\n"
          ]
        },
        {
          "output_type": "stream",
          "name": "stderr",
          "text": [
            "train: 100%|██████████| 63/63 [00:53<00:00,  1.17it/s, f1=0.597, loss=0.264]\n",
            "valid: 100%|██████████| 32/32 [00:09<00:00,  3.44it/s, f1=0.551, loss=1.3]\n"
          ]
        },
        {
          "output_type": "stream",
          "name": "stdout",
          "text": [
            "\n",
            "epoch: 10\n"
          ]
        },
        {
          "output_type": "stream",
          "name": "stderr",
          "text": [
            "train: 100%|██████████| 63/63 [00:53<00:00,  1.17it/s, f1=0.63, loss=0.206]\n",
            "valid: 100%|██████████| 32/32 [00:09<00:00,  3.44it/s, f1=0.562, loss=1.2]\n"
          ]
        },
        {
          "output_type": "stream",
          "name": "stdout",
          "text": [
            "\n",
            "epoch: 11\n"
          ]
        },
        {
          "output_type": "stream",
          "name": "stderr",
          "text": [
            "train: 100%|██████████| 63/63 [00:53<00:00,  1.17it/s, f1=0.658, loss=0.179]\n",
            "valid: 100%|██████████| 32/32 [00:09<00:00,  3.45it/s, f1=0.556, loss=1.42]\n"
          ]
        },
        {
          "output_type": "stream",
          "name": "stdout",
          "text": [
            "\n",
            "epoch: 12\n"
          ]
        },
        {
          "output_type": "stream",
          "name": "stderr",
          "text": [
            "train: 100%|██████████| 63/63 [00:53<00:00,  1.17it/s, f1=0.682, loss=0.127]\n",
            "valid: 100%|██████████| 32/32 [00:09<00:00,  3.36it/s, f1=0.548, loss=1.61]\n"
          ]
        },
        {
          "output_type": "stream",
          "name": "stdout",
          "text": [
            "\n",
            "epoch: 13\n"
          ]
        },
        {
          "output_type": "stream",
          "name": "stderr",
          "text": [
            "train: 100%|██████████| 63/63 [00:53<00:00,  1.17it/s, f1=0.698, loss=0.268]\n",
            "valid: 100%|██████████| 32/32 [00:09<00:00,  3.44it/s, f1=0.583, loss=1.3]\n"
          ]
        },
        {
          "output_type": "stream",
          "name": "stdout",
          "text": [
            "\n",
            "epoch: 14\n"
          ]
        },
        {
          "output_type": "stream",
          "name": "stderr",
          "text": [
            "train: 100%|██████████| 63/63 [00:54<00:00,  1.16it/s, f1=0.717, loss=0.0808]\n",
            "valid: 100%|██████████| 32/32 [00:09<00:00,  3.43it/s, f1=0.586, loss=1.53]\n"
          ]
        },
        {
          "output_type": "stream",
          "name": "stdout",
          "text": [
            "\n",
            "epoch: 15\n"
          ]
        },
        {
          "output_type": "stream",
          "name": "stderr",
          "text": [
            "train: 100%|██████████| 63/63 [00:54<00:00,  1.16it/s, f1=0.735, loss=0.0624]\n",
            "valid: 100%|██████████| 32/32 [00:09<00:00,  3.44it/s, f1=0.577, loss=1.45]\n"
          ]
        },
        {
          "output_type": "stream",
          "name": "stdout",
          "text": [
            "\n",
            "epoch: 16\n"
          ]
        },
        {
          "output_type": "stream",
          "name": "stderr",
          "text": [
            "train: 100%|██████████| 63/63 [00:54<00:00,  1.16it/s, f1=0.751, loss=0.0492]\n",
            "valid: 100%|██████████| 32/32 [00:09<00:00,  3.44it/s, f1=0.58, loss=1.53]\n"
          ]
        },
        {
          "output_type": "stream",
          "name": "stdout",
          "text": [
            "\n",
            "epoch: 17\n"
          ]
        },
        {
          "output_type": "stream",
          "name": "stderr",
          "text": [
            "train: 100%|██████████| 63/63 [00:54<00:00,  1.16it/s, f1=0.766, loss=0.0232]\n",
            "valid: 100%|██████████| 32/32 [00:09<00:00,  3.37it/s, f1=0.564, loss=1.88]\n"
          ]
        },
        {
          "output_type": "stream",
          "name": "stdout",
          "text": [
            "\n",
            "epoch: 18\n"
          ]
        },
        {
          "output_type": "stream",
          "name": "stderr",
          "text": [
            "train: 100%|██████████| 63/63 [00:54<00:00,  1.16it/s, f1=0.781, loss=0.00854]\n",
            "valid: 100%|██████████| 32/32 [00:09<00:00,  3.44it/s, f1=0.628, loss=1.47]\n"
          ]
        },
        {
          "output_type": "stream",
          "name": "stdout",
          "text": [
            "\n",
            "epoch: 19\n"
          ]
        },
        {
          "output_type": "stream",
          "name": "stderr",
          "text": [
            "train: 100%|██████████| 63/63 [00:54<00:00,  1.15it/s, f1=0.793, loss=0.0094]\n",
            "valid: 100%|██████████| 32/32 [00:09<00:00,  3.44it/s, f1=0.637, loss=1.62]\n"
          ]
        },
        {
          "output_type": "stream",
          "name": "stdout",
          "text": [
            "==== model saved ====\n",
            "\n",
            "epoch: 20\n"
          ]
        },
        {
          "output_type": "stream",
          "name": "stderr",
          "text": [
            "train: 100%|██████████| 63/63 [00:54<00:00,  1.15it/s, f1=0.804, loss=0.00293]\n",
            "valid: 100%|██████████| 32/32 [00:09<00:00,  3.44it/s, f1=0.622, loss=1.54]\n"
          ]
        },
        {
          "output_type": "stream",
          "name": "stdout",
          "text": [
            "================  end train  ================\n",
            "\n"
          ]
        },
        {
          "output_type": "stream",
          "name": "stderr",
          "text": [
            "test: 100%|██████████| 126/126 [00:37<00:00,  3.40it/s]\n"
          ]
        }
      ]
    },
    {
      "cell_type": "code",
      "source": [
        "all_emb_ = np.array([np.array(emb)[-len(df_test):] for emb in all_emb])"
      ],
      "metadata": {
        "id": "eK-UI_G3wzIG"
      },
      "execution_count": 12,
      "outputs": []
    },
    {
      "cell_type": "code",
      "source": [
        "mean_df = pd.DataFrame([[np.mean(arr_val) for arr_val in arr_vec] for arr_vec in np.moveaxis(all_emb_, 0, 2)])\n",
        "preds = [np.argmax(arr)+1 for arr in mean_df.to_numpy()]\n",
        "df_submit = pd.DataFrame([df_test.id.to_list(), preds]).T\n",
        "df_submit.to_csv(os.path.join(ROOT, f'{VERSION}_esemble.csv'), index=None, header=None)"
      ],
      "metadata": {
        "id": "zHARK-Z-lvL8"
      },
      "execution_count": 13,
      "outputs": []
    },
    {
      "cell_type": "code",
      "source": [
        "f1_list = []\n",
        "for item in metric_list:\n",
        "  f1_list.append((np.max([acc for loss, acc in item])))\n",
        "print(np.mean(f1_list))"
      ],
      "metadata": {
        "id": "JVEj-oYop9as",
        "colab": {
          "base_uri": "https://localhost:8080/"
        },
        "outputId": "58a8c603-5c99-4459-d0d5-a0e79f8f667a"
      },
      "execution_count": 14,
      "outputs": [
        {
          "output_type": "stream",
          "name": "stdout",
          "text": [
            "0.6470335364006848\n"
          ]
        }
      ]
    },
    {
      "cell_type": "code",
      "source": [
        ""
      ],
      "metadata": {
        "id": "chcdmZd0W5_K"
      },
      "execution_count": 14,
      "outputs": []
    }
  ]
}