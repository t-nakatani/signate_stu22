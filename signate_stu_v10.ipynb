{
  "nbformat": 4,
  "nbformat_minor": 0,
  "metadata": {
    "colab": {
      "name": "signate_stu_v10.ipynb",
      "provenance": [],
      "collapsed_sections": [],
      "authorship_tag": "ABX9TyOfxWeFk1c7K7EOPHIBDy+C",
      "include_colab_link": true
    },
    "kernelspec": {
      "name": "python3",
      "display_name": "Python 3"
    },
    "language_info": {
      "name": "python"
    },
    "accelerator": "GPU",
    "gpuClass": "standard"
  },
  "cells": [
    {
      "cell_type": "markdown",
      "metadata": {
        "id": "view-in-github",
        "colab_type": "text"
      },
      "source": [
        "<a href=\"https://colab.research.google.com/github/t-nakatani/signate_stu22/blob/main/signate_stu_v10.ipynb\" target=\"_parent\"><img src=\"https://colab.research.google.com/assets/colab-badge.svg\" alt=\"Open In Colab\"/></a>"
      ]
    },
    {
      "cell_type": "markdown",
      "source": [
        "distilbert-base-uncasedとの比較でver2のbert-base-uncasedを使う"
      ],
      "metadata": {
        "id": "GDti4y2d6yb_"
      }
    },
    {
      "cell_type": "code",
      "execution_count": 1,
      "metadata": {
        "id": "ofvp5QVbEagJ",
        "colab": {
          "base_uri": "https://localhost:8080/"
        },
        "outputId": "3dc9a85e-ae6a-4dc0-b31c-84689c42d79d"
      },
      "outputs": [
        {
          "output_type": "stream",
          "name": "stdout",
          "text": [
            "Drive already mounted at /content/drive; to attempt to forcibly remount, call drive.mount(\"/content/drive\", force_remount=True).\n"
          ]
        }
      ],
      "source": [
        "import numpy as np\n",
        "import pandas as pd\n",
        "import matplotlib.pyplot as plt\n",
        "import seaborn as sns\n",
        "import os\n",
        "\n",
        "from google.colab import drive\n",
        "drive.mount('/content/drive')\n",
        "ROOT = \"/content/drive/MyDrive/Colab Notebooks/signate/\"\n",
        "\n",
        "#学習用データと評価用データの読み込み\n",
        "train = pd.read_csv(os.path.join(ROOT, \"train_cleaned.csv\"))\n",
        "test = pd.read_csv(os.path.join(ROOT, \"test_cleaned.csv\"))\n",
        "\n",
        "jobdic = dict(zip([1, 2, 3, 4], ['DataScientist', 'ML Engineer', 'Software Engineer', 'Consultant']))"
      ]
    },
    {
      "cell_type": "code",
      "source": [
        "!pip install -q transformers==3"
      ],
      "metadata": {
        "id": "YisF3KcxVqbT"
      },
      "execution_count": 2,
      "outputs": []
    },
    {
      "cell_type": "code",
      "source": [
        "import numpy as np\n",
        "import transformers\n",
        "import torch\n",
        "from torch.utils.data import Dataset, DataLoader\n",
        "# from transformers import RobertaTokenizer, RobertaModel\n",
        "# from transformers import AutoModel, AutoTokenizer \n",
        "from transformers import AutoTokenizer, AutoModelForSequenceClassification, AutoConfig\n",
        "# from transformers import BertTokenizer, BertModel\n",
        "from torch import optim\n",
        "from torch import cuda\n",
        "import time\n",
        "from matplotlib import pyplot as plt\n",
        "from tqdm import tqdm"
      ],
      "metadata": {
        "id": "IrNv3cPZOec-"
      },
      "execution_count": 3,
      "outputs": []
    },
    {
      "cell_type": "code",
      "source": [
        "# Datasetの定義\n",
        "class CreateDataset(Dataset):\n",
        "  def __init__(self, X, y, tokenizer, max_len):\n",
        "    self.X = X\n",
        "    self.y = y\n",
        "    self.tokenizer = tokenizer\n",
        "    self.max_len = max_len\n",
        "\n",
        "  def __len__(self):  # len(Dataset)で返す値を指定\n",
        "    return len(self.X)\n",
        "\n",
        "  def __getitem__(self, index):  # Dataset[index]で返す値を指定\n",
        "    text = self.X[index]\n",
        "    inputs = self.tokenizer.encode_plus(\n",
        "      text,\n",
        "      add_special_tokens=True,\n",
        "      max_length=self.max_len,\n",
        "      pad_to_max_length=True,\n",
        "      truncation=True\n",
        "    )\n",
        "    ids = inputs['input_ids']\n",
        "    mask = inputs['attention_mask']\n",
        "    labels = self.y[index]\n",
        "\n",
        "    return {\n",
        "      'ids': torch.LongTensor(ids),\n",
        "      'mask': torch.LongTensor(mask),\n",
        "      'labels': torch.Tensor(labels)\n",
        "    }"
      ],
      "metadata": {
        "id": "bTbjxDE60aFs"
      },
      "execution_count": 4,
      "outputs": []
    },
    {
      "cell_type": "markdown",
      "source": [
        "1. from_pretrainedの文字列でconfig.from_pretrainedを呼び出し\n",
        "2. config.from_pretrainedの結果をconfigにセット"
      ],
      "metadata": {
        "id": "yYsvP_-hf-pQ"
      }
    },
    {
      "cell_type": "code",
      "source": [
        "from pandas._config import config\n",
        "# BERT分類モデルの定義\n",
        "class BERTClass(torch.nn.Module):\n",
        "  def __init__(self, drop_rate, otuput_size):\n",
        "    super().__init__()\n",
        "    self.config = AutoConfig.from_pretrained('bert-base-uncased', num_labels=4)\n",
        "    self.bert = AutoModelForSequenceClassification.from_pretrained('bert-base-uncased', config=self.config)\n",
        "    # self.drop = torch.nn.Dropout(drop_rate)\n",
        "    # self.fc = torch.nn.Linear(768, otuput_size)  # BERTの出力に合わせて768次元を指定\n",
        "\n",
        "  def forward(self, ids, mask):\n",
        "    # _, out = self.bert(ids, attention_mask=mask)\n",
        "    out = self.bert(ids, attention_mask=mask)\n",
        "    # print(ids.shape, len(out), out[0].shape)\n",
        "    # out = self.fc(self.drop(out[0]))\n",
        "    return out[0]"
      ],
      "metadata": {
        "id": "M38JBNnv7QA4"
      },
      "execution_count": 5,
      "outputs": []
    },
    {
      "cell_type": "code",
      "source": [
        "def calculate_loss_and_accuracy(model, criterion, loader, device, epoch, max_epoch):\n",
        "  \"\"\" 損失・正解率を計算\"\"\"\n",
        "  model.eval()\n",
        "  loss = 0.0\n",
        "  total = 0\n",
        "  correct = 0\n",
        "  with torch.no_grad():\n",
        "    with tqdm(loader) as pbar:\n",
        "      pbar.set_description('valid')\n",
        "      for i, data in enumerate(pbar):\n",
        "        ids = data['ids'].to(device)\n",
        "        mask = data['mask'].to(device)\n",
        "        labels = data['labels'].to(device)\n",
        "\n",
        "\n",
        "        outputs = model(ids, mask)\n",
        "        loss += criterion(outputs, labels).item()\n",
        "\n",
        "        pred = torch.argmax(outputs, dim=-1).cpu().numpy() # バッチサイズの長さの予測ラベル配列\n",
        "        labels = torch.argmax(labels, dim=-1).cpu().numpy()  # バッチサイズの長さの正解ラベル配列\n",
        "        total += len(labels)\n",
        "        correct += (pred == labels).sum().item()\n",
        "        pbar.set_postfix(Loss=loss/(i+1), Accuracy=correct/total)\n",
        "\n",
        "  return loss / len(loader), correct / total"
      ],
      "metadata": {
        "id": "KFQSOOn7SbPp"
      },
      "execution_count": 6,
      "outputs": []
    },
    {
      "cell_type": "code",
      "source": [
        "def train_val(train_loader, val_loader, model_path):\n",
        "  device = 'cuda' if cuda.is_available() else 'cpu'\n",
        "  model = BERTClass(DROP_RATE, OUTPUT_SIZE).to(device)\n",
        "  criterion = torch.nn.CrossEntropyLoss()\n",
        "  optimizer = torch.optim.AdamW(params=model.parameters(), lr=LEARNING_RATE)\n",
        "  \n",
        "  log_valid = []\n",
        "  best_acc = correct = total = 0\n",
        "  \n",
        "\n",
        "  # train\n",
        "  for epoch in range(NUM_EPOCHS):\n",
        "    print('\\nepoch:', epoch+1)\n",
        "    loss_train = 0\n",
        "    model.train()\n",
        "    with tqdm(train_loader) as pbar:\n",
        "      pbar.set_description('train')\n",
        "      for i, data in enumerate(pbar):\n",
        "        ids = data['ids'].to(device)\n",
        "        mask = data['mask'].to(device)\n",
        "        labels = data['labels'].to(device)\n",
        "\n",
        "        optimizer.zero_grad()\n",
        "\n",
        "        outputs = model(ids, mask)\n",
        "        loss = criterion(outputs, labels)\n",
        "        loss.backward()\n",
        "        optimizer.step()\n",
        "        \n",
        "        loss_train += loss.item()\n",
        "        pred = torch.argmax(outputs, dim=-1).cpu().numpy()\n",
        "        labels = torch.argmax(labels, dim=-1).cpu().numpy()\n",
        "        total += len(labels)\n",
        "        correct += (pred == labels).sum().item()\n",
        "        pbar.set_postfix(Loss=loss_train/(i+1), Accuracy=correct/total)\n",
        "\n",
        "    loss_valid, acc_valid = calculate_loss_and_accuracy(model, criterion, val_loader, device, epoch, NUM_EPOCHS)\n",
        "    log_valid.append([loss_valid, acc_valid])\n",
        "    if best_acc < acc_valid:\n",
        "      best_acc = acc_valid\n",
        "      \n",
        "      torch.save(model, os.path.join(ROOT, model_path))\n",
        "      print('==== model saved ====')\n",
        "\n",
        "  return log_valid"
      ],
      "metadata": {
        "id": "T9Hy83GPWD1C"
      },
      "execution_count": 7,
      "outputs": []
    },
    {
      "cell_type": "code",
      "source": [
        "DROP_RATE = 0.1\n",
        "OUTPUT_SIZE = 4\n",
        "BATCH_SIZE = 16\n",
        "NUM_EPOCHS = 10\n",
        "LEARNING_RATE = 2e-5\n",
        "VERSION = 'v10'"
      ],
      "metadata": {
        "id": "XfF5KLQJWJCG"
      },
      "execution_count": 8,
      "outputs": []
    },
    {
      "cell_type": "code",
      "source": [
        "import sklearn.metrics\n",
        "def train_val_predict(\n",
        "        df_train,       # 学習用のデータ\n",
        "        text_column,    # 対象のカラム名\n",
        "        target_column,  # 目的変数のカラム名\n",
        "        df_valid=None,  # 検証用データ\n",
        "        df_val_test=None,       # 予測用データ\n",
        "        model_file_prefix=\"\",  # 保存時のファイル名識別子\n",
        "        epochs=NUM_EPOCHS,\n",
        "        batch_size=BATCH_SIZE,\n",
        "    ):\n",
        "  \n",
        "    # model\n",
        "    model_path = \"{}_{}.pth\".format(model_file_prefix, VERSION)\n",
        "    model = BERTClass(DROP_RATE, OUTPUT_SIZE)\n",
        "    criterion = torch.nn.CrossEntropyLoss()\n",
        "    optimizer = torch.optim.AdamW(params=model.parameters(), lr=LEARNING_RATE)\n",
        "    device = 'cuda' if cuda.is_available() else 'cpu'\n",
        "\n",
        "    # dataset\n",
        "    df_val_test[target_column].fillna(0)\n",
        "\n",
        "    max_len = 400\n",
        "    tokenizer = AutoTokenizer.from_pretrained('bert-base-uncased')\n",
        "    dataset_train = CreateDataset(df_train[text_column].values, pd.get_dummies(df_train[target_column]).values, tokenizer, max_len)\n",
        "    dataset_val = CreateDataset(df_valid[text_column].values, pd.get_dummies(df_valid[target_column]).values, tokenizer, max_len)\n",
        "    dataset_test = CreateDataset(df_val_test[text_column].values, pd.get_dummies(df_val_test[target_column]).values, tokenizer, max_len)\n",
        "\n",
        "    dataloader_train = DataLoader(dataset_train, batch_size=BATCH_SIZE, shuffle=True)\n",
        "    dataloader_valid = DataLoader(dataset_val, batch_size=BATCH_SIZE, shuffle=True)\n",
        "    dataloader_test = DataLoader(dataset_test, batch_size=BATCH_SIZE, shuffle=False)\n",
        "\n",
        "    # train\n",
        "    print('\\n================  start train  ================')\n",
        "    metric = train_val(dataloader_train, dataloader_valid, model_path)\n",
        "    print('================  end train  ================\\n')\n",
        "\n",
        "    # predict\n",
        "    model = torch.load(os.path.join(ROOT, model_path))\n",
        "    model.eval()\n",
        "    pred_y_list = []\n",
        "    emb_list = []\n",
        "    with torch.no_grad():\n",
        "      with tqdm(dataloader_test) as pbar:\n",
        "        pbar.set_description('test')\n",
        "        for data in pbar:\n",
        "          ids = data['ids'].to(device)\n",
        "          mask = data['mask'].to(device)\n",
        "          labels = data['labels'].to(device)\n",
        "\n",
        "          output = model.forward(ids, mask)\n",
        "          pred = torch.argmax(output, dim=-1).cpu().numpy()\n",
        "\n",
        "          pred_y_list.extend(pred)\n",
        "          emb_list.extend(output.cpu().numpy())\n",
        "    return metric, pred_y_list, emb_list"
      ],
      "metadata": {
        "id": "La2mPphur18q"
      },
      "execution_count": 9,
      "outputs": []
    },
    {
      "cell_type": "code",
      "source": [
        "import sklearn.model_selection\n",
        "\n",
        "text_column, target_column, n_splits = ('description', 'jobflag', 5)\n",
        "\n",
        "df = pd.concat([train, test], ignore_index=True, sort=False)\n",
        "df_train = df[df[target_column].notnull()]\n",
        "df_test = df[df[target_column].isnull()]\n",
        "\n",
        "df_train_idx = df_train.index\n",
        "\n",
        "# store result\n",
        "df_pred = pd.DataFrame(df.index, columns=[\"index\"]).set_index(\"index\")\n",
        "df_emb = pd.DataFrame(df.index, columns=[\"index\"]).set_index(\"index\")\n",
        "df_emb_pred = None\n",
        "metric_list = []\n",
        "all_emb = []\n",
        "\n",
        "# cross validation\n",
        "kf = sklearn.model_selection.StratifiedKFold(n_splits=n_splits, shuffle=True, random_state=1234)\n",
        "for i, (train_idx, test_idx) in enumerate(kf.split(df_train, df_train[target_column])):\n",
        "  df_train_sub = df_train.iloc[train_idx]\n",
        "  df_test_sub = df_train.iloc[test_idx]\n",
        "\n",
        "  df_val_test = pd.concat([df_test_sub, df_test], ignore_index=True, sort=False)\n",
        "\n",
        "  model_file_prefix = \"cv_{}\".format(i)\n",
        "\n",
        "  # train\n",
        "  metric, pred_y_list, emb_list = train_val_predict(\n",
        "      df_train=df_train_sub, \n",
        "      text_column=text_column,\n",
        "      target_column=target_column, \n",
        "      df_valid=df_test_sub,\n",
        "      df_val_test=df_val_test,\n",
        "      model_file_prefix=model_file_prefix,\n",
        "  )\n",
        "  metric_list.append(metric)\n",
        "  all_emb.append(emb_list)\n",
        "  # break"
      ],
      "metadata": {
        "colab": {
          "base_uri": "https://localhost:8080/"
        },
        "id": "QB2vixNEo7_B",
        "outputId": "7630a9bc-93ed-4a73-8aab-695d831ca50b"
      },
      "execution_count": 10,
      "outputs": [
        {
          "metadata": {
            "tags": null
          },
          "name": "stderr",
          "output_type": "stream",
          "text": [
            "Some weights of the model checkpoint at bert-base-uncased were not used when initializing BertForSequenceClassification: ['cls.predictions.bias', 'cls.predictions.transform.dense.weight', 'cls.predictions.transform.dense.bias', 'cls.predictions.decoder.weight', 'cls.seq_relationship.weight', 'cls.seq_relationship.bias', 'cls.predictions.transform.LayerNorm.weight', 'cls.predictions.transform.LayerNorm.bias']\n",
            "- This IS expected if you are initializing BertForSequenceClassification from the checkpoint of a model trained on another task or with another architecture (e.g. initializing a BertForSequenceClassification model from a BertForPretraining model).\n",
            "- This IS NOT expected if you are initializing BertForSequenceClassification from the checkpoint of a model that you expect to be exactly identical (initializing a BertForSequenceClassification model from a BertForSequenceClassification model).\n",
            "Some weights of BertForSequenceClassification were not initialized from the model checkpoint at bert-base-uncased and are newly initialized: ['classifier.weight', 'classifier.bias']\n",
            "You should probably TRAIN this model on a down-stream task to be able to use it for predictions and inference.\n"
          ]
        },
        {
          "metadata": {
            "tags": null
          },
          "name": "stdout",
          "output_type": "stream",
          "text": [
            "\n",
            "================  start train  ================\n"
          ]
        },
        {
          "metadata": {
            "tags": null
          },
          "name": "stderr",
          "output_type": "stream",
          "text": [
            "Some weights of the model checkpoint at bert-base-uncased were not used when initializing BertForSequenceClassification: ['cls.predictions.bias', 'cls.predictions.transform.dense.weight', 'cls.predictions.transform.dense.bias', 'cls.predictions.decoder.weight', 'cls.seq_relationship.weight', 'cls.seq_relationship.bias', 'cls.predictions.transform.LayerNorm.weight', 'cls.predictions.transform.LayerNorm.bias']\n",
            "- This IS expected if you are initializing BertForSequenceClassification from the checkpoint of a model trained on another task or with another architecture (e.g. initializing a BertForSequenceClassification model from a BertForPretraining model).\n",
            "- This IS NOT expected if you are initializing BertForSequenceClassification from the checkpoint of a model that you expect to be exactly identical (initializing a BertForSequenceClassification model from a BertForSequenceClassification model).\n",
            "Some weights of BertForSequenceClassification were not initialized from the model checkpoint at bert-base-uncased and are newly initialized: ['classifier.weight', 'classifier.bias']\n",
            "You should probably TRAIN this model on a down-stream task to be able to use it for predictions and inference.\n"
          ]
        },
        {
          "metadata": {
            "tags": null
          },
          "name": "stdout",
          "output_type": "stream",
          "text": [
            "\n",
            "epoch: 1\n"
          ]
        },
        {
          "metadata": {
            "tags": null
          },
          "name": "stderr",
          "output_type": "stream",
          "text": [
            "train: 100%|██████████| 76/76 [00:51<00:00,  1.48it/s, Accuracy=0.566, Loss=1.05]\n",
            "valid: 100%|██████████| 19/19 [00:04<00:00,  4.24it/s, Accuracy=0.72, Loss=0.786]\n"
          ]
        },
        {
          "metadata": {
            "tags": null
          },
          "name": "stdout",
          "output_type": "stream",
          "text": [
            "==== model saved ====\n",
            "\n",
            "epoch: 2\n"
          ]
        },
        {
          "metadata": {
            "tags": null
          },
          "name": "stderr",
          "output_type": "stream",
          "text": [
            "train: 100%|██████████| 76/76 [00:50<00:00,  1.50it/s, Accuracy=0.65, Loss=0.741]\n",
            "valid: 100%|██████████| 19/19 [00:04<00:00,  4.22it/s, Accuracy=0.727, Loss=0.739]\n"
          ]
        },
        {
          "metadata": {
            "tags": null
          },
          "name": "stdout",
          "output_type": "stream",
          "text": [
            "==== model saved ====\n",
            "\n",
            "epoch: 3\n"
          ]
        },
        {
          "metadata": {
            "tags": null
          },
          "name": "stderr",
          "output_type": "stream",
          "text": [
            "train: 100%|██████████| 76/76 [00:50<00:00,  1.51it/s, Accuracy=0.699, Loss=0.561]\n",
            "valid: 100%|██████████| 19/19 [00:04<00:00,  4.26it/s, Accuracy=0.783, Loss=0.635]\n"
          ]
        },
        {
          "metadata": {
            "tags": null
          },
          "name": "stdout",
          "output_type": "stream",
          "text": [
            "==== model saved ====\n",
            "\n",
            "epoch: 4\n"
          ]
        },
        {
          "metadata": {
            "tags": null
          },
          "name": "stderr",
          "output_type": "stream",
          "text": [
            "train: 100%|██████████| 76/76 [00:50<00:00,  1.51it/s, Accuracy=0.743, Loss=0.374]\n",
            "valid: 100%|██████████| 19/19 [00:04<00:00,  4.24it/s, Accuracy=0.766, Loss=0.681]\n"
          ]
        },
        {
          "metadata": {
            "tags": null
          },
          "name": "stdout",
          "output_type": "stream",
          "text": [
            "\n",
            "epoch: 5\n"
          ]
        },
        {
          "metadata": {
            "tags": null
          },
          "name": "stderr",
          "output_type": "stream",
          "text": [
            "train: 100%|██████████| 76/76 [00:50<00:00,  1.51it/s, Accuracy=0.781, Loss=0.228]\n",
            "valid: 100%|██████████| 19/19 [00:04<00:00,  4.24it/s, Accuracy=0.773, Loss=0.742]\n"
          ]
        },
        {
          "metadata": {
            "tags": null
          },
          "name": "stdout",
          "output_type": "stream",
          "text": [
            "\n",
            "epoch: 6\n"
          ]
        },
        {
          "metadata": {
            "tags": null
          },
          "name": "stderr",
          "output_type": "stream",
          "text": [
            "train: 100%|██████████| 76/76 [00:50<00:00,  1.52it/s, Accuracy=0.81, Loss=0.139]\n",
            "valid: 100%|██████████| 19/19 [00:04<00:00,  4.23it/s, Accuracy=0.74, Loss=0.896]\n"
          ]
        },
        {
          "metadata": {
            "tags": null
          },
          "name": "stdout",
          "output_type": "stream",
          "text": [
            "\n",
            "epoch: 7\n"
          ]
        },
        {
          "metadata": {
            "tags": null
          },
          "name": "stderr",
          "output_type": "stream",
          "text": [
            "train: 100%|██████████| 76/76 [00:50<00:00,  1.52it/s, Accuracy=0.834, Loss=0.0941]\n",
            "valid: 100%|██████████| 19/19 [00:04<00:00,  4.25it/s, Accuracy=0.773, Loss=0.838]\n"
          ]
        },
        {
          "metadata": {
            "tags": null
          },
          "name": "stdout",
          "output_type": "stream",
          "text": [
            "\n",
            "epoch: 8\n"
          ]
        },
        {
          "metadata": {
            "tags": null
          },
          "name": "stderr",
          "output_type": "stream",
          "text": [
            "train: 100%|██████████| 76/76 [00:50<00:00,  1.51it/s, Accuracy=0.853, Loss=0.0495]\n",
            "valid: 100%|██████████| 19/19 [00:04<00:00,  4.23it/s, Accuracy=0.73, Loss=1.01]\n"
          ]
        },
        {
          "metadata": {
            "tags": null
          },
          "name": "stdout",
          "output_type": "stream",
          "text": [
            "\n",
            "epoch: 9\n"
          ]
        },
        {
          "metadata": {
            "tags": null
          },
          "name": "stderr",
          "output_type": "stream",
          "text": [
            "train: 100%|██████████| 76/76 [00:50<00:00,  1.52it/s, Accuracy=0.869, Loss=0.0388]\n",
            "valid: 100%|██████████| 19/19 [00:04<00:00,  4.24it/s, Accuracy=0.701, Loss=1.17]\n"
          ]
        },
        {
          "metadata": {
            "tags": null
          },
          "name": "stdout",
          "output_type": "stream",
          "text": [
            "\n",
            "epoch: 10\n"
          ]
        },
        {
          "metadata": {
            "tags": null
          },
          "name": "stderr",
          "output_type": "stream",
          "text": [
            "train: 100%|██████████| 76/76 [00:50<00:00,  1.51it/s, Accuracy=0.881, Loss=0.0287]\n",
            "valid: 100%|██████████| 19/19 [00:04<00:00,  4.12it/s, Accuracy=0.773, Loss=0.947]\n"
          ]
        },
        {
          "metadata": {
            "tags": null
          },
          "name": "stdout",
          "output_type": "stream",
          "text": [
            "================  end train  ================\n",
            "\n"
          ]
        },
        {
          "metadata": {
            "tags": null
          },
          "name": "stderr",
          "output_type": "stream",
          "text": [
            "test: 100%|██████████| 114/114 [00:26<00:00,  4.33it/s]\n",
            "Some weights of the model checkpoint at bert-base-uncased were not used when initializing BertForSequenceClassification: ['cls.predictions.bias', 'cls.predictions.transform.dense.weight', 'cls.predictions.transform.dense.bias', 'cls.predictions.decoder.weight', 'cls.seq_relationship.weight', 'cls.seq_relationship.bias', 'cls.predictions.transform.LayerNorm.weight', 'cls.predictions.transform.LayerNorm.bias']\n",
            "- This IS expected if you are initializing BertForSequenceClassification from the checkpoint of a model trained on another task or with another architecture (e.g. initializing a BertForSequenceClassification model from a BertForPretraining model).\n",
            "- This IS NOT expected if you are initializing BertForSequenceClassification from the checkpoint of a model that you expect to be exactly identical (initializing a BertForSequenceClassification model from a BertForSequenceClassification model).\n",
            "Some weights of BertForSequenceClassification were not initialized from the model checkpoint at bert-base-uncased and are newly initialized: ['classifier.weight', 'classifier.bias']\n",
            "You should probably TRAIN this model on a down-stream task to be able to use it for predictions and inference.\n"
          ]
        },
        {
          "metadata": {
            "tags": null
          },
          "name": "stdout",
          "output_type": "stream",
          "text": [
            "\n",
            "================  start train  ================\n"
          ]
        },
        {
          "metadata": {
            "tags": null
          },
          "name": "stderr",
          "output_type": "stream",
          "text": [
            "Some weights of the model checkpoint at bert-base-uncased were not used when initializing BertForSequenceClassification: ['cls.predictions.bias', 'cls.predictions.transform.dense.weight', 'cls.predictions.transform.dense.bias', 'cls.predictions.decoder.weight', 'cls.seq_relationship.weight', 'cls.seq_relationship.bias', 'cls.predictions.transform.LayerNorm.weight', 'cls.predictions.transform.LayerNorm.bias']\n",
            "- This IS expected if you are initializing BertForSequenceClassification from the checkpoint of a model trained on another task or with another architecture (e.g. initializing a BertForSequenceClassification model from a BertForPretraining model).\n",
            "- This IS NOT expected if you are initializing BertForSequenceClassification from the checkpoint of a model that you expect to be exactly identical (initializing a BertForSequenceClassification model from a BertForSequenceClassification model).\n",
            "Some weights of BertForSequenceClassification were not initialized from the model checkpoint at bert-base-uncased and are newly initialized: ['classifier.weight', 'classifier.bias']\n",
            "You should probably TRAIN this model on a down-stream task to be able to use it for predictions and inference.\n"
          ]
        },
        {
          "metadata": {
            "tags": null
          },
          "name": "stdout",
          "output_type": "stream",
          "text": [
            "\n",
            "epoch: 1\n"
          ]
        },
        {
          "metadata": {
            "tags": null
          },
          "name": "stderr",
          "output_type": "stream",
          "text": [
            "train: 100%|██████████| 76/76 [00:50<00:00,  1.52it/s, Accuracy=0.563, Loss=1.04]\n",
            "valid: 100%|██████████| 19/19 [00:04<00:00,  4.25it/s, Accuracy=0.65, Loss=0.881]\n"
          ]
        },
        {
          "metadata": {
            "tags": null
          },
          "name": "stdout",
          "output_type": "stream",
          "text": [
            "==== model saved ====\n",
            "\n",
            "epoch: 2\n"
          ]
        },
        {
          "metadata": {
            "tags": null
          },
          "name": "stderr",
          "output_type": "stream",
          "text": [
            "train: 100%|██████████| 76/76 [00:50<00:00,  1.51it/s, Accuracy=0.649, Loss=0.723]\n",
            "valid: 100%|██████████| 19/19 [00:04<00:00,  4.06it/s, Accuracy=0.693, Loss=0.801]\n"
          ]
        },
        {
          "metadata": {
            "tags": null
          },
          "name": "stdout",
          "output_type": "stream",
          "text": [
            "==== model saved ====\n",
            "\n",
            "epoch: 3\n"
          ]
        },
        {
          "metadata": {
            "tags": null
          },
          "name": "stderr",
          "output_type": "stream",
          "text": [
            "train: 100%|██████████| 76/76 [00:50<00:00,  1.51it/s, Accuracy=0.706, Loss=0.531]\n",
            "valid: 100%|██████████| 19/19 [00:04<00:00,  4.24it/s, Accuracy=0.752, Loss=0.709]\n"
          ]
        },
        {
          "metadata": {
            "tags": null
          },
          "name": "stdout",
          "output_type": "stream",
          "text": [
            "==== model saved ====\n",
            "\n",
            "epoch: 4\n"
          ]
        },
        {
          "metadata": {
            "tags": null
          },
          "name": "stderr",
          "output_type": "stream",
          "text": [
            "train: 100%|██████████| 76/76 [00:50<00:00,  1.51it/s, Accuracy=0.748, Loss=0.36]\n",
            "valid: 100%|██████████| 19/19 [00:04<00:00,  4.26it/s, Accuracy=0.762, Loss=0.677]\n"
          ]
        },
        {
          "metadata": {
            "tags": null
          },
          "name": "stdout",
          "output_type": "stream",
          "text": [
            "==== model saved ====\n",
            "\n",
            "epoch: 5\n"
          ]
        },
        {
          "metadata": {
            "tags": null
          },
          "name": "stderr",
          "output_type": "stream",
          "text": [
            "train: 100%|██████████| 76/76 [00:50<00:00,  1.51it/s, Accuracy=0.785, Loss=0.23]\n",
            "valid: 100%|██████████| 19/19 [00:04<00:00,  4.25it/s, Accuracy=0.719, Loss=0.847]\n"
          ]
        },
        {
          "metadata": {
            "tags": null
          },
          "name": "stdout",
          "output_type": "stream",
          "text": [
            "\n",
            "epoch: 6\n"
          ]
        },
        {
          "metadata": {
            "tags": null
          },
          "name": "stderr",
          "output_type": "stream",
          "text": [
            "train: 100%|██████████| 76/76 [00:50<00:00,  1.51it/s, Accuracy=0.815, Loss=0.129]\n",
            "valid: 100%|██████████| 19/19 [00:04<00:00,  4.24it/s, Accuracy=0.693, Loss=1.03]\n"
          ]
        },
        {
          "metadata": {
            "tags": null
          },
          "name": "stdout",
          "output_type": "stream",
          "text": [
            "\n",
            "epoch: 7\n"
          ]
        },
        {
          "metadata": {
            "tags": null
          },
          "name": "stderr",
          "output_type": "stream",
          "text": [
            "train: 100%|██████████| 76/76 [00:50<00:00,  1.52it/s, Accuracy=0.838, Loss=0.104]\n",
            "valid: 100%|██████████| 19/19 [00:04<00:00,  4.02it/s, Accuracy=0.733, Loss=0.935]\n"
          ]
        },
        {
          "metadata": {
            "tags": null
          },
          "name": "stdout",
          "output_type": "stream",
          "text": [
            "\n",
            "epoch: 8\n"
          ]
        },
        {
          "metadata": {
            "tags": null
          },
          "name": "stderr",
          "output_type": "stream",
          "text": [
            "train: 100%|██████████| 76/76 [00:50<00:00,  1.51it/s, Accuracy=0.856, Loss=0.0552]\n",
            "valid: 100%|██████████| 19/19 [00:04<00:00,  4.25it/s, Accuracy=0.726, Loss=1.04]\n"
          ]
        },
        {
          "metadata": {
            "tags": null
          },
          "name": "stdout",
          "output_type": "stream",
          "text": [
            "\n",
            "epoch: 9\n"
          ]
        },
        {
          "metadata": {
            "tags": null
          },
          "name": "stderr",
          "output_type": "stream",
          "text": [
            "train: 100%|██████████| 76/76 [00:50<00:00,  1.51it/s, Accuracy=0.872, Loss=0.0245]\n",
            "valid: 100%|██████████| 19/19 [00:04<00:00,  4.24it/s, Accuracy=0.743, Loss=1.1]\n"
          ]
        },
        {
          "metadata": {
            "tags": null
          },
          "name": "stdout",
          "output_type": "stream",
          "text": [
            "\n",
            "epoch: 10\n"
          ]
        },
        {
          "metadata": {
            "tags": null
          },
          "name": "stderr",
          "output_type": "stream",
          "text": [
            "train: 100%|██████████| 76/76 [00:50<00:00,  1.51it/s, Accuracy=0.884, Loss=0.0219]\n",
            "valid: 100%|██████████| 19/19 [00:04<00:00,  4.25it/s, Accuracy=0.733, Loss=1.14]\n"
          ]
        },
        {
          "metadata": {
            "tags": null
          },
          "name": "stdout",
          "output_type": "stream",
          "text": [
            "================  end train  ================\n",
            "\n"
          ]
        },
        {
          "metadata": {
            "tags": null
          },
          "name": "stderr",
          "output_type": "stream",
          "text": [
            "test: 100%|██████████| 114/114 [00:26<00:00,  4.32it/s]\n",
            "Some weights of the model checkpoint at bert-base-uncased were not used when initializing BertForSequenceClassification: ['cls.predictions.bias', 'cls.predictions.transform.dense.weight', 'cls.predictions.transform.dense.bias', 'cls.predictions.decoder.weight', 'cls.seq_relationship.weight', 'cls.seq_relationship.bias', 'cls.predictions.transform.LayerNorm.weight', 'cls.predictions.transform.LayerNorm.bias']\n",
            "- This IS expected if you are initializing BertForSequenceClassification from the checkpoint of a model trained on another task or with another architecture (e.g. initializing a BertForSequenceClassification model from a BertForPretraining model).\n",
            "- This IS NOT expected if you are initializing BertForSequenceClassification from the checkpoint of a model that you expect to be exactly identical (initializing a BertForSequenceClassification model from a BertForSequenceClassification model).\n",
            "Some weights of BertForSequenceClassification were not initialized from the model checkpoint at bert-base-uncased and are newly initialized: ['classifier.weight', 'classifier.bias']\n",
            "You should probably TRAIN this model on a down-stream task to be able to use it for predictions and inference.\n"
          ]
        },
        {
          "metadata": {
            "tags": null
          },
          "name": "stdout",
          "output_type": "stream",
          "text": [
            "\n",
            "================  start train  ================\n"
          ]
        },
        {
          "metadata": {
            "tags": null
          },
          "name": "stderr",
          "output_type": "stream",
          "text": [
            "Some weights of the model checkpoint at bert-base-uncased were not used when initializing BertForSequenceClassification: ['cls.predictions.bias', 'cls.predictions.transform.dense.weight', 'cls.predictions.transform.dense.bias', 'cls.predictions.decoder.weight', 'cls.seq_relationship.weight', 'cls.seq_relationship.bias', 'cls.predictions.transform.LayerNorm.weight', 'cls.predictions.transform.LayerNorm.bias']\n",
            "- This IS expected if you are initializing BertForSequenceClassification from the checkpoint of a model trained on another task or with another architecture (e.g. initializing a BertForSequenceClassification model from a BertForPretraining model).\n",
            "- This IS NOT expected if you are initializing BertForSequenceClassification from the checkpoint of a model that you expect to be exactly identical (initializing a BertForSequenceClassification model from a BertForSequenceClassification model).\n",
            "Some weights of BertForSequenceClassification were not initialized from the model checkpoint at bert-base-uncased and are newly initialized: ['classifier.weight', 'classifier.bias']\n",
            "You should probably TRAIN this model on a down-stream task to be able to use it for predictions and inference.\n"
          ]
        },
        {
          "metadata": {
            "tags": null
          },
          "name": "stdout",
          "output_type": "stream",
          "text": [
            "\n",
            "epoch: 1\n"
          ]
        },
        {
          "metadata": {
            "tags": null
          },
          "name": "stderr",
          "output_type": "stream",
          "text": [
            "train: 100%|██████████| 76/76 [00:50<00:00,  1.51it/s, Accuracy=0.574, Loss=1.05]\n",
            "valid: 100%|██████████| 19/19 [00:04<00:00,  4.22it/s, Accuracy=0.653, Loss=0.837]\n"
          ]
        },
        {
          "metadata": {
            "tags": null
          },
          "name": "stdout",
          "output_type": "stream",
          "text": [
            "==== model saved ====\n",
            "\n",
            "epoch: 2\n"
          ]
        },
        {
          "output_type": "stream",
          "name": "stderr",
          "text": [
            "train: 100%|██████████| 76/76 [00:50<00:00,  1.50it/s, Accuracy=0.66, Loss=0.721]\n",
            "valid: 100%|██████████| 19/19 [00:04<00:00,  4.21it/s, Accuracy=0.749, Loss=0.688]\n"
          ]
        },
        {
          "output_type": "stream",
          "name": "stdout",
          "text": [
            "==== model saved ====\n",
            "\n",
            "epoch: 3\n"
          ]
        },
        {
          "output_type": "stream",
          "name": "stderr",
          "text": [
            "train: 100%|██████████| 76/76 [00:50<00:00,  1.51it/s, Accuracy=0.713, Loss=0.538]\n",
            "valid: 100%|██████████| 19/19 [00:04<00:00,  4.22it/s, Accuracy=0.729, Loss=0.726]\n"
          ]
        },
        {
          "output_type": "stream",
          "name": "stdout",
          "text": [
            "\n",
            "epoch: 4\n"
          ]
        },
        {
          "output_type": "stream",
          "name": "stderr",
          "text": [
            "train: 100%|██████████| 76/76 [00:50<00:00,  1.51it/s, Accuracy=0.752, Loss=0.392]\n",
            "valid: 100%|██████████| 19/19 [00:04<00:00,  4.21it/s, Accuracy=0.752, Loss=0.756]\n"
          ]
        },
        {
          "output_type": "stream",
          "name": "stdout",
          "text": [
            "==== model saved ====\n",
            "\n",
            "epoch: 5\n"
          ]
        },
        {
          "output_type": "stream",
          "name": "stderr",
          "text": [
            "train: 100%|██████████| 76/76 [00:50<00:00,  1.50it/s, Accuracy=0.785, Loss=0.273]\n",
            "valid: 100%|██████████| 19/19 [00:04<00:00,  4.21it/s, Accuracy=0.733, Loss=0.839]\n"
          ]
        },
        {
          "output_type": "stream",
          "name": "stdout",
          "text": [
            "\n",
            "epoch: 6\n"
          ]
        },
        {
          "output_type": "stream",
          "name": "stderr",
          "text": [
            "train: 100%|██████████| 76/76 [00:50<00:00,  1.51it/s, Accuracy=0.814, Loss=0.162]\n",
            "valid: 100%|██████████| 19/19 [00:04<00:00,  4.22it/s, Accuracy=0.752, Loss=0.882]\n"
          ]
        },
        {
          "output_type": "stream",
          "name": "stdout",
          "text": [
            "\n",
            "epoch: 7\n"
          ]
        },
        {
          "output_type": "stream",
          "name": "stderr",
          "text": [
            "train: 100%|██████████| 76/76 [00:50<00:00,  1.51it/s, Accuracy=0.836, Loss=0.1]\n",
            "valid: 100%|██████████| 19/19 [00:04<00:00,  4.20it/s, Accuracy=0.749, Loss=0.954]\n"
          ]
        },
        {
          "output_type": "stream",
          "name": "stdout",
          "text": [
            "\n",
            "epoch: 8\n"
          ]
        },
        {
          "output_type": "stream",
          "name": "stderr",
          "text": [
            "train: 100%|██████████| 76/76 [00:50<00:00,  1.51it/s, Accuracy=0.854, Loss=0.0845]\n",
            "valid: 100%|██████████| 19/19 [00:04<00:00,  4.20it/s, Accuracy=0.719, Loss=1.07]\n"
          ]
        },
        {
          "output_type": "stream",
          "name": "stdout",
          "text": [
            "\n",
            "epoch: 9\n"
          ]
        },
        {
          "output_type": "stream",
          "name": "stderr",
          "text": [
            "train: 100%|██████████| 76/76 [00:50<00:00,  1.51it/s, Accuracy=0.868, Loss=0.0616]\n",
            "valid: 100%|██████████| 19/19 [00:04<00:00,  4.20it/s, Accuracy=0.749, Loss=1.06]\n"
          ]
        },
        {
          "output_type": "stream",
          "name": "stdout",
          "text": [
            "\n",
            "epoch: 10\n"
          ]
        },
        {
          "output_type": "stream",
          "name": "stderr",
          "text": [
            "train: 100%|██████████| 76/76 [00:50<00:00,  1.51it/s, Accuracy=0.881, Loss=0.0354]\n",
            "valid: 100%|██████████| 19/19 [00:04<00:00,  4.20it/s, Accuracy=0.723, Loss=1.23]\n"
          ]
        },
        {
          "output_type": "stream",
          "name": "stdout",
          "text": [
            "================  end train  ================\n",
            "\n"
          ]
        },
        {
          "output_type": "stream",
          "name": "stderr",
          "text": [
            "test: 100%|██████████| 114/114 [00:26<00:00,  4.31it/s]\n",
            "Some weights of the model checkpoint at bert-base-uncased were not used when initializing BertForSequenceClassification: ['cls.predictions.bias', 'cls.predictions.transform.dense.weight', 'cls.predictions.transform.dense.bias', 'cls.predictions.decoder.weight', 'cls.seq_relationship.weight', 'cls.seq_relationship.bias', 'cls.predictions.transform.LayerNorm.weight', 'cls.predictions.transform.LayerNorm.bias']\n",
            "- This IS expected if you are initializing BertForSequenceClassification from the checkpoint of a model trained on another task or with another architecture (e.g. initializing a BertForSequenceClassification model from a BertForPretraining model).\n",
            "- This IS NOT expected if you are initializing BertForSequenceClassification from the checkpoint of a model that you expect to be exactly identical (initializing a BertForSequenceClassification model from a BertForSequenceClassification model).\n",
            "Some weights of BertForSequenceClassification were not initialized from the model checkpoint at bert-base-uncased and are newly initialized: ['classifier.weight', 'classifier.bias']\n",
            "You should probably TRAIN this model on a down-stream task to be able to use it for predictions and inference.\n"
          ]
        },
        {
          "output_type": "stream",
          "name": "stdout",
          "text": [
            "\n",
            "================  start train  ================\n"
          ]
        },
        {
          "output_type": "stream",
          "name": "stderr",
          "text": [
            "Some weights of the model checkpoint at bert-base-uncased were not used when initializing BertForSequenceClassification: ['cls.predictions.bias', 'cls.predictions.transform.dense.weight', 'cls.predictions.transform.dense.bias', 'cls.predictions.decoder.weight', 'cls.seq_relationship.weight', 'cls.seq_relationship.bias', 'cls.predictions.transform.LayerNorm.weight', 'cls.predictions.transform.LayerNorm.bias']\n",
            "- This IS expected if you are initializing BertForSequenceClassification from the checkpoint of a model trained on another task or with another architecture (e.g. initializing a BertForSequenceClassification model from a BertForPretraining model).\n",
            "- This IS NOT expected if you are initializing BertForSequenceClassification from the checkpoint of a model that you expect to be exactly identical (initializing a BertForSequenceClassification model from a BertForSequenceClassification model).\n",
            "Some weights of BertForSequenceClassification were not initialized from the model checkpoint at bert-base-uncased and are newly initialized: ['classifier.weight', 'classifier.bias']\n",
            "You should probably TRAIN this model on a down-stream task to be able to use it for predictions and inference.\n"
          ]
        },
        {
          "output_type": "stream",
          "name": "stdout",
          "text": [
            "\n",
            "epoch: 1\n"
          ]
        },
        {
          "output_type": "stream",
          "name": "stderr",
          "text": [
            "train: 100%|██████████| 76/76 [00:50<00:00,  1.51it/s, Accuracy=0.531, Loss=1.09]\n",
            "valid: 100%|██████████| 19/19 [00:04<00:00,  4.23it/s, Accuracy=0.68, Loss=0.896]\n"
          ]
        },
        {
          "output_type": "stream",
          "name": "stdout",
          "text": [
            "==== model saved ====\n",
            "\n",
            "epoch: 2\n"
          ]
        },
        {
          "output_type": "stream",
          "name": "stderr",
          "text": [
            "train: 100%|██████████| 76/76 [00:50<00:00,  1.51it/s, Accuracy=0.64, Loss=0.702]\n",
            "valid: 100%|██████████| 19/19 [00:04<00:00,  4.21it/s, Accuracy=0.693, Loss=0.791]\n"
          ]
        },
        {
          "output_type": "stream",
          "name": "stdout",
          "text": [
            "==== model saved ====\n",
            "\n",
            "epoch: 3\n"
          ]
        },
        {
          "output_type": "stream",
          "name": "stderr",
          "text": [
            "train: 100%|██████████| 76/76 [00:50<00:00,  1.51it/s, Accuracy=0.698, Loss=0.543]\n",
            "valid: 100%|██████████| 19/19 [00:04<00:00,  4.22it/s, Accuracy=0.726, Loss=0.732]\n"
          ]
        },
        {
          "output_type": "stream",
          "name": "stdout",
          "text": [
            "==== model saved ====\n",
            "\n",
            "epoch: 4\n"
          ]
        },
        {
          "output_type": "stream",
          "name": "stderr",
          "text": [
            "train: 100%|██████████| 76/76 [00:50<00:00,  1.50it/s, Accuracy=0.744, Loss=0.364]\n",
            "valid: 100%|██████████| 19/19 [00:04<00:00,  4.22it/s, Accuracy=0.739, Loss=0.692]\n"
          ]
        },
        {
          "output_type": "stream",
          "name": "stdout",
          "text": [
            "==== model saved ====\n",
            "\n",
            "epoch: 5\n"
          ]
        },
        {
          "output_type": "stream",
          "name": "stderr",
          "text": [
            "train: 100%|██████████| 76/76 [00:50<00:00,  1.51it/s, Accuracy=0.78, Loss=0.261]\n",
            "valid: 100%|██████████| 19/19 [00:04<00:00,  4.20it/s, Accuracy=0.723, Loss=0.847]\n"
          ]
        },
        {
          "output_type": "stream",
          "name": "stdout",
          "text": [
            "\n",
            "epoch: 6\n"
          ]
        },
        {
          "output_type": "stream",
          "name": "stderr",
          "text": [
            "train: 100%|██████████| 76/76 [00:50<00:00,  1.51it/s, Accuracy=0.809, Loss=0.166]\n",
            "valid: 100%|██████████| 19/19 [00:04<00:00,  4.10it/s, Accuracy=0.726, Loss=0.934]\n"
          ]
        },
        {
          "output_type": "stream",
          "name": "stdout",
          "text": [
            "\n",
            "epoch: 7\n"
          ]
        },
        {
          "output_type": "stream",
          "name": "stderr",
          "text": [
            "train: 100%|██████████| 76/76 [00:50<00:00,  1.51it/s, Accuracy=0.832, Loss=0.11]\n",
            "valid: 100%|██████████| 19/19 [00:04<00:00,  4.22it/s, Accuracy=0.713, Loss=1.04]\n"
          ]
        },
        {
          "output_type": "stream",
          "name": "stdout",
          "text": [
            "\n",
            "epoch: 8\n"
          ]
        },
        {
          "output_type": "stream",
          "name": "stderr",
          "text": [
            "train: 100%|██████████| 76/76 [00:50<00:00,  1.51it/s, Accuracy=0.85, Loss=0.0822]\n",
            "valid: 100%|██████████| 19/19 [00:04<00:00,  4.23it/s, Accuracy=0.736, Loss=0.991]\n"
          ]
        },
        {
          "output_type": "stream",
          "name": "stdout",
          "text": [
            "\n",
            "epoch: 9\n"
          ]
        },
        {
          "output_type": "stream",
          "name": "stderr",
          "text": [
            "train: 100%|██████████| 76/76 [00:50<00:00,  1.51it/s, Accuracy=0.865, Loss=0.0738]\n",
            "valid: 100%|██████████| 19/19 [00:04<00:00,  4.22it/s, Accuracy=0.743, Loss=1.06]\n"
          ]
        },
        {
          "output_type": "stream",
          "name": "stdout",
          "text": [
            "==== model saved ====\n",
            "\n",
            "epoch: 10\n"
          ]
        },
        {
          "output_type": "stream",
          "name": "stderr",
          "text": [
            "train: 100%|██████████| 76/76 [00:50<00:00,  1.51it/s, Accuracy=0.876, Loss=0.0697]\n",
            "valid: 100%|██████████| 19/19 [00:04<00:00,  4.22it/s, Accuracy=0.746, Loss=1.07]\n"
          ]
        },
        {
          "output_type": "stream",
          "name": "stdout",
          "text": [
            "==== model saved ====\n",
            "================  end train  ================\n",
            "\n"
          ]
        },
        {
          "output_type": "stream",
          "name": "stderr",
          "text": [
            "test: 100%|██████████| 114/114 [00:26<00:00,  4.27it/s]\n",
            "Some weights of the model checkpoint at bert-base-uncased were not used when initializing BertForSequenceClassification: ['cls.predictions.bias', 'cls.predictions.transform.dense.weight', 'cls.predictions.transform.dense.bias', 'cls.predictions.decoder.weight', 'cls.seq_relationship.weight', 'cls.seq_relationship.bias', 'cls.predictions.transform.LayerNorm.weight', 'cls.predictions.transform.LayerNorm.bias']\n",
            "- This IS expected if you are initializing BertForSequenceClassification from the checkpoint of a model trained on another task or with another architecture (e.g. initializing a BertForSequenceClassification model from a BertForPretraining model).\n",
            "- This IS NOT expected if you are initializing BertForSequenceClassification from the checkpoint of a model that you expect to be exactly identical (initializing a BertForSequenceClassification model from a BertForSequenceClassification model).\n",
            "Some weights of BertForSequenceClassification were not initialized from the model checkpoint at bert-base-uncased and are newly initialized: ['classifier.weight', 'classifier.bias']\n",
            "You should probably TRAIN this model on a down-stream task to be able to use it for predictions and inference.\n"
          ]
        },
        {
          "output_type": "stream",
          "name": "stdout",
          "text": [
            "\n",
            "================  start train  ================\n"
          ]
        },
        {
          "output_type": "stream",
          "name": "stderr",
          "text": [
            "Some weights of the model checkpoint at bert-base-uncased were not used when initializing BertForSequenceClassification: ['cls.predictions.bias', 'cls.predictions.transform.dense.weight', 'cls.predictions.transform.dense.bias', 'cls.predictions.decoder.weight', 'cls.seq_relationship.weight', 'cls.seq_relationship.bias', 'cls.predictions.transform.LayerNorm.weight', 'cls.predictions.transform.LayerNorm.bias']\n",
            "- This IS expected if you are initializing BertForSequenceClassification from the checkpoint of a model trained on another task or with another architecture (e.g. initializing a BertForSequenceClassification model from a BertForPretraining model).\n",
            "- This IS NOT expected if you are initializing BertForSequenceClassification from the checkpoint of a model that you expect to be exactly identical (initializing a BertForSequenceClassification model from a BertForSequenceClassification model).\n",
            "Some weights of BertForSequenceClassification were not initialized from the model checkpoint at bert-base-uncased and are newly initialized: ['classifier.weight', 'classifier.bias']\n",
            "You should probably TRAIN this model on a down-stream task to be able to use it for predictions and inference.\n"
          ]
        },
        {
          "output_type": "stream",
          "name": "stdout",
          "text": [
            "\n",
            "epoch: 1\n"
          ]
        },
        {
          "output_type": "stream",
          "name": "stderr",
          "text": [
            "train: 100%|██████████| 76/76 [00:50<00:00,  1.51it/s, Accuracy=0.568, Loss=1.07]\n",
            "valid: 100%|██████████| 19/19 [00:04<00:00,  4.20it/s, Accuracy=0.667, Loss=0.844]\n"
          ]
        },
        {
          "output_type": "stream",
          "name": "stdout",
          "text": [
            "==== model saved ====\n",
            "\n",
            "epoch: 2\n"
          ]
        },
        {
          "output_type": "stream",
          "name": "stderr",
          "text": [
            "train: 100%|██████████| 76/76 [00:50<00:00,  1.51it/s, Accuracy=0.655, Loss=0.715]\n",
            "valid: 100%|██████████| 19/19 [00:04<00:00,  4.20it/s, Accuracy=0.736, Loss=0.709]\n"
          ]
        },
        {
          "output_type": "stream",
          "name": "stdout",
          "text": [
            "==== model saved ====\n",
            "\n",
            "epoch: 3\n"
          ]
        },
        {
          "output_type": "stream",
          "name": "stderr",
          "text": [
            "train: 100%|██████████| 76/76 [00:50<00:00,  1.51it/s, Accuracy=0.711, Loss=0.503]\n",
            "valid: 100%|██████████| 19/19 [00:04<00:00,  4.19it/s, Accuracy=0.766, Loss=0.688]\n"
          ]
        },
        {
          "output_type": "stream",
          "name": "stdout",
          "text": [
            "==== model saved ====\n",
            "\n",
            "epoch: 4\n"
          ]
        },
        {
          "output_type": "stream",
          "name": "stderr",
          "text": [
            "train: 100%|██████████| 76/76 [00:50<00:00,  1.51it/s, Accuracy=0.746, Loss=0.403]\n",
            "valid: 100%|██████████| 19/19 [00:04<00:00,  4.22it/s, Accuracy=0.71, Loss=0.803]\n"
          ]
        },
        {
          "output_type": "stream",
          "name": "stdout",
          "text": [
            "\n",
            "epoch: 5\n"
          ]
        },
        {
          "output_type": "stream",
          "name": "stderr",
          "text": [
            "train: 100%|██████████| 76/76 [00:50<00:00,  1.51it/s, Accuracy=0.78, Loss=0.257]\n",
            "valid: 100%|██████████| 19/19 [00:04<00:00,  4.21it/s, Accuracy=0.733, Loss=0.811]\n"
          ]
        },
        {
          "output_type": "stream",
          "name": "stdout",
          "text": [
            "\n",
            "epoch: 6\n"
          ]
        },
        {
          "output_type": "stream",
          "name": "stderr",
          "text": [
            "train: 100%|██████████| 76/76 [00:50<00:00,  1.51it/s, Accuracy=0.81, Loss=0.148]\n",
            "valid: 100%|██████████| 19/19 [00:04<00:00,  4.21it/s, Accuracy=0.752, Loss=0.802]\n"
          ]
        },
        {
          "output_type": "stream",
          "name": "stdout",
          "text": [
            "\n",
            "epoch: 7\n"
          ]
        },
        {
          "output_type": "stream",
          "name": "stderr",
          "text": [
            "train: 100%|██████████| 76/76 [00:50<00:00,  1.51it/s, Accuracy=0.834, Loss=0.0859]\n",
            "valid: 100%|██████████| 19/19 [00:04<00:00,  4.22it/s, Accuracy=0.749, Loss=0.938]\n"
          ]
        },
        {
          "output_type": "stream",
          "name": "stdout",
          "text": [
            "\n",
            "epoch: 8\n"
          ]
        },
        {
          "output_type": "stream",
          "name": "stderr",
          "text": [
            "train: 100%|██████████| 76/76 [00:50<00:00,  1.51it/s, Accuracy=0.853, Loss=0.0491]\n",
            "valid: 100%|██████████| 19/19 [00:04<00:00,  4.05it/s, Accuracy=0.756, Loss=0.931]\n"
          ]
        },
        {
          "output_type": "stream",
          "name": "stdout",
          "text": [
            "\n",
            "epoch: 9\n"
          ]
        },
        {
          "output_type": "stream",
          "name": "stderr",
          "text": [
            "train: 100%|██████████| 76/76 [00:50<00:00,  1.51it/s, Accuracy=0.868, Loss=0.0461]\n",
            "valid: 100%|██████████| 19/19 [00:04<00:00,  4.21it/s, Accuracy=0.706, Loss=1.3]\n"
          ]
        },
        {
          "output_type": "stream",
          "name": "stdout",
          "text": [
            "\n",
            "epoch: 10\n"
          ]
        },
        {
          "output_type": "stream",
          "name": "stderr",
          "text": [
            "train: 100%|██████████| 76/76 [00:50<00:00,  1.51it/s, Accuracy=0.88, Loss=0.0689]\n",
            "valid: 100%|██████████| 19/19 [00:04<00:00,  4.20it/s, Accuracy=0.736, Loss=1.06]\n"
          ]
        },
        {
          "output_type": "stream",
          "name": "stdout",
          "text": [
            "================  end train  ================\n",
            "\n"
          ]
        },
        {
          "output_type": "stream",
          "name": "stderr",
          "text": [
            "test: 100%|██████████| 114/114 [00:26<00:00,  4.30it/s]\n"
          ]
        }
      ]
    },
    {
      "cell_type": "code",
      "source": [
        "all_emb_ = np.array([np.array(emb)[-len(df_test):] for emb in all_emb])"
      ],
      "metadata": {
        "id": "eK-UI_G3wzIG"
      },
      "execution_count": 11,
      "outputs": []
    },
    {
      "cell_type": "code",
      "source": [
        "mean_df = pd.DataFrame([[np.mean(arr_val) for arr_val in arr_vec] for arr_vec in np.moveaxis(all_emb_, 0, 2)])\n",
        "preds = [np.argmax(arr)+1 for arr in mean_df.to_numpy()]\n",
        "df_submit = pd.DataFrame([df_test.id.to_list(), preds]).T\n",
        "df_submit.to_csv(os.path.join(ROOT, 'v10_esemble.csv'), index=None, header=None)"
      ],
      "metadata": {
        "id": "zHARK-Z-lvL8"
      },
      "execution_count": 14,
      "outputs": []
    },
    {
      "cell_type": "code",
      "source": [
        "acc_list = []\n",
        "for item in metric_list:\n",
        "  acc_list.append((np.max([acc for loss, acc in item])))\n",
        "print(np.mean(acc_list))"
      ],
      "metadata": {
        "colab": {
          "base_uri": "https://localhost:8080/"
        },
        "id": "JVEj-oYop9as",
        "outputId": "98950c3e-7da8-4b6e-8f18-54f2c273a2e1"
      },
      "execution_count": 13,
      "outputs": [
        {
          "output_type": "stream",
          "name": "stdout",
          "text": [
            "0.7618594754212263\n"
          ]
        }
      ]
    },
    {
      "cell_type": "code",
      "source": [
        ""
      ],
      "metadata": {
        "id": "B3dybng-w317"
      },
      "execution_count": 13,
      "outputs": []
    }
  ]
}