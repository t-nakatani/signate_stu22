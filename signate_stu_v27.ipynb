{
  "nbformat": 4,
  "nbformat_minor": 0,
  "metadata": {
    "colab": {
      "name": "signate_stu_v27.ipynb",
      "provenance": [],
      "collapsed_sections": [],
      "authorship_tag": "ABX9TyMFrGThj972fFHB5I/2U1Dj",
      "include_colab_link": true
    },
    "kernelspec": {
      "name": "python3",
      "display_name": "Python 3"
    },
    "language_info": {
      "name": "python"
    },
    "accelerator": "GPU",
    "gpuClass": "standard",
    "widgets": {
      "application/vnd.jupyter.widget-state+json": {
        "0aa9a19322b54485b88eb470f53dd9eb": {
          "model_module": "@jupyter-widgets/controls",
          "model_name": "HBoxModel",
          "model_module_version": "1.5.0",
          "state": {
            "_dom_classes": [],
            "_model_module": "@jupyter-widgets/controls",
            "_model_module_version": "1.5.0",
            "_model_name": "HBoxModel",
            "_view_count": null,
            "_view_module": "@jupyter-widgets/controls",
            "_view_module_version": "1.5.0",
            "_view_name": "HBoxView",
            "box_style": "",
            "children": [
              "IPY_MODEL_6a88ecc65fcb4b039d5b79fcd50942ff",
              "IPY_MODEL_4ceb8ec2ec0b48a69471cc564f9a3908",
              "IPY_MODEL_469f68bdc7b34eb6bef0077e506c0991"
            ],
            "layout": "IPY_MODEL_66724f4709e94f66af11d10d08b6563c"
          }
        },
        "6a88ecc65fcb4b039d5b79fcd50942ff": {
          "model_module": "@jupyter-widgets/controls",
          "model_name": "HTMLModel",
          "model_module_version": "1.5.0",
          "state": {
            "_dom_classes": [],
            "_model_module": "@jupyter-widgets/controls",
            "_model_module_version": "1.5.0",
            "_model_name": "HTMLModel",
            "_view_count": null,
            "_view_module": "@jupyter-widgets/controls",
            "_view_module_version": "1.5.0",
            "_view_name": "HTMLView",
            "description": "",
            "description_tooltip": null,
            "layout": "IPY_MODEL_94efb3b7066144a6ac580e38128cbbf8",
            "placeholder": "​",
            "style": "IPY_MODEL_fe6b2ef2712a4222b938982f7078f685",
            "value": "Downloading: 100%"
          }
        },
        "4ceb8ec2ec0b48a69471cc564f9a3908": {
          "model_module": "@jupyter-widgets/controls",
          "model_name": "FloatProgressModel",
          "model_module_version": "1.5.0",
          "state": {
            "_dom_classes": [],
            "_model_module": "@jupyter-widgets/controls",
            "_model_module_version": "1.5.0",
            "_model_name": "FloatProgressModel",
            "_view_count": null,
            "_view_module": "@jupyter-widgets/controls",
            "_view_module_version": "1.5.0",
            "_view_name": "ProgressView",
            "bar_style": "success",
            "description": "",
            "description_tooltip": null,
            "layout": "IPY_MODEL_08c5162f2fa2444f92027c71c496ef84",
            "max": 385,
            "min": 0,
            "orientation": "horizontal",
            "style": "IPY_MODEL_c05b4e3a41214939a7b6449653e984eb",
            "value": 385
          }
        },
        "469f68bdc7b34eb6bef0077e506c0991": {
          "model_module": "@jupyter-widgets/controls",
          "model_name": "HTMLModel",
          "model_module_version": "1.5.0",
          "state": {
            "_dom_classes": [],
            "_model_module": "@jupyter-widgets/controls",
            "_model_module_version": "1.5.0",
            "_model_name": "HTMLModel",
            "_view_count": null,
            "_view_module": "@jupyter-widgets/controls",
            "_view_module_version": "1.5.0",
            "_view_name": "HTMLView",
            "description": "",
            "description_tooltip": null,
            "layout": "IPY_MODEL_e135326ca4d44ff9a8803de5b6d28c37",
            "placeholder": "​",
            "style": "IPY_MODEL_7b773b4a176343d78fe1e427c20e358f",
            "value": " 385/385 [00:00&lt;00:00, 6.53kB/s]"
          }
        },
        "66724f4709e94f66af11d10d08b6563c": {
          "model_module": "@jupyter-widgets/base",
          "model_name": "LayoutModel",
          "model_module_version": "1.2.0",
          "state": {
            "_model_module": "@jupyter-widgets/base",
            "_model_module_version": "1.2.0",
            "_model_name": "LayoutModel",
            "_view_count": null,
            "_view_module": "@jupyter-widgets/base",
            "_view_module_version": "1.2.0",
            "_view_name": "LayoutView",
            "align_content": null,
            "align_items": null,
            "align_self": null,
            "border": null,
            "bottom": null,
            "display": null,
            "flex": null,
            "flex_flow": null,
            "grid_area": null,
            "grid_auto_columns": null,
            "grid_auto_flow": null,
            "grid_auto_rows": null,
            "grid_column": null,
            "grid_gap": null,
            "grid_row": null,
            "grid_template_areas": null,
            "grid_template_columns": null,
            "grid_template_rows": null,
            "height": null,
            "justify_content": null,
            "justify_items": null,
            "left": null,
            "margin": null,
            "max_height": null,
            "max_width": null,
            "min_height": null,
            "min_width": null,
            "object_fit": null,
            "object_position": null,
            "order": null,
            "overflow": null,
            "overflow_x": null,
            "overflow_y": null,
            "padding": null,
            "right": null,
            "top": null,
            "visibility": null,
            "width": null
          }
        },
        "94efb3b7066144a6ac580e38128cbbf8": {
          "model_module": "@jupyter-widgets/base",
          "model_name": "LayoutModel",
          "model_module_version": "1.2.0",
          "state": {
            "_model_module": "@jupyter-widgets/base",
            "_model_module_version": "1.2.0",
            "_model_name": "LayoutModel",
            "_view_count": null,
            "_view_module": "@jupyter-widgets/base",
            "_view_module_version": "1.2.0",
            "_view_name": "LayoutView",
            "align_content": null,
            "align_items": null,
            "align_self": null,
            "border": null,
            "bottom": null,
            "display": null,
            "flex": null,
            "flex_flow": null,
            "grid_area": null,
            "grid_auto_columns": null,
            "grid_auto_flow": null,
            "grid_auto_rows": null,
            "grid_column": null,
            "grid_gap": null,
            "grid_row": null,
            "grid_template_areas": null,
            "grid_template_columns": null,
            "grid_template_rows": null,
            "height": null,
            "justify_content": null,
            "justify_items": null,
            "left": null,
            "margin": null,
            "max_height": null,
            "max_width": null,
            "min_height": null,
            "min_width": null,
            "object_fit": null,
            "object_position": null,
            "order": null,
            "overflow": null,
            "overflow_x": null,
            "overflow_y": null,
            "padding": null,
            "right": null,
            "top": null,
            "visibility": null,
            "width": null
          }
        },
        "fe6b2ef2712a4222b938982f7078f685": {
          "model_module": "@jupyter-widgets/controls",
          "model_name": "DescriptionStyleModel",
          "model_module_version": "1.5.0",
          "state": {
            "_model_module": "@jupyter-widgets/controls",
            "_model_module_version": "1.5.0",
            "_model_name": "DescriptionStyleModel",
            "_view_count": null,
            "_view_module": "@jupyter-widgets/base",
            "_view_module_version": "1.2.0",
            "_view_name": "StyleView",
            "description_width": ""
          }
        },
        "08c5162f2fa2444f92027c71c496ef84": {
          "model_module": "@jupyter-widgets/base",
          "model_name": "LayoutModel",
          "model_module_version": "1.2.0",
          "state": {
            "_model_module": "@jupyter-widgets/base",
            "_model_module_version": "1.2.0",
            "_model_name": "LayoutModel",
            "_view_count": null,
            "_view_module": "@jupyter-widgets/base",
            "_view_module_version": "1.2.0",
            "_view_name": "LayoutView",
            "align_content": null,
            "align_items": null,
            "align_self": null,
            "border": null,
            "bottom": null,
            "display": null,
            "flex": null,
            "flex_flow": null,
            "grid_area": null,
            "grid_auto_columns": null,
            "grid_auto_flow": null,
            "grid_auto_rows": null,
            "grid_column": null,
            "grid_gap": null,
            "grid_row": null,
            "grid_template_areas": null,
            "grid_template_columns": null,
            "grid_template_rows": null,
            "height": null,
            "justify_content": null,
            "justify_items": null,
            "left": null,
            "margin": null,
            "max_height": null,
            "max_width": null,
            "min_height": null,
            "min_width": null,
            "object_fit": null,
            "object_position": null,
            "order": null,
            "overflow": null,
            "overflow_x": null,
            "overflow_y": null,
            "padding": null,
            "right": null,
            "top": null,
            "visibility": null,
            "width": null
          }
        },
        "c05b4e3a41214939a7b6449653e984eb": {
          "model_module": "@jupyter-widgets/controls",
          "model_name": "ProgressStyleModel",
          "model_module_version": "1.5.0",
          "state": {
            "_model_module": "@jupyter-widgets/controls",
            "_model_module_version": "1.5.0",
            "_model_name": "ProgressStyleModel",
            "_view_count": null,
            "_view_module": "@jupyter-widgets/base",
            "_view_module_version": "1.2.0",
            "_view_name": "StyleView",
            "bar_color": null,
            "description_width": ""
          }
        },
        "e135326ca4d44ff9a8803de5b6d28c37": {
          "model_module": "@jupyter-widgets/base",
          "model_name": "LayoutModel",
          "model_module_version": "1.2.0",
          "state": {
            "_model_module": "@jupyter-widgets/base",
            "_model_module_version": "1.2.0",
            "_model_name": "LayoutModel",
            "_view_count": null,
            "_view_module": "@jupyter-widgets/base",
            "_view_module_version": "1.2.0",
            "_view_name": "LayoutView",
            "align_content": null,
            "align_items": null,
            "align_self": null,
            "border": null,
            "bottom": null,
            "display": null,
            "flex": null,
            "flex_flow": null,
            "grid_area": null,
            "grid_auto_columns": null,
            "grid_auto_flow": null,
            "grid_auto_rows": null,
            "grid_column": null,
            "grid_gap": null,
            "grid_row": null,
            "grid_template_areas": null,
            "grid_template_columns": null,
            "grid_template_rows": null,
            "height": null,
            "justify_content": null,
            "justify_items": null,
            "left": null,
            "margin": null,
            "max_height": null,
            "max_width": null,
            "min_height": null,
            "min_width": null,
            "object_fit": null,
            "object_position": null,
            "order": null,
            "overflow": null,
            "overflow_x": null,
            "overflow_y": null,
            "padding": null,
            "right": null,
            "top": null,
            "visibility": null,
            "width": null
          }
        },
        "7b773b4a176343d78fe1e427c20e358f": {
          "model_module": "@jupyter-widgets/controls",
          "model_name": "DescriptionStyleModel",
          "model_module_version": "1.5.0",
          "state": {
            "_model_module": "@jupyter-widgets/controls",
            "_model_module_version": "1.5.0",
            "_model_name": "DescriptionStyleModel",
            "_view_count": null,
            "_view_module": "@jupyter-widgets/base",
            "_view_module_version": "1.2.0",
            "_view_name": "StyleView",
            "description_width": ""
          }
        },
        "ade0c3f06071405e8a5aacab08c465f4": {
          "model_module": "@jupyter-widgets/controls",
          "model_name": "HBoxModel",
          "model_module_version": "1.5.0",
          "state": {
            "_dom_classes": [],
            "_model_module": "@jupyter-widgets/controls",
            "_model_module_version": "1.5.0",
            "_model_name": "HBoxModel",
            "_view_count": null,
            "_view_module": "@jupyter-widgets/controls",
            "_view_module_version": "1.5.0",
            "_view_name": "HBoxView",
            "box_style": "",
            "children": [
              "IPY_MODEL_262f7e0d5a6a4e93bccd3ee2227d8fb7",
              "IPY_MODEL_06d853c88cf24ca2be13c3072a36ddd2",
              "IPY_MODEL_4667e832ee394ae7b6494e7ad4c0151c"
            ],
            "layout": "IPY_MODEL_5ef61cfd91654cbab4b996cd8ebb50c4"
          }
        },
        "262f7e0d5a6a4e93bccd3ee2227d8fb7": {
          "model_module": "@jupyter-widgets/controls",
          "model_name": "HTMLModel",
          "model_module_version": "1.5.0",
          "state": {
            "_dom_classes": [],
            "_model_module": "@jupyter-widgets/controls",
            "_model_module_version": "1.5.0",
            "_model_name": "HTMLModel",
            "_view_count": null,
            "_view_module": "@jupyter-widgets/controls",
            "_view_module_version": "1.5.0",
            "_view_name": "HTMLView",
            "description": "",
            "description_tooltip": null,
            "layout": "IPY_MODEL_5e9d0256d1bb4f28a1f64b4e2e401799",
            "placeholder": "​",
            "style": "IPY_MODEL_492d40a3c6b64343b86b5502e76e9803",
            "value": "Downloading: 100%"
          }
        },
        "06d853c88cf24ca2be13c3072a36ddd2": {
          "model_module": "@jupyter-widgets/controls",
          "model_name": "FloatProgressModel",
          "model_module_version": "1.5.0",
          "state": {
            "_dom_classes": [],
            "_model_module": "@jupyter-widgets/controls",
            "_model_module_version": "1.5.0",
            "_model_name": "FloatProgressModel",
            "_view_count": null,
            "_view_module": "@jupyter-widgets/controls",
            "_view_module_version": "1.5.0",
            "_view_name": "ProgressView",
            "bar_style": "success",
            "description": "",
            "description_tooltip": null,
            "layout": "IPY_MODEL_ac28ded6bf0943f0b2f0336d964acc7f",
            "max": 442221694,
            "min": 0,
            "orientation": "horizontal",
            "style": "IPY_MODEL_f2579074a6dd4dd99e24f8231ec79839",
            "value": 442221694
          }
        },
        "4667e832ee394ae7b6494e7ad4c0151c": {
          "model_module": "@jupyter-widgets/controls",
          "model_name": "HTMLModel",
          "model_module_version": "1.5.0",
          "state": {
            "_dom_classes": [],
            "_model_module": "@jupyter-widgets/controls",
            "_model_module_version": "1.5.0",
            "_model_name": "HTMLModel",
            "_view_count": null,
            "_view_module": "@jupyter-widgets/controls",
            "_view_module_version": "1.5.0",
            "_view_name": "HTMLView",
            "description": "",
            "description_tooltip": null,
            "layout": "IPY_MODEL_c1488c81b93d4c0d9b2de540f43322ca",
            "placeholder": "​",
            "style": "IPY_MODEL_d680746d8f9e47068da943c0c3297363",
            "value": " 442M/442M [00:13&lt;00:00, 22.4MB/s]"
          }
        },
        "5ef61cfd91654cbab4b996cd8ebb50c4": {
          "model_module": "@jupyter-widgets/base",
          "model_name": "LayoutModel",
          "model_module_version": "1.2.0",
          "state": {
            "_model_module": "@jupyter-widgets/base",
            "_model_module_version": "1.2.0",
            "_model_name": "LayoutModel",
            "_view_count": null,
            "_view_module": "@jupyter-widgets/base",
            "_view_module_version": "1.2.0",
            "_view_name": "LayoutView",
            "align_content": null,
            "align_items": null,
            "align_self": null,
            "border": null,
            "bottom": null,
            "display": null,
            "flex": null,
            "flex_flow": null,
            "grid_area": null,
            "grid_auto_columns": null,
            "grid_auto_flow": null,
            "grid_auto_rows": null,
            "grid_column": null,
            "grid_gap": null,
            "grid_row": null,
            "grid_template_areas": null,
            "grid_template_columns": null,
            "grid_template_rows": null,
            "height": null,
            "justify_content": null,
            "justify_items": null,
            "left": null,
            "margin": null,
            "max_height": null,
            "max_width": null,
            "min_height": null,
            "min_width": null,
            "object_fit": null,
            "object_position": null,
            "order": null,
            "overflow": null,
            "overflow_x": null,
            "overflow_y": null,
            "padding": null,
            "right": null,
            "top": null,
            "visibility": null,
            "width": null
          }
        },
        "5e9d0256d1bb4f28a1f64b4e2e401799": {
          "model_module": "@jupyter-widgets/base",
          "model_name": "LayoutModel",
          "model_module_version": "1.2.0",
          "state": {
            "_model_module": "@jupyter-widgets/base",
            "_model_module_version": "1.2.0",
            "_model_name": "LayoutModel",
            "_view_count": null,
            "_view_module": "@jupyter-widgets/base",
            "_view_module_version": "1.2.0",
            "_view_name": "LayoutView",
            "align_content": null,
            "align_items": null,
            "align_self": null,
            "border": null,
            "bottom": null,
            "display": null,
            "flex": null,
            "flex_flow": null,
            "grid_area": null,
            "grid_auto_columns": null,
            "grid_auto_flow": null,
            "grid_auto_rows": null,
            "grid_column": null,
            "grid_gap": null,
            "grid_row": null,
            "grid_template_areas": null,
            "grid_template_columns": null,
            "grid_template_rows": null,
            "height": null,
            "justify_content": null,
            "justify_items": null,
            "left": null,
            "margin": null,
            "max_height": null,
            "max_width": null,
            "min_height": null,
            "min_width": null,
            "object_fit": null,
            "object_position": null,
            "order": null,
            "overflow": null,
            "overflow_x": null,
            "overflow_y": null,
            "padding": null,
            "right": null,
            "top": null,
            "visibility": null,
            "width": null
          }
        },
        "492d40a3c6b64343b86b5502e76e9803": {
          "model_module": "@jupyter-widgets/controls",
          "model_name": "DescriptionStyleModel",
          "model_module_version": "1.5.0",
          "state": {
            "_model_module": "@jupyter-widgets/controls",
            "_model_module_version": "1.5.0",
            "_model_name": "DescriptionStyleModel",
            "_view_count": null,
            "_view_module": "@jupyter-widgets/base",
            "_view_module_version": "1.2.0",
            "_view_name": "StyleView",
            "description_width": ""
          }
        },
        "ac28ded6bf0943f0b2f0336d964acc7f": {
          "model_module": "@jupyter-widgets/base",
          "model_name": "LayoutModel",
          "model_module_version": "1.2.0",
          "state": {
            "_model_module": "@jupyter-widgets/base",
            "_model_module_version": "1.2.0",
            "_model_name": "LayoutModel",
            "_view_count": null,
            "_view_module": "@jupyter-widgets/base",
            "_view_module_version": "1.2.0",
            "_view_name": "LayoutView",
            "align_content": null,
            "align_items": null,
            "align_self": null,
            "border": null,
            "bottom": null,
            "display": null,
            "flex": null,
            "flex_flow": null,
            "grid_area": null,
            "grid_auto_columns": null,
            "grid_auto_flow": null,
            "grid_auto_rows": null,
            "grid_column": null,
            "grid_gap": null,
            "grid_row": null,
            "grid_template_areas": null,
            "grid_template_columns": null,
            "grid_template_rows": null,
            "height": null,
            "justify_content": null,
            "justify_items": null,
            "left": null,
            "margin": null,
            "max_height": null,
            "max_width": null,
            "min_height": null,
            "min_width": null,
            "object_fit": null,
            "object_position": null,
            "order": null,
            "overflow": null,
            "overflow_x": null,
            "overflow_y": null,
            "padding": null,
            "right": null,
            "top": null,
            "visibility": null,
            "width": null
          }
        },
        "f2579074a6dd4dd99e24f8231ec79839": {
          "model_module": "@jupyter-widgets/controls",
          "model_name": "ProgressStyleModel",
          "model_module_version": "1.5.0",
          "state": {
            "_model_module": "@jupyter-widgets/controls",
            "_model_module_version": "1.5.0",
            "_model_name": "ProgressStyleModel",
            "_view_count": null,
            "_view_module": "@jupyter-widgets/base",
            "_view_module_version": "1.2.0",
            "_view_name": "StyleView",
            "bar_color": null,
            "description_width": ""
          }
        },
        "c1488c81b93d4c0d9b2de540f43322ca": {
          "model_module": "@jupyter-widgets/base",
          "model_name": "LayoutModel",
          "model_module_version": "1.2.0",
          "state": {
            "_model_module": "@jupyter-widgets/base",
            "_model_module_version": "1.2.0",
            "_model_name": "LayoutModel",
            "_view_count": null,
            "_view_module": "@jupyter-widgets/base",
            "_view_module_version": "1.2.0",
            "_view_name": "LayoutView",
            "align_content": null,
            "align_items": null,
            "align_self": null,
            "border": null,
            "bottom": null,
            "display": null,
            "flex": null,
            "flex_flow": null,
            "grid_area": null,
            "grid_auto_columns": null,
            "grid_auto_flow": null,
            "grid_auto_rows": null,
            "grid_column": null,
            "grid_gap": null,
            "grid_row": null,
            "grid_template_areas": null,
            "grid_template_columns": null,
            "grid_template_rows": null,
            "height": null,
            "justify_content": null,
            "justify_items": null,
            "left": null,
            "margin": null,
            "max_height": null,
            "max_width": null,
            "min_height": null,
            "min_width": null,
            "object_fit": null,
            "object_position": null,
            "order": null,
            "overflow": null,
            "overflow_x": null,
            "overflow_y": null,
            "padding": null,
            "right": null,
            "top": null,
            "visibility": null,
            "width": null
          }
        },
        "d680746d8f9e47068da943c0c3297363": {
          "model_module": "@jupyter-widgets/controls",
          "model_name": "DescriptionStyleModel",
          "model_module_version": "1.5.0",
          "state": {
            "_model_module": "@jupyter-widgets/controls",
            "_model_module_version": "1.5.0",
            "_model_name": "DescriptionStyleModel",
            "_view_count": null,
            "_view_module": "@jupyter-widgets/base",
            "_view_module_version": "1.2.0",
            "_view_name": "StyleView",
            "description_width": ""
          }
        },
        "ce7c49ffeb604aa494c6568b01b9b235": {
          "model_module": "@jupyter-widgets/controls",
          "model_name": "HBoxModel",
          "model_module_version": "1.5.0",
          "state": {
            "_dom_classes": [],
            "_model_module": "@jupyter-widgets/controls",
            "_model_module_version": "1.5.0",
            "_model_name": "HBoxModel",
            "_view_count": null,
            "_view_module": "@jupyter-widgets/controls",
            "_view_module_version": "1.5.0",
            "_view_name": "HBoxView",
            "box_style": "",
            "children": [
              "IPY_MODEL_7ecea715caa441be9c27145eb84d7c68",
              "IPY_MODEL_8fbfbc26ffdf454abab30159ce5f469f",
              "IPY_MODEL_92ea5e1dac4449c8945252dd93d12323"
            ],
            "layout": "IPY_MODEL_dea93188f54344b29aa8c1b792a5e82a"
          }
        },
        "7ecea715caa441be9c27145eb84d7c68": {
          "model_module": "@jupyter-widgets/controls",
          "model_name": "HTMLModel",
          "model_module_version": "1.5.0",
          "state": {
            "_dom_classes": [],
            "_model_module": "@jupyter-widgets/controls",
            "_model_module_version": "1.5.0",
            "_model_name": "HTMLModel",
            "_view_count": null,
            "_view_module": "@jupyter-widgets/controls",
            "_view_module_version": "1.5.0",
            "_view_name": "HTMLView",
            "description": "",
            "description_tooltip": null,
            "layout": "IPY_MODEL_1903fa463bdb4ea9bb5c7bfa6b6754d1",
            "placeholder": "​",
            "style": "IPY_MODEL_978b1f308a5a4a53afb65ef84ba7c41b",
            "value": "Downloading: 100%"
          }
        },
        "8fbfbc26ffdf454abab30159ce5f469f": {
          "model_module": "@jupyter-widgets/controls",
          "model_name": "FloatProgressModel",
          "model_module_version": "1.5.0",
          "state": {
            "_dom_classes": [],
            "_model_module": "@jupyter-widgets/controls",
            "_model_module_version": "1.5.0",
            "_model_name": "FloatProgressModel",
            "_view_count": null,
            "_view_module": "@jupyter-widgets/controls",
            "_view_module_version": "1.5.0",
            "_view_name": "ProgressView",
            "bar_style": "success",
            "description": "",
            "description_tooltip": null,
            "layout": "IPY_MODEL_1051f688d9484e88bed7fa61830ae8ed",
            "max": 227845,
            "min": 0,
            "orientation": "horizontal",
            "style": "IPY_MODEL_8089db5b69c6499c9d2e683a94ddb1bc",
            "value": 227845
          }
        },
        "92ea5e1dac4449c8945252dd93d12323": {
          "model_module": "@jupyter-widgets/controls",
          "model_name": "HTMLModel",
          "model_module_version": "1.5.0",
          "state": {
            "_dom_classes": [],
            "_model_module": "@jupyter-widgets/controls",
            "_model_module_version": "1.5.0",
            "_model_name": "HTMLModel",
            "_view_count": null,
            "_view_module": "@jupyter-widgets/controls",
            "_view_module_version": "1.5.0",
            "_view_name": "HTMLView",
            "description": "",
            "description_tooltip": null,
            "layout": "IPY_MODEL_69f9d4e8d18f4bb9a12e10bcd9a8936e",
            "placeholder": "​",
            "style": "IPY_MODEL_0fc4f78151f94fb090eb2faffb8fe9a9",
            "value": " 228k/228k [00:00&lt;00:00, 565kB/s]"
          }
        },
        "dea93188f54344b29aa8c1b792a5e82a": {
          "model_module": "@jupyter-widgets/base",
          "model_name": "LayoutModel",
          "model_module_version": "1.2.0",
          "state": {
            "_model_module": "@jupyter-widgets/base",
            "_model_module_version": "1.2.0",
            "_model_name": "LayoutModel",
            "_view_count": null,
            "_view_module": "@jupyter-widgets/base",
            "_view_module_version": "1.2.0",
            "_view_name": "LayoutView",
            "align_content": null,
            "align_items": null,
            "align_self": null,
            "border": null,
            "bottom": null,
            "display": null,
            "flex": null,
            "flex_flow": null,
            "grid_area": null,
            "grid_auto_columns": null,
            "grid_auto_flow": null,
            "grid_auto_rows": null,
            "grid_column": null,
            "grid_gap": null,
            "grid_row": null,
            "grid_template_areas": null,
            "grid_template_columns": null,
            "grid_template_rows": null,
            "height": null,
            "justify_content": null,
            "justify_items": null,
            "left": null,
            "margin": null,
            "max_height": null,
            "max_width": null,
            "min_height": null,
            "min_width": null,
            "object_fit": null,
            "object_position": null,
            "order": null,
            "overflow": null,
            "overflow_x": null,
            "overflow_y": null,
            "padding": null,
            "right": null,
            "top": null,
            "visibility": null,
            "width": null
          }
        },
        "1903fa463bdb4ea9bb5c7bfa6b6754d1": {
          "model_module": "@jupyter-widgets/base",
          "model_name": "LayoutModel",
          "model_module_version": "1.2.0",
          "state": {
            "_model_module": "@jupyter-widgets/base",
            "_model_module_version": "1.2.0",
            "_model_name": "LayoutModel",
            "_view_count": null,
            "_view_module": "@jupyter-widgets/base",
            "_view_module_version": "1.2.0",
            "_view_name": "LayoutView",
            "align_content": null,
            "align_items": null,
            "align_self": null,
            "border": null,
            "bottom": null,
            "display": null,
            "flex": null,
            "flex_flow": null,
            "grid_area": null,
            "grid_auto_columns": null,
            "grid_auto_flow": null,
            "grid_auto_rows": null,
            "grid_column": null,
            "grid_gap": null,
            "grid_row": null,
            "grid_template_areas": null,
            "grid_template_columns": null,
            "grid_template_rows": null,
            "height": null,
            "justify_content": null,
            "justify_items": null,
            "left": null,
            "margin": null,
            "max_height": null,
            "max_width": null,
            "min_height": null,
            "min_width": null,
            "object_fit": null,
            "object_position": null,
            "order": null,
            "overflow": null,
            "overflow_x": null,
            "overflow_y": null,
            "padding": null,
            "right": null,
            "top": null,
            "visibility": null,
            "width": null
          }
        },
        "978b1f308a5a4a53afb65ef84ba7c41b": {
          "model_module": "@jupyter-widgets/controls",
          "model_name": "DescriptionStyleModel",
          "model_module_version": "1.5.0",
          "state": {
            "_model_module": "@jupyter-widgets/controls",
            "_model_module_version": "1.5.0",
            "_model_name": "DescriptionStyleModel",
            "_view_count": null,
            "_view_module": "@jupyter-widgets/base",
            "_view_module_version": "1.2.0",
            "_view_name": "StyleView",
            "description_width": ""
          }
        },
        "1051f688d9484e88bed7fa61830ae8ed": {
          "model_module": "@jupyter-widgets/base",
          "model_name": "LayoutModel",
          "model_module_version": "1.2.0",
          "state": {
            "_model_module": "@jupyter-widgets/base",
            "_model_module_version": "1.2.0",
            "_model_name": "LayoutModel",
            "_view_count": null,
            "_view_module": "@jupyter-widgets/base",
            "_view_module_version": "1.2.0",
            "_view_name": "LayoutView",
            "align_content": null,
            "align_items": null,
            "align_self": null,
            "border": null,
            "bottom": null,
            "display": null,
            "flex": null,
            "flex_flow": null,
            "grid_area": null,
            "grid_auto_columns": null,
            "grid_auto_flow": null,
            "grid_auto_rows": null,
            "grid_column": null,
            "grid_gap": null,
            "grid_row": null,
            "grid_template_areas": null,
            "grid_template_columns": null,
            "grid_template_rows": null,
            "height": null,
            "justify_content": null,
            "justify_items": null,
            "left": null,
            "margin": null,
            "max_height": null,
            "max_width": null,
            "min_height": null,
            "min_width": null,
            "object_fit": null,
            "object_position": null,
            "order": null,
            "overflow": null,
            "overflow_x": null,
            "overflow_y": null,
            "padding": null,
            "right": null,
            "top": null,
            "visibility": null,
            "width": null
          }
        },
        "8089db5b69c6499c9d2e683a94ddb1bc": {
          "model_module": "@jupyter-widgets/controls",
          "model_name": "ProgressStyleModel",
          "model_module_version": "1.5.0",
          "state": {
            "_model_module": "@jupyter-widgets/controls",
            "_model_module_version": "1.5.0",
            "_model_name": "ProgressStyleModel",
            "_view_count": null,
            "_view_module": "@jupyter-widgets/base",
            "_view_module_version": "1.2.0",
            "_view_name": "StyleView",
            "bar_color": null,
            "description_width": ""
          }
        },
        "69f9d4e8d18f4bb9a12e10bcd9a8936e": {
          "model_module": "@jupyter-widgets/base",
          "model_name": "LayoutModel",
          "model_module_version": "1.2.0",
          "state": {
            "_model_module": "@jupyter-widgets/base",
            "_model_module_version": "1.2.0",
            "_model_name": "LayoutModel",
            "_view_count": null,
            "_view_module": "@jupyter-widgets/base",
            "_view_module_version": "1.2.0",
            "_view_name": "LayoutView",
            "align_content": null,
            "align_items": null,
            "align_self": null,
            "border": null,
            "bottom": null,
            "display": null,
            "flex": null,
            "flex_flow": null,
            "grid_area": null,
            "grid_auto_columns": null,
            "grid_auto_flow": null,
            "grid_auto_rows": null,
            "grid_column": null,
            "grid_gap": null,
            "grid_row": null,
            "grid_template_areas": null,
            "grid_template_columns": null,
            "grid_template_rows": null,
            "height": null,
            "justify_content": null,
            "justify_items": null,
            "left": null,
            "margin": null,
            "max_height": null,
            "max_width": null,
            "min_height": null,
            "min_width": null,
            "object_fit": null,
            "object_position": null,
            "order": null,
            "overflow": null,
            "overflow_x": null,
            "overflow_y": null,
            "padding": null,
            "right": null,
            "top": null,
            "visibility": null,
            "width": null
          }
        },
        "0fc4f78151f94fb090eb2faffb8fe9a9": {
          "model_module": "@jupyter-widgets/controls",
          "model_name": "DescriptionStyleModel",
          "model_module_version": "1.5.0",
          "state": {
            "_model_module": "@jupyter-widgets/controls",
            "_model_module_version": "1.5.0",
            "_model_name": "DescriptionStyleModel",
            "_view_count": null,
            "_view_module": "@jupyter-widgets/base",
            "_view_module_version": "1.2.0",
            "_view_name": "StyleView",
            "description_width": ""
          }
        }
      }
    }
  },
  "cells": [
    {
      "cell_type": "markdown",
      "metadata": {
        "id": "view-in-github",
        "colab_type": "text"
      },
      "source": [
        "<a href=\"https://colab.research.google.com/github/t-nakatani/signate_stu22/blob/exp/signate_stu_v27.ipynb\" target=\"_parent\"><img src=\"https://colab.research.google.com/assets/colab-badge.svg\" alt=\"Open In Colab\"/></a>"
      ]
    },
    {
      "cell_type": "markdown",
      "source": [
        "v26との比較で\"allenai/scibert_scivocab_uncased\"を用いる．  \n",
        "suede labelingを導入\n",
        "\n"
      ],
      "metadata": {
        "id": "GDti4y2d6yb_"
      }
    },
    {
      "cell_type": "code",
      "execution_count": 2,
      "metadata": {
        "id": "ofvp5QVbEagJ",
        "colab": {
          "base_uri": "https://localhost:8080/"
        },
        "outputId": "aa2b8ee0-b912-442f-f5c6-2bb37b93b41a"
      },
      "outputs": [
        {
          "output_type": "stream",
          "name": "stdout",
          "text": [
            "Drive already mounted at /content/drive; to attempt to forcibly remount, call drive.mount(\"/content/drive\", force_remount=True).\n"
          ]
        }
      ],
      "source": [
        "import numpy as np\n",
        "import pandas as pd\n",
        "import matplotlib.pyplot as plt\n",
        "import seaborn as sns\n",
        "import os\n",
        "\n",
        "from google.colab import drive\n",
        "drive.mount('/content/drive')\n",
        "ROOT = \"/content/drive/MyDrive/Colab Notebooks/signate/\"\n",
        "\n",
        "#学習用データと評価用データの読み込み\n",
        "train = pd.read_csv(os.path.join(ROOT, \"train_cleaned.csv\")).drop_duplicates(subset='description')\n",
        "test = pd.read_csv(os.path.join(ROOT, \"test_cleaned.csv\"))\n",
        "\n",
        "jobdic = dict(zip([1, 2, 3, 4], ['DataScientist', 'ML Engineer', 'Software Engineer', 'Consultant']))"
      ]
    },
    {
      "cell_type": "code",
      "source": [
        "!pip install -q transformers==3"
      ],
      "metadata": {
        "id": "YisF3KcxVqbT"
      },
      "execution_count": 3,
      "outputs": []
    },
    {
      "cell_type": "code",
      "source": [
        "import numpy as np\n",
        "import transformers\n",
        "import torch\n",
        "from torch.utils.data import Dataset, DataLoader\n",
        "# from transformers import RobertaTokenizer, RobertaModel\n",
        "# from transformers import BertModel, AutoTokenizer \n",
        "\n",
        "from transformers import AutoTokenizer, AutoModelForSequenceClassification, AutoConfig\n",
        "# from transformers import BertTokenizer, BertModel\n",
        "from torch import optim\n",
        "from torch import cuda\n",
        "import time\n",
        "from matplotlib import pyplot as plt\n",
        "from tqdm import tqdm\n",
        "from sklearn.metrics import f1_score"
      ],
      "metadata": {
        "id": "IrNv3cPZOec-"
      },
      "execution_count": 4,
      "outputs": []
    },
    {
      "cell_type": "code",
      "source": [
        "# seeds\n",
        "SEED = 2022\n",
        "def seed_everything(seed):\n",
        "    os.environ['PYTHONHASHSEED'] = str(seed)\n",
        "    np.random.seed(seed)\n",
        "    torch.manual_seed(seed)\n",
        "    if torch.cuda.is_available():\n",
        "        torch.cuda.manual_seed(seed)\n",
        "        torch.cuda.manual_seed_all(seed)\n",
        "\n",
        "seed_everything(SEED)\n",
        "\n",
        "if torch.cuda.is_available():\n",
        "    torch.backends.cudnn.deterministic = True\n",
        "    torch.backends.cudnn.benchmark = False\n",
        "    current_device = torch.cuda.current_device()\n",
        "    print(\"Device:\", torch.cuda.get_device_name(current_device))"
      ],
      "metadata": {
        "colab": {
          "base_uri": "https://localhost:8080/"
        },
        "id": "qnz-PWYD9S92",
        "outputId": "0a2ddf3d-be43-4154-e488-bd486ba5720f"
      },
      "execution_count": 5,
      "outputs": [
        {
          "output_type": "stream",
          "name": "stdout",
          "text": [
            "Device: Tesla P100-PCIE-16GB\n"
          ]
        }
      ]
    },
    {
      "cell_type": "code",
      "source": [
        "# Datasetの定義\n",
        "class CreateDataset(Dataset):\n",
        "  def __init__(self, X, y, tokenizer, max_len):\n",
        "    self.X = X\n",
        "    self.y = y\n",
        "    self.tokenizer = tokenizer\n",
        "    self.max_len = max_len\n",
        "\n",
        "  def __len__(self):  # len(Dataset)で返す値を指定\n",
        "    return len(self.X)\n",
        "\n",
        "  def __getitem__(self, index):  # Dataset[index]で返す値を指定\n",
        "    text = self.X[index]\n",
        "    inputs = self.tokenizer.encode_plus(\n",
        "      text,\n",
        "      add_special_tokens=True,\n",
        "      max_length=self.max_len,\n",
        "      pad_to_max_length=True,\n",
        "      truncation=True\n",
        "    )\n",
        "    ids = inputs['input_ids']\n",
        "    mask = inputs['attention_mask']\n",
        "    labels = self.y[index]\n",
        "\n",
        "    return {\n",
        "      'ids': torch.LongTensor(ids),\n",
        "      'mask': torch.LongTensor(mask),\n",
        "      'labels': torch.Tensor(labels)\n",
        "    }"
      ],
      "metadata": {
        "id": "bTbjxDE60aFs"
      },
      "execution_count": 6,
      "outputs": []
    },
    {
      "cell_type": "markdown",
      "source": [
        "1. from_pretrainedの文字列でconfig.from_pretrainedを呼び出し\n",
        "2. config.from_pretrainedの結果をconfigにセット"
      ],
      "metadata": {
        "id": "yYsvP_-hf-pQ"
      }
    },
    {
      "cell_type": "code",
      "source": [
        "# BERT分類モデルの定義\n",
        "class BERTClass(torch.nn.Module):\n",
        "  def __init__(self, drop_rate, otuput_size):\n",
        "    super().__init__()\n",
        "    self.config = AutoConfig.from_pretrained(\"allenai/scibert_scivocab_uncased\", num_labels=4)\n",
        "    self.bert = AutoModelForSequenceClassification.from_pretrained(\"allenai/scibert_scivocab_uncased\", config=self.config)\n",
        "\n",
        "  def forward(self, ids, mask):\n",
        "    out = self.bert(ids, attention_mask=mask)\n",
        "    return out[0]"
      ],
      "metadata": {
        "id": "M38JBNnv7QA4"
      },
      "execution_count": 7,
      "outputs": []
    },
    {
      "cell_type": "code",
      "source": [
        "def calculate_loss_and_f1_score(model, criterion, loader, device, epoch, max_epoch):\n",
        "  \"\"\" 損失・正解率を計算\"\"\"\n",
        "  model.eval()\n",
        "  loss = 0.0\n",
        "  total = 0\n",
        "  correct = 0\n",
        "  all_labels = []\n",
        "  all_preds = []\n",
        "\n",
        "  with torch.no_grad():\n",
        "    with tqdm(loader) as pbar:\n",
        "      pbar.set_description('valid')\n",
        "      for i, data in enumerate(pbar):\n",
        "        ids = data['ids'].to(device)\n",
        "        mask = data['mask'].to(device)\n",
        "        labels = data['labels'].to(device)\n",
        "\n",
        "\n",
        "        outputs = model(ids, mask)\n",
        "        loss += criterion(outputs, labels).item()\n",
        "\n",
        "        preds = torch.argmax(outputs, dim=-1).cpu().numpy() # バッチサイズの長さの予測ラベル配列\n",
        "        labels = torch.argmax(labels, dim=-1).cpu().numpy()  # バッチサイズの長さの正解ラベル配列\n",
        "        all_labels += labels.tolist()\n",
        "        all_preds += preds.tolist()\n",
        "        total += len(labels)\n",
        "        correct += (preds == labels).sum().item()\n",
        "        pbar.set_postfix(loss=loss/(i+1), f1=f1_score(all_labels, all_preds, average=\"macro\"))\n",
        "\n",
        "  return loss / len(loader), f1_score(all_labels, all_preds, average=\"macro\")"
      ],
      "metadata": {
        "id": "KFQSOOn7SbPp"
      },
      "execution_count": 8,
      "outputs": []
    },
    {
      "cell_type": "code",
      "source": [
        "def train_val(train_loader, val_loader, model_path):\n",
        "  device = 'cuda' if cuda.is_available() else 'cpu'\n",
        "  model = BERTClass(DROP_RATE, OUTPUT_SIZE).to(device)\n",
        "  criterion = torch.nn.CrossEntropyLoss()\n",
        "  optimizer = torch.optim.AdamW(params=model.parameters(), lr=LEARNING_RATE)\n",
        "  \n",
        "  log_valid = []\n",
        "  best_acc = 0\n",
        "  all_labels = []\n",
        "  all_preds = []\n",
        "\n",
        "  # train\n",
        "  for epoch in range(NUM_EPOCHS):\n",
        "    print('\\nepoch:', epoch+1)\n",
        "    loss_train = correct = total = 0\n",
        "    model.train()\n",
        "    with tqdm(train_loader) as pbar:\n",
        "      pbar.set_description('train')\n",
        "      for i, data in enumerate(pbar):\n",
        "        ids = data['ids'].to(device)\n",
        "        mask = data['mask'].to(device)\n",
        "        labels = data['labels'].to(device)\n",
        "\n",
        "        optimizer.zero_grad()\n",
        "\n",
        "        outputs = model(ids, mask)\n",
        "        loss = criterion(outputs, labels)\n",
        "        loss.backward()\n",
        "        optimizer.step()\n",
        "        \n",
        "        loss_train += loss.item()\n",
        "        preds = torch.argmax(outputs, dim=-1).cpu().numpy()\n",
        "        labels = torch.argmax(labels, dim=-1).cpu().numpy()\n",
        "\n",
        "        all_labels += labels.tolist()\n",
        "        all_preds += preds.tolist()\n",
        "\n",
        "        total += len(labels)\n",
        "        correct += (preds == labels).sum().item()\n",
        "        pbar.set_postfix(loss=loss_train/(i+1), f1=f1_score(all_labels, all_preds, average=\"macro\"))\n",
        "\n",
        "    loss_valid, f1_valid = calculate_loss_and_f1_score(model, criterion, val_loader, device, epoch, NUM_EPOCHS)\n",
        "    log_valid.append([loss_valid, f1_valid])\n",
        "    if best_acc < f1_valid:\n",
        "      best_acc = f1_valid\n",
        "      \n",
        "      torch.save(model, os.path.join(ROOT, model_path))\n",
        "      print('==== model saved ====')\n",
        "\n",
        "  return log_valid"
      ],
      "metadata": {
        "id": "T9Hy83GPWD1C"
      },
      "execution_count": 9,
      "outputs": []
    },
    {
      "cell_type": "code",
      "source": [
        "DROP_RATE = 0.1\n",
        "OUTPUT_SIZE = 4\n",
        "BATCH_SIZE = 16\n",
        "NUM_EPOCHS = 10\n",
        "LEARNING_RATE = 2e-5\n",
        "N_CV = 5\n",
        "VERSION = 'v27'"
      ],
      "metadata": {
        "id": "XfF5KLQJWJCG"
      },
      "execution_count": 10,
      "outputs": []
    },
    {
      "cell_type": "code",
      "source": [
        "import sklearn.metrics\n",
        "def train_val_predict(\n",
        "        df_train,       # 学習用のデータ\n",
        "        text_column,    # 対象のカラム名\n",
        "        target_column,  # 目的変数のカラム名\n",
        "        df_valid=None,  # 検証用データ\n",
        "        df_val_test=None,       # 予測用データ\n",
        "        model_file_prefix=\"\",  # 保存時のファイル名識別子\n",
        "        epochs=NUM_EPOCHS,\n",
        "        batch_size=BATCH_SIZE,\n",
        "        from_pretrained = False\n",
        "    ):\n",
        "  \n",
        "    # model\n",
        "    model_path = \"{}_{}.pth\".format(model_file_prefix, VERSION)\n",
        "    if from_pretrained:\n",
        "      model = from_pretrained\n",
        "      print('=== loading model from local ===')\n",
        "    else:\n",
        "      model = BERTClass(DROP_RATE, OUTPUT_SIZE)\n",
        "      print('=== loading model from remote ===')\n",
        "    criterion = torch.nn.CrossEntropyLoss()\n",
        "    optimizer = torch.optim.AdamW(params=model.parameters(), lr=LEARNING_RATE)\n",
        "    device = 'cuda' if cuda.is_available() else 'cpu'\n",
        "\n",
        "    # dataset\n",
        "    df_val_test[target_column].fillna(0)\n",
        "\n",
        "    max_len = 400\n",
        "    tokenizer = AutoTokenizer.from_pretrained(\"allenai/scibert_scivocab_uncased\")\n",
        "    dataset_train = CreateDataset(df_train[text_column].values, pd.get_dummies(df_train[target_column]).values, tokenizer, max_len)\n",
        "    dataset_val = CreateDataset(df_valid[text_column].values, pd.get_dummies(df_valid[target_column]).values, tokenizer, max_len)\n",
        "    dataset_test = CreateDataset(df_val_test[text_column].values, pd.get_dummies(df_val_test[target_column]).values, tokenizer, max_len)\n",
        "\n",
        "    dataloader_train = DataLoader(dataset_train, batch_size=BATCH_SIZE, shuffle=True)\n",
        "    dataloader_valid = DataLoader(dataset_val, batch_size=BATCH_SIZE, shuffle=True)\n",
        "    dataloader_test = DataLoader(dataset_test, batch_size=BATCH_SIZE, shuffle=False)\n",
        "\n",
        "    # train\n",
        "    print('\\n================  start train  ================')\n",
        "    metric = train_val(dataloader_train, dataloader_valid, model_path)\n",
        "    print('================  end train  ================\\n')\n",
        "\n",
        "    # predict\n",
        "    model = torch.load(os.path.join(ROOT, model_path))\n",
        "    model.eval()\n",
        "    pred_y_list = []\n",
        "    emb_list = []\n",
        "    with torch.no_grad():\n",
        "      with tqdm(dataloader_test) as pbar:\n",
        "        pbar.set_description('test')\n",
        "        for data in pbar:\n",
        "          ids = data['ids'].to(device)\n",
        "          mask = data['mask'].to(device)\n",
        "          labels = data['labels'].to(device)\n",
        "\n",
        "          output = model.forward(ids, mask)\n",
        "          pred = torch.argmax(output, dim=-1).cpu().numpy()\n",
        "\n",
        "          pred_y_list.extend(pred)\n",
        "          emb_list.extend(output.cpu().numpy())\n",
        "    return metric, pred_y_list, emb_list"
      ],
      "metadata": {
        "id": "La2mPphur18q"
      },
      "execution_count": 19,
      "outputs": []
    },
    {
      "cell_type": "code",
      "source": [
        "import sklearn.model_selection\n",
        "\n",
        "text_column, target_column, n_splits = ('description', 'jobflag', N_CV)\n",
        "\n",
        "df = pd.concat([train, test], ignore_index=True, sort=False)\n",
        "df_train = df[df[target_column].notnull()]\n",
        "df_test = df[df[target_column].isnull()]\n",
        "\n",
        "df_train_idx = df_train.index\n",
        "\n",
        "# store result\n",
        "df_pred = pd.DataFrame(df.index, columns=[\"index\"]).set_index(\"index\")\n",
        "df_emb = pd.DataFrame(df.index, columns=[\"index\"]).set_index(\"index\")\n",
        "df_emb_pred = None\n",
        "metric_list = []\n",
        "all_emb = []\n",
        "\n",
        "# cross validation\n",
        "kf = sklearn.model_selection.StratifiedKFold(n_splits=n_splits, shuffle=True, random_state=SEED)\n",
        "for i, (train_idx, test_idx) in enumerate(kf.split(df_train, df_train[target_column])):\n",
        "  df_train_sub = df_train.iloc[train_idx]\n",
        "  df_test_sub = df_train.iloc[test_idx]\n",
        "\n",
        "  df_val_test = pd.concat([df_test_sub, df_test], ignore_index=True, sort=False)\n",
        "\n",
        "  model_file_prefix = \"cv_{}\".format(i)\n",
        "\n",
        "  # train\n",
        "  metric, pred_y_list, emb_list = train_val_predict(\n",
        "      df_train=df_train_sub, \n",
        "      text_column=text_column,\n",
        "      target_column=target_column, \n",
        "      df_valid=df_test_sub,\n",
        "      df_val_test=df_val_test,\n",
        "      model_file_prefix=model_file_prefix,\n",
        "  )\n",
        "  metric_list.append(metric)\n",
        "  all_emb.append(emb_list)\n",
        "  # break"
      ],
      "metadata": {
        "colab": {
          "base_uri": "https://localhost:8080/",
          "height": 1000,
          "referenced_widgets": [
            "0aa9a19322b54485b88eb470f53dd9eb",
            "6a88ecc65fcb4b039d5b79fcd50942ff",
            "4ceb8ec2ec0b48a69471cc564f9a3908",
            "469f68bdc7b34eb6bef0077e506c0991",
            "66724f4709e94f66af11d10d08b6563c",
            "94efb3b7066144a6ac580e38128cbbf8",
            "fe6b2ef2712a4222b938982f7078f685",
            "08c5162f2fa2444f92027c71c496ef84",
            "c05b4e3a41214939a7b6449653e984eb",
            "e135326ca4d44ff9a8803de5b6d28c37",
            "7b773b4a176343d78fe1e427c20e358f",
            "ade0c3f06071405e8a5aacab08c465f4",
            "262f7e0d5a6a4e93bccd3ee2227d8fb7",
            "06d853c88cf24ca2be13c3072a36ddd2",
            "4667e832ee394ae7b6494e7ad4c0151c",
            "5ef61cfd91654cbab4b996cd8ebb50c4",
            "5e9d0256d1bb4f28a1f64b4e2e401799",
            "492d40a3c6b64343b86b5502e76e9803",
            "ac28ded6bf0943f0b2f0336d964acc7f",
            "f2579074a6dd4dd99e24f8231ec79839",
            "c1488c81b93d4c0d9b2de540f43322ca",
            "d680746d8f9e47068da943c0c3297363",
            "ce7c49ffeb604aa494c6568b01b9b235",
            "7ecea715caa441be9c27145eb84d7c68",
            "8fbfbc26ffdf454abab30159ce5f469f",
            "92ea5e1dac4449c8945252dd93d12323",
            "dea93188f54344b29aa8c1b792a5e82a",
            "1903fa463bdb4ea9bb5c7bfa6b6754d1",
            "978b1f308a5a4a53afb65ef84ba7c41b",
            "1051f688d9484e88bed7fa61830ae8ed",
            "8089db5b69c6499c9d2e683a94ddb1bc",
            "69f9d4e8d18f4bb9a12e10bcd9a8936e",
            "0fc4f78151f94fb090eb2faffb8fe9a9"
          ]
        },
        "id": "QB2vixNEo7_B",
        "outputId": "f7c23a04-f7a7-48f8-cb32-26ba2d9b83bb"
      },
      "execution_count": 11,
      "outputs": [
        {
          "output_type": "display_data",
          "data": {
            "text/plain": [
              "Downloading:   0%|          | 0.00/385 [00:00<?, ?B/s]"
            ],
            "application/vnd.jupyter.widget-view+json": {
              "version_major": 2,
              "version_minor": 0,
              "model_id": "0aa9a19322b54485b88eb470f53dd9eb"
            }
          },
          "metadata": {}
        },
        {
          "output_type": "display_data",
          "data": {
            "text/plain": [
              "Downloading:   0%|          | 0.00/442M [00:00<?, ?B/s]"
            ],
            "application/vnd.jupyter.widget-view+json": {
              "version_major": 2,
              "version_minor": 0,
              "model_id": "ade0c3f06071405e8a5aacab08c465f4"
            }
          },
          "metadata": {}
        },
        {
          "output_type": "stream",
          "name": "stderr",
          "text": [
            "WARNING:transformers.modeling_utils:Some weights of the model checkpoint at allenai/scibert_scivocab_uncased were not used when initializing BertForSequenceClassification: ['cls.predictions.bias', 'cls.predictions.transform.dense.weight', 'cls.predictions.transform.dense.bias', 'cls.predictions.transform.LayerNorm.weight', 'cls.predictions.transform.LayerNorm.bias', 'cls.predictions.decoder.weight', 'cls.predictions.decoder.bias', 'cls.seq_relationship.weight', 'cls.seq_relationship.bias']\n",
            "- This IS expected if you are initializing BertForSequenceClassification from the checkpoint of a model trained on another task or with another architecture (e.g. initializing a BertForSequenceClassification model from a BertForPretraining model).\n",
            "- This IS NOT expected if you are initializing BertForSequenceClassification from the checkpoint of a model that you expect to be exactly identical (initializing a BertForSequenceClassification model from a BertForSequenceClassification model).\n",
            "WARNING:transformers.modeling_utils:Some weights of BertForSequenceClassification were not initialized from the model checkpoint at allenai/scibert_scivocab_uncased and are newly initialized: ['classifier.weight', 'classifier.bias']\n",
            "You should probably TRAIN this model on a down-stream task to be able to use it for predictions and inference.\n"
          ]
        },
        {
          "output_type": "display_data",
          "data": {
            "text/plain": [
              "Downloading:   0%|          | 0.00/228k [00:00<?, ?B/s]"
            ],
            "application/vnd.jupyter.widget-view+json": {
              "version_major": 2,
              "version_minor": 0,
              "model_id": "ce7c49ffeb604aa494c6568b01b9b235"
            }
          },
          "metadata": {}
        },
        {
          "output_type": "stream",
          "name": "stdout",
          "text": [
            "\n",
            "================  start train  ================\n"
          ]
        },
        {
          "output_type": "stream",
          "name": "stderr",
          "text": [
            "WARNING:transformers.modeling_utils:Some weights of the model checkpoint at allenai/scibert_scivocab_uncased were not used when initializing BertForSequenceClassification: ['cls.predictions.bias', 'cls.predictions.transform.dense.weight', 'cls.predictions.transform.dense.bias', 'cls.predictions.transform.LayerNorm.weight', 'cls.predictions.transform.LayerNorm.bias', 'cls.predictions.decoder.weight', 'cls.predictions.decoder.bias', 'cls.seq_relationship.weight', 'cls.seq_relationship.bias']\n",
            "- This IS expected if you are initializing BertForSequenceClassification from the checkpoint of a model trained on another task or with another architecture (e.g. initializing a BertForSequenceClassification model from a BertForPretraining model).\n",
            "- This IS NOT expected if you are initializing BertForSequenceClassification from the checkpoint of a model that you expect to be exactly identical (initializing a BertForSequenceClassification model from a BertForSequenceClassification model).\n",
            "WARNING:transformers.modeling_utils:Some weights of BertForSequenceClassification were not initialized from the model checkpoint at allenai/scibert_scivocab_uncased and are newly initialized: ['classifier.weight', 'classifier.bias']\n",
            "You should probably TRAIN this model on a down-stream task to be able to use it for predictions and inference.\n"
          ]
        },
        {
          "output_type": "stream",
          "name": "stdout",
          "text": [
            "\n",
            "epoch: 1\n"
          ]
        },
        {
          "output_type": "stream",
          "name": "stderr",
          "text": [
            "train: 100%|██████████| 75/75 [00:51<00:00,  1.45it/s, f1=0.394, loss=1.08]\n",
            "valid: 100%|██████████| 19/19 [00:04<00:00,  4.31it/s, f1=0.531, loss=0.815]\n"
          ]
        },
        {
          "output_type": "stream",
          "name": "stdout",
          "text": [
            "==== model saved ====\n",
            "\n",
            "epoch: 2\n"
          ]
        },
        {
          "output_type": "stream",
          "name": "stderr",
          "text": [
            "train: 100%|██████████| 75/75 [00:49<00:00,  1.51it/s, f1=0.519, loss=0.708]\n",
            "valid: 100%|██████████| 19/19 [00:04<00:00,  4.33it/s, f1=0.591, loss=0.745]\n"
          ]
        },
        {
          "output_type": "stream",
          "name": "stdout",
          "text": [
            "==== model saved ====\n",
            "\n",
            "epoch: 3\n"
          ]
        },
        {
          "output_type": "stream",
          "name": "stderr",
          "text": [
            "train: 100%|██████████| 75/75 [00:49<00:00,  1.50it/s, f1=0.588, loss=0.553]\n",
            "valid: 100%|██████████| 19/19 [00:04<00:00,  4.31it/s, f1=0.61, loss=0.705]\n"
          ]
        },
        {
          "output_type": "stream",
          "name": "stdout",
          "text": [
            "==== model saved ====\n",
            "\n",
            "epoch: 4\n"
          ]
        },
        {
          "output_type": "stream",
          "name": "stderr",
          "text": [
            "train: 100%|██████████| 75/75 [00:49<00:00,  1.50it/s, f1=0.651, loss=0.38]\n",
            "valid: 100%|██████████| 19/19 [00:04<00:00,  4.28it/s, f1=0.683, loss=0.665]\n"
          ]
        },
        {
          "output_type": "stream",
          "name": "stdout",
          "text": [
            "==== model saved ====\n",
            "\n",
            "epoch: 5\n"
          ]
        },
        {
          "output_type": "stream",
          "name": "stderr",
          "text": [
            "train: 100%|██████████| 75/75 [00:49<00:00,  1.50it/s, f1=0.706, loss=0.247]\n",
            "valid: 100%|██████████| 19/19 [00:04<00:00,  4.30it/s, f1=0.695, loss=0.717]\n"
          ]
        },
        {
          "output_type": "stream",
          "name": "stdout",
          "text": [
            "==== model saved ====\n",
            "\n",
            "epoch: 6\n"
          ]
        },
        {
          "output_type": "stream",
          "name": "stderr",
          "text": [
            "train: 100%|██████████| 75/75 [00:49<00:00,  1.50it/s, f1=0.747, loss=0.145]\n",
            "valid: 100%|██████████| 19/19 [00:04<00:00,  4.25it/s, f1=0.599, loss=0.988]\n"
          ]
        },
        {
          "output_type": "stream",
          "name": "stdout",
          "text": [
            "\n",
            "epoch: 7\n"
          ]
        },
        {
          "output_type": "stream",
          "name": "stderr",
          "text": [
            "train: 100%|██████████| 75/75 [00:49<00:00,  1.50it/s, f1=0.778, loss=0.143]\n",
            "valid: 100%|██████████| 19/19 [00:04<00:00,  4.32it/s, f1=0.629, loss=0.932]\n"
          ]
        },
        {
          "output_type": "stream",
          "name": "stdout",
          "text": [
            "\n",
            "epoch: 8\n"
          ]
        },
        {
          "output_type": "stream",
          "name": "stderr",
          "text": [
            "train: 100%|██████████| 75/75 [00:49<00:00,  1.50it/s, f1=0.805, loss=0.0753]\n",
            "valid: 100%|██████████| 19/19 [00:04<00:00,  4.32it/s, f1=0.636, loss=0.988]\n"
          ]
        },
        {
          "output_type": "stream",
          "name": "stdout",
          "text": [
            "\n",
            "epoch: 9\n"
          ]
        },
        {
          "output_type": "stream",
          "name": "stderr",
          "text": [
            "train: 100%|██████████| 75/75 [00:50<00:00,  1.49it/s, f1=0.827, loss=0.0428]\n",
            "valid: 100%|██████████| 19/19 [00:04<00:00,  4.32it/s, f1=0.631, loss=1.09]\n"
          ]
        },
        {
          "output_type": "stream",
          "name": "stdout",
          "text": [
            "\n",
            "epoch: 10\n"
          ]
        },
        {
          "output_type": "stream",
          "name": "stderr",
          "text": [
            "train: 100%|██████████| 75/75 [00:50<00:00,  1.49it/s, f1=0.845, loss=0.0214]\n",
            "valid: 100%|██████████| 19/19 [00:04<00:00,  4.33it/s, f1=0.653, loss=1.24]\n"
          ]
        },
        {
          "output_type": "stream",
          "name": "stdout",
          "text": [
            "================  end train  ================\n",
            "\n"
          ]
        },
        {
          "output_type": "stream",
          "name": "stderr",
          "text": [
            "test: 100%|██████████| 114/114 [00:26<00:00,  4.36it/s]\n",
            "WARNING:transformers.modeling_utils:Some weights of the model checkpoint at allenai/scibert_scivocab_uncased were not used when initializing BertForSequenceClassification: ['cls.predictions.bias', 'cls.predictions.transform.dense.weight', 'cls.predictions.transform.dense.bias', 'cls.predictions.transform.LayerNorm.weight', 'cls.predictions.transform.LayerNorm.bias', 'cls.predictions.decoder.weight', 'cls.predictions.decoder.bias', 'cls.seq_relationship.weight', 'cls.seq_relationship.bias']\n",
            "- This IS expected if you are initializing BertForSequenceClassification from the checkpoint of a model trained on another task or with another architecture (e.g. initializing a BertForSequenceClassification model from a BertForPretraining model).\n",
            "- This IS NOT expected if you are initializing BertForSequenceClassification from the checkpoint of a model that you expect to be exactly identical (initializing a BertForSequenceClassification model from a BertForSequenceClassification model).\n",
            "WARNING:transformers.modeling_utils:Some weights of BertForSequenceClassification were not initialized from the model checkpoint at allenai/scibert_scivocab_uncased and are newly initialized: ['classifier.weight', 'classifier.bias']\n",
            "You should probably TRAIN this model on a down-stream task to be able to use it for predictions and inference.\n"
          ]
        },
        {
          "output_type": "stream",
          "name": "stdout",
          "text": [
            "\n",
            "================  start train  ================\n"
          ]
        },
        {
          "output_type": "stream",
          "name": "stderr",
          "text": [
            "WARNING:transformers.modeling_utils:Some weights of the model checkpoint at allenai/scibert_scivocab_uncased were not used when initializing BertForSequenceClassification: ['cls.predictions.bias', 'cls.predictions.transform.dense.weight', 'cls.predictions.transform.dense.bias', 'cls.predictions.transform.LayerNorm.weight', 'cls.predictions.transform.LayerNorm.bias', 'cls.predictions.decoder.weight', 'cls.predictions.decoder.bias', 'cls.seq_relationship.weight', 'cls.seq_relationship.bias']\n",
            "- This IS expected if you are initializing BertForSequenceClassification from the checkpoint of a model trained on another task or with another architecture (e.g. initializing a BertForSequenceClassification model from a BertForPretraining model).\n",
            "- This IS NOT expected if you are initializing BertForSequenceClassification from the checkpoint of a model that you expect to be exactly identical (initializing a BertForSequenceClassification model from a BertForSequenceClassification model).\n",
            "WARNING:transformers.modeling_utils:Some weights of BertForSequenceClassification were not initialized from the model checkpoint at allenai/scibert_scivocab_uncased and are newly initialized: ['classifier.weight', 'classifier.bias']\n",
            "You should probably TRAIN this model on a down-stream task to be able to use it for predictions and inference.\n"
          ]
        },
        {
          "output_type": "stream",
          "name": "stdout",
          "text": [
            "\n",
            "epoch: 1\n"
          ]
        },
        {
          "output_type": "stream",
          "name": "stderr",
          "text": [
            "train: 100%|██████████| 75/75 [00:49<00:00,  1.52it/s, f1=0.447, loss=1]\n",
            "valid: 100%|██████████| 19/19 [00:04<00:00,  4.33it/s, f1=0.548, loss=0.733]\n"
          ]
        },
        {
          "output_type": "stream",
          "name": "stdout",
          "text": [
            "==== model saved ====\n",
            "\n",
            "epoch: 2\n"
          ]
        },
        {
          "output_type": "stream",
          "name": "stderr",
          "text": [
            "train: 100%|██████████| 75/75 [00:49<00:00,  1.51it/s, f1=0.523, loss=0.664]\n",
            "valid: 100%|██████████| 19/19 [00:04<00:00,  4.32it/s, f1=0.621, loss=0.696]\n"
          ]
        },
        {
          "output_type": "stream",
          "name": "stdout",
          "text": [
            "==== model saved ====\n",
            "\n",
            "epoch: 3\n"
          ]
        },
        {
          "output_type": "stream",
          "name": "stderr",
          "text": [
            "train: 100%|██████████| 75/75 [00:49<00:00,  1.51it/s, f1=0.611, loss=0.422]\n",
            "valid: 100%|██████████| 19/19 [00:04<00:00,  4.32it/s, f1=0.689, loss=0.683]\n"
          ]
        },
        {
          "output_type": "stream",
          "name": "stdout",
          "text": [
            "==== model saved ====\n",
            "\n",
            "epoch: 4\n"
          ]
        },
        {
          "output_type": "stream",
          "name": "stderr",
          "text": [
            "train: 100%|██████████| 75/75 [00:49<00:00,  1.50it/s, f1=0.684, loss=0.296]\n",
            "valid: 100%|██████████| 19/19 [00:04<00:00,  4.29it/s, f1=0.724, loss=0.766]\n"
          ]
        },
        {
          "output_type": "stream",
          "name": "stdout",
          "text": [
            "==== model saved ====\n",
            "\n",
            "epoch: 5\n"
          ]
        },
        {
          "output_type": "stream",
          "name": "stderr",
          "text": [
            "train: 100%|██████████| 75/75 [00:49<00:00,  1.51it/s, f1=0.736, loss=0.173]\n",
            "valid: 100%|██████████| 19/19 [00:04<00:00,  4.33it/s, f1=0.703, loss=0.778]\n"
          ]
        },
        {
          "output_type": "stream",
          "name": "stdout",
          "text": [
            "\n",
            "epoch: 6\n"
          ]
        },
        {
          "output_type": "stream",
          "name": "stderr",
          "text": [
            "train: 100%|██████████| 75/75 [00:49<00:00,  1.50it/s, f1=0.781, loss=0.0858]\n",
            "valid: 100%|██████████| 19/19 [00:04<00:00,  4.32it/s, f1=0.686, loss=1.02]\n"
          ]
        },
        {
          "output_type": "stream",
          "name": "stdout",
          "text": [
            "\n",
            "epoch: 7\n"
          ]
        },
        {
          "output_type": "stream",
          "name": "stderr",
          "text": [
            "train: 100%|██████████| 75/75 [00:50<00:00,  1.50it/s, f1=0.811, loss=0.0583]\n",
            "valid: 100%|██████████| 19/19 [00:04<00:00,  4.33it/s, f1=0.655, loss=1.02]\n"
          ]
        },
        {
          "output_type": "stream",
          "name": "stdout",
          "text": [
            "\n",
            "epoch: 8\n"
          ]
        },
        {
          "output_type": "stream",
          "name": "stderr",
          "text": [
            "train: 100%|██████████| 75/75 [00:50<00:00,  1.50it/s, f1=0.835, loss=0.05]\n",
            "valid: 100%|██████████| 19/19 [00:04<00:00,  4.33it/s, f1=0.585, loss=1.17]\n"
          ]
        },
        {
          "output_type": "stream",
          "name": "stdout",
          "text": [
            "\n",
            "epoch: 9\n"
          ]
        },
        {
          "output_type": "stream",
          "name": "stderr",
          "text": [
            "train: 100%|██████████| 75/75 [00:50<00:00,  1.49it/s, f1=0.853, loss=0.0341]\n",
            "valid: 100%|██████████| 19/19 [00:04<00:00,  4.34it/s, f1=0.696, loss=1.12]\n"
          ]
        },
        {
          "output_type": "stream",
          "name": "stdout",
          "text": [
            "\n",
            "epoch: 10\n"
          ]
        },
        {
          "output_type": "stream",
          "name": "stderr",
          "text": [
            "train: 100%|██████████| 75/75 [00:50<00:00,  1.49it/s, f1=0.866, loss=0.043]\n",
            "valid: 100%|██████████| 19/19 [00:04<00:00,  4.32it/s, f1=0.65, loss=1.26]\n"
          ]
        },
        {
          "output_type": "stream",
          "name": "stdout",
          "text": [
            "================  end train  ================\n",
            "\n"
          ]
        },
        {
          "output_type": "stream",
          "name": "stderr",
          "text": [
            "test: 100%|██████████| 114/114 [00:26<00:00,  4.36it/s]\n",
            "WARNING:transformers.modeling_utils:Some weights of the model checkpoint at allenai/scibert_scivocab_uncased were not used when initializing BertForSequenceClassification: ['cls.predictions.bias', 'cls.predictions.transform.dense.weight', 'cls.predictions.transform.dense.bias', 'cls.predictions.transform.LayerNorm.weight', 'cls.predictions.transform.LayerNorm.bias', 'cls.predictions.decoder.weight', 'cls.predictions.decoder.bias', 'cls.seq_relationship.weight', 'cls.seq_relationship.bias']\n",
            "- This IS expected if you are initializing BertForSequenceClassification from the checkpoint of a model trained on another task or with another architecture (e.g. initializing a BertForSequenceClassification model from a BertForPretraining model).\n",
            "- This IS NOT expected if you are initializing BertForSequenceClassification from the checkpoint of a model that you expect to be exactly identical (initializing a BertForSequenceClassification model from a BertForSequenceClassification model).\n",
            "WARNING:transformers.modeling_utils:Some weights of BertForSequenceClassification were not initialized from the model checkpoint at allenai/scibert_scivocab_uncased and are newly initialized: ['classifier.weight', 'classifier.bias']\n",
            "You should probably TRAIN this model on a down-stream task to be able to use it for predictions and inference.\n"
          ]
        },
        {
          "output_type": "stream",
          "name": "stdout",
          "text": [
            "\n",
            "================  start train  ================\n"
          ]
        },
        {
          "output_type": "stream",
          "name": "stderr",
          "text": [
            "WARNING:transformers.modeling_utils:Some weights of the model checkpoint at allenai/scibert_scivocab_uncased were not used when initializing BertForSequenceClassification: ['cls.predictions.bias', 'cls.predictions.transform.dense.weight', 'cls.predictions.transform.dense.bias', 'cls.predictions.transform.LayerNorm.weight', 'cls.predictions.transform.LayerNorm.bias', 'cls.predictions.decoder.weight', 'cls.predictions.decoder.bias', 'cls.seq_relationship.weight', 'cls.seq_relationship.bias']\n",
            "- This IS expected if you are initializing BertForSequenceClassification from the checkpoint of a model trained on another task or with another architecture (e.g. initializing a BertForSequenceClassification model from a BertForPretraining model).\n",
            "- This IS NOT expected if you are initializing BertForSequenceClassification from the checkpoint of a model that you expect to be exactly identical (initializing a BertForSequenceClassification model from a BertForSequenceClassification model).\n",
            "WARNING:transformers.modeling_utils:Some weights of BertForSequenceClassification were not initialized from the model checkpoint at allenai/scibert_scivocab_uncased and are newly initialized: ['classifier.weight', 'classifier.bias']\n",
            "You should probably TRAIN this model on a down-stream task to be able to use it for predictions and inference.\n"
          ]
        },
        {
          "output_type": "stream",
          "name": "stdout",
          "text": [
            "\n",
            "epoch: 1\n"
          ]
        },
        {
          "output_type": "stream",
          "name": "stderr",
          "text": [
            "train: 100%|██████████| 75/75 [00:49<00:00,  1.52it/s, f1=0.427, loss=1.04]\n",
            "valid: 100%|██████████| 19/19 [00:04<00:00,  4.34it/s, f1=0.543, loss=0.78]\n"
          ]
        },
        {
          "output_type": "stream",
          "name": "stdout",
          "text": [
            "==== model saved ====\n",
            "\n",
            "epoch: 2\n"
          ]
        },
        {
          "output_type": "stream",
          "name": "stderr",
          "text": [
            "train: 100%|██████████| 75/75 [00:49<00:00,  1.51it/s, f1=0.506, loss=0.704]\n",
            "valid: 100%|██████████| 19/19 [00:04<00:00,  4.19it/s, f1=0.646, loss=0.653]\n"
          ]
        },
        {
          "output_type": "stream",
          "name": "stdout",
          "text": [
            "==== model saved ====\n",
            "\n",
            "epoch: 3\n"
          ]
        },
        {
          "output_type": "stream",
          "name": "stderr",
          "text": [
            "train: 100%|██████████| 75/75 [00:49<00:00,  1.51it/s, f1=0.595, loss=0.467]\n",
            "valid: 100%|██████████| 19/19 [00:04<00:00,  4.35it/s, f1=0.692, loss=0.651]\n"
          ]
        },
        {
          "output_type": "stream",
          "name": "stdout",
          "text": [
            "==== model saved ====\n",
            "\n",
            "epoch: 4\n"
          ]
        },
        {
          "output_type": "stream",
          "name": "stderr",
          "text": [
            "train: 100%|██████████| 75/75 [00:49<00:00,  1.51it/s, f1=0.666, loss=0.293]\n",
            "valid: 100%|██████████| 19/19 [00:04<00:00,  4.35it/s, f1=0.682, loss=0.7]\n"
          ]
        },
        {
          "output_type": "stream",
          "name": "stdout",
          "text": [
            "\n",
            "epoch: 5\n"
          ]
        },
        {
          "output_type": "stream",
          "name": "stderr",
          "text": [
            "train: 100%|██████████| 75/75 [00:49<00:00,  1.50it/s, f1=0.729, loss=0.155]\n",
            "valid: 100%|██████████| 19/19 [00:04<00:00,  4.36it/s, f1=0.661, loss=0.845]\n"
          ]
        },
        {
          "output_type": "stream",
          "name": "stdout",
          "text": [
            "\n",
            "epoch: 6\n"
          ]
        },
        {
          "output_type": "stream",
          "name": "stderr",
          "text": [
            "train: 100%|██████████| 75/75 [00:49<00:00,  1.51it/s, f1=0.77, loss=0.125]\n",
            "valid: 100%|██████████| 19/19 [00:04<00:00,  4.33it/s, f1=0.702, loss=0.769]\n"
          ]
        },
        {
          "output_type": "stream",
          "name": "stdout",
          "text": [
            "==== model saved ====\n",
            "\n",
            "epoch: 7\n"
          ]
        },
        {
          "output_type": "stream",
          "name": "stderr",
          "text": [
            "train: 100%|██████████| 75/75 [00:50<00:00,  1.49it/s, f1=0.803, loss=0.0627]\n",
            "valid: 100%|██████████| 19/19 [00:04<00:00,  4.35it/s, f1=0.687, loss=0.935]\n"
          ]
        },
        {
          "output_type": "stream",
          "name": "stdout",
          "text": [
            "\n",
            "epoch: 8\n"
          ]
        },
        {
          "output_type": "stream",
          "name": "stderr",
          "text": [
            "train: 100%|██████████| 75/75 [00:50<00:00,  1.50it/s, f1=0.829, loss=0.043]\n",
            "valid: 100%|██████████| 19/19 [00:04<00:00,  4.33it/s, f1=0.681, loss=1.03]\n"
          ]
        },
        {
          "output_type": "stream",
          "name": "stdout",
          "text": [
            "\n",
            "epoch: 9\n"
          ]
        },
        {
          "output_type": "stream",
          "name": "stderr",
          "text": [
            "train: 100%|██████████| 75/75 [00:50<00:00,  1.49it/s, f1=0.848, loss=0.0533]\n",
            "valid: 100%|██████████| 19/19 [00:04<00:00,  4.35it/s, f1=0.666, loss=1]\n"
          ]
        },
        {
          "output_type": "stream",
          "name": "stdout",
          "text": [
            "\n",
            "epoch: 10\n"
          ]
        },
        {
          "output_type": "stream",
          "name": "stderr",
          "text": [
            "train: 100%|██████████| 75/75 [00:50<00:00,  1.49it/s, f1=0.863, loss=0.0224]\n",
            "valid: 100%|██████████| 19/19 [00:04<00:00,  4.35it/s, f1=0.688, loss=1.03]\n"
          ]
        },
        {
          "output_type": "stream",
          "name": "stdout",
          "text": [
            "================  end train  ================\n",
            "\n"
          ]
        },
        {
          "output_type": "stream",
          "name": "stderr",
          "text": [
            "test: 100%|██████████| 114/114 [00:25<00:00,  4.40it/s]\n",
            "WARNING:transformers.modeling_utils:Some weights of the model checkpoint at allenai/scibert_scivocab_uncased were not used when initializing BertForSequenceClassification: ['cls.predictions.bias', 'cls.predictions.transform.dense.weight', 'cls.predictions.transform.dense.bias', 'cls.predictions.transform.LayerNorm.weight', 'cls.predictions.transform.LayerNorm.bias', 'cls.predictions.decoder.weight', 'cls.predictions.decoder.bias', 'cls.seq_relationship.weight', 'cls.seq_relationship.bias']\n",
            "- This IS expected if you are initializing BertForSequenceClassification from the checkpoint of a model trained on another task or with another architecture (e.g. initializing a BertForSequenceClassification model from a BertForPretraining model).\n",
            "- This IS NOT expected if you are initializing BertForSequenceClassification from the checkpoint of a model that you expect to be exactly identical (initializing a BertForSequenceClassification model from a BertForSequenceClassification model).\n",
            "WARNING:transformers.modeling_utils:Some weights of BertForSequenceClassification were not initialized from the model checkpoint at allenai/scibert_scivocab_uncased and are newly initialized: ['classifier.weight', 'classifier.bias']\n",
            "You should probably TRAIN this model on a down-stream task to be able to use it for predictions and inference.\n"
          ]
        },
        {
          "output_type": "stream",
          "name": "stdout",
          "text": [
            "\n",
            "================  start train  ================\n"
          ]
        },
        {
          "output_type": "stream",
          "name": "stderr",
          "text": [
            "WARNING:transformers.modeling_utils:Some weights of the model checkpoint at allenai/scibert_scivocab_uncased were not used when initializing BertForSequenceClassification: ['cls.predictions.bias', 'cls.predictions.transform.dense.weight', 'cls.predictions.transform.dense.bias', 'cls.predictions.transform.LayerNorm.weight', 'cls.predictions.transform.LayerNorm.bias', 'cls.predictions.decoder.weight', 'cls.predictions.decoder.bias', 'cls.seq_relationship.weight', 'cls.seq_relationship.bias']\n",
            "- This IS expected if you are initializing BertForSequenceClassification from the checkpoint of a model trained on another task or with another architecture (e.g. initializing a BertForSequenceClassification model from a BertForPretraining model).\n",
            "- This IS NOT expected if you are initializing BertForSequenceClassification from the checkpoint of a model that you expect to be exactly identical (initializing a BertForSequenceClassification model from a BertForSequenceClassification model).\n",
            "WARNING:transformers.modeling_utils:Some weights of BertForSequenceClassification were not initialized from the model checkpoint at allenai/scibert_scivocab_uncased and are newly initialized: ['classifier.weight', 'classifier.bias']\n",
            "You should probably TRAIN this model on a down-stream task to be able to use it for predictions and inference.\n"
          ]
        },
        {
          "output_type": "stream",
          "name": "stdout",
          "text": [
            "\n",
            "epoch: 1\n"
          ]
        },
        {
          "output_type": "stream",
          "name": "stderr",
          "text": [
            "train: 100%|██████████| 75/75 [00:49<00:00,  1.52it/s, f1=0.448, loss=0.977]\n",
            "valid: 100%|██████████| 19/19 [00:04<00:00,  4.37it/s, f1=0.519, loss=0.817]\n"
          ]
        },
        {
          "output_type": "stream",
          "name": "stdout",
          "text": [
            "==== model saved ====\n",
            "\n",
            "epoch: 2\n"
          ]
        },
        {
          "output_type": "stream",
          "name": "stderr",
          "text": [
            "train: 100%|██████████| 75/75 [00:49<00:00,  1.51it/s, f1=0.543, loss=0.657]\n",
            "valid: 100%|██████████| 19/19 [00:04<00:00,  4.36it/s, f1=0.632, loss=0.711]\n"
          ]
        },
        {
          "output_type": "stream",
          "name": "stdout",
          "text": [
            "==== model saved ====\n",
            "\n",
            "epoch: 3\n"
          ]
        },
        {
          "output_type": "stream",
          "name": "stderr",
          "text": [
            "train: 100%|██████████| 75/75 [00:49<00:00,  1.50it/s, f1=0.625, loss=0.462]\n",
            "valid: 100%|██████████| 19/19 [00:04<00:00,  4.37it/s, f1=0.64, loss=0.664]\n"
          ]
        },
        {
          "output_type": "stream",
          "name": "stdout",
          "text": [
            "==== model saved ====\n",
            "\n",
            "epoch: 4\n"
          ]
        },
        {
          "output_type": "stream",
          "name": "stderr",
          "text": [
            "train: 100%|██████████| 75/75 [00:49<00:00,  1.51it/s, f1=0.698, loss=0.299]\n",
            "valid: 100%|██████████| 19/19 [00:04<00:00,  4.37it/s, f1=0.659, loss=0.701]\n"
          ]
        },
        {
          "output_type": "stream",
          "name": "stdout",
          "text": [
            "==== model saved ====\n",
            "\n",
            "epoch: 5\n"
          ]
        },
        {
          "output_type": "stream",
          "name": "stderr",
          "text": [
            "train: 100%|██████████| 75/75 [00:50<00:00,  1.50it/s, f1=0.745, loss=0.199]\n",
            "valid: 100%|██████████| 19/19 [00:04<00:00,  4.35it/s, f1=0.63, loss=0.837]\n"
          ]
        },
        {
          "output_type": "stream",
          "name": "stdout",
          "text": [
            "\n",
            "epoch: 6\n"
          ]
        },
        {
          "output_type": "stream",
          "name": "stderr",
          "text": [
            "train: 100%|██████████| 75/75 [00:49<00:00,  1.51it/s, f1=0.785, loss=0.102]\n",
            "valid: 100%|██████████| 19/19 [00:04<00:00,  4.37it/s, f1=0.667, loss=0.914]\n"
          ]
        },
        {
          "output_type": "stream",
          "name": "stdout",
          "text": [
            "==== model saved ====\n",
            "\n",
            "epoch: 7\n"
          ]
        },
        {
          "output_type": "stream",
          "name": "stderr",
          "text": [
            "train: 100%|██████████| 75/75 [00:50<00:00,  1.49it/s, f1=0.813, loss=0.0928]\n",
            "valid: 100%|██████████| 19/19 [00:04<00:00,  4.36it/s, f1=0.671, loss=0.855]\n"
          ]
        },
        {
          "output_type": "stream",
          "name": "stdout",
          "text": [
            "==== model saved ====\n",
            "\n",
            "epoch: 8\n"
          ]
        },
        {
          "output_type": "stream",
          "name": "stderr",
          "text": [
            "train: 100%|██████████| 75/75 [00:50<00:00,  1.49it/s, f1=0.838, loss=0.0322]\n",
            "valid: 100%|██████████| 19/19 [00:04<00:00,  4.36it/s, f1=0.68, loss=1.02]\n"
          ]
        },
        {
          "output_type": "stream",
          "name": "stdout",
          "text": [
            "==== model saved ====\n",
            "\n",
            "epoch: 9\n"
          ]
        },
        {
          "output_type": "stream",
          "name": "stderr",
          "text": [
            "train: 100%|██████████| 75/75 [00:50<00:00,  1.49it/s, f1=0.857, loss=0.0185]\n",
            "valid: 100%|██████████| 19/19 [00:04<00:00,  4.36it/s, f1=0.669, loss=1.04]\n"
          ]
        },
        {
          "output_type": "stream",
          "name": "stdout",
          "text": [
            "\n",
            "epoch: 10\n"
          ]
        },
        {
          "output_type": "stream",
          "name": "stderr",
          "text": [
            "train: 100%|██████████| 75/75 [00:50<00:00,  1.49it/s, f1=0.872, loss=0.00812]\n",
            "valid: 100%|██████████| 19/19 [00:04<00:00,  4.36it/s, f1=0.683, loss=1.08]\n"
          ]
        },
        {
          "output_type": "stream",
          "name": "stdout",
          "text": [
            "==== model saved ====\n",
            "================  end train  ================\n",
            "\n"
          ]
        },
        {
          "output_type": "stream",
          "name": "stderr",
          "text": [
            "test: 100%|██████████| 114/114 [00:26<00:00,  4.36it/s]\n",
            "WARNING:transformers.modeling_utils:Some weights of the model checkpoint at allenai/scibert_scivocab_uncased were not used when initializing BertForSequenceClassification: ['cls.predictions.bias', 'cls.predictions.transform.dense.weight', 'cls.predictions.transform.dense.bias', 'cls.predictions.transform.LayerNorm.weight', 'cls.predictions.transform.LayerNorm.bias', 'cls.predictions.decoder.weight', 'cls.predictions.decoder.bias', 'cls.seq_relationship.weight', 'cls.seq_relationship.bias']\n",
            "- This IS expected if you are initializing BertForSequenceClassification from the checkpoint of a model trained on another task or with another architecture (e.g. initializing a BertForSequenceClassification model from a BertForPretraining model).\n",
            "- This IS NOT expected if you are initializing BertForSequenceClassification from the checkpoint of a model that you expect to be exactly identical (initializing a BertForSequenceClassification model from a BertForSequenceClassification model).\n",
            "WARNING:transformers.modeling_utils:Some weights of BertForSequenceClassification were not initialized from the model checkpoint at allenai/scibert_scivocab_uncased and are newly initialized: ['classifier.weight', 'classifier.bias']\n",
            "You should probably TRAIN this model on a down-stream task to be able to use it for predictions and inference.\n"
          ]
        },
        {
          "output_type": "stream",
          "name": "stdout",
          "text": [
            "\n",
            "================  start train  ================\n"
          ]
        },
        {
          "output_type": "stream",
          "name": "stderr",
          "text": [
            "WARNING:transformers.modeling_utils:Some weights of the model checkpoint at allenai/scibert_scivocab_uncased were not used when initializing BertForSequenceClassification: ['cls.predictions.bias', 'cls.predictions.transform.dense.weight', 'cls.predictions.transform.dense.bias', 'cls.predictions.transform.LayerNorm.weight', 'cls.predictions.transform.LayerNorm.bias', 'cls.predictions.decoder.weight', 'cls.predictions.decoder.bias', 'cls.seq_relationship.weight', 'cls.seq_relationship.bias']\n",
            "- This IS expected if you are initializing BertForSequenceClassification from the checkpoint of a model trained on another task or with another architecture (e.g. initializing a BertForSequenceClassification model from a BertForPretraining model).\n",
            "- This IS NOT expected if you are initializing BertForSequenceClassification from the checkpoint of a model that you expect to be exactly identical (initializing a BertForSequenceClassification model from a BertForSequenceClassification model).\n",
            "WARNING:transformers.modeling_utils:Some weights of BertForSequenceClassification were not initialized from the model checkpoint at allenai/scibert_scivocab_uncased and are newly initialized: ['classifier.weight', 'classifier.bias']\n",
            "You should probably TRAIN this model on a down-stream task to be able to use it for predictions and inference.\n"
          ]
        },
        {
          "output_type": "stream",
          "name": "stdout",
          "text": [
            "\n",
            "epoch: 1\n"
          ]
        },
        {
          "output_type": "stream",
          "name": "stderr",
          "text": [
            "train: 100%|██████████| 75/75 [00:49<00:00,  1.52it/s, f1=0.43, loss=1.04]\n",
            "valid: 100%|██████████| 19/19 [00:04<00:00,  4.35it/s, f1=0.534, loss=0.77]\n"
          ]
        },
        {
          "output_type": "stream",
          "name": "stdout",
          "text": [
            "==== model saved ====\n",
            "\n",
            "epoch: 2\n"
          ]
        },
        {
          "output_type": "stream",
          "name": "stderr",
          "text": [
            "train: 100%|██████████| 75/75 [00:49<00:00,  1.51it/s, f1=0.528, loss=0.635]\n",
            "valid: 100%|██████████| 19/19 [00:04<00:00,  4.35it/s, f1=0.655, loss=0.708]\n"
          ]
        },
        {
          "output_type": "stream",
          "name": "stdout",
          "text": [
            "==== model saved ====\n",
            "\n",
            "epoch: 3\n"
          ]
        },
        {
          "output_type": "stream",
          "name": "stderr",
          "text": [
            "train: 100%|██████████| 75/75 [00:49<00:00,  1.50it/s, f1=0.62, loss=0.433]\n",
            "valid: 100%|██████████| 19/19 [00:04<00:00,  4.35it/s, f1=0.662, loss=0.733]\n"
          ]
        },
        {
          "output_type": "stream",
          "name": "stdout",
          "text": [
            "==== model saved ====\n",
            "\n",
            "epoch: 4\n"
          ]
        },
        {
          "output_type": "stream",
          "name": "stderr",
          "text": [
            "train: 100%|██████████| 75/75 [00:49<00:00,  1.51it/s, f1=0.691, loss=0.249]\n",
            "valid: 100%|██████████| 19/19 [00:04<00:00,  4.34it/s, f1=0.676, loss=0.752]\n"
          ]
        },
        {
          "output_type": "stream",
          "name": "stdout",
          "text": [
            "==== model saved ====\n",
            "\n",
            "epoch: 5\n"
          ]
        },
        {
          "output_type": "stream",
          "name": "stderr",
          "text": [
            "train: 100%|██████████| 75/75 [00:49<00:00,  1.50it/s, f1=0.749, loss=0.122]\n",
            "valid: 100%|██████████| 19/19 [00:04<00:00,  4.34it/s, f1=0.681, loss=0.943]\n"
          ]
        },
        {
          "output_type": "stream",
          "name": "stdout",
          "text": [
            "==== model saved ====\n",
            "\n",
            "epoch: 6\n"
          ]
        },
        {
          "output_type": "stream",
          "name": "stderr",
          "text": [
            "train: 100%|██████████| 75/75 [00:49<00:00,  1.50it/s, f1=0.788, loss=0.0686]\n",
            "valid: 100%|██████████| 19/19 [00:04<00:00,  4.34it/s, f1=0.691, loss=1.08]\n"
          ]
        },
        {
          "output_type": "stream",
          "name": "stdout",
          "text": [
            "==== model saved ====\n",
            "\n",
            "epoch: 7\n"
          ]
        },
        {
          "output_type": "stream",
          "name": "stderr",
          "text": [
            "train: 100%|██████████| 75/75 [00:50<00:00,  1.49it/s, f1=0.818, loss=0.0787]\n",
            "valid: 100%|██████████| 19/19 [00:04<00:00,  4.35it/s, f1=0.656, loss=1.08]\n"
          ]
        },
        {
          "output_type": "stream",
          "name": "stdout",
          "text": [
            "\n",
            "epoch: 8\n"
          ]
        },
        {
          "output_type": "stream",
          "name": "stderr",
          "text": [
            "train: 100%|██████████| 75/75 [00:50<00:00,  1.50it/s, f1=0.841, loss=0.0451]\n",
            "valid: 100%|██████████| 19/19 [00:04<00:00,  4.33it/s, f1=0.673, loss=1.17]\n"
          ]
        },
        {
          "output_type": "stream",
          "name": "stdout",
          "text": [
            "\n",
            "epoch: 9\n"
          ]
        },
        {
          "output_type": "stream",
          "name": "stderr",
          "text": [
            "train: 100%|██████████| 75/75 [00:50<00:00,  1.49it/s, f1=0.859, loss=0.0317]\n",
            "valid: 100%|██████████| 19/19 [00:04<00:00,  4.33it/s, f1=0.677, loss=1.09]\n"
          ]
        },
        {
          "output_type": "stream",
          "name": "stdout",
          "text": [
            "\n",
            "epoch: 10\n"
          ]
        },
        {
          "output_type": "stream",
          "name": "stderr",
          "text": [
            "train: 100%|██████████| 75/75 [00:50<00:00,  1.49it/s, f1=0.874, loss=0.00938]\n",
            "valid: 100%|██████████| 19/19 [00:04<00:00,  4.33it/s, f1=0.661, loss=1.24]\n"
          ]
        },
        {
          "output_type": "stream",
          "name": "stdout",
          "text": [
            "================  end train  ================\n",
            "\n"
          ]
        },
        {
          "output_type": "stream",
          "name": "stderr",
          "text": [
            "test: 100%|██████████| 114/114 [00:28<00:00,  4.00it/s]\n"
          ]
        }
      ]
    },
    {
      "cell_type": "code",
      "source": [
        "all_emb_ = np.array([np.array(emb)[-len(df_test):] for emb in all_emb])"
      ],
      "metadata": {
        "id": "eK-UI_G3wzIG"
      },
      "execution_count": 12,
      "outputs": []
    },
    {
      "cell_type": "code",
      "source": [
        "all_emb_ = np.array([np.array(emb)[-len(df_test):] for emb in all_emb])\n",
        "\n",
        "mean_df = pd.DataFrame([[np.mean(arr_val) for arr_val in arr_vec] for arr_vec in np.moveaxis(all_emb_, 0, 2)])\n",
        "preds = [np.argmax(arr)+1 for arr in mean_df.to_numpy()]\n",
        "df_submit = pd.DataFrame([df_test.id.to_list(), preds]).T\n",
        "df_submit.to_csv(os.path.join(ROOT, f'{VERSION}_ensemble.csv'), index=None, header=None)"
      ],
      "metadata": {
        "id": "zHARK-Z-lvL8"
      },
      "execution_count": 13,
      "outputs": []
    },
    {
      "cell_type": "code",
      "source": [
        "f1_list = []\n",
        "for item in metric_list:\n",
        "  f1_list.append((np.max([acc for loss, acc in item])))\n",
        "print(np.mean(f1_list))"
      ],
      "metadata": {
        "id": "JVEj-oYop9as",
        "colab": {
          "base_uri": "https://localhost:8080/"
        },
        "outputId": "92833e61-e034-47b6-8ab7-30dcd00c101a"
      },
      "execution_count": 14,
      "outputs": [
        {
          "output_type": "stream",
          "name": "stdout",
          "text": [
            "0.6990081156516446\n"
          ]
        }
      ]
    },
    {
      "cell_type": "code",
      "source": [
        "df_v10 = pd.read_csv(os.path.join(ROOT, 'v10_ensemble.csv'), header=None)\n",
        "df_v27 = pd.read_csv(os.path.join(ROOT, 'v27_ensemble.csv'), header=None)\n",
        "concat = pd.concat([df_v27, df_v10])\n",
        "df_dup = concat[concat.duplicated()]"
      ],
      "metadata": {
        "id": "XhntNmcPsABf"
      },
      "execution_count": 13,
      "outputs": []
    },
    {
      "cell_type": "code",
      "source": [
        "dup_idx = df_dup[0].values - 1516\n",
        "test_suede_labeled_ = test.iloc[dup_idx]\n",
        "test_suede_labeled_['jobflag'] = df_dup[1]\n",
        "test_suede_labeled = test_suede_labeled_.drop_duplicates(subset='description')\n",
        "\n",
        "test_suede_labeled"
      ],
      "metadata": {
        "colab": {
          "base_uri": "https://localhost:8080/",
          "height": 551
        },
        "id": "R-uMMhhDsbCR",
        "outputId": "12908331-b00d-4493-de8d-dbde11f28663"
      },
      "execution_count": 14,
      "outputs": [
        {
          "output_type": "stream",
          "name": "stderr",
          "text": [
            "/usr/local/lib/python3.7/dist-packages/ipykernel_launcher.py:3: SettingWithCopyWarning: \n",
            "A value is trying to be set on a copy of a slice from a DataFrame.\n",
            "Try using .loc[row_indexer,col_indexer] = value instead\n",
            "\n",
            "See the caveats in the documentation: https://pandas.pydata.org/pandas-docs/stable/user_guide/indexing.html#returning-a-view-versus-a-copy\n",
            "  This is separate from the ipykernel package so we can avoid doing imports until\n"
          ]
        },
        {
          "output_type": "execute_result",
          "data": {
            "text/plain": [
              "        id                                        description  jobflag\n",
              "0     1516  Building decision making models proposing solu...        1\n",
              "1     1517  Educate homeowners benefits solar energy virtu...        4\n",
              "2     1518  Design develop document implement applications...        3\n",
              "3     1519  Apply advanced technical expertise skills impl...        4\n",
              "4     1520  Project manage deliver against roadmapCollabor...        3\n",
              "...    ...                                                ...      ...\n",
              "1512  3028  Manages development interface requirements int...        3\n",
              "1513  3029  Lead implementation statistical modeling capab...        1\n",
              "1514  3030  Configure Zuora fulfill casesIdentify areas co...        3\n",
              "1515  3031  Gather translate document stakeholder requirem...        4\n",
              "1516  3032  Support business intelligence environment usin...        1\n",
              "\n",
              "[1291 rows x 3 columns]"
            ],
            "text/html": [
              "\n",
              "  <div id=\"df-1e07f965-c600-46cb-ba82-a8196107ef71\">\n",
              "    <div class=\"colab-df-container\">\n",
              "      <div>\n",
              "<style scoped>\n",
              "    .dataframe tbody tr th:only-of-type {\n",
              "        vertical-align: middle;\n",
              "    }\n",
              "\n",
              "    .dataframe tbody tr th {\n",
              "        vertical-align: top;\n",
              "    }\n",
              "\n",
              "    .dataframe thead th {\n",
              "        text-align: right;\n",
              "    }\n",
              "</style>\n",
              "<table border=\"1\" class=\"dataframe\">\n",
              "  <thead>\n",
              "    <tr style=\"text-align: right;\">\n",
              "      <th></th>\n",
              "      <th>id</th>\n",
              "      <th>description</th>\n",
              "      <th>jobflag</th>\n",
              "    </tr>\n",
              "  </thead>\n",
              "  <tbody>\n",
              "    <tr>\n",
              "      <th>0</th>\n",
              "      <td>1516</td>\n",
              "      <td>Building decision making models proposing solu...</td>\n",
              "      <td>1</td>\n",
              "    </tr>\n",
              "    <tr>\n",
              "      <th>1</th>\n",
              "      <td>1517</td>\n",
              "      <td>Educate homeowners benefits solar energy virtu...</td>\n",
              "      <td>4</td>\n",
              "    </tr>\n",
              "    <tr>\n",
              "      <th>2</th>\n",
              "      <td>1518</td>\n",
              "      <td>Design develop document implement applications...</td>\n",
              "      <td>3</td>\n",
              "    </tr>\n",
              "    <tr>\n",
              "      <th>3</th>\n",
              "      <td>1519</td>\n",
              "      <td>Apply advanced technical expertise skills impl...</td>\n",
              "      <td>4</td>\n",
              "    </tr>\n",
              "    <tr>\n",
              "      <th>4</th>\n",
              "      <td>1520</td>\n",
              "      <td>Project manage deliver against roadmapCollabor...</td>\n",
              "      <td>3</td>\n",
              "    </tr>\n",
              "    <tr>\n",
              "      <th>...</th>\n",
              "      <td>...</td>\n",
              "      <td>...</td>\n",
              "      <td>...</td>\n",
              "    </tr>\n",
              "    <tr>\n",
              "      <th>1512</th>\n",
              "      <td>3028</td>\n",
              "      <td>Manages development interface requirements int...</td>\n",
              "      <td>3</td>\n",
              "    </tr>\n",
              "    <tr>\n",
              "      <th>1513</th>\n",
              "      <td>3029</td>\n",
              "      <td>Lead implementation statistical modeling capab...</td>\n",
              "      <td>1</td>\n",
              "    </tr>\n",
              "    <tr>\n",
              "      <th>1514</th>\n",
              "      <td>3030</td>\n",
              "      <td>Configure Zuora fulfill casesIdentify areas co...</td>\n",
              "      <td>3</td>\n",
              "    </tr>\n",
              "    <tr>\n",
              "      <th>1515</th>\n",
              "      <td>3031</td>\n",
              "      <td>Gather translate document stakeholder requirem...</td>\n",
              "      <td>4</td>\n",
              "    </tr>\n",
              "    <tr>\n",
              "      <th>1516</th>\n",
              "      <td>3032</td>\n",
              "      <td>Support business intelligence environment usin...</td>\n",
              "      <td>1</td>\n",
              "    </tr>\n",
              "  </tbody>\n",
              "</table>\n",
              "<p>1291 rows × 3 columns</p>\n",
              "</div>\n",
              "      <button class=\"colab-df-convert\" onclick=\"convertToInteractive('df-1e07f965-c600-46cb-ba82-a8196107ef71')\"\n",
              "              title=\"Convert this dataframe to an interactive table.\"\n",
              "              style=\"display:none;\">\n",
              "        \n",
              "  <svg xmlns=\"http://www.w3.org/2000/svg\" height=\"24px\"viewBox=\"0 0 24 24\"\n",
              "       width=\"24px\">\n",
              "    <path d=\"M0 0h24v24H0V0z\" fill=\"none\"/>\n",
              "    <path d=\"M18.56 5.44l.94 2.06.94-2.06 2.06-.94-2.06-.94-.94-2.06-.94 2.06-2.06.94zm-11 1L8.5 8.5l.94-2.06 2.06-.94-2.06-.94L8.5 2.5l-.94 2.06-2.06.94zm10 10l.94 2.06.94-2.06 2.06-.94-2.06-.94-.94-2.06-.94 2.06-2.06.94z\"/><path d=\"M17.41 7.96l-1.37-1.37c-.4-.4-.92-.59-1.43-.59-.52 0-1.04.2-1.43.59L10.3 9.45l-7.72 7.72c-.78.78-.78 2.05 0 2.83L4 21.41c.39.39.9.59 1.41.59.51 0 1.02-.2 1.41-.59l7.78-7.78 2.81-2.81c.8-.78.8-2.07 0-2.86zM5.41 20L4 18.59l7.72-7.72 1.47 1.35L5.41 20z\"/>\n",
              "  </svg>\n",
              "      </button>\n",
              "      \n",
              "  <style>\n",
              "    .colab-df-container {\n",
              "      display:flex;\n",
              "      flex-wrap:wrap;\n",
              "      gap: 12px;\n",
              "    }\n",
              "\n",
              "    .colab-df-convert {\n",
              "      background-color: #E8F0FE;\n",
              "      border: none;\n",
              "      border-radius: 50%;\n",
              "      cursor: pointer;\n",
              "      display: none;\n",
              "      fill: #1967D2;\n",
              "      height: 32px;\n",
              "      padding: 0 0 0 0;\n",
              "      width: 32px;\n",
              "    }\n",
              "\n",
              "    .colab-df-convert:hover {\n",
              "      background-color: #E2EBFA;\n",
              "      box-shadow: 0px 1px 2px rgba(60, 64, 67, 0.3), 0px 1px 3px 1px rgba(60, 64, 67, 0.15);\n",
              "      fill: #174EA6;\n",
              "    }\n",
              "\n",
              "    [theme=dark] .colab-df-convert {\n",
              "      background-color: #3B4455;\n",
              "      fill: #D2E3FC;\n",
              "    }\n",
              "\n",
              "    [theme=dark] .colab-df-convert:hover {\n",
              "      background-color: #434B5C;\n",
              "      box-shadow: 0px 1px 3px 1px rgba(0, 0, 0, 0.15);\n",
              "      filter: drop-shadow(0px 1px 2px rgba(0, 0, 0, 0.3));\n",
              "      fill: #FFFFFF;\n",
              "    }\n",
              "  </style>\n",
              "\n",
              "      <script>\n",
              "        const buttonEl =\n",
              "          document.querySelector('#df-1e07f965-c600-46cb-ba82-a8196107ef71 button.colab-df-convert');\n",
              "        buttonEl.style.display =\n",
              "          google.colab.kernel.accessAllowed ? 'block' : 'none';\n",
              "\n",
              "        async function convertToInteractive(key) {\n",
              "          const element = document.querySelector('#df-1e07f965-c600-46cb-ba82-a8196107ef71');\n",
              "          const dataTable =\n",
              "            await google.colab.kernel.invokeFunction('convertToInteractive',\n",
              "                                                     [key], {});\n",
              "          if (!dataTable) return;\n",
              "\n",
              "          const docLinkHtml = 'Like what you see? Visit the ' +\n",
              "            '<a target=\"_blank\" href=https://colab.research.google.com/notebooks/data_table.ipynb>data table notebook</a>'\n",
              "            + ' to learn more about interactive tables.';\n",
              "          element.innerHTML = '';\n",
              "          dataTable['output_type'] = 'display_data';\n",
              "          await google.colab.output.renderOutput(dataTable, element);\n",
              "          const docLink = document.createElement('div');\n",
              "          docLink.innerHTML = docLinkHtml;\n",
              "          element.appendChild(docLink);\n",
              "        }\n",
              "      </script>\n",
              "    </div>\n",
              "  </div>\n",
              "  "
            ]
          },
          "metadata": {},
          "execution_count": 14
        }
      ]
    },
    {
      "cell_type": "code",
      "source": [
        "test_remained_idx = concat.drop_duplicates(keep=False)[0].values - 1516\n",
        "test_remained = test.iloc[test_remained_idx]\n",
        "test_remained"
      ],
      "metadata": {
        "colab": {
          "base_uri": "https://localhost:8080/",
          "height": 424
        },
        "id": "jvd5lqS6yhnX",
        "outputId": "b908643a-9308-4d82-d5df-6b6ef28a3d21"
      },
      "execution_count": 15,
      "outputs": [
        {
          "output_type": "execute_result",
          "data": {
            "text/plain": [
              "        id                                        description\n",
              "6     1522  Create validate stress test algorithms that em...\n",
              "23    1539  Ensuring that algorithms generate accurate use...\n",
              "55    1571  Contribute technical leadership project still ...\n",
              "75    1591  Work with project manager product owner meet s...\n",
              "77    1593  Facilitate collaborative design sessions shape...\n",
              "...    ...                                                ...\n",
              "1474  2990  Design automated workflow process forms notifi...\n",
              "1480  2996  Build PowerPoint briefingsDraft meeting minute...\n",
              "1484  3000  Support Product owner Product Manager Support ...\n",
              "1489  3005  Decompose user requirements into logical funct...\n",
              "1510  3026  Write validate maintain programs Python Hive o...\n",
              "\n",
              "[402 rows x 2 columns]"
            ],
            "text/html": [
              "\n",
              "  <div id=\"df-fc5bc636-42e9-4110-a991-7ea791dc1284\">\n",
              "    <div class=\"colab-df-container\">\n",
              "      <div>\n",
              "<style scoped>\n",
              "    .dataframe tbody tr th:only-of-type {\n",
              "        vertical-align: middle;\n",
              "    }\n",
              "\n",
              "    .dataframe tbody tr th {\n",
              "        vertical-align: top;\n",
              "    }\n",
              "\n",
              "    .dataframe thead th {\n",
              "        text-align: right;\n",
              "    }\n",
              "</style>\n",
              "<table border=\"1\" class=\"dataframe\">\n",
              "  <thead>\n",
              "    <tr style=\"text-align: right;\">\n",
              "      <th></th>\n",
              "      <th>id</th>\n",
              "      <th>description</th>\n",
              "    </tr>\n",
              "  </thead>\n",
              "  <tbody>\n",
              "    <tr>\n",
              "      <th>6</th>\n",
              "      <td>1522</td>\n",
              "      <td>Create validate stress test algorithms that em...</td>\n",
              "    </tr>\n",
              "    <tr>\n",
              "      <th>23</th>\n",
              "      <td>1539</td>\n",
              "      <td>Ensuring that algorithms generate accurate use...</td>\n",
              "    </tr>\n",
              "    <tr>\n",
              "      <th>55</th>\n",
              "      <td>1571</td>\n",
              "      <td>Contribute technical leadership project still ...</td>\n",
              "    </tr>\n",
              "    <tr>\n",
              "      <th>75</th>\n",
              "      <td>1591</td>\n",
              "      <td>Work with project manager product owner meet s...</td>\n",
              "    </tr>\n",
              "    <tr>\n",
              "      <th>77</th>\n",
              "      <td>1593</td>\n",
              "      <td>Facilitate collaborative design sessions shape...</td>\n",
              "    </tr>\n",
              "    <tr>\n",
              "      <th>...</th>\n",
              "      <td>...</td>\n",
              "      <td>...</td>\n",
              "    </tr>\n",
              "    <tr>\n",
              "      <th>1474</th>\n",
              "      <td>2990</td>\n",
              "      <td>Design automated workflow process forms notifi...</td>\n",
              "    </tr>\n",
              "    <tr>\n",
              "      <th>1480</th>\n",
              "      <td>2996</td>\n",
              "      <td>Build PowerPoint briefingsDraft meeting minute...</td>\n",
              "    </tr>\n",
              "    <tr>\n",
              "      <th>1484</th>\n",
              "      <td>3000</td>\n",
              "      <td>Support Product owner Product Manager Support ...</td>\n",
              "    </tr>\n",
              "    <tr>\n",
              "      <th>1489</th>\n",
              "      <td>3005</td>\n",
              "      <td>Decompose user requirements into logical funct...</td>\n",
              "    </tr>\n",
              "    <tr>\n",
              "      <th>1510</th>\n",
              "      <td>3026</td>\n",
              "      <td>Write validate maintain programs Python Hive o...</td>\n",
              "    </tr>\n",
              "  </tbody>\n",
              "</table>\n",
              "<p>402 rows × 2 columns</p>\n",
              "</div>\n",
              "      <button class=\"colab-df-convert\" onclick=\"convertToInteractive('df-fc5bc636-42e9-4110-a991-7ea791dc1284')\"\n",
              "              title=\"Convert this dataframe to an interactive table.\"\n",
              "              style=\"display:none;\">\n",
              "        \n",
              "  <svg xmlns=\"http://www.w3.org/2000/svg\" height=\"24px\"viewBox=\"0 0 24 24\"\n",
              "       width=\"24px\">\n",
              "    <path d=\"M0 0h24v24H0V0z\" fill=\"none\"/>\n",
              "    <path d=\"M18.56 5.44l.94 2.06.94-2.06 2.06-.94-2.06-.94-.94-2.06-.94 2.06-2.06.94zm-11 1L8.5 8.5l.94-2.06 2.06-.94-2.06-.94L8.5 2.5l-.94 2.06-2.06.94zm10 10l.94 2.06.94-2.06 2.06-.94-2.06-.94-.94-2.06-.94 2.06-2.06.94z\"/><path d=\"M17.41 7.96l-1.37-1.37c-.4-.4-.92-.59-1.43-.59-.52 0-1.04.2-1.43.59L10.3 9.45l-7.72 7.72c-.78.78-.78 2.05 0 2.83L4 21.41c.39.39.9.59 1.41.59.51 0 1.02-.2 1.41-.59l7.78-7.78 2.81-2.81c.8-.78.8-2.07 0-2.86zM5.41 20L4 18.59l7.72-7.72 1.47 1.35L5.41 20z\"/>\n",
              "  </svg>\n",
              "      </button>\n",
              "      \n",
              "  <style>\n",
              "    .colab-df-container {\n",
              "      display:flex;\n",
              "      flex-wrap:wrap;\n",
              "      gap: 12px;\n",
              "    }\n",
              "\n",
              "    .colab-df-convert {\n",
              "      background-color: #E8F0FE;\n",
              "      border: none;\n",
              "      border-radius: 50%;\n",
              "      cursor: pointer;\n",
              "      display: none;\n",
              "      fill: #1967D2;\n",
              "      height: 32px;\n",
              "      padding: 0 0 0 0;\n",
              "      width: 32px;\n",
              "    }\n",
              "\n",
              "    .colab-df-convert:hover {\n",
              "      background-color: #E2EBFA;\n",
              "      box-shadow: 0px 1px 2px rgba(60, 64, 67, 0.3), 0px 1px 3px 1px rgba(60, 64, 67, 0.15);\n",
              "      fill: #174EA6;\n",
              "    }\n",
              "\n",
              "    [theme=dark] .colab-df-convert {\n",
              "      background-color: #3B4455;\n",
              "      fill: #D2E3FC;\n",
              "    }\n",
              "\n",
              "    [theme=dark] .colab-df-convert:hover {\n",
              "      background-color: #434B5C;\n",
              "      box-shadow: 0px 1px 3px 1px rgba(0, 0, 0, 0.15);\n",
              "      filter: drop-shadow(0px 1px 2px rgba(0, 0, 0, 0.3));\n",
              "      fill: #FFFFFF;\n",
              "    }\n",
              "  </style>\n",
              "\n",
              "      <script>\n",
              "        const buttonEl =\n",
              "          document.querySelector('#df-fc5bc636-42e9-4110-a991-7ea791dc1284 button.colab-df-convert');\n",
              "        buttonEl.style.display =\n",
              "          google.colab.kernel.accessAllowed ? 'block' : 'none';\n",
              "\n",
              "        async function convertToInteractive(key) {\n",
              "          const element = document.querySelector('#df-fc5bc636-42e9-4110-a991-7ea791dc1284');\n",
              "          const dataTable =\n",
              "            await google.colab.kernel.invokeFunction('convertToInteractive',\n",
              "                                                     [key], {});\n",
              "          if (!dataTable) return;\n",
              "\n",
              "          const docLinkHtml = 'Like what you see? Visit the ' +\n",
              "            '<a target=\"_blank\" href=https://colab.research.google.com/notebooks/data_table.ipynb>data table notebook</a>'\n",
              "            + ' to learn more about interactive tables.';\n",
              "          element.innerHTML = '';\n",
              "          dataTable['output_type'] = 'display_data';\n",
              "          await google.colab.output.renderOutput(dataTable, element);\n",
              "          const docLink = document.createElement('div');\n",
              "          docLink.innerHTML = docLinkHtml;\n",
              "          element.appendChild(docLink);\n",
              "        }\n",
              "      </script>\n",
              "    </div>\n",
              "  </div>\n",
              "  "
            ]
          },
          "metadata": {},
          "execution_count": 15
        }
      ]
    },
    {
      "cell_type": "code",
      "source": [
        "DROP_RATE = 0.1\n",
        "OUTPUT_SIZE = 4\n",
        "BATCH_SIZE = 16\n",
        "NUM_EPOCHS = 10\n",
        "LEARNING_RATE = 2e-5\n",
        "N_CV = 5\n",
        "VERSION = 'v27'\n",
        "\n",
        "text_column, target_column, n_splits = ('description', 'jobflag', N_CV)\n"
      ],
      "metadata": {
        "id": "DpTfIomU32R4"
      },
      "execution_count": 17,
      "outputs": []
    },
    {
      "cell_type": "code",
      "source": [
        "import sklearn.model_selection\n",
        "\n",
        "df = pd.concat([test_suede_labeled, test_remained], ignore_index=True, sort=False)\n",
        "df_train = df[df[target_column].notnull()]\n",
        "df_test = df[df[target_column].isnull()]\n",
        "\n",
        "df_train_idx = test_suede_labeled.index\n",
        "\n",
        "# store result\n",
        "df_pred = pd.DataFrame(df.index, columns=[\"index\"]).set_index(\"index\")\n",
        "df_emb = pd.DataFrame(df.index, columns=[\"index\"]).set_index(\"index\")\n",
        "df_emb_pred = None\n",
        "metric_list = []\n",
        "all_emb = []\n",
        "\n",
        "# cross validation\n",
        "kf = sklearn.model_selection.StratifiedKFold(n_splits=n_splits, shuffle=True, random_state=SEED)\n",
        "for i, (train_idx, test_idx) in enumerate(kf.split(df_train, df_train[target_column])):\n",
        "  df_train_sub = df_train.iloc[train_idx]\n",
        "  df_test_sub = df_train.iloc[test_idx]\n",
        "\n",
        "  df_val_test = pd.concat([df_test_sub, df_test], ignore_index=True, sort=False)\n",
        "\n",
        "  model_file_prefix = \"cv_{}\".format(i)\n",
        "  model_path = \"{}_{}.pth\".format(model_file_prefix, VERSION)\n",
        "  pretrained_model = torch.load(os.path.join(ROOT, model_path))\n",
        "\n",
        "  # train\n",
        "  metric, pred_y_list, emb_list = train_val_predict(\n",
        "      df_train=df_train_sub, \n",
        "      text_column=text_column,\n",
        "      target_column=target_column, \n",
        "      df_valid=df_test_sub,\n",
        "      df_val_test=df_val_test,\n",
        "      model_file_prefix='second_' + model_file_prefix,\n",
        "      from_pretrained = pretrained_model\n",
        "  )\n",
        "  metric_list.append(metric)\n",
        "  all_emb.append(emb_list)\n",
        "  # break"
      ],
      "metadata": {
        "colab": {
          "base_uri": "https://localhost:8080/"
        },
        "id": "Mzp4tC3ptSV2",
        "outputId": "9dc6b960-ab94-4645-a36b-4fed6b80511b"
      },
      "execution_count": 20,
      "outputs": [
        {
          "output_type": "stream",
          "name": "stdout",
          "text": [
            "=== loading model from local ===\n",
            "\n",
            "================  start train  ================\n"
          ]
        },
        {
          "output_type": "stream",
          "name": "stderr",
          "text": [
            "WARNING:transformers.modeling_utils:Some weights of the model checkpoint at allenai/scibert_scivocab_uncased were not used when initializing BertForSequenceClassification: ['cls.predictions.bias', 'cls.predictions.transform.dense.weight', 'cls.predictions.transform.dense.bias', 'cls.predictions.transform.LayerNorm.weight', 'cls.predictions.transform.LayerNorm.bias', 'cls.predictions.decoder.weight', 'cls.predictions.decoder.bias', 'cls.seq_relationship.weight', 'cls.seq_relationship.bias']\n",
            "- This IS expected if you are initializing BertForSequenceClassification from the checkpoint of a model trained on another task or with another architecture (e.g. initializing a BertForSequenceClassification model from a BertForPretraining model).\n",
            "- This IS NOT expected if you are initializing BertForSequenceClassification from the checkpoint of a model that you expect to be exactly identical (initializing a BertForSequenceClassification model from a BertForSequenceClassification model).\n",
            "WARNING:transformers.modeling_utils:Some weights of BertForSequenceClassification were not initialized from the model checkpoint at allenai/scibert_scivocab_uncased and are newly initialized: ['classifier.weight', 'classifier.bias']\n",
            "You should probably TRAIN this model on a down-stream task to be able to use it for predictions and inference.\n"
          ]
        },
        {
          "output_type": "stream",
          "name": "stdout",
          "text": [
            "\n",
            "epoch: 1\n"
          ]
        },
        {
          "output_type": "stream",
          "name": "stderr",
          "text": [
            "train: 100%|██████████| 65/65 [00:42<00:00,  1.52it/s, f1=0.534, loss=0.741]\n",
            "valid: 100%|██████████| 17/17 [00:03<00:00,  4.47it/s, f1=0.665, loss=0.369]\n"
          ]
        },
        {
          "output_type": "stream",
          "name": "stdout",
          "text": [
            "==== model saved ====\n",
            "\n",
            "epoch: 2\n"
          ]
        },
        {
          "output_type": "stream",
          "name": "stderr",
          "text": [
            "train: 100%|██████████| 65/65 [00:43<00:00,  1.51it/s, f1=0.64, loss=0.289]\n",
            "valid: 100%|██████████| 17/17 [00:03<00:00,  4.45it/s, f1=0.812, loss=0.334]\n"
          ]
        },
        {
          "output_type": "stream",
          "name": "stdout",
          "text": [
            "==== model saved ====\n",
            "\n",
            "epoch: 3\n"
          ]
        },
        {
          "output_type": "stream",
          "name": "stderr",
          "text": [
            "train: 100%|██████████| 65/65 [00:42<00:00,  1.52it/s, f1=0.743, loss=0.151]\n",
            "valid: 100%|██████████| 17/17 [00:03<00:00,  4.48it/s, f1=0.85, loss=0.32]\n"
          ]
        },
        {
          "output_type": "stream",
          "name": "stdout",
          "text": [
            "==== model saved ====\n",
            "\n",
            "epoch: 4\n"
          ]
        },
        {
          "output_type": "stream",
          "name": "stderr",
          "text": [
            "train: 100%|██████████| 65/65 [00:43<00:00,  1.51it/s, f1=0.808, loss=0.0655]\n",
            "valid: 100%|██████████| 17/17 [00:03<00:00,  4.46it/s, f1=0.845, loss=0.381]\n"
          ]
        },
        {
          "output_type": "stream",
          "name": "stdout",
          "text": [
            "\n",
            "epoch: 5\n"
          ]
        },
        {
          "output_type": "stream",
          "name": "stderr",
          "text": [
            "train: 100%|██████████| 65/65 [00:43<00:00,  1.51it/s, f1=0.848, loss=0.0363]\n",
            "valid: 100%|██████████| 17/17 [00:03<00:00,  4.46it/s, f1=0.84, loss=0.451]\n"
          ]
        },
        {
          "output_type": "stream",
          "name": "stdout",
          "text": [
            "\n",
            "epoch: 6\n"
          ]
        },
        {
          "output_type": "stream",
          "name": "stderr",
          "text": [
            "train: 100%|██████████| 65/65 [00:42<00:00,  1.51it/s, f1=0.868, loss=0.0424]\n",
            "valid: 100%|██████████| 17/17 [00:03<00:00,  4.47it/s, f1=0.854, loss=0.374]\n"
          ]
        },
        {
          "output_type": "stream",
          "name": "stdout",
          "text": [
            "==== model saved ====\n",
            "\n",
            "epoch: 7\n"
          ]
        },
        {
          "output_type": "stream",
          "name": "stderr",
          "text": [
            "train: 100%|██████████| 65/65 [00:43<00:00,  1.50it/s, f1=0.883, loss=0.0797]\n",
            "valid: 100%|██████████| 17/17 [00:03<00:00,  4.47it/s, f1=0.859, loss=0.314]\n"
          ]
        },
        {
          "output_type": "stream",
          "name": "stdout",
          "text": [
            "==== model saved ====\n",
            "\n",
            "epoch: 8\n"
          ]
        },
        {
          "output_type": "stream",
          "name": "stderr",
          "text": [
            "train: 100%|██████████| 65/65 [00:43<00:00,  1.50it/s, f1=0.896, loss=0.0291]\n",
            "valid: 100%|██████████| 17/17 [00:03<00:00,  4.47it/s, f1=0.856, loss=0.553]\n"
          ]
        },
        {
          "output_type": "stream",
          "name": "stdout",
          "text": [
            "\n",
            "epoch: 9\n"
          ]
        },
        {
          "output_type": "stream",
          "name": "stderr",
          "text": [
            "train: 100%|██████████| 65/65 [00:43<00:00,  1.50it/s, f1=0.908, loss=0.0259]\n",
            "valid: 100%|██████████| 17/17 [00:03<00:00,  4.48it/s, f1=0.895, loss=0.293]\n"
          ]
        },
        {
          "output_type": "stream",
          "name": "stdout",
          "text": [
            "==== model saved ====\n",
            "\n",
            "epoch: 10\n"
          ]
        },
        {
          "output_type": "stream",
          "name": "stderr",
          "text": [
            "train: 100%|██████████| 65/65 [00:43<00:00,  1.50it/s, f1=0.918, loss=0.0153]\n",
            "valid: 100%|██████████| 17/17 [00:03<00:00,  4.47it/s, f1=0.901, loss=0.305]\n"
          ]
        },
        {
          "output_type": "stream",
          "name": "stdout",
          "text": [
            "==== model saved ====\n",
            "================  end train  ================\n",
            "\n"
          ]
        },
        {
          "output_type": "stream",
          "name": "stderr",
          "text": [
            "test: 100%|██████████| 42/42 [00:09<00:00,  4.20it/s]\n"
          ]
        },
        {
          "output_type": "stream",
          "name": "stdout",
          "text": [
            "=== loading model from local ===\n",
            "\n",
            "================  start train  ================\n"
          ]
        },
        {
          "output_type": "stream",
          "name": "stderr",
          "text": [
            "WARNING:transformers.modeling_utils:Some weights of the model checkpoint at allenai/scibert_scivocab_uncased were not used when initializing BertForSequenceClassification: ['cls.predictions.bias', 'cls.predictions.transform.dense.weight', 'cls.predictions.transform.dense.bias', 'cls.predictions.transform.LayerNorm.weight', 'cls.predictions.transform.LayerNorm.bias', 'cls.predictions.decoder.weight', 'cls.predictions.decoder.bias', 'cls.seq_relationship.weight', 'cls.seq_relationship.bias']\n",
            "- This IS expected if you are initializing BertForSequenceClassification from the checkpoint of a model trained on another task or with another architecture (e.g. initializing a BertForSequenceClassification model from a BertForPretraining model).\n",
            "- This IS NOT expected if you are initializing BertForSequenceClassification from the checkpoint of a model that you expect to be exactly identical (initializing a BertForSequenceClassification model from a BertForSequenceClassification model).\n",
            "WARNING:transformers.modeling_utils:Some weights of BertForSequenceClassification were not initialized from the model checkpoint at allenai/scibert_scivocab_uncased and are newly initialized: ['classifier.weight', 'classifier.bias']\n",
            "You should probably TRAIN this model on a down-stream task to be able to use it for predictions and inference.\n"
          ]
        },
        {
          "output_type": "stream",
          "name": "stdout",
          "text": [
            "\n",
            "epoch: 1\n"
          ]
        },
        {
          "output_type": "stream",
          "name": "stderr",
          "text": [
            "train: 100%|██████████| 65/65 [00:43<00:00,  1.50it/s, f1=0.501, loss=0.828]\n",
            "valid: 100%|██████████| 17/17 [00:03<00:00,  4.49it/s, f1=0.645, loss=0.395]\n"
          ]
        },
        {
          "output_type": "stream",
          "name": "stdout",
          "text": [
            "==== model saved ====\n",
            "\n",
            "epoch: 2\n"
          ]
        },
        {
          "output_type": "stream",
          "name": "stderr",
          "text": [
            "train: 100%|██████████| 65/65 [00:42<00:00,  1.51it/s, f1=0.613, loss=0.365]\n",
            "valid: 100%|██████████| 17/17 [00:03<00:00,  4.49it/s, f1=0.88, loss=0.236]\n"
          ]
        },
        {
          "output_type": "stream",
          "name": "stdout",
          "text": [
            "==== model saved ====\n",
            "\n",
            "epoch: 3\n"
          ]
        },
        {
          "output_type": "stream",
          "name": "stderr",
          "text": [
            "train: 100%|██████████| 65/65 [00:43<00:00,  1.50it/s, f1=0.737, loss=0.147]\n",
            "valid: 100%|██████████| 17/17 [00:03<00:00,  4.49it/s, f1=0.812, loss=0.354]\n"
          ]
        },
        {
          "output_type": "stream",
          "name": "stdout",
          "text": [
            "\n",
            "epoch: 4\n"
          ]
        },
        {
          "output_type": "stream",
          "name": "stderr",
          "text": [
            "train: 100%|██████████| 65/65 [00:42<00:00,  1.51it/s, f1=0.805, loss=0.0671]\n",
            "valid: 100%|██████████| 17/17 [00:03<00:00,  4.43it/s, f1=0.916, loss=0.158]\n"
          ]
        },
        {
          "output_type": "stream",
          "name": "stdout",
          "text": [
            "==== model saved ====\n",
            "\n",
            "epoch: 5\n"
          ]
        },
        {
          "output_type": "stream",
          "name": "stderr",
          "text": [
            "train: 100%|██████████| 65/65 [00:43<00:00,  1.50it/s, f1=0.845, loss=0.0379]\n",
            "valid: 100%|██████████| 17/17 [00:03<00:00,  4.50it/s, f1=0.824, loss=0.243]\n"
          ]
        },
        {
          "output_type": "stream",
          "name": "stdout",
          "text": [
            "\n",
            "epoch: 6\n"
          ]
        },
        {
          "output_type": "stream",
          "name": "stderr",
          "text": [
            "train: 100%|██████████| 65/65 [00:43<00:00,  1.51it/s, f1=0.869, loss=0.0505]\n",
            "valid: 100%|██████████| 17/17 [00:03<00:00,  4.49it/s, f1=0.812, loss=0.287]\n"
          ]
        },
        {
          "output_type": "stream",
          "name": "stdout",
          "text": [
            "\n",
            "epoch: 7\n"
          ]
        },
        {
          "output_type": "stream",
          "name": "stderr",
          "text": [
            "train: 100%|██████████| 65/65 [00:43<00:00,  1.49it/s, f1=0.884, loss=0.0728]\n",
            "valid: 100%|██████████| 17/17 [00:03<00:00,  4.47it/s, f1=0.858, loss=0.182]\n"
          ]
        },
        {
          "output_type": "stream",
          "name": "stdout",
          "text": [
            "\n",
            "epoch: 8\n"
          ]
        },
        {
          "output_type": "stream",
          "name": "stderr",
          "text": [
            "train: 100%|██████████| 65/65 [00:43<00:00,  1.50it/s, f1=0.896, loss=0.0264]\n",
            "valid: 100%|██████████| 17/17 [00:03<00:00,  4.49it/s, f1=0.901, loss=0.239]\n"
          ]
        },
        {
          "output_type": "stream",
          "name": "stdout",
          "text": [
            "\n",
            "epoch: 9\n"
          ]
        },
        {
          "output_type": "stream",
          "name": "stderr",
          "text": [
            "train: 100%|██████████| 65/65 [00:43<00:00,  1.50it/s, f1=0.907, loss=0.0308]\n",
            "valid: 100%|██████████| 17/17 [00:03<00:00,  4.47it/s, f1=0.879, loss=0.162]\n"
          ]
        },
        {
          "output_type": "stream",
          "name": "stdout",
          "text": [
            "\n",
            "epoch: 10\n"
          ]
        },
        {
          "output_type": "stream",
          "name": "stderr",
          "text": [
            "train: 100%|██████████| 65/65 [00:43<00:00,  1.49it/s, f1=0.917, loss=0.0089]\n",
            "valid: 100%|██████████| 17/17 [00:03<00:00,  4.47it/s, f1=0.847, loss=0.386]\n"
          ]
        },
        {
          "output_type": "stream",
          "name": "stdout",
          "text": [
            "================  end train  ================\n",
            "\n"
          ]
        },
        {
          "output_type": "stream",
          "name": "stderr",
          "text": [
            "test: 100%|██████████| 42/42 [00:09<00:00,  4.49it/s]\n"
          ]
        },
        {
          "output_type": "stream",
          "name": "stdout",
          "text": [
            "=== loading model from local ===\n",
            "\n",
            "================  start train  ================\n"
          ]
        },
        {
          "output_type": "stream",
          "name": "stderr",
          "text": [
            "WARNING:transformers.modeling_utils:Some weights of the model checkpoint at allenai/scibert_scivocab_uncased were not used when initializing BertForSequenceClassification: ['cls.predictions.bias', 'cls.predictions.transform.dense.weight', 'cls.predictions.transform.dense.bias', 'cls.predictions.transform.LayerNorm.weight', 'cls.predictions.transform.LayerNorm.bias', 'cls.predictions.decoder.weight', 'cls.predictions.decoder.bias', 'cls.seq_relationship.weight', 'cls.seq_relationship.bias']\n",
            "- This IS expected if you are initializing BertForSequenceClassification from the checkpoint of a model trained on another task or with another architecture (e.g. initializing a BertForSequenceClassification model from a BertForPretraining model).\n",
            "- This IS NOT expected if you are initializing BertForSequenceClassification from the checkpoint of a model that you expect to be exactly identical (initializing a BertForSequenceClassification model from a BertForSequenceClassification model).\n",
            "WARNING:transformers.modeling_utils:Some weights of BertForSequenceClassification were not initialized from the model checkpoint at allenai/scibert_scivocab_uncased and are newly initialized: ['classifier.weight', 'classifier.bias']\n",
            "You should probably TRAIN this model on a down-stream task to be able to use it for predictions and inference.\n"
          ]
        },
        {
          "output_type": "stream",
          "name": "stdout",
          "text": [
            "\n",
            "epoch: 1\n"
          ]
        },
        {
          "output_type": "stream",
          "name": "stderr",
          "text": [
            "train: 100%|██████████| 65/65 [00:42<00:00,  1.52it/s, f1=0.477, loss=0.87]\n",
            "valid: 100%|██████████| 17/17 [00:03<00:00,  4.50it/s, f1=0.643, loss=0.5]\n"
          ]
        },
        {
          "output_type": "stream",
          "name": "stdout",
          "text": [
            "==== model saved ====\n",
            "\n",
            "epoch: 2\n"
          ]
        },
        {
          "output_type": "stream",
          "name": "stderr",
          "text": [
            "train: 100%|██████████| 65/65 [00:43<00:00,  1.51it/s, f1=0.597, loss=0.303]\n",
            "valid: 100%|██████████| 17/17 [00:03<00:00,  4.50it/s, f1=0.86, loss=0.265]\n"
          ]
        },
        {
          "output_type": "stream",
          "name": "stdout",
          "text": [
            "==== model saved ====\n",
            "\n",
            "epoch: 3\n"
          ]
        },
        {
          "output_type": "stream",
          "name": "stderr",
          "text": [
            "train: 100%|██████████| 65/65 [00:42<00:00,  1.51it/s, f1=0.699, loss=0.177]\n",
            "valid: 100%|██████████| 17/17 [00:03<00:00,  4.50it/s, f1=0.703, loss=0.618]\n"
          ]
        },
        {
          "output_type": "stream",
          "name": "stdout",
          "text": [
            "\n",
            "epoch: 4\n"
          ]
        },
        {
          "output_type": "stream",
          "name": "stderr",
          "text": [
            "train: 100%|██████████| 65/65 [00:42<00:00,  1.52it/s, f1=0.771, loss=0.108]\n",
            "valid: 100%|██████████| 17/17 [00:03<00:00,  4.49it/s, f1=0.818, loss=0.319]\n"
          ]
        },
        {
          "output_type": "stream",
          "name": "stdout",
          "text": [
            "\n",
            "epoch: 5\n"
          ]
        },
        {
          "output_type": "stream",
          "name": "stderr",
          "text": [
            "train: 100%|██████████| 65/65 [00:43<00:00,  1.51it/s, f1=0.815, loss=0.0512]\n",
            "valid: 100%|██████████| 17/17 [00:03<00:00,  4.51it/s, f1=0.941, loss=0.25]\n"
          ]
        },
        {
          "output_type": "stream",
          "name": "stdout",
          "text": [
            "==== model saved ====\n",
            "\n",
            "epoch: 6\n"
          ]
        },
        {
          "output_type": "stream",
          "name": "stderr",
          "text": [
            "train: 100%|██████████| 65/65 [00:43<00:00,  1.51it/s, f1=0.848, loss=0.0208]\n",
            "valid: 100%|██████████| 17/17 [00:03<00:00,  4.50it/s, f1=0.876, loss=0.299]\n"
          ]
        },
        {
          "output_type": "stream",
          "name": "stdout",
          "text": [
            "\n",
            "epoch: 7\n"
          ]
        },
        {
          "output_type": "stream",
          "name": "stderr",
          "text": [
            "train: 100%|██████████| 65/65 [00:43<00:00,  1.51it/s, f1=0.871, loss=0.0238]\n",
            "valid: 100%|██████████| 17/17 [00:03<00:00,  4.48it/s, f1=0.893, loss=0.268]\n"
          ]
        },
        {
          "output_type": "stream",
          "name": "stdout",
          "text": [
            "\n",
            "epoch: 8\n"
          ]
        },
        {
          "output_type": "stream",
          "name": "stderr",
          "text": [
            "train: 100%|██████████| 65/65 [00:43<00:00,  1.50it/s, f1=0.888, loss=0.00906]\n",
            "valid: 100%|██████████| 17/17 [00:03<00:00,  4.51it/s, f1=0.893, loss=0.236]\n"
          ]
        },
        {
          "output_type": "stream",
          "name": "stdout",
          "text": [
            "\n",
            "epoch: 9\n"
          ]
        },
        {
          "output_type": "stream",
          "name": "stderr",
          "text": [
            "train: 100%|██████████| 65/65 [00:43<00:00,  1.50it/s, f1=0.901, loss=0.00784]\n",
            "valid: 100%|██████████| 17/17 [00:03<00:00,  4.48it/s, f1=0.908, loss=0.303]\n"
          ]
        },
        {
          "output_type": "stream",
          "name": "stdout",
          "text": [
            "\n",
            "epoch: 10\n"
          ]
        },
        {
          "output_type": "stream",
          "name": "stderr",
          "text": [
            "train: 100%|██████████| 65/65 [00:43<00:00,  1.50it/s, f1=0.912, loss=0.0136]\n",
            "valid: 100%|██████████| 17/17 [00:03<00:00,  4.49it/s, f1=0.919, loss=0.23]\n"
          ]
        },
        {
          "output_type": "stream",
          "name": "stdout",
          "text": [
            "================  end train  ================\n",
            "\n"
          ]
        },
        {
          "output_type": "stream",
          "name": "stderr",
          "text": [
            "test: 100%|██████████| 42/42 [00:09<00:00,  4.41it/s]\n"
          ]
        },
        {
          "output_type": "stream",
          "name": "stdout",
          "text": [
            "=== loading model from local ===\n",
            "\n",
            "================  start train  ================\n"
          ]
        },
        {
          "output_type": "stream",
          "name": "stderr",
          "text": [
            "WARNING:transformers.modeling_utils:Some weights of the model checkpoint at allenai/scibert_scivocab_uncased were not used when initializing BertForSequenceClassification: ['cls.predictions.bias', 'cls.predictions.transform.dense.weight', 'cls.predictions.transform.dense.bias', 'cls.predictions.transform.LayerNorm.weight', 'cls.predictions.transform.LayerNorm.bias', 'cls.predictions.decoder.weight', 'cls.predictions.decoder.bias', 'cls.seq_relationship.weight', 'cls.seq_relationship.bias']\n",
            "- This IS expected if you are initializing BertForSequenceClassification from the checkpoint of a model trained on another task or with another architecture (e.g. initializing a BertForSequenceClassification model from a BertForPretraining model).\n",
            "- This IS NOT expected if you are initializing BertForSequenceClassification from the checkpoint of a model that you expect to be exactly identical (initializing a BertForSequenceClassification model from a BertForSequenceClassification model).\n",
            "WARNING:transformers.modeling_utils:Some weights of BertForSequenceClassification were not initialized from the model checkpoint at allenai/scibert_scivocab_uncased and are newly initialized: ['classifier.weight', 'classifier.bias']\n",
            "You should probably TRAIN this model on a down-stream task to be able to use it for predictions and inference.\n"
          ]
        },
        {
          "output_type": "stream",
          "name": "stdout",
          "text": [
            "\n",
            "epoch: 1\n"
          ]
        },
        {
          "output_type": "stream",
          "name": "stderr",
          "text": [
            "train: 100%|██████████| 65/65 [00:42<00:00,  1.52it/s, f1=0.499, loss=0.866]\n",
            "valid: 100%|██████████| 17/17 [00:03<00:00,  4.50it/s, f1=0.636, loss=0.474]\n"
          ]
        },
        {
          "output_type": "stream",
          "name": "stdout",
          "text": [
            "==== model saved ====\n",
            "\n",
            "epoch: 2\n"
          ]
        },
        {
          "output_type": "stream",
          "name": "stderr",
          "text": [
            "train: 100%|██████████| 65/65 [00:42<00:00,  1.51it/s, f1=0.598, loss=0.4]\n",
            "valid: 100%|██████████| 17/17 [00:03<00:00,  4.50it/s, f1=0.784, loss=0.321]\n"
          ]
        },
        {
          "output_type": "stream",
          "name": "stdout",
          "text": [
            "==== model saved ====\n",
            "\n",
            "epoch: 3\n"
          ]
        },
        {
          "output_type": "stream",
          "name": "stderr",
          "text": [
            "train: 100%|██████████| 65/65 [00:43<00:00,  1.50it/s, f1=0.695, loss=0.213]\n",
            "valid: 100%|██████████| 17/17 [00:03<00:00,  4.51it/s, f1=0.817, loss=0.22]\n"
          ]
        },
        {
          "output_type": "stream",
          "name": "stdout",
          "text": [
            "==== model saved ====\n",
            "\n",
            "epoch: 4\n"
          ]
        },
        {
          "output_type": "stream",
          "name": "stderr",
          "text": [
            "train: 100%|██████████| 65/65 [00:43<00:00,  1.51it/s, f1=0.777, loss=0.0883]\n",
            "valid: 100%|██████████| 17/17 [00:03<00:00,  4.51it/s, f1=0.869, loss=0.231]\n"
          ]
        },
        {
          "output_type": "stream",
          "name": "stdout",
          "text": [
            "==== model saved ====\n",
            "\n",
            "epoch: 5\n"
          ]
        },
        {
          "output_type": "stream",
          "name": "stderr",
          "text": [
            "train: 100%|██████████| 65/65 [00:43<00:00,  1.50it/s, f1=0.823, loss=0.0327]\n",
            "valid: 100%|██████████| 17/17 [00:03<00:00,  4.50it/s, f1=0.835, loss=0.251]\n"
          ]
        },
        {
          "output_type": "stream",
          "name": "stdout",
          "text": [
            "\n",
            "epoch: 6\n"
          ]
        },
        {
          "output_type": "stream",
          "name": "stderr",
          "text": [
            "train: 100%|██████████| 65/65 [00:43<00:00,  1.49it/s, f1=0.851, loss=0.0432]\n",
            "valid: 100%|██████████| 17/17 [00:03<00:00,  4.49it/s, f1=0.84, loss=0.172]\n"
          ]
        },
        {
          "output_type": "stream",
          "name": "stdout",
          "text": [
            "\n",
            "epoch: 7\n"
          ]
        },
        {
          "output_type": "stream",
          "name": "stderr",
          "text": [
            "train: 100%|██████████| 65/65 [00:43<00:00,  1.48it/s, f1=0.868, loss=0.0393]\n",
            "valid: 100%|██████████| 17/17 [00:03<00:00,  4.52it/s, f1=0.857, loss=0.238]\n"
          ]
        },
        {
          "output_type": "stream",
          "name": "stdout",
          "text": [
            "\n",
            "epoch: 8\n"
          ]
        },
        {
          "output_type": "stream",
          "name": "stderr",
          "text": [
            "train: 100%|██████████| 65/65 [00:43<00:00,  1.50it/s, f1=0.883, loss=0.0236]\n",
            "valid: 100%|██████████| 17/17 [00:03<00:00,  4.48it/s, f1=0.855, loss=0.278]\n"
          ]
        },
        {
          "output_type": "stream",
          "name": "stdout",
          "text": [
            "\n",
            "epoch: 9\n"
          ]
        },
        {
          "output_type": "stream",
          "name": "stderr",
          "text": [
            "train: 100%|██████████| 65/65 [00:43<00:00,  1.50it/s, f1=0.895, loss=0.0236]\n",
            "valid: 100%|██████████| 17/17 [00:03<00:00,  4.49it/s, f1=0.906, loss=0.281]\n"
          ]
        },
        {
          "output_type": "stream",
          "name": "stdout",
          "text": [
            "==== model saved ====\n",
            "\n",
            "epoch: 10\n"
          ]
        },
        {
          "output_type": "stream",
          "name": "stderr",
          "text": [
            "train: 100%|██████████| 65/65 [00:43<00:00,  1.49it/s, f1=0.905, loss=0.0316]\n",
            "valid: 100%|██████████| 17/17 [00:03<00:00,  4.49it/s, f1=0.84, loss=0.376]\n"
          ]
        },
        {
          "output_type": "stream",
          "name": "stdout",
          "text": [
            "================  end train  ================\n",
            "\n"
          ]
        },
        {
          "output_type": "stream",
          "name": "stderr",
          "text": [
            "test: 100%|██████████| 42/42 [00:09<00:00,  4.49it/s]\n"
          ]
        },
        {
          "output_type": "stream",
          "name": "stdout",
          "text": [
            "=== loading model from local ===\n",
            "\n",
            "================  start train  ================\n"
          ]
        },
        {
          "output_type": "stream",
          "name": "stderr",
          "text": [
            "WARNING:transformers.modeling_utils:Some weights of the model checkpoint at allenai/scibert_scivocab_uncased were not used when initializing BertForSequenceClassification: ['cls.predictions.bias', 'cls.predictions.transform.dense.weight', 'cls.predictions.transform.dense.bias', 'cls.predictions.transform.LayerNorm.weight', 'cls.predictions.transform.LayerNorm.bias', 'cls.predictions.decoder.weight', 'cls.predictions.decoder.bias', 'cls.seq_relationship.weight', 'cls.seq_relationship.bias']\n",
            "- This IS expected if you are initializing BertForSequenceClassification from the checkpoint of a model trained on another task or with another architecture (e.g. initializing a BertForSequenceClassification model from a BertForPretraining model).\n",
            "- This IS NOT expected if you are initializing BertForSequenceClassification from the checkpoint of a model that you expect to be exactly identical (initializing a BertForSequenceClassification model from a BertForSequenceClassification model).\n",
            "WARNING:transformers.modeling_utils:Some weights of BertForSequenceClassification were not initialized from the model checkpoint at allenai/scibert_scivocab_uncased and are newly initialized: ['classifier.weight', 'classifier.bias']\n",
            "You should probably TRAIN this model on a down-stream task to be able to use it for predictions and inference.\n"
          ]
        },
        {
          "output_type": "stream",
          "name": "stdout",
          "text": [
            "\n",
            "epoch: 1\n"
          ]
        },
        {
          "output_type": "stream",
          "name": "stderr",
          "text": [
            "train: 100%|██████████| 65/65 [00:42<00:00,  1.52it/s, f1=0.473, loss=0.867]\n",
            "valid: 100%|██████████| 17/17 [00:03<00:00,  4.45it/s, f1=0.641, loss=0.469]\n"
          ]
        },
        {
          "output_type": "stream",
          "name": "stdout",
          "text": [
            "==== model saved ====\n",
            "\n",
            "epoch: 2\n"
          ]
        },
        {
          "output_type": "stream",
          "name": "stderr",
          "text": [
            "train: 100%|██████████| 65/65 [00:42<00:00,  1.52it/s, f1=0.617, loss=0.345]\n",
            "valid: 100%|██████████| 17/17 [00:03<00:00,  4.43it/s, f1=0.785, loss=0.317]\n"
          ]
        },
        {
          "output_type": "stream",
          "name": "stdout",
          "text": [
            "==== model saved ====\n",
            "\n",
            "epoch: 3\n"
          ]
        },
        {
          "output_type": "stream",
          "name": "stderr",
          "text": [
            "train: 100%|██████████| 65/65 [00:42<00:00,  1.51it/s, f1=0.731, loss=0.125]\n",
            "valid: 100%|██████████| 17/17 [00:03<00:00,  4.45it/s, f1=0.817, loss=0.355]\n"
          ]
        },
        {
          "output_type": "stream",
          "name": "stdout",
          "text": [
            "==== model saved ====\n",
            "\n",
            "epoch: 4\n"
          ]
        },
        {
          "output_type": "stream",
          "name": "stderr",
          "text": [
            "train: 100%|██████████| 65/65 [00:43<00:00,  1.51it/s, f1=0.795, loss=0.0773]\n",
            "valid: 100%|██████████| 17/17 [00:03<00:00,  4.46it/s, f1=0.874, loss=0.333]\n"
          ]
        },
        {
          "output_type": "stream",
          "name": "stdout",
          "text": [
            "==== model saved ====\n",
            "\n",
            "epoch: 5\n"
          ]
        },
        {
          "output_type": "stream",
          "name": "stderr",
          "text": [
            "train: 100%|██████████| 65/65 [00:43<00:00,  1.51it/s, f1=0.837, loss=0.0343]\n",
            "valid: 100%|██████████| 17/17 [00:03<00:00,  4.45it/s, f1=0.866, loss=0.298]\n"
          ]
        },
        {
          "output_type": "stream",
          "name": "stdout",
          "text": [
            "\n",
            "epoch: 6\n"
          ]
        },
        {
          "output_type": "stream",
          "name": "stderr",
          "text": [
            "train: 100%|██████████| 65/65 [00:43<00:00,  1.51it/s, f1=0.864, loss=0.0493]\n",
            "valid: 100%|██████████| 17/17 [00:03<00:00,  4.32it/s, f1=0.784, loss=0.54]\n"
          ]
        },
        {
          "output_type": "stream",
          "name": "stdout",
          "text": [
            "\n",
            "epoch: 7\n"
          ]
        },
        {
          "output_type": "stream",
          "name": "stderr",
          "text": [
            "train: 100%|██████████| 65/65 [00:43<00:00,  1.51it/s, f1=0.884, loss=0.033]\n",
            "valid: 100%|██████████| 17/17 [00:03<00:00,  4.45it/s, f1=0.839, loss=0.484]\n"
          ]
        },
        {
          "output_type": "stream",
          "name": "stdout",
          "text": [
            "\n",
            "epoch: 8\n"
          ]
        },
        {
          "output_type": "stream",
          "name": "stderr",
          "text": [
            "train: 100%|██████████| 65/65 [00:43<00:00,  1.51it/s, f1=0.899, loss=0.00942]\n",
            "valid: 100%|██████████| 17/17 [00:03<00:00,  4.46it/s, f1=0.842, loss=0.41]\n"
          ]
        },
        {
          "output_type": "stream",
          "name": "stdout",
          "text": [
            "\n",
            "epoch: 9\n"
          ]
        },
        {
          "output_type": "stream",
          "name": "stderr",
          "text": [
            "train: 100%|██████████| 65/65 [00:43<00:00,  1.50it/s, f1=0.911, loss=0.00579]\n",
            "valid: 100%|██████████| 17/17 [00:03<00:00,  4.46it/s, f1=0.846, loss=0.399]\n"
          ]
        },
        {
          "output_type": "stream",
          "name": "stdout",
          "text": [
            "\n",
            "epoch: 10\n"
          ]
        },
        {
          "output_type": "stream",
          "name": "stderr",
          "text": [
            "train: 100%|██████████| 65/65 [00:44<00:00,  1.46it/s, f1=0.921, loss=0.00297]\n",
            "valid: 100%|██████████| 17/17 [00:03<00:00,  4.46it/s, f1=0.843, loss=0.547]\n"
          ]
        },
        {
          "output_type": "stream",
          "name": "stdout",
          "text": [
            "================  end train  ================\n",
            "\n"
          ]
        },
        {
          "output_type": "stream",
          "name": "stderr",
          "text": [
            "test: 100%|██████████| 42/42 [00:09<00:00,  4.48it/s]\n"
          ]
        }
      ]
    },
    {
      "cell_type": "code",
      "source": [
        "all_emb_ = np.array([np.array(emb)[-len(df_test):] for emb in all_emb])\n",
        "\n",
        "mean_df = pd.DataFrame([[np.mean(arr_val) for arr_val in arr_vec] for arr_vec in np.moveaxis(all_emb_, 0, 2)])\n",
        "preds = [np.argmax(arr)+1 for arr in mean_df.to_numpy()]\n",
        "df_submit = pd.DataFrame([df_test.id.to_list(), preds]).T\n",
        "\n",
        "df_final_submit = df_v10.copy()\n",
        "for id, label in zip(df_submit[0].values, df_submit[1].values):\n",
        "  idx = id - 1516\n",
        "  df_final_submit.iloc[idx, 1] = label\n",
        "\n",
        "df_final_submit.to_csv(os.path.join(ROOT, f'{VERSION}_suede_ensemble.csv'), index=None, header=None)"
      ],
      "metadata": {
        "id": "BGDVf12w0DXn"
      },
      "execution_count": 44,
      "outputs": []
    },
    {
      "cell_type": "code",
      "source": [
        "f1_list = []\n",
        "for item in metric_list:\n",
        "  f1_list.append((np.max([acc for loss, acc in item])))\n",
        "print(np.mean(f1_list))"
      ],
      "metadata": {
        "colab": {
          "base_uri": "https://localhost:8080/"
        },
        "id": "iSfV05M96ITu",
        "outputId": "8ae906a1-b3a7-416c-ef25-21a9b1971bd4"
      },
      "execution_count": 45,
      "outputs": [
        {
          "output_type": "stream",
          "name": "stdout",
          "text": [
            "0.9075335742262343\n"
          ]
        }
      ]
    },
    {
      "cell_type": "code",
      "source": [
        "df_test"
      ],
      "metadata": {
        "colab": {
          "base_uri": "https://localhost:8080/",
          "height": 424
        },
        "id": "jDUTlQGT6gtO",
        "outputId": "d9d8a4be-2bc0-4c44-f0e0-ce31a01f4fa3"
      },
      "execution_count": 23,
      "outputs": [
        {
          "output_type": "execute_result",
          "data": {
            "text/plain": [
              "        id                                        description  jobflag\n",
              "1291  1522  Create validate stress test algorithms that em...      NaN\n",
              "1292  1539  Ensuring that algorithms generate accurate use...      NaN\n",
              "1293  1571  Contribute technical leadership project still ...      NaN\n",
              "1294  1591  Work with project manager product owner meet s...      NaN\n",
              "1295  1593  Facilitate collaborative design sessions shape...      NaN\n",
              "...    ...                                                ...      ...\n",
              "1688  2990  Design automated workflow process forms notifi...      NaN\n",
              "1689  2996  Build PowerPoint briefingsDraft meeting minute...      NaN\n",
              "1690  3000  Support Product owner Product Manager Support ...      NaN\n",
              "1691  3005  Decompose user requirements into logical funct...      NaN\n",
              "1692  3026  Write validate maintain programs Python Hive o...      NaN\n",
              "\n",
              "[402 rows x 3 columns]"
            ],
            "text/html": [
              "\n",
              "  <div id=\"df-7ae86027-50c6-454b-846c-a05298c9f1af\">\n",
              "    <div class=\"colab-df-container\">\n",
              "      <div>\n",
              "<style scoped>\n",
              "    .dataframe tbody tr th:only-of-type {\n",
              "        vertical-align: middle;\n",
              "    }\n",
              "\n",
              "    .dataframe tbody tr th {\n",
              "        vertical-align: top;\n",
              "    }\n",
              "\n",
              "    .dataframe thead th {\n",
              "        text-align: right;\n",
              "    }\n",
              "</style>\n",
              "<table border=\"1\" class=\"dataframe\">\n",
              "  <thead>\n",
              "    <tr style=\"text-align: right;\">\n",
              "      <th></th>\n",
              "      <th>id</th>\n",
              "      <th>description</th>\n",
              "      <th>jobflag</th>\n",
              "    </tr>\n",
              "  </thead>\n",
              "  <tbody>\n",
              "    <tr>\n",
              "      <th>1291</th>\n",
              "      <td>1522</td>\n",
              "      <td>Create validate stress test algorithms that em...</td>\n",
              "      <td>NaN</td>\n",
              "    </tr>\n",
              "    <tr>\n",
              "      <th>1292</th>\n",
              "      <td>1539</td>\n",
              "      <td>Ensuring that algorithms generate accurate use...</td>\n",
              "      <td>NaN</td>\n",
              "    </tr>\n",
              "    <tr>\n",
              "      <th>1293</th>\n",
              "      <td>1571</td>\n",
              "      <td>Contribute technical leadership project still ...</td>\n",
              "      <td>NaN</td>\n",
              "    </tr>\n",
              "    <tr>\n",
              "      <th>1294</th>\n",
              "      <td>1591</td>\n",
              "      <td>Work with project manager product owner meet s...</td>\n",
              "      <td>NaN</td>\n",
              "    </tr>\n",
              "    <tr>\n",
              "      <th>1295</th>\n",
              "      <td>1593</td>\n",
              "      <td>Facilitate collaborative design sessions shape...</td>\n",
              "      <td>NaN</td>\n",
              "    </tr>\n",
              "    <tr>\n",
              "      <th>...</th>\n",
              "      <td>...</td>\n",
              "      <td>...</td>\n",
              "      <td>...</td>\n",
              "    </tr>\n",
              "    <tr>\n",
              "      <th>1688</th>\n",
              "      <td>2990</td>\n",
              "      <td>Design automated workflow process forms notifi...</td>\n",
              "      <td>NaN</td>\n",
              "    </tr>\n",
              "    <tr>\n",
              "      <th>1689</th>\n",
              "      <td>2996</td>\n",
              "      <td>Build PowerPoint briefingsDraft meeting minute...</td>\n",
              "      <td>NaN</td>\n",
              "    </tr>\n",
              "    <tr>\n",
              "      <th>1690</th>\n",
              "      <td>3000</td>\n",
              "      <td>Support Product owner Product Manager Support ...</td>\n",
              "      <td>NaN</td>\n",
              "    </tr>\n",
              "    <tr>\n",
              "      <th>1691</th>\n",
              "      <td>3005</td>\n",
              "      <td>Decompose user requirements into logical funct...</td>\n",
              "      <td>NaN</td>\n",
              "    </tr>\n",
              "    <tr>\n",
              "      <th>1692</th>\n",
              "      <td>3026</td>\n",
              "      <td>Write validate maintain programs Python Hive o...</td>\n",
              "      <td>NaN</td>\n",
              "    </tr>\n",
              "  </tbody>\n",
              "</table>\n",
              "<p>402 rows × 3 columns</p>\n",
              "</div>\n",
              "      <button class=\"colab-df-convert\" onclick=\"convertToInteractive('df-7ae86027-50c6-454b-846c-a05298c9f1af')\"\n",
              "              title=\"Convert this dataframe to an interactive table.\"\n",
              "              style=\"display:none;\">\n",
              "        \n",
              "  <svg xmlns=\"http://www.w3.org/2000/svg\" height=\"24px\"viewBox=\"0 0 24 24\"\n",
              "       width=\"24px\">\n",
              "    <path d=\"M0 0h24v24H0V0z\" fill=\"none\"/>\n",
              "    <path d=\"M18.56 5.44l.94 2.06.94-2.06 2.06-.94-2.06-.94-.94-2.06-.94 2.06-2.06.94zm-11 1L8.5 8.5l.94-2.06 2.06-.94-2.06-.94L8.5 2.5l-.94 2.06-2.06.94zm10 10l.94 2.06.94-2.06 2.06-.94-2.06-.94-.94-2.06-.94 2.06-2.06.94z\"/><path d=\"M17.41 7.96l-1.37-1.37c-.4-.4-.92-.59-1.43-.59-.52 0-1.04.2-1.43.59L10.3 9.45l-7.72 7.72c-.78.78-.78 2.05 0 2.83L4 21.41c.39.39.9.59 1.41.59.51 0 1.02-.2 1.41-.59l7.78-7.78 2.81-2.81c.8-.78.8-2.07 0-2.86zM5.41 20L4 18.59l7.72-7.72 1.47 1.35L5.41 20z\"/>\n",
              "  </svg>\n",
              "      </button>\n",
              "      \n",
              "  <style>\n",
              "    .colab-df-container {\n",
              "      display:flex;\n",
              "      flex-wrap:wrap;\n",
              "      gap: 12px;\n",
              "    }\n",
              "\n",
              "    .colab-df-convert {\n",
              "      background-color: #E8F0FE;\n",
              "      border: none;\n",
              "      border-radius: 50%;\n",
              "      cursor: pointer;\n",
              "      display: none;\n",
              "      fill: #1967D2;\n",
              "      height: 32px;\n",
              "      padding: 0 0 0 0;\n",
              "      width: 32px;\n",
              "    }\n",
              "\n",
              "    .colab-df-convert:hover {\n",
              "      background-color: #E2EBFA;\n",
              "      box-shadow: 0px 1px 2px rgba(60, 64, 67, 0.3), 0px 1px 3px 1px rgba(60, 64, 67, 0.15);\n",
              "      fill: #174EA6;\n",
              "    }\n",
              "\n",
              "    [theme=dark] .colab-df-convert {\n",
              "      background-color: #3B4455;\n",
              "      fill: #D2E3FC;\n",
              "    }\n",
              "\n",
              "    [theme=dark] .colab-df-convert:hover {\n",
              "      background-color: #434B5C;\n",
              "      box-shadow: 0px 1px 3px 1px rgba(0, 0, 0, 0.15);\n",
              "      filter: drop-shadow(0px 1px 2px rgba(0, 0, 0, 0.3));\n",
              "      fill: #FFFFFF;\n",
              "    }\n",
              "  </style>\n",
              "\n",
              "      <script>\n",
              "        const buttonEl =\n",
              "          document.querySelector('#df-7ae86027-50c6-454b-846c-a05298c9f1af button.colab-df-convert');\n",
              "        buttonEl.style.display =\n",
              "          google.colab.kernel.accessAllowed ? 'block' : 'none';\n",
              "\n",
              "        async function convertToInteractive(key) {\n",
              "          const element = document.querySelector('#df-7ae86027-50c6-454b-846c-a05298c9f1af');\n",
              "          const dataTable =\n",
              "            await google.colab.kernel.invokeFunction('convertToInteractive',\n",
              "                                                     [key], {});\n",
              "          if (!dataTable) return;\n",
              "\n",
              "          const docLinkHtml = 'Like what you see? Visit the ' +\n",
              "            '<a target=\"_blank\" href=https://colab.research.google.com/notebooks/data_table.ipynb>data table notebook</a>'\n",
              "            + ' to learn more about interactive tables.';\n",
              "          element.innerHTML = '';\n",
              "          dataTable['output_type'] = 'display_data';\n",
              "          await google.colab.output.renderOutput(dataTable, element);\n",
              "          const docLink = document.createElement('div');\n",
              "          docLink.innerHTML = docLinkHtml;\n",
              "          element.appendChild(docLink);\n",
              "        }\n",
              "      </script>\n",
              "    </div>\n",
              "  </div>\n",
              "  "
            ]
          },
          "metadata": {},
          "execution_count": 23
        }
      ]
    },
    {
      "cell_type": "code",
      "source": [
        ""
      ],
      "metadata": {
        "id": "0fCaLqKuBhMg"
      },
      "execution_count": 39,
      "outputs": []
    },
    {
      "cell_type": "code",
      "source": [
        "check_changed = pd.concat([df_final_submit, df_v10]).drop_duplicates()"
      ],
      "metadata": {
        "id": "TO2ct8RRBuhZ"
      },
      "execution_count": 40,
      "outputs": []
    },
    {
      "cell_type": "code",
      "source": [
        "len(check_changed) - len(df_final_submit)"
      ],
      "metadata": {
        "colab": {
          "base_uri": "https://localhost:8080/"
        },
        "id": "NCMSUlMCB5Zr",
        "outputId": "53ab7050-a669-4cd8-ac23-2834d83a9079"
      },
      "execution_count": 42,
      "outputs": [
        {
          "output_type": "execute_result",
          "data": {
            "text/plain": [
              "201"
            ]
          },
          "metadata": {},
          "execution_count": 42
        }
      ]
    },
    {
      "cell_type": "code",
      "source": [
        "(df_v10[1]+0.2).hist() # blue\n",
        "df_final_submit[1].hist() #orange"
      ],
      "metadata": {
        "colab": {
          "base_uri": "https://localhost:8080/",
          "height": 283
        },
        "id": "0Pu6UoUJDdYi",
        "outputId": "7f7ee9c6-78ee-4ccf-8dff-ec2b8bc685b7"
      },
      "execution_count": 51,
      "outputs": [
        {
          "output_type": "execute_result",
          "data": {
            "text/plain": [
              "<matplotlib.axes._subplots.AxesSubplot at 0x7f1519e12ad0>"
            ]
          },
          "metadata": {},
          "execution_count": 51
        },
        {
          "output_type": "display_data",
          "data": {
            "text/plain": [
              "<Figure size 432x288 with 1 Axes>"
            ],
            "image/png": "[encoded data removed]"
          },
          "metadata": {
            "needs_background": "light"
          }
        }
      ]
    },
    {
      "cell_type": "code",
      "source": [
        "for id, dsc, label in zip(df_test['id'], df_test['description'], df_submit[1]):\n",
        "  print(id, jobdic[label], ': ', dsc)\n",
        "  # break"
      ],
      "metadata": {
        "colab": {
          "base_uri": "https://localhost:8080/"
        },
        "id": "midViJtjFCSE",
        "outputId": "ad8878b1-4f67-490d-e2fd-d4bffd2ad51c"
      },
      "execution_count": 60,
      "outputs": [
        {
          "output_type": "stream",
          "name": "stdout",
          "text": [
            "1522 ML Engineer :  Create validate stress test algorithms that employedShare ideas across team come with best algorithms approaches\n",
            "1539 DataScientist :  Ensuring that algorithms generate accurate user recommendations Auto tagging images text speech conversions speech text conversion Running tests performing analysis interpreting test results\n",
            "1571 ML Engineer :  Contribute technical leadership project still infancyDesign develop application automated processing systems\n",
            "1591 DataScientist :  Work with project manager product owner meet specification needsCollaborating with management staff understand their needsCreate flowcharts user guides existing programsDocument tasks proceduresConducting research organization customers Developing plans implement solutionsKeeping abreast changes industry\n",
            "1593 Consultant :  Facilitate collaborative design sessions shape target state vision identify transformation initiativesFocus outcome driven business recommendationsAct liaison between actuarial teams business stakeholders\n",
            "1595 Software Engineer :  Implement deliver financial applications that meet Prime functional functional requirements global broker dealer platform Mentor other developers building global liquidity network scale across financial centers world wide Provide technical input knowledge design implementation domain model architecture broker dealer platform\n",
            "1600 Software Engineer :  Develop core technology Detection localized Tracking federated learning Contribute building platformEstimate scope duration effort risk project proposals Mentor share knowledge with others\n",
            "1602 DataScientist :  Work with Business Stakeholders understand business processes procedures Conducting meetings presentations share ideas findings Effectively document communicate results your efforts\n",
            "1607 Software Engineer :  Brainstorm design improved functionality within iCREF based business needs showcase ideas teamUnderstand execute long term vision goals iCREF platformWork with Director Product Development develop metrics assess success product features determine necessary enhancementsCreate update functional requirementsCommunicate concerns with iCREF application associated recommendations correct Director Product Development work with team implement approved recommendationsProvide project level analysis produce related documentation scoped business requirements scope matrix workflow relationship diagrams Work with Quality Assurance Team review update cases help build planManage meeting minutes meeting schedules updates\n",
            "1626 Software Engineer :  Lead project teams deploy solutions ServiceNow platformLead complex programs multiple resourcesLead architecture design complex solutionsLead creation written deliverablesLead integration design sessionsEscalation point project teamWork influence team members broader internal team external customers likely including senior management agree accept concepts practices approachesObtain maintain certifications with associated qualificationsMaintain expert level certificationsIdentify communicate opportunitiesParticipate sales cycle technical expertProvide thought leadership Ahead customersCommunicate with external customers which include management matters that require explanation interpretation advisingGenerate differentiated marketing thought leadership marketingContribute projects programs that address future concepts products technologiesDrive consensus with customer solving complex solutions\n",
            "1632 Software Engineer :  assist with development current Digital Identity projects\n",
            "1637 Software Engineer :  Help define vision strategy IonQIdentify opportunities technological investmentAssist career development senior staff providing mentorship advanced technical issuesCommunicate highly technical subject matter both technical technical stakeholdersThe ideal candidate will have experience leading contributing multiple simultaneous product development efforts projects initiatives have excellent interpersonal skills able balance technical expertise savvy with strong business judgment make great technology choices strive simplicity demonstrate significant creativity incisive judgment\n",
            "1643 DataScientist :  Write documentation where appropriate\n",
            "1649 Software Engineer :  Active Secret Security Clearance years experience working within program officeFamiliarity with Integrated Master Schedules Earned Value ManagementProficiency Microsoft Office applications especially Excel Power Point\n",
            "1652 ML Engineer :  Implement tune benchmark techniques article analysis attributionWork with technologies like Python Ruby Scala Redis ElasticSearch Apache Spark Kubernetes Docker This position centered around creating internal dashboards reports Tableau primarily focused around working with large state foundation models tuning cases deploying scale\n",
            "1655 Software Engineer :  Write user stories acceptance criteria functional nonfunctional requirements explain details Development Operations Quality Assurance teams Collaborate with product project management technology leadership developer deliver project according requirements\n",
            "1671 Software Engineer :  Provide technical expertise further design development testing evaluation existing digital twin simulation system Ensure full compliance with contract requirements schedules provisions\n",
            "1678 DataScientist :  Influence partners senior leaders communicating across various levels organization clear compelling Identify prioritize drive operational improvements Competencies Experience Proven experience with marketing technologies such Salesforce Marketo JIRA similar technologies plus applicant should have least years work experience relevant business environment Able perform fast paced environment comfortable with ambiguity sharp focus results solid attention detail\n",
            "1680 Consultant :  Goal Setting Performance BudgetUnderstanding site behavior engagementIdentify Website ErrorsAd reporting Consistent exercise independent judgment discretion matters significance Regular consistent punctual attendance Must able work nights weekends variable schedule overtime necessary Other duties responsibilities assigned\n",
            "1681 Software Engineer :  Serve scrum master single Agile workstream facilitate Agile ceremonies using standard methodologies flexible balance teams optimal style working Utilize traditional project management approaches where appropriate improve identifying dependencies accomplishments reporting Identifies tracks removes resolves impediments feature project team success Tracks reports project metrics efficiency Assists team with Sprint planning story point estimations retrospectives improving velocity identifying other opportunities improve team performance Supporting Product Owner advocating their behalf championing goals value delivered along roadmap Disseminate relevant information team stakeholders leadership needed Examples include tracking communication team velocity sprint release progress Coordinate track execution project activities across team members facilitate meetings phone conferences establishment working groups needed\n",
            "1692 DataScientist :  Collaborate closely with peer teams ensure coordination synergy seamless overall execution Understand integrate relevant regulations industry trends into work plans exploring emerging frameworks assessing feasibility using proof concepts\n",
            "1695 DataScientist :  Identification implementation innovation opportunities leveraging Agile capabilities drive improved cost quality speed Understand translate customer needs into implementable business solutions enable long term successAccountable ensuring technology solutions represent current future business requirementsImplement continuous improvement approach achieve expectations delivery efficiency effectiveness balancing cost quality\n",
            "1699 Consultant :  Commit hours month weeksWork with students small group setting workshops\n",
            "1705 Software Engineer :  Delivering design specifications plans reports project execution within approved schedule budget Evaluating successes challenges lessons learned during implementation completion every project\n",
            "1709 ML Engineer :  Propose implement evaluate algorithms that play games high skill levelWork with game teams propose define develop enabled features metagame analysis player coaching play Integrate game servers into research training infrastructureDevelop optimize distributed training infrastructure including algorithms hyperparameters memory OInform manage stakeholders game teams\n",
            "1729 ML Engineer :  Advise implement technical delivery project based work Advise solution architecture based solutions Implement components based solutions Work with technology counterparts member Agile Scrum crew implement based solutions Establish best practices within Agile crews model development workflow devops modelops methodology model productionization\n",
            "1730 Software Engineer :  Monitor maintain administer infrastructureCoordinate jobs tasks Enterprise schedulerSupport Corporate Performance Management Reporting applicationsTrain users applications toolsAssist with projects requiredPrintpack proudly equal opportunity employer committed creating inclusive environment Embracing diversity only enhances work culture vital success discriminate based race color religion including pregnancy national origin gender identity sexual orientation marital parental status genetic information national origin ancestry ethnicity disability marital status military veteran status affiliation other characteristic protected under applicable\n",
            "1732 Consultant :  Provides technical direction assigned project defined duration Performs house site remote support KUKA products needed basis relative product project requirements position requires moderate domestic occasional international travel provide customers with highest quality products services\n",
            "1733 Software Engineer :  Develop transactional applications using Angular Bootstrap Work with business analysts understand requirements Work with technical management design Work with quality assurance analysts resovle defects\n",
            "1736 Software Engineer :  will have opportunity conduct Design Thinking sessions gain insights into user customer needs will lead product backlog product facilitating visioning sessions assist defining prioritizing features maintaining product backlogs will partner with other Business Analysts collaborate team dependencies build community practice will engage with various organizations resolve problems production production environments they arise will possess overall understanding appropriate business processes workflows will engage business owners other resources respond requests applications enhancements collaborate with Engagement Manager create present appropriate project boarding processes materials will lead Testing activities within project lifecycle include leading shore resources develop execute Test Plans Test Scripts other work activities related Quality Assurance Products\n",
            "1751 Software Engineer :  Apply enterprise architecture techniques financial application platformAssist conversion design training activities throughout program planning execution\n",
            "1752 DataScientist :  Continually work deepen product industry knowledgeExchange share knowledge with team maximize knowledge effectivenessContribute Knowledge Base authoring required volume materials high quality accuracy with close attention detail\n",
            "1758 ML Engineer :  Design implement indexing strategies minimize latency Develop computer vision methods extract product characteristics from images Create user interfaces that allow business experts state constraints objectives Combine keyword based embedding based matching provide optimal search results Design algorithms that learn from customer behavior improve search continuously Productionize algorithms highly modular reusable APIs everything with world class quality reliability\n",
            "1771 Software Engineer :  Provide vision leadership through process gathering business requirements recommending solution architectures Microsoft Azure premise hybrid cloud implementations necessary Continue drive best practices throughout design development testing final implementation with project team Partner with customers build relationships drive positive engagement experience that fruitful both customers project team Resolve issues necessary expectations maintain healthy work environment Leverage Neudesic Intellectual Property implementations become thought leader continue improve capabilities resulting efficient consistent delivery customers Engage help drive sales process with existing customers Identify scope requirements then build vision solution including architecture deliverables resources timeline costs deliver\n",
            "1772 Software Engineer :  highly motivated self starter passionate about technology solving problems creative manner\n",
            "1789 ML Engineer :  will building cutting edge high quality alpha platform involves Developing libraries services platformSupport production modelsIdentifying prototyping alpha enabling technology\n",
            "1800 Software Engineer :  Provide architectural solutions designs project execution teams implementation Provide technology architectural assessments strategies roadmaps more technology domains Lead work stream team lead manage complex components work plan project\n",
            "1805 Software Engineer :  Identify implement application systems internal departments Accounting Operations Property Management Collaborate with stakeholders identify areas improvement business process ways optimize technology more effectivelyDevelop maintain thorough documentation gather technical functional requirement that will enhance business workflow processManage cross functional projects collaborate with Application Development team during product development lifecycle process\n",
            "1810 Software Engineer :  Maintenance technical documentation relates DaaS delivery processesAssist development maintenance Airflow dependent processesRegularly communicate progress timing implications directed tasks\n",
            "1816 Consultant :  Ability synthesize complex subjects into impactful executive summaries Help drive Architecture Governance engagement strategy with Business Technology leaders Create flow charts architecture diagrams Partner with stakeholders build roadmap modernization strategy silos across plus person Institutional Securities Technology division Create thoughtful whitepapers practical executive briefings partnership with Architects consumption divisional leads Develop training material architecture best practices principles technologies division\n",
            "1819 DataScientist :  Utilize services build production ready models real time inferenceCoordinate with different functional teams implement models monitor outcomesDoing analysis presenting results clear mannerCreating automated anomaly detection systems constant tracking their performance\n",
            "1821 Consultant :  Generate sales pipelineUnderstand Common Energy marketing sales material\n",
            "1830 Consultant :  interactive engaging discovery sessions with teams executives business users identify high value cases ultimately craft roadmap This will include scoping existing decision making processes future processes augmented with support Commercial Managers responsible sales scope opportunities Peak solutions help drive decision making commercial growth customers build customers strategy approach based Peak vision category creation Decision Intelligence work cross functionally with other commercial leaders business evolve improve processes structure systems continue build Peak brand culture through speaking engagements webinars blog posts\n",
            "1844 DataScientist :  Synthesis findings into actionable insightful suggestions recommendations based thorough analysis findings Work with business unit owners identify actionable solutions Produce regular monthly reporting presentations senior management business stakeholders Identify research opportunities create research plans survey interview guide uncover customer insights Project manage evergreen research projects qualitative quantitative through collaboration with business stakeholders third party researchers vendors Research leading tool optimize scale voice customer collection insights Monitor competitor developments prepare related analyses necessary\n",
            "1847 Consultant :  Work design development Audit learning performance solutions from needs analysis deployment measurementResearch internal external content meet business needsWrite Audit training material global Audit professionalsWorks with subject matters experts develop training materialsDevelops learning solutions across range modalities\n",
            "1868 ML Engineer :  Architect unified MLOps methodology that teams follow highly productive deliver safe productsDefine spread best MLOps practices automation monitoring scale safetyContinuously evaluate latest packages frameworks ecosystemPresent demo research topics Daimler internal groups external events such academic conferences tradeshows\n",
            "1872 ML Engineer :  Conduct tests evaluate learning algorithms features\n",
            "1877 Software Engineer :  Working with team define functional user requirements architectural requirements complex specified neuroinformatics systems Using object oriented analysis design techniques design document complex specified systems Verifying that systems meet performance criteria\n",
            "1878 DataScientist :  Research novel strategies multi label text classification with hierarchical labels Determine best combination models deploy using both theoretical experimental techniques Develop metrics assess improve models\n",
            "1884 Consultant :  Develop fraud metric reporting ongoing monitoring routines Communicate fraud related incidents stakeholders Participate development business cases support fraud strategic initiatives\n",
            "1886 DataScientist :  Enhancing previously developed house applications such those selecting samples\n",
            "1887 ML Engineer :  Scaling from proof concept cluster scale eventually hundreds clusters with hundreds terabytes each terms both infrastructure architecture problem structure\n",
            "1892 Consultant :  Documenting functional requirement specifications define detail input output file content systems functions system controls performance criteria Help establish cost time estimates implementation Testing project deliverables ensuring they line with documented requirements Making recommendations implementation systems technologies where appropriate Discuss proposed solutions complex systems with customer Participation sales activity including limited demonstrating product functionality proposed enhancements Contributing Implementation Best Practice guidelines\n",
            "1894 Consultant :  Collaborates acts liaison with internal external global assist with problem resolution troubleshooting Participates cross functional project teams Maintains awareness knowledge MetLife competitors products trends Perform other related duties assigned required\n",
            "1897 Software Engineer :  Power Developer will utilize best practices design develop support Power visualizations Publish reports dashboards using Power Service sharing collaboration Power Developer will optimize Power dashboards with focus usability performance Understand requirements visualize Dashboard Work different metrics calculations using Power functions Schedule dashboard refreshes proactive notifications\n",
            "1921 Software Engineer :  Solutions Define deliver site technical engagements with partners customers This includes participating sales site visits understanding customer security compliance requirements proposing delivering packaged offerings delivering custom solution engagements Expertise Collaborate with field sales sales training support teams help partners customers learn services market verticals regulated industries such financial services healthcare life sciences energy Delivery Engagements will include migration existing applications development applications using cloud services This will done onsite customer projects\n",
            "1924 Software Engineer :  Automated testing providing feedback management during development processModifying testing changes previously developed programs\n",
            "1929 Consultant :  Promote adhere comment global functional standards processes methods across products studiesCollaborate with functional service provider staff membersAssist study system audits internal external bodies provide guidance responses audit questions findings\n",
            "1930 DataScientist :  Collaborate across disciplines deliver amazing customer experience\n",
            "1941 DataScientist :  Develop execute complex project plans milestones Leverage project team talent assigning people tasks accordingly Ensure strategies objectives aligned with project priorities Proactively identify mitigate risks Lead cross functional projects across multiple systems functions Understand manage project interdependencies\n",
            "1943 ML Engineer :  Conduct tests evaluate learning algorithms features\n",
            "1980 Software Engineer :  business with Scrum team submit meticulous work estimates Solve deliver production support\n",
            "1985 Consultant :  Delivery results projects time budgetWorking part broader team identify longer term solutions that will improve quality speed efficacy current projects programsEvaluating benchmarking libraries prototype pipeline development Excellent communication effective problem solving skills track record serving variety diverse customers projectsAbility work independently prioritize manage people needed within environment with ever changing prioritiesDemonstrate excellent communication skills such excellent oral written presentation skills\n",
            "1991 Consultant :  Provides thought leadership development ideas process improvement opportunities using emerging technology Partner with stakeholders understand problems opportunities facilitate organization goals understanding business vision objectives performance indicators Align technology requirements solutions real business need meets essential quality standards ensures approval relevant stakeholders Promote processes methodologies emerging technologies agile aligns unique project team requirements\n",
            "1993 Software Engineer :  Communicate with quantitative researchers other users understand their requirements potential future requestsDevelop processing components using cutting edge technologies write robust tests going quality controlSupport developed transformations frameworks production trading well backtest research\n",
            "2000 Software Engineer :  Lead facilitate discovery conversations with customers understand their needs including legacy processes systems allowing Arkestro solution positioned with correct value propositionDeliver high value demonstrations customers well maintaining building demo environments applicable industry vertical specific deal pursuitsFacilitate evaluation cycle deals including answering questions related business processes technical integrations other systems security architectureParticipate creating Business Cases tangible Return Investment modelsConvey voice customer back Arkestro Product Team\n",
            "2001 Software Engineer :  Build Build website scale clicks month Design build conversion funnel drive growth\n",
            "2004 DataScientist :  Prepares technical design specifications based functional requirements analysis documents Reviews functional requirements analysis design documents provides feedback Assists customer support with technical problems questions Analyzes existing business system processes Develops process designs determination Determines documents business system processes performed determination Creates executes documents testing scenarios Provides guidance assistance other subordinate team members Performs other duties assigned\n",
            "2009 DataScientist :  Finding relevant clauses customers their legal documentsInformation Retrieval from documents with natural languageEntity Extraction example effective date duration payment terms parties from legal contractsVisual Document Information Extraction Object Detection Field Extraction from Documents with Variable StructureDocument Classification ClusteringGeneral Pipeline management\n",
            "2022 DataScientist :  Build develop maintain models used core search recommendation functionality flagship mobile freight booking platform carriersTest evaluate deploy models features achieve better outcomes metricsCommunicate factors algorithmic decision process technical stakeholders\n",
            "2028 Software Engineer :  Develop monitor KPIs platform teams\n",
            "2032 Software Engineer :  Create maintain technical documentation Design development Capture components related capture processing recognition business documents Ownership technical leadership design development validation test automation deployment support production Team technical leadership distribute tasks track progress technical risk assessment problem solving early risk notification report progress status manager Perform assigned jobs with minimal assistance from supervisor Respond promptly professionally reports customer escalations\n",
            "2060 Software Engineer :  Participate reviews with designers respond design feedbackAdvise architecture real time media pipelinesEvaluate potential tools techniques experimental projects\n",
            "2062 Consultant :  Partner with Operations Finance teams perform annual review financial performance budget update projections each contract Understand contractual terms conditions identify potential risks opportunitiesUnderstand turbine technology operating maintenance considerations Understand Multi Year agreements policies modeling procedures business forecasting standards Drive modeling uniformity through close collaboration with rest global Modeling team well with Technology Productivity organization Finance Operations Commercial teams Provide detailed scenario variance analysis identify recommend ways maximize contractual profitability Support Operations team financial forecasting renegotiations analysis executing What Simulations scenarios different operating contractual alternatives Partner with Risk Commercial Operations teams during handover process contracts providing Quality Assurance Controllership Financial Model Partner with Risk Finance leaders Operations team Controllership support implementation revenue recognition standards into modeling tool Asses review accounting policy updates into financial models needed analyzing reporting financial impacts Communicate regarding above topics level management proactively engage others influence drive action\n",
            "2065 ML Engineer :  Development Planning prioritization Stakeholder engagement Central coordinationDevelop maintain existing based Python application RESTful\n",
            "2074 Software Engineer :  Responsible development maintenance system featuresWill work with other team members investigate design approaches prototype technology evaluate technical feasibility Will establish architectural principles select design patterns then mentor team members their appropriate application\n",
            "2078 Consultant :  Prepares analyzes explains historical projected financial information Identifies technical matters conducts research documentation conclusion seeks help when issues beyond experience Enters income statements balance sheets into valuation model Assists building valuation litigation models Leading People Builds maintains positive relationships across firm Supports interns professional development Assists report preparation proposals executive presentations Maintains open communication with management regarding progress completion projects Executes feedback minimize repeated errors apply concepts Participates actively training developmental opportunities Utilizes computer applications relevant technology effectively Enters time daily Executive Presence Participates Firm events Commits outside reading studying professional growth Demonstrates integrity objectivity high standard ethics\n",
            "2085 Consultant :  Assess technologies identify controls test controls Assume responsibility staff work ensure high quality work delivered within established deadlines Support training mentoring staff interns necessary Perform other duties assigned firm leadership\n",
            "2091 Consultant :  Guidance Direct opportunities working with customers partners discover appropriate solutions build roadmap plans matching their unique environments business technical requirementsDelivery Define deliver technical engagements with partners customersEvangelism Collaborate with field sales sales training support teams help partners customers learn best platform services such Amazon Connect Pinpoint Personalize SageMaker QuickSight Provide expertise designing building relevant assets heading managing large scale projects across multiple stakeholdersCross Functionality Work with peer trailblazers across Professional Services develop cross functional ability augment each other offerings roles\n",
            "2104 DataScientist :  Definition Dialog interview with business stakeholders issues questions answer during analysis Provide direction suggestions based experience order clearly articulate business questions manage scope analysis Document analysis charter that outlines scope goals analysis\n",
            "2109 Software Engineer :  Build implement tools artists across multiple platformsResolve pipeline issues identify areas improvementWork with Artist teams help realize vision game\n",
            "2115 Software Engineer :  Translate these requirements into design documentsExperience with components Tableau suite including limited Tableau Desktop Tableau Prep Tableau Architecture Effectively communicate with Business stakeholders Technology teams throughout organization ongoing basis\n",
            "2128 DataScientist :  Responds production performance issues sees those performance issues through resolution Performs deep performance related diagnostic troubleshooting analysis Communicates performance analysis stakeholders suggests applicable changes Identifies workflows system characteristics performance tested monitored Defines performance benchmarks Analyzes test results identify issues works with architects developers suggest improvements drive issues resolution Analyzes production monitoring metrics trace back test results offer suggestions areas performance improvements Works with team ensure quality standardization performance test plans scripts results\n",
            "2142 Software Engineer :  Manage process queues mitigate exception output within expected SLAsCollaborate communicate with business partners Perform accuracy checks resolve exceptions produced submission processesAssist development tools measure provider directory elements compared Salesforce ensure accuracy alignmentAnswer user questions\n",
            "2161 Consultant :  Literature reviews generation annotated bibliographies support research proposal development Creation Management Institutional Review Board protocols Research participant recruitment consent management participant related research files Publication manuscript development editing formatting\n",
            "2181 Software Engineer :  security liaison between Enterprise Technology development operations Information Security Facilitating project teams through Information Security diligencePerforming risk assessment risk management primarily associated Microsoft Develop deliver security artifacts security requirements project teamsInfluence project teams other stakeholders security controls\n",
            "2186 ML Engineer :  Deploy these algorithm with microservices architectures using Python Develop trusted advocate relationship with internal external customer constituents\n",
            "2190 DataScientist :  Push limits avionics creating rapid prototyping innovative user experiences interactionsDevelop iterate rapid models proposed design solutions purposes communication evaluationDevelop novel virtual environment that offers pilots clear intuitive means understanding their flying environment system assets instrument clusters procedural terrain generation advanced trajectory calculations\n",
            "2198 DataScientist :  Creates management documentation sites shipper Works with staff develop deliver appropriate necessary reports Works with departments ensure maintain relevant efficiencies within system\n",
            "2210 Consultant :  Create technical strategy budget proposal Implement monitor technical strategy performance metrics Coordinate internal teams ensure project timelines budgets\n",
            "2217 Software Engineer :  Expertise Python Docker Knowledge core programming concepts including object oriented programming unit testing Experience domains risk credit insurance financial forecasting plus want work here best work your life believe most valuable investment make greatest boost give your career build outstanding team colleagues passionate about mission currently offer following benefits will continually evolve them with goal efficiently attracting retaining leveraging very highest quality talent passionate capable team will always benefitWe proud team have built excited about team have Learn something every more done than would anywhere else Competitive salaries line computer equipment Multiple Medical Dental Vision Benefits options allow customize your your Family needs Paid Time Health Dependent Care Flexible Spending Accounts Short Term Long Term Disability Commuter Flexible Spending Account Transit Parking Supplemental Life Insurance Auto Home Insurance Group Life Insurance Insurance\n",
            "2230 Software Engineer :  Work with Xbox future partnerships relevant TrueSkill TrueMatch\n",
            "2269 DataScientist :  involved approach problem structure delivery solution\n",
            "2274 Software Engineer :  Maximize operational efficiencies engagementsPerform functional tasks including functional requirements development configuration maintenance enhancements upgradesPossess gain solid understanding applications functionality intended processes uses features that business partners leverage during their daily workHave experience working with users development staff issues efforts related implementation maintenance purchasing service management inventory management other business processesInteract with users obtain information share information needed successful system implementation upgrades usage maintenance experienceSupport opportunity pursuits practice development initiativesPromote effective forum sharing expertise\n",
            "2276 Consultant :  This labor category designed other than Information Technology functional expertise expertise required support task This labor category offered only conjunction with professional labor categories Work complexity responsibility will greater higher levels Other duties assigned\n",
            "2277 Software Engineer :  Scope plan deliver implementation projects test automation with focus LiveCompare Define implement LiveCompare usage strategy including roadmap tools framework approach including team enablement across project teamsProvide leadership guidance training mentoring implement LiveCompare across project teamsOversee technological execution recommended testing solution roadmap across project teamsParticipate Design Architectural reviews proposed testing solutions across project teamsAssist Sales team with technical conceptional presentation proposed automation solutions customersDescribe complex technical concepts that makes them easily understandable digestible relatableCreate deliver engaging effective training collateral ensuring customers understand aspects product capabilities incorporate Tricentis products into their organizations This include instructor training self guided training train trainer programs Effectively troubleshoot questions issues within suite products Document daily activity track performance\n",
            "2278 Consultant :  Research companies vendors product marketsAssist business development efforts including organizing efforts coordinating with conference vendors procurement coordinate meetings with internal initiativesSupervise mentor associates\n",
            "2280 Consultant :  Ability design session agenda suite audiences facilitate engaging session experience develop session materials session debrief materials take notes during sessions captures synthesizes information from sessions into debrief materialsConducts research synthesize correlate innovation research findings through design thinking lens conduct design thinking sessions order develop unique points view insightsMine signals change from outside perspective proficient across STEP framework with ability develop deep understanding people social technology economic investment trendsSupports management stakeholders multiple projects across areas focusDevelops manages project plans financials\n",
            "2292 DataScientist :  Convert developed models deployable artefacts Conduct experiments improve deployed models Provide innovative solutions business problems drive patents publications this work popularise work demonstrations blogs Read replicate latest research with towards applying problems Walmart Work agile environment deliver high quality solutions with globally distributed remote teams Promote support company policies procedures mission uphold values standards ethics integrity ideal candidate energetic self motivated individual excited focused solving customer problems quick learner thinker good problem solver someone thrives fast paced dynamic environment\n",
            "2296 ML Engineer :  Work improvements pipelines tooling Optimize memory rendering performance QualificationsCandidates must have work permit citizenshipStrong problem solving skills with ability creative finding solutions Excellent communication interpersonal skills Self motivated strong work ethic able work independently Curiosity kindness positive professional attitude\n",
            "2302 Software Engineer :  Develop maintain industry leading measurement applicationsHelp break down product requirements with team product managers into incremental units deliveryA focus creating experiences that delight customersProactively seek opportunities improvement aspects your role\n",
            "2311 DataScientist :  Take ownership drive resolution while keeping appropriate parties informedCollaborate with cross functional teams needed resolve issuesProactively analyze problems drive root cause resolution prevent recurrencesAssist identifying driving best practices\n",
            "2316 Consultant :  General administrative advising programming responsibilities including limited committee membership advising appointments with students meetings with colleagues toolkit resource development participating hands deck programs Performs other related work needed\n",
            "2319 Consultant :  Informally drive matrixed cross functional teams highly complex learning performance initiatives facilitating learner centered creative design process conducting learner research creating with users prototyping learning experiences that achieve performance outcomes ensuring first time quality speed scale while continuously exercising high levels discretion regarding matters firm importance advanced skills understanding apply learner experience research insights adult learning values processes technology techniques measures recommend implement support creation continuous optimization learning experiences achieve enterprise business outcomes Partner with insights analysis teams across firm design research projects test learns learning measurement plans KPIs feedback loops identify learning performance opportunities formulate validate recommendations monitor performance evaluate impact predict future needs Partner with internal stakeholders established vendors curate incorporate appropriate resources into learning performance initiatives Strategically sequence initiatives within value enablement function synthesize them into continuous learning performance journeys that build critical capabilities protect learner mindshare optimize talent performance achieve enterprise business outcomes Develop business cases including cost estimates time resource present need investment divestment learning performance initiatives Stay current research practices Learning Development other industries experimenting with applications processes optimize learning experiences accelerate business outcomes support development teammates build Enterprise Learning capabilities\n",
            "2332 Software Engineer :  Contribute generation standard protocols intellectual property\n",
            "2338 Software Engineer :  Uses instructional design skills develop customize facilitate improve various learning organizational development programs meet specific business needs Provides learning technology support company sponsored events serves back resource assists configuration maintenance Learning Systems survey tools virtual platforms needed also upload content manage internal learning portal sites apply video editing skills tube adobe photoshop iMovie Garage Band Vimeo\n",
            "2351 Software Engineer :  Lead teams that include Amazonians partners customers build deploy security infrastructure automate security operations customers Lead internal builder projects Become deep technical resource that earns trust customer executive stakeholders Innovate behalf customers translate your thoughts into action yielding measurable results\n",
            "2356 Software Engineer :  Attend Product planning sessions contribute ideas platform Research learn latest technologies related implementation ChannelFactory products\n",
            "2363 ML Engineer :  Build deploy CICD pipelines with workflow management tools Build monitoring tools automate testing pipeline Inspire entire team including your cross functional partners bringing ideas table\n",
            "2365 DataScientist :  Manage projects ensure project milestones reached within given timeline budget allocated Work with agility wear many hats scrappy entrepreneurial environment Provide suggestions constantly improve internal processes methodologies\n",
            "2383 Consultant :  Understand demonstrate Siemens services will impact integrate with customers initiatives business drivers value impact Lead architectural design area many product domain solutions address customers business requirements Understand customers goals objectives identify what change initiatives needed customer more efficient productive Translate business requirements into specific solutions applications process designs moderately complex projects Support project management activities control scope cost schedule quality Interact with customer communicate project processes progress help guide customer expectations adoption Make technical recommendations implement overall system design Teamcenter Solution\n",
            "2389 Consultant :  External reporting managing ensuring accuracy mandated yearly reports state education agencies Internal reporting tracking cyclical student teacher school departmental performance Responding reporting requests from school district office staff Writing advanced queries build internal external reports Responding analysis requests from internal external stakeholders Evaluating program effectivenessSystems Integration Automation\n",
            "2392 Consultant :  Lead business process review sessions identify user stories requirements Lead Salesforce solution design sessions from identified user stories requirementsResponsible build activities configuration Salesforce Platform Facilitate unit system user testingSupport user training documentationManage project status timelines risks overall project individual workstream\n",
            "2418 ML Engineer :  Contribute development algorithms energy optimization systems across asset classes including participation wholesale energy markets level incentive will build highly scalable performant reliable products that benefit directly from work Learn grow constantly feed your passion self improvement make those around better\n",
            "2421 Software Engineer :  Collaborate with internal stakeholders various technology product groups\n",
            "2435 Consultant :  Collaborate with subject matter experts internally externally develop market insights Support sales process creating marketing collateral infused with market insights contributing market strategies proposal development product demonstrations Assume responsibility select functional industry area expertise example become expert cost insights power renewables become expert diversity solutions across energy natural resource customers North America Analyst contributes part Agile Scrum team fast paced environment with high visibility rest company\n",
            "2444 ML Engineer :  Train evaluate deploy deep learning generative models that would useful Facet Scale Facet serving capabilities user base grows ruthless about latency performance Facet integral users professional work Build tooling that will support future model development Added plus personal professional exposure photography video creators production post production including editing Facet benefitsCompetitive salary equity Paid parental leave primary secondary caregivers Three weeks paid vacation Medical Dental Vision Insurance OneMedical membership Build your work environment customize your laptop desk setup with peripheral accessory like Order work related books company Amazon account Flexible working hours have daily team stand understand work better when tethered your desk Relocation assistance Yearly stipend learning development Commuter benefits including monthly ride sharing stipend\n",
            "2449 DataScientist :  Raise issues proactively that might impact delivery commitments\n",
            "2450 DataScientist :  Works with businesses identify ways improve process execution achieve strategy through technology Evaluates overall business need assists with design implementation ensure solutions achieve overall business objectives Develops roadmap meeting short long term objectives Acts primary member project team overseeing documenting decisions that occur throughout project lifecycle Elicits specific requirements using interviews document analysis requirements workshops surveys site visits business process descriptions cases scenarios business process analysis task workflow analysis Identifies potential technical problems before they occur helps implement solutions thoroughly validating system changes relative assigned work Critically evaluates information gathered from multiple sources reconciles conflicts distinguishes user requests from underlying true need\n",
            "2460 DataScientist :  Develop innovative forecasts models algorithms solutions build prototypes production implementations Communicate technical information clearly both technical technical people\n",
            "2464 DataScientist :  Organizes conducts high quality primary secondary research synthesizes findings review colleagues Demonstrates well developed written verbal communication skills including presentations leading meetings report writingWorks willingly effectively with others across organization accomplish team goals\n",
            "2468 ML Engineer :  Performs other related work needed\n",
            "2477 Consultant :  Draft proprietary surveys that focus products categories brand experience macro consumer behavioral trendsOversee technical survey execution including programming copy creative asset coordination distribution monitoringDevelop actionable insights that focus business impactLead management customer panel communication develop ideas maintain engagement retentionSupport user experience testing initiatives identify opportunities site experience design optimization based upon direct customer feedbackManage relationships with agency account teams support resourcesContribute collaborative development focused team culture\n",
            "2490 DataScientist :  Work with stakeholders business people internal project team understand business needs interpret information reporting requirements perform testing customized technology platforms systemsCollaborate with users gather functional technical requirements ensure proper testing validationWork with team members project stakeholders plan roles constraints milestones critical pathAbility work both independently teams\n",
            "2494 Consultant :  Provide sales support Sales team partners prospective customersPresentations demonstrations CoStar Real Estate Manager applicationsImplementation Services plan developmentProof concept management deliverySupport ownership technical aspects sales pursuitRespond technical components required Provide feedback direction effectively selling differentiating CoStar Real Estate Manager applicationsAssist provide input Product ManagementTravel\n",
            "2495 ML Engineer :  Build measurement methodology such conversion lift studies brand insights tools party integrations with measurement partners Build scalable solutions integrating lift study infrastructure into house experimentation platform\n",
            "2506 DataScientist :  product features Take customer need turn into operationally excellent buildIterate publication grade Ideate approaches drive step change increases search quality\n",
            "2518 Software Engineer :  Works closely with customers business analysts team members understand business requirements that drive analysis design quality technical solutions These solutions must aligned with business strategies comply with organization architectural standards experience systems analysis design solid understanding development quality assurance integration methodologies\n",
            "2526 DataScientist :  Provide going tracking monitoring performance statistical models recommend ongoing improvements methods algorithms rewarded recognized your performance environment that will challenge give clear direction what takes succeed your role well provide development other roles interested\n",
            "2528 Consultant :  Expertise Collaborate with field sales sales training support teams help partners customers learn build move production grade environments that support Amazon ConnectDelivery Engagements include short site projects proving services support distributed computing solutions that often span private cloud public cloud services Engagements will include integration adaption existing enterprise call centers into Amazon Connect\n",
            "2531 Consultant :  Develop deep understanding provided project materials standards item specifications style guides Write original unique social studies assessment items variety WestEd projects Item types include selected response open ended performance event technology enhanced Strong consideration will given applicants with experience writing technology enhanced items Create scoring information rubric scored item types Work collaboratively with content leads editors coordinators assigned projects Demonstrate growth improvement necessary during item writing cycle each project Attend meetings each project\n",
            "2538 DataScientist :  Perform current state future state analysis individual business areas Develop business process flows using standard flowcharting methodology tools such Microsoft Visio Participate advancing firm through committees internal initiatives such recruiting marketing knowledge sharing\n",
            "2547 DataScientist :  Collaborate across disciplines deliver amazing customer experience\n",
            "2559 Software Engineer :  Work cohesively collaboratively across stakeholdersCounsel mentor junior members team continue develop team technical acumen\n",
            "2561 Software Engineer :  Develops implements backups policies proceduresAssist developing backup testing frameworkReview backup strategy infrastructure alignment with cybersecurity resilience requirementsAssist developing related policies procedures\n",
            "2562 ML Engineer :  Designing implementing deploying high frequency trading algorithmsDeveloping augmenting calibrating exchange simulators\n",
            "2570 Software Engineer :  Contribute design implementation trading order management execution management systems global fixed income productsBuild real time trading system components support products execution stylesDevelop enhance Rates execution algorithms reduce trade cost improve PnLPartner with front office traders strategists improve execution\n",
            "2574 Software Engineer :  Create maintain technical documentationDesign development Capture components related capture processing recognition business documentsOwnership technical leadership design development validation test automation deployment support production Team technical leadership distribute tasks track progress technical risk assessment problem solving early risk notification report progress status manager Perform assigned jobs with minimal assistance from supervisorRespond promptly professionally reports customer escalations\n",
            "2577 Software Engineer :  Architect develop solutions that highly scalable cost effectiveParticipate prioritization estimation sprint planning\n",
            "2579 Consultant :  Gather assess stakeholder inputs perform analysis elicit business requirements that support enhancements emerging existing business Provides input into analysis that supports assessment solution options Perform walkthrough authored requirements with technical user groups confirm acceptance business requirements prototypes mockups Obtain agreement with stakeholders implementing assigned enhancement support development workflows policies procedures Prepare participate stakeholder communication forums which include workgroups customer calls emails webinars training Work with Business Analyst ensure requirements captured effectively Analyze technical functional requirements validate that they align with authored business requirements Research identify opportunities improvement innovation based industry cross industry knowledge experience Provide research input editing business documentation including limited presentations whitepapers SOPs implementation guides reference materials based materials primary point contact with several customers including internal technical staff Plan business technical staff related BCBSA applications\n",
            "2590 DataScientist :  Learn develop skills management campaign performance campaign delivery campaign profitability Monitor analyze reporting frequent basis ensure optimal delivery performance campaigns\n",
            "2593 Software Engineer :  Intelligent Automation Solution Delivery Work with team developers through design delivery Intelligent Automation solutions business Understand concept triggers actions through process process streamlined automated through technology Solutions will form process orchestration automated workflow development business process evaluation driving insights Partner with business understand their needs define business requirements translate them into technical requirements solution designs Manage communication expectations with business stakeholders Work hand hand with offshore team design build test solutions Intelligent Automation Internal Strategy Operations Define methodology best practices design delivery intelligent automation solutions Design execute firm wide strategies that drive intelligent automation solution adoption Partner with intelligent automation leadership across firm centralize capabilities best practices Identify opportunities operational improvement within team execute cross functional initiatives process automations that improve team efficiency productivity performance Build manage internal dashboards reporting leadership track status impact team portfolio Support overall intelligent automation delivery lead Change Management Operations Governance Other duties assigned\n",
            "2597 ML Engineer :  Maintain distributed systems training deploying monitoring models scale Develop batch real time feature store ingestion make features available offline training online production Constructively review work others mentor other members team Give discussions system design team strategy Participate hours support\n",
            "2599 DataScientist :  becoming Subject Matter Expert your domain will help establish strategic product visionYou will work with partners across organization gathering requirements designing project plans determining approaches defining success criteria\n",
            "2601 Consultant :  Expertise Collaborate with field sales sales training support teams help partners customers learn build move production grade environments that support Amazon ConnectDelivery Engagements include short site projects proving services support distributed computing solutions that often span private cloud public cloud services Engagements will include integration adaption existing enterprise call centers into Amazon Connect\n",
            "2605 Consultant :  Serve technology expert assisting with platform issues coordinating solutions with internal resourcesCollaborate with sales team identify retention risks sell opportunities existing relationships\n",
            "2606 Software Engineer :  Scope development effort provide reliable resource timeline estimatesConduct performance scalability analysis neededResponsible development customer specific solutions based company technology performing integration with customers systems providing ongoing support customersProvide input performance management personnel decisionsContribute company road technical architecture well budget planning forecasting activitiesQualificationsExpertise Javascript Python Numpy Pandas VueJS HTML CSSExperience with building deploying maintaining production applicationsExperience managing cloud based infrastructure Bachelor degree Computer Science related fieldOutstanding organizational leadership skillsExperience explaining technical concepts technical audiencesInterest tech startups business philanthropyThe Person Qualities that would make great Emotional resilience high consistency growth orientedPassionate about CariClub missionEmbraces challenges daunted large projectsExcellent communication skills across levels organizationAbility take criticism improve constantlyDesire manage grow work with lean teams Adaptable resourcefulResults goal orientedCariClub PressThe Wall Street Journal Nonprofits Turn Matchmakers Fill Their BoardsCrain former trader connects young professionals charitable boardsForbes Meet Startup Helping Employees Join Profit Junior Boards Companies Like Citigroup KKRBloomberg Elite Firms Circling This Little Start UpFast Company Want give back being nonprofit board This site will helpEntrepreneur Holiday Thought Philanthropic Involvement Advance your Career Here\n",
            "2608 Software Engineer :  Work closely with product design teams create amazing intuitive experiencesParticipate medium large scale complex cross functional projects reviewing project requirements translating them into technical solutionsEnsure time delivery communicate status issues team members stakeholdersDemonstrate date expertise applies this development execution improvement action plans providing expert advice guidanceUtilize strong interpersonal skills working with numerous internal teams expand personal team knowledge upcoming productsTroubleshoot business production issues gathering evaluating information Model compliance with company policies procedures supports company mission values standards ethics integrity incorporating these into development implementation business plans using Open Door Policy demonstrating assisting others with apply these executing business processes practices\n",
            "2617 Consultant :  Support Product team accomplishing goals objectives Consumer internet businesses Lead exploratory analysis identify size product development opportunities determine tradeoffs between product features that grow optimize product offering Conduct deep dive analyses understand product performance conduct complex initiatives that address strategic questions drive assorted projects Inform development with product leadership\n",
            "2618 DataScientist :  Measure recommend improvements digital products across various MiLB properties Present thoughtful cohesive evidence support initiatives campaign proposals various stakeholders Develop dashboards reports analyses that provide insights into major projects initiatives trends around League Create distribute traffic usage reports assist internal business owners upper management MiLB Clubs partners project creation prioritization Build presentations regarding project performance dissemination internally Manage multiple tasks fast paced deadline driven environment\n",
            "2629 Consultant :  Develops reviews communication materials department translating summarizing technical information business audiences developing messaging Advanced experience with Excel Tableau Consistent exercise independent judgment discretion matters significance Regular consistent punctual attendance Ability work nights weekends variable schedule overtime necessary Other duties responsibilities assigned Comprehensivebenefits package effective including health dental vision highly discounted cable services employee perks much much more\n",
            "2631 Software Engineer :  Support Director Product shaping overall Product vision strategy then delivering realizationPerforming line management product squads operating within AGILE methodologyCollaborating closely with Business Owners define product roadmaps epics features user storiesUnderstanding business purpose story defining analyzing possible alternative ways satisfying business purpose storyWorking with team members take shared responsibility overall efforts that team committed toInteracting with stakeholders necessary clarify requirements agree prioritiesReview project team solution designs ensure technical alignment consistency against predefined target architecture established standardsWork partnership with third party suppliers formulate execute delivery customer focused Product Services\n",
            "2634 DataScientist :  Investigating impact technologies future digital banking financial world tomorrow\n",
            "2642 Software Engineer :  Decompose user requirements into logical functions components Design develop maintain front applications scalable nalytics ystem Create metrics reports based unique business needs Have solid understanding arehouse development optimization techniques\n",
            "2659 Software Engineer :  Assist performing analysis business requirements route system design executionDevelop wireframe schematic diagrams support customer requirements gathering facilitate overall business process discoveryCollaborate work closely with house development team implement custom solutionsWillingness develop NetSuite product skills areas required customer engagements dedicate time toward professional certifications\n",
            "2663 Consultant :  Work complexity responsibility will greater higher levels Other duties assigned\n",
            "2669 Software Engineer :  Become master things Medrio sAdvise internal Product team future feature enhancements releases Cross functional Custom Reporting meet customers needs Update maintain expand technology stack responsible automated services reporting Know your around Powershell Windows Task Scheduler Contribute ongoing efforts enhance customer success efforts prioritizing Medrio core value Customers First Ability tackle multitude technical projects with strong prioritization skills Ability clear expectations follow execute\n",
            "2675 Consultant :  Team leadership experience plusWork with various iCapital business units understand needs resolve issues maintain open lines communication Keep forward looking technology landscape helping shape overall technology strategy iCapital\n",
            "2679 Software Engineer :  Work with Xbox future partnerships relevant TrueSkill TrueMatch\n",
            "2685 DataScientist :  Please list what need person here make these tasks sound interesting possible\n",
            "2696 DataScientist :  Provide auditing review feedback design resources from user experience perspective user oriented scripting flows assigned channel Working identify improvement enhancement opportunities assigned channel Producing maintaining documentation activities test cases generated reports created facilitate ready reference\n",
            "2704 DataScientist :  self service dashboards monitor report onboarding programs such attendance actual planned return after onboarding process efficiency identifying bottom performing sites Assists setting adjustment hiring program goals Partners with product program owners reassess metrics track business growth success Trains program teams other stakeholders around self service dashboards\n",
            "2707 Consultant :  Serve mentor junior staff members Effectively develop manage relationships with vendors Participate technical peer review process\n",
            "2714 Consultant :  Digital rights management Tokenization\n",
            "2720 Software Engineer :  Participate roadmapping architecture discussionsLead large projects from initial inception production\n",
            "2729 Software Engineer :  Natural language processingWrite maintain excellent documentation work\n",
            "2741 ML Engineer :  best practices training testing validation build accurate reliable models\n",
            "2746 Software Engineer :  Autonomously pulls issues from team backlog supports other team members with their issues appropriate Participates team activities such backlog grooming planning daily stand retrospectives Contributes designs individual stories Incorporates aspects information security their work Develops understanding changes team deliverables affect other teams customer Additions service delivering teamsIdentifies operational issues brings them attention team Autonomously plans performs routine changes Independently resolves incidents around limited service functions Independently handles service requests Realizes that resource consumption directly affects SaaS profitability\n",
            "2765 DataScientist :  Troubleshoot discrepancies reportingTrack conversion rates between stages sales funnelFacilitate adjustment metrics sEnsure that records unique accurate completeManage team projects track hourly shifts\n",
            "2769 Consultant :  selected strategist will work closely with business initiative leaders across organization development strategic recommendations executing projects associated with KCNA strategy Additionally will work with range teams create strategies functional category brand level that drive shareholder value with clear plans implementation also participate annual Strategic Business Planning process Conduct interviews lead brainstorming sessions find critical business information help business leaders develop innovative approaches their business Interpret results from multiple project components translate these finding into clear compelling recommendations solutions Proactively take additional responsibilities projects needed continuously improve KCNA performance\n",
            "2792 ML Engineer :  Train fine tune deep learning models cases biometrics\n",
            "2809 DataScientist :  Contribute process improvement activities enhance Pharmacy does businessTravel time required\n",
            "2813 DataScientist :  Sharing knowledge findings through effective verbal written presentations stakeholdersSupporting development implementation quality improvement strategies Assisting development implementation research agenda\n",
            "2830 DataScientist :  Identify fundamental questions given technical problem come with feasible solutions evaluate results determine sound final solution Effectively handle tasks priorities deliver quality scale\n",
            "2835 DataScientist :  Extract text formatting from various file types including\n",
            "2837 DataScientist :  Design implement maintain necessary tools which assist translating research into medical devices deployed real clinical workflow project leader responsible gathering requirements collaboration with investigators creating project plans leading execution Maintain technical security standards established Medical Center MCIT adhere governance policies\n",
            "2838 Consultant :  Follow corporate protocols procedures specified your Team Lead\n",
            "2841 ML Engineer :  role model team collaborating good object oriented designs domain modeling Reinforce good development practices like test driven development continuous integrationDevelop areas continuous integration automated deployment Make recommendations process improvements such automated testing approachesIntroduce follow good development practices innovative frameworks technology solutions that help business move fasterFollow best practices like estimation planning reporting improvement everyday work foster atmosphere experimentation continuous learning\n",
            "2843 Consultant :  Monthly custom financial reporting certain business units This could include expense revenue variance reporting vendor spend against contracts vendor savings resource modeling monthly dashboard reporting including performance metrics business metrics core cost goals benchmarks Development utilization effective financial modeling collect streamline analyze monitor communicate financial results management their representation senior leadership executives Perform monthly reporting monitoring well value added analysis various levels staff management variances accruals trends metrics Respond resolve various financial requests customer service issues including limited Develop maintain foster financial communications with multi departmental management amongst Finance team\n",
            "2848 Consultant :  Help cultivate environment where team members empowered demonstrate strong sense ownership belonging\n",
            "2849 Consultant :  Manage interaction with Business stakeholders project requests needs Manage development teams monitor progress manage risk provide functional support Facilitate business process analysis including requirements case gathering documentation interpretation user specifications Monitor manage project progress relative deadlines deliverables\n",
            "2863 DataScientist :  steer monetization strategy through building optimizing managing monetization setups maximize revenue across portfolio gamesLead monetization partner integration testing rolloutManage relationships with different providers optimize performance maintain partnerships ensure compliance with brand safety guidelinesCollaborate with Product User Acquisition teams share knowledge improve efficiency outputActively constantly learn your love teach expect build that being proactive seeking knowledge solutions\n",
            "2872 Consultant :  Prepare deliver presentations that translate Qraft capabilities into practical tangible commercial Also document share research initiatives internally Mentor junior team members help them develop practical financial insights expand domain knowledge Collaboratively contribute build best practices financial services\n",
            "2883 Software Engineer :  Lead fast cycle prototyping proof concept activities evaluate proposed solutions approaches drive implementation adoption\n",
            "2884 DataScientist :  Collaborate work effectively across large matrix organization\n",
            "2886 ML Engineer :  Contribute projects from early stage research through developmentImplement optimize state algorithms distributed environmentsParticipate fully collaborative approach research applications projects\n",
            "2887 DataScientist :  Perform related duties assignedAssist other departments needed\n",
            "2897 Software Engineer :  Maintain improve deliver innovations existing product suiteContribute testing design experimentation driven analysisPresent senior leadership project proposals resultsProduce technical documentation research design\n",
            "2906 ML Engineer :  Deploying models production environments\n",
            "2908 ML Engineer :  Contribute research development technical design product featuresDevelop novel tests around security reliability robustness modelsStay current academic research related ongoing team projects\n",
            "2941 DataScientist :  Join group passionate people committed delivering happiness users each other\n",
            "2943 Consultant :  Delivery high quality senior executive level deliverables Provide performance analysis process improvement using industry best practice methodologies tools Support publication proposed rules Federal Register\n",
            "2945 Software Engineer :  Design develop maintain administrative systems trading clearing applicationsUnderstand exchange business prioritiesRecommend improvements customer experience\n",
            "2952 DataScientist :  Design oversee execution sophisticated predictive models inform contracting strategies patient cost affordability programs prescriber utilization brand performance financial modelingDevelop project work plans engagement teamsActively manage more junior team members work projectsAssist with recruiting team members participate interview process\n",
            "2982 DataScientist :  Demonstrates Research work related more following areas Customer experience improvement using virtual assistants chatbot network modeling optimization Collaborates with teams outside immediate work group Represents work team providing solutions technical issues associated with assigned projects Collaborate with platform team remediate model issues provide subject matter expert opinions model improvements Perform model validation activities including validation report write identification model risks development benchmark models Researches writes edits documentation technical requirements including evaluation plans confluence pages white papers presentations test results technical manuals formal recommendations reports Contributes company creating patents Application Programming Interfaces APIs other intellectual property Develop algorithmic solutions technical requirements custom designs future products applications\n",
            "2989 DataScientist :  Practices self development promotes learning others proactively providing information resources advice expertise with coworkers customers building relationships with cross functional stakeholders influencing others through technical explanations examples adapting competing demands responsibilities listening responding seeking addressing performance feedback providing feedback others creating executing plans capitalize strengths develop weaknesses supporting team collaboration adapting learning from change difficulties feedback Completes work assignments supports business specific projects applying expertise subject area supporting development work plans meet business priorities deadlines ensuring team follows procedures policies coordinating resources accomplish priorities deadlines collaborating cross functionally make effective business decisions solving complex problems escalating high priority issues risks appropriate recognizing capitalizing improvement opportunities Conducts communication activities providing support internal external stakeholders managing maintaining vendor relationships defining communicating brand ensure positive reputation recognition ensuring communications align with standards ensuring communication activities performance metrics documented tracked\n",
            "2990 DataScientist :  Design automated workflow process forms notificationsDesign reporting mechanismsDevelop test efficient well documented workflow processesMaintain task lists decision pointsParticipate ongoing vendor professional development meetingsCoordinate efforts with InOutsource project managers teamContribute updating repeatable templated InOutsource project methodologies\n",
            "2996 Consultant :  Build PowerPoint briefingsDraft meeting minutesTrack action itemsProvide communication support other operational tasks\n",
            "3000 Software Engineer :  Support Product owner Product Manager Support developing product vision product capabilities priorities product roadmap Support synthesizing input from business user research technical solutions refine product roadmap Integrated roadmap Write epics user stories acceptance criteria tasks Jira Manage Jira board Support assessing risks issues develop mitigation resolution strategiesSupports grooming activities supports Product Manager decompose experiences into epics user stories\n",
            "3005 Software Engineer :  Decompose user requirements into logical functions components Design develop maintain front applications scalable nalytics ystem Create metrics reports based unique business needs Have solid understanding arehouse development optimization techniques\n",
            "3026 ML Engineer :  Write validate maintain programs Python Hive order support research Write technical requirements support implementation testing improved methodologies products\n",
            "1522 ML Engineer :  Create validate stress test algorithms that employedShare ideas across team come with best algorithms approaches\n",
            "1539 DataScientist :  Ensuring that algorithms generate accurate user recommendations Auto tagging images text speech conversions speech text conversion Running tests performing analysis interpreting test results\n",
            "1571 ML Engineer :  Contribute technical leadership project still infancyDesign develop application automated processing systems\n",
            "1591 DataScientist :  Work with project manager product owner meet specification needsCollaborating with management staff understand their needsCreate flowcharts user guides existing programsDocument tasks proceduresConducting research organization customers Developing plans implement solutionsKeeping abreast changes industry\n",
            "1593 Consultant :  Facilitate collaborative design sessions shape target state vision identify transformation initiativesFocus outcome driven business recommendationsAct liaison between actuarial teams business stakeholders\n",
            "1595 Software Engineer :  Implement deliver financial applications that meet Prime functional functional requirements global broker dealer platform Mentor other developers building global liquidity network scale across financial centers world wide Provide technical input knowledge design implementation domain model architecture broker dealer platform\n",
            "1600 Software Engineer :  Develop core technology Detection localized Tracking federated learning Contribute building platformEstimate scope duration effort risk project proposals Mentor share knowledge with others\n",
            "1602 DataScientist :  Work with Business Stakeholders understand business processes procedures Conducting meetings presentations share ideas findings Effectively document communicate results your efforts\n",
            "1607 Software Engineer :  Brainstorm design improved functionality within iCREF based business needs showcase ideas teamUnderstand execute long term vision goals iCREF platformWork with Director Product Development develop metrics assess success product features determine necessary enhancementsCreate update functional requirementsCommunicate concerns with iCREF application associated recommendations correct Director Product Development work with team implement approved recommendationsProvide project level analysis produce related documentation scoped business requirements scope matrix workflow relationship diagrams Work with Quality Assurance Team review update cases help build planManage meeting minutes meeting schedules updates\n",
            "1626 Software Engineer :  Lead project teams deploy solutions ServiceNow platformLead complex programs multiple resourcesLead architecture design complex solutionsLead creation written deliverablesLead integration design sessionsEscalation point project teamWork influence team members broader internal team external customers likely including senior management agree accept concepts practices approachesObtain maintain certifications with associated qualificationsMaintain expert level certificationsIdentify communicate opportunitiesParticipate sales cycle technical expertProvide thought leadership Ahead customersCommunicate with external customers which include management matters that require explanation interpretation advisingGenerate differentiated marketing thought leadership marketingContribute projects programs that address future concepts products technologiesDrive consensus with customer solving complex solutions\n",
            "1632 Software Engineer :  assist with development current Digital Identity projects\n",
            "1637 Software Engineer :  Help define vision strategy IonQIdentify opportunities technological investmentAssist career development senior staff providing mentorship advanced technical issuesCommunicate highly technical subject matter both technical technical stakeholdersThe ideal candidate will have experience leading contributing multiple simultaneous product development efforts projects initiatives have excellent interpersonal skills able balance technical expertise savvy with strong business judgment make great technology choices strive simplicity demonstrate significant creativity incisive judgment\n",
            "1643 DataScientist :  Write documentation where appropriate\n",
            "1649 Software Engineer :  Active Secret Security Clearance years experience working within program officeFamiliarity with Integrated Master Schedules Earned Value ManagementProficiency Microsoft Office applications especially Excel Power Point\n",
            "1652 ML Engineer :  Implement tune benchmark techniques article analysis attributionWork with technologies like Python Ruby Scala Redis ElasticSearch Apache Spark Kubernetes Docker This position centered around creating internal dashboards reports Tableau primarily focused around working with large state foundation models tuning cases deploying scale\n",
            "1655 Software Engineer :  Write user stories acceptance criteria functional nonfunctional requirements explain details Development Operations Quality Assurance teams Collaborate with product project management technology leadership developer deliver project according requirements\n",
            "1671 Software Engineer :  Provide technical expertise further design development testing evaluation existing digital twin simulation system Ensure full compliance with contract requirements schedules provisions\n",
            "1678 DataScientist :  Influence partners senior leaders communicating across various levels organization clear compelling Identify prioritize drive operational improvements Competencies Experience Proven experience with marketing technologies such Salesforce Marketo JIRA similar technologies plus applicant should have least years work experience relevant business environment Able perform fast paced environment comfortable with ambiguity sharp focus results solid attention detail\n",
            "1680 Consultant :  Goal Setting Performance BudgetUnderstanding site behavior engagementIdentify Website ErrorsAd reporting Consistent exercise independent judgment discretion matters significance Regular consistent punctual attendance Must able work nights weekends variable schedule overtime necessary Other duties responsibilities assigned\n",
            "1681 Software Engineer :  Serve scrum master single Agile workstream facilitate Agile ceremonies using standard methodologies flexible balance teams optimal style working Utilize traditional project management approaches where appropriate improve identifying dependencies accomplishments reporting Identifies tracks removes resolves impediments feature project team success Tracks reports project metrics efficiency Assists team with Sprint planning story point estimations retrospectives improving velocity identifying other opportunities improve team performance Supporting Product Owner advocating their behalf championing goals value delivered along roadmap Disseminate relevant information team stakeholders leadership needed Examples include tracking communication team velocity sprint release progress Coordinate track execution project activities across team members facilitate meetings phone conferences establishment working groups needed\n",
            "1692 DataScientist :  Collaborate closely with peer teams ensure coordination synergy seamless overall execution Understand integrate relevant regulations industry trends into work plans exploring emerging frameworks assessing feasibility using proof concepts\n",
            "1695 DataScientist :  Identification implementation innovation opportunities leveraging Agile capabilities drive improved cost quality speed Understand translate customer needs into implementable business solutions enable long term successAccountable ensuring technology solutions represent current future business requirementsImplement continuous improvement approach achieve expectations delivery efficiency effectiveness balancing cost quality\n",
            "1699 Consultant :  Commit hours month weeksWork with students small group setting workshops\n",
            "1705 Software Engineer :  Delivering design specifications plans reports project execution within approved schedule budget Evaluating successes challenges lessons learned during implementation completion every project\n",
            "1709 ML Engineer :  Propose implement evaluate algorithms that play games high skill levelWork with game teams propose define develop enabled features metagame analysis player coaching play Integrate game servers into research training infrastructureDevelop optimize distributed training infrastructure including algorithms hyperparameters memory OInform manage stakeholders game teams\n",
            "1729 ML Engineer :  Advise implement technical delivery project based work Advise solution architecture based solutions Implement components based solutions Work with technology counterparts member Agile Scrum crew implement based solutions Establish best practices within Agile crews model development workflow devops modelops methodology model productionization\n",
            "1730 Software Engineer :  Monitor maintain administer infrastructureCoordinate jobs tasks Enterprise schedulerSupport Corporate Performance Management Reporting applicationsTrain users applications toolsAssist with projects requiredPrintpack proudly equal opportunity employer committed creating inclusive environment Embracing diversity only enhances work culture vital success discriminate based race color religion including pregnancy national origin gender identity sexual orientation marital parental status genetic information national origin ancestry ethnicity disability marital status military veteran status affiliation other characteristic protected under applicable\n",
            "1732 Consultant :  Provides technical direction assigned project defined duration Performs house site remote support KUKA products needed basis relative product project requirements position requires moderate domestic occasional international travel provide customers with highest quality products services\n",
            "1733 Software Engineer :  Develop transactional applications using Angular Bootstrap Work with business analysts understand requirements Work with technical management design Work with quality assurance analysts resovle defects\n",
            "1736 Software Engineer :  will have opportunity conduct Design Thinking sessions gain insights into user customer needs will lead product backlog product facilitating visioning sessions assist defining prioritizing features maintaining product backlogs will partner with other Business Analysts collaborate team dependencies build community practice will engage with various organizations resolve problems production production environments they arise will possess overall understanding appropriate business processes workflows will engage business owners other resources respond requests applications enhancements collaborate with Engagement Manager create present appropriate project boarding processes materials will lead Testing activities within project lifecycle include leading shore resources develop execute Test Plans Test Scripts other work activities related Quality Assurance Products\n",
            "1751 Software Engineer :  Apply enterprise architecture techniques financial application platformAssist conversion design training activities throughout program planning execution\n",
            "1752 DataScientist :  Continually work deepen product industry knowledgeExchange share knowledge with team maximize knowledge effectivenessContribute Knowledge Base authoring required volume materials high quality accuracy with close attention detail\n",
            "1758 ML Engineer :  Design implement indexing strategies minimize latency Develop computer vision methods extract product characteristics from images Create user interfaces that allow business experts state constraints objectives Combine keyword based embedding based matching provide optimal search results Design algorithms that learn from customer behavior improve search continuously Productionize algorithms highly modular reusable APIs everything with world class quality reliability\n",
            "1771 Software Engineer :  Provide vision leadership through process gathering business requirements recommending solution architectures Microsoft Azure premise hybrid cloud implementations necessary Continue drive best practices throughout design development testing final implementation with project team Partner with customers build relationships drive positive engagement experience that fruitful both customers project team Resolve issues necessary expectations maintain healthy work environment Leverage Neudesic Intellectual Property implementations become thought leader continue improve capabilities resulting efficient consistent delivery customers Engage help drive sales process with existing customers Identify scope requirements then build vision solution including architecture deliverables resources timeline costs deliver\n",
            "1772 Software Engineer :  highly motivated self starter passionate about technology solving problems creative manner\n",
            "1789 ML Engineer :  will building cutting edge high quality alpha platform involves Developing libraries services platformSupport production modelsIdentifying prototyping alpha enabling technology\n",
            "1800 Software Engineer :  Provide architectural solutions designs project execution teams implementation Provide technology architectural assessments strategies roadmaps more technology domains Lead work stream team lead manage complex components work plan project\n",
            "1805 Software Engineer :  Identify implement application systems internal departments Accounting Operations Property Management Collaborate with stakeholders identify areas improvement business process ways optimize technology more effectivelyDevelop maintain thorough documentation gather technical functional requirement that will enhance business workflow processManage cross functional projects collaborate with Application Development team during product development lifecycle process\n",
            "1810 Software Engineer :  Maintenance technical documentation relates DaaS delivery processesAssist development maintenance Airflow dependent processesRegularly communicate progress timing implications directed tasks\n",
            "1816 Consultant :  Ability synthesize complex subjects into impactful executive summaries Help drive Architecture Governance engagement strategy with Business Technology leaders Create flow charts architecture diagrams Partner with stakeholders build roadmap modernization strategy silos across plus person Institutional Securities Technology division Create thoughtful whitepapers practical executive briefings partnership with Architects consumption divisional leads Develop training material architecture best practices principles technologies division\n",
            "1819 DataScientist :  Utilize services build production ready models real time inferenceCoordinate with different functional teams implement models monitor outcomesDoing analysis presenting results clear mannerCreating automated anomaly detection systems constant tracking their performance\n",
            "1821 Consultant :  Generate sales pipelineUnderstand Common Energy marketing sales material\n",
            "1830 Consultant :  interactive engaging discovery sessions with teams executives business users identify high value cases ultimately craft roadmap This will include scoping existing decision making processes future processes augmented with support Commercial Managers responsible sales scope opportunities Peak solutions help drive decision making commercial growth customers build customers strategy approach based Peak vision category creation Decision Intelligence work cross functionally with other commercial leaders business evolve improve processes structure systems continue build Peak brand culture through speaking engagements webinars blog posts\n",
            "1844 DataScientist :  Synthesis findings into actionable insightful suggestions recommendations based thorough analysis findings Work with business unit owners identify actionable solutions Produce regular monthly reporting presentations senior management business stakeholders Identify research opportunities create research plans survey interview guide uncover customer insights Project manage evergreen research projects qualitative quantitative through collaboration with business stakeholders third party researchers vendors Research leading tool optimize scale voice customer collection insights Monitor competitor developments prepare related analyses necessary\n",
            "1847 Consultant :  Work design development Audit learning performance solutions from needs analysis deployment measurementResearch internal external content meet business needsWrite Audit training material global Audit professionalsWorks with subject matters experts develop training materialsDevelops learning solutions across range modalities\n",
            "1868 ML Engineer :  Architect unified MLOps methodology that teams follow highly productive deliver safe productsDefine spread best MLOps practices automation monitoring scale safetyContinuously evaluate latest packages frameworks ecosystemPresent demo research topics Daimler internal groups external events such academic conferences tradeshows\n",
            "1872 ML Engineer :  Conduct tests evaluate learning algorithms features\n",
            "1877 Software Engineer :  Working with team define functional user requirements architectural requirements complex specified neuroinformatics systems Using object oriented analysis design techniques design document complex specified systems Verifying that systems meet performance criteria\n",
            "1878 DataScientist :  Research novel strategies multi label text classification with hierarchical labels Determine best combination models deploy using both theoretical experimental techniques Develop metrics assess improve models\n",
            "1884 Consultant :  Develop fraud metric reporting ongoing monitoring routines Communicate fraud related incidents stakeholders Participate development business cases support fraud strategic initiatives\n",
            "1886 DataScientist :  Enhancing previously developed house applications such those selecting samples\n",
            "1887 ML Engineer :  Scaling from proof concept cluster scale eventually hundreds clusters with hundreds terabytes each terms both infrastructure architecture problem structure\n",
            "1892 Consultant :  Documenting functional requirement specifications define detail input output file content systems functions system controls performance criteria Help establish cost time estimates implementation Testing project deliverables ensuring they line with documented requirements Making recommendations implementation systems technologies where appropriate Discuss proposed solutions complex systems with customer Participation sales activity including limited demonstrating product functionality proposed enhancements Contributing Implementation Best Practice guidelines\n",
            "1894 Consultant :  Collaborates acts liaison with internal external global assist with problem resolution troubleshooting Participates cross functional project teams Maintains awareness knowledge MetLife competitors products trends Perform other related duties assigned required\n",
            "1897 Software Engineer :  Power Developer will utilize best practices design develop support Power visualizations Publish reports dashboards using Power Service sharing collaboration Power Developer will optimize Power dashboards with focus usability performance Understand requirements visualize Dashboard Work different metrics calculations using Power functions Schedule dashboard refreshes proactive notifications\n",
            "1921 Software Engineer :  Solutions Define deliver site technical engagements with partners customers This includes participating sales site visits understanding customer security compliance requirements proposing delivering packaged offerings delivering custom solution engagements Expertise Collaborate with field sales sales training support teams help partners customers learn services market verticals regulated industries such financial services healthcare life sciences energy Delivery Engagements will include migration existing applications development applications using cloud services This will done onsite customer projects\n",
            "1924 Software Engineer :  Automated testing providing feedback management during development processModifying testing changes previously developed programs\n",
            "1929 Consultant :  Promote adhere comment global functional standards processes methods across products studiesCollaborate with functional service provider staff membersAssist study system audits internal external bodies provide guidance responses audit questions findings\n",
            "1930 DataScientist :  Collaborate across disciplines deliver amazing customer experience\n",
            "1941 DataScientist :  Develop execute complex project plans milestones Leverage project team talent assigning people tasks accordingly Ensure strategies objectives aligned with project priorities Proactively identify mitigate risks Lead cross functional projects across multiple systems functions Understand manage project interdependencies\n",
            "1943 ML Engineer :  Conduct tests evaluate learning algorithms features\n",
            "1980 Software Engineer :  business with Scrum team submit meticulous work estimates Solve deliver production support\n",
            "1985 Consultant :  Delivery results projects time budgetWorking part broader team identify longer term solutions that will improve quality speed efficacy current projects programsEvaluating benchmarking libraries prototype pipeline development Excellent communication effective problem solving skills track record serving variety diverse customers projectsAbility work independently prioritize manage people needed within environment with ever changing prioritiesDemonstrate excellent communication skills such excellent oral written presentation skills\n",
            "1991 Consultant :  Provides thought leadership development ideas process improvement opportunities using emerging technology Partner with stakeholders understand problems opportunities facilitate organization goals understanding business vision objectives performance indicators Align technology requirements solutions real business need meets essential quality standards ensures approval relevant stakeholders Promote processes methodologies emerging technologies agile aligns unique project team requirements\n",
            "1993 Software Engineer :  Communicate with quantitative researchers other users understand their requirements potential future requestsDevelop processing components using cutting edge technologies write robust tests going quality controlSupport developed transformations frameworks production trading well backtest research\n",
            "2000 Software Engineer :  Lead facilitate discovery conversations with customers understand their needs including legacy processes systems allowing Arkestro solution positioned with correct value propositionDeliver high value demonstrations customers well maintaining building demo environments applicable industry vertical specific deal pursuitsFacilitate evaluation cycle deals including answering questions related business processes technical integrations other systems security architectureParticipate creating Business Cases tangible Return Investment modelsConvey voice customer back Arkestro Product Team\n",
            "2001 Software Engineer :  Build Build website scale clicks month Design build conversion funnel drive growth\n",
            "2004 DataScientist :  Prepares technical design specifications based functional requirements analysis documents Reviews functional requirements analysis design documents provides feedback Assists customer support with technical problems questions Analyzes existing business system processes Develops process designs determination Determines documents business system processes performed determination Creates executes documents testing scenarios Provides guidance assistance other subordinate team members Performs other duties assigned\n",
            "2009 DataScientist :  Finding relevant clauses customers their legal documentsInformation Retrieval from documents with natural languageEntity Extraction example effective date duration payment terms parties from legal contractsVisual Document Information Extraction Object Detection Field Extraction from Documents with Variable StructureDocument Classification ClusteringGeneral Pipeline management\n",
            "2022 DataScientist :  Build develop maintain models used core search recommendation functionality flagship mobile freight booking platform carriersTest evaluate deploy models features achieve better outcomes metricsCommunicate factors algorithmic decision process technical stakeholders\n",
            "2028 Software Engineer :  Develop monitor KPIs platform teams\n",
            "2032 Software Engineer :  Create maintain technical documentation Design development Capture components related capture processing recognition business documents Ownership technical leadership design development validation test automation deployment support production Team technical leadership distribute tasks track progress technical risk assessment problem solving early risk notification report progress status manager Perform assigned jobs with minimal assistance from supervisor Respond promptly professionally reports customer escalations\n",
            "2060 Software Engineer :  Participate reviews with designers respond design feedbackAdvise architecture real time media pipelinesEvaluate potential tools techniques experimental projects\n",
            "2062 Consultant :  Partner with Operations Finance teams perform annual review financial performance budget update projections each contract Understand contractual terms conditions identify potential risks opportunitiesUnderstand turbine technology operating maintenance considerations Understand Multi Year agreements policies modeling procedures business forecasting standards Drive modeling uniformity through close collaboration with rest global Modeling team well with Technology Productivity organization Finance Operations Commercial teams Provide detailed scenario variance analysis identify recommend ways maximize contractual profitability Support Operations team financial forecasting renegotiations analysis executing What Simulations scenarios different operating contractual alternatives Partner with Risk Commercial Operations teams during handover process contracts providing Quality Assurance Controllership Financial Model Partner with Risk Finance leaders Operations team Controllership support implementation revenue recognition standards into modeling tool Asses review accounting policy updates into financial models needed analyzing reporting financial impacts Communicate regarding above topics level management proactively engage others influence drive action\n",
            "2065 ML Engineer :  Development Planning prioritization Stakeholder engagement Central coordinationDevelop maintain existing based Python application RESTful\n",
            "2074 Software Engineer :  Responsible development maintenance system featuresWill work with other team members investigate design approaches prototype technology evaluate technical feasibility Will establish architectural principles select design patterns then mentor team members their appropriate application\n",
            "2078 Consultant :  Prepares analyzes explains historical projected financial information Identifies technical matters conducts research documentation conclusion seeks help when issues beyond experience Enters income statements balance sheets into valuation model Assists building valuation litigation models Leading People Builds maintains positive relationships across firm Supports interns professional development Assists report preparation proposals executive presentations Maintains open communication with management regarding progress completion projects Executes feedback minimize repeated errors apply concepts Participates actively training developmental opportunities Utilizes computer applications relevant technology effectively Enters time daily Executive Presence Participates Firm events Commits outside reading studying professional growth Demonstrates integrity objectivity high standard ethics\n",
            "2085 Consultant :  Assess technologies identify controls test controls Assume responsibility staff work ensure high quality work delivered within established deadlines Support training mentoring staff interns necessary Perform other duties assigned firm leadership\n",
            "2091 Consultant :  Guidance Direct opportunities working with customers partners discover appropriate solutions build roadmap plans matching their unique environments business technical requirementsDelivery Define deliver technical engagements with partners customersEvangelism Collaborate with field sales sales training support teams help partners customers learn best platform services such Amazon Connect Pinpoint Personalize SageMaker QuickSight Provide expertise designing building relevant assets heading managing large scale projects across multiple stakeholdersCross Functionality Work with peer trailblazers across Professional Services develop cross functional ability augment each other offerings roles\n",
            "2104 DataScientist :  Definition Dialog interview with business stakeholders issues questions answer during analysis Provide direction suggestions based experience order clearly articulate business questions manage scope analysis Document analysis charter that outlines scope goals analysis\n",
            "2109 Software Engineer :  Build implement tools artists across multiple platformsResolve pipeline issues identify areas improvementWork with Artist teams help realize vision game\n",
            "2115 Software Engineer :  Translate these requirements into design documentsExperience with components Tableau suite including limited Tableau Desktop Tableau Prep Tableau Architecture Effectively communicate with Business stakeholders Technology teams throughout organization ongoing basis\n",
            "2128 DataScientist :  Responds production performance issues sees those performance issues through resolution Performs deep performance related diagnostic troubleshooting analysis Communicates performance analysis stakeholders suggests applicable changes Identifies workflows system characteristics performance tested monitored Defines performance benchmarks Analyzes test results identify issues works with architects developers suggest improvements drive issues resolution Analyzes production monitoring metrics trace back test results offer suggestions areas performance improvements Works with team ensure quality standardization performance test plans scripts results\n",
            "2142 Software Engineer :  Manage process queues mitigate exception output within expected SLAsCollaborate communicate with business partners Perform accuracy checks resolve exceptions produced submission processesAssist development tools measure provider directory elements compared Salesforce ensure accuracy alignmentAnswer user questions\n",
            "2161 Consultant :  Literature reviews generation annotated bibliographies support research proposal development Creation Management Institutional Review Board protocols Research participant recruitment consent management participant related research files Publication manuscript development editing formatting\n",
            "2181 Software Engineer :  security liaison between Enterprise Technology development operations Information Security Facilitating project teams through Information Security diligencePerforming risk assessment risk management primarily associated Microsoft Develop deliver security artifacts security requirements project teamsInfluence project teams other stakeholders security controls\n",
            "2186 ML Engineer :  Deploy these algorithm with microservices architectures using Python Develop trusted advocate relationship with internal external customer constituents\n",
            "2190 DataScientist :  Push limits avionics creating rapid prototyping innovative user experiences interactionsDevelop iterate rapid models proposed design solutions purposes communication evaluationDevelop novel virtual environment that offers pilots clear intuitive means understanding their flying environment system assets instrument clusters procedural terrain generation advanced trajectory calculations\n",
            "2198 DataScientist :  Creates management documentation sites shipper Works with staff develop deliver appropriate necessary reports Works with departments ensure maintain relevant efficiencies within system\n",
            "2210 Consultant :  Create technical strategy budget proposal Implement monitor technical strategy performance metrics Coordinate internal teams ensure project timelines budgets\n",
            "2217 Software Engineer :  Expertise Python Docker Knowledge core programming concepts including object oriented programming unit testing Experience domains risk credit insurance financial forecasting plus want work here best work your life believe most valuable investment make greatest boost give your career build outstanding team colleagues passionate about mission currently offer following benefits will continually evolve them with goal efficiently attracting retaining leveraging very highest quality talent passionate capable team will always benefitWe proud team have built excited about team have Learn something every more done than would anywhere else Competitive salaries line computer equipment Multiple Medical Dental Vision Benefits options allow customize your your Family needs Paid Time Health Dependent Care Flexible Spending Accounts Short Term Long Term Disability Commuter Flexible Spending Account Transit Parking Supplemental Life Insurance Auto Home Insurance Group Life Insurance Insurance\n",
            "2230 Software Engineer :  Work with Xbox future partnerships relevant TrueSkill TrueMatch\n",
            "2269 DataScientist :  involved approach problem structure delivery solution\n",
            "2274 Software Engineer :  Maximize operational efficiencies engagementsPerform functional tasks including functional requirements development configuration maintenance enhancements upgradesPossess gain solid understanding applications functionality intended processes uses features that business partners leverage during their daily workHave experience working with users development staff issues efforts related implementation maintenance purchasing service management inventory management other business processesInteract with users obtain information share information needed successful system implementation upgrades usage maintenance experienceSupport opportunity pursuits practice development initiativesPromote effective forum sharing expertise\n",
            "2276 Consultant :  This labor category designed other than Information Technology functional expertise expertise required support task This labor category offered only conjunction with professional labor categories Work complexity responsibility will greater higher levels Other duties assigned\n",
            "2277 Software Engineer :  Scope plan deliver implementation projects test automation with focus LiveCompare Define implement LiveCompare usage strategy including roadmap tools framework approach including team enablement across project teamsProvide leadership guidance training mentoring implement LiveCompare across project teamsOversee technological execution recommended testing solution roadmap across project teamsParticipate Design Architectural reviews proposed testing solutions across project teamsAssist Sales team with technical conceptional presentation proposed automation solutions customersDescribe complex technical concepts that makes them easily understandable digestible relatableCreate deliver engaging effective training collateral ensuring customers understand aspects product capabilities incorporate Tricentis products into their organizations This include instructor training self guided training train trainer programs Effectively troubleshoot questions issues within suite products Document daily activity track performance\n",
            "2278 Consultant :  Research companies vendors product marketsAssist business development efforts including organizing efforts coordinating with conference vendors procurement coordinate meetings with internal initiativesSupervise mentor associates\n",
            "2280 Consultant :  Ability design session agenda suite audiences facilitate engaging session experience develop session materials session debrief materials take notes during sessions captures synthesizes information from sessions into debrief materialsConducts research synthesize correlate innovation research findings through design thinking lens conduct design thinking sessions order develop unique points view insightsMine signals change from outside perspective proficient across STEP framework with ability develop deep understanding people social technology economic investment trendsSupports management stakeholders multiple projects across areas focusDevelops manages project plans financials\n",
            "2292 DataScientist :  Convert developed models deployable artefacts Conduct experiments improve deployed models Provide innovative solutions business problems drive patents publications this work popularise work demonstrations blogs Read replicate latest research with towards applying problems Walmart Work agile environment deliver high quality solutions with globally distributed remote teams Promote support company policies procedures mission uphold values standards ethics integrity ideal candidate energetic self motivated individual excited focused solving customer problems quick learner thinker good problem solver someone thrives fast paced dynamic environment\n",
            "2296 ML Engineer :  Work improvements pipelines tooling Optimize memory rendering performance QualificationsCandidates must have work permit citizenshipStrong problem solving skills with ability creative finding solutions Excellent communication interpersonal skills Self motivated strong work ethic able work independently Curiosity kindness positive professional attitude\n",
            "2302 Software Engineer :  Develop maintain industry leading measurement applicationsHelp break down product requirements with team product managers into incremental units deliveryA focus creating experiences that delight customersProactively seek opportunities improvement aspects your role\n",
            "2311 DataScientist :  Take ownership drive resolution while keeping appropriate parties informedCollaborate with cross functional teams needed resolve issuesProactively analyze problems drive root cause resolution prevent recurrencesAssist identifying driving best practices\n",
            "2316 Consultant :  General administrative advising programming responsibilities including limited committee membership advising appointments with students meetings with colleagues toolkit resource development participating hands deck programs Performs other related work needed\n",
            "2319 Consultant :  Informally drive matrixed cross functional teams highly complex learning performance initiatives facilitating learner centered creative design process conducting learner research creating with users prototyping learning experiences that achieve performance outcomes ensuring first time quality speed scale while continuously exercising high levels discretion regarding matters firm importance advanced skills understanding apply learner experience research insights adult learning values processes technology techniques measures recommend implement support creation continuous optimization learning experiences achieve enterprise business outcomes Partner with insights analysis teams across firm design research projects test learns learning measurement plans KPIs feedback loops identify learning performance opportunities formulate validate recommendations monitor performance evaluate impact predict future needs Partner with internal stakeholders established vendors curate incorporate appropriate resources into learning performance initiatives Strategically sequence initiatives within value enablement function synthesize them into continuous learning performance journeys that build critical capabilities protect learner mindshare optimize talent performance achieve enterprise business outcomes Develop business cases including cost estimates time resource present need investment divestment learning performance initiatives Stay current research practices Learning Development other industries experimenting with applications processes optimize learning experiences accelerate business outcomes support development teammates build Enterprise Learning capabilities\n",
            "2332 Software Engineer :  Contribute generation standard protocols intellectual property\n",
            "2338 Software Engineer :  Uses instructional design skills develop customize facilitate improve various learning organizational development programs meet specific business needs Provides learning technology support company sponsored events serves back resource assists configuration maintenance Learning Systems survey tools virtual platforms needed also upload content manage internal learning portal sites apply video editing skills tube adobe photoshop iMovie Garage Band Vimeo\n",
            "2351 Software Engineer :  Lead teams that include Amazonians partners customers build deploy security infrastructure automate security operations customers Lead internal builder projects Become deep technical resource that earns trust customer executive stakeholders Innovate behalf customers translate your thoughts into action yielding measurable results\n",
            "2356 Software Engineer :  Attend Product planning sessions contribute ideas platform Research learn latest technologies related implementation ChannelFactory products\n",
            "2363 ML Engineer :  Build deploy CICD pipelines with workflow management tools Build monitoring tools automate testing pipeline Inspire entire team including your cross functional partners bringing ideas table\n",
            "2365 DataScientist :  Manage projects ensure project milestones reached within given timeline budget allocated Work with agility wear many hats scrappy entrepreneurial environment Provide suggestions constantly improve internal processes methodologies\n",
            "2383 Consultant :  Understand demonstrate Siemens services will impact integrate with customers initiatives business drivers value impact Lead architectural design area many product domain solutions address customers business requirements Understand customers goals objectives identify what change initiatives needed customer more efficient productive Translate business requirements into specific solutions applications process designs moderately complex projects Support project management activities control scope cost schedule quality Interact with customer communicate project processes progress help guide customer expectations adoption Make technical recommendations implement overall system design Teamcenter Solution\n",
            "2389 Consultant :  External reporting managing ensuring accuracy mandated yearly reports state education agencies Internal reporting tracking cyclical student teacher school departmental performance Responding reporting requests from school district office staff Writing advanced queries build internal external reports Responding analysis requests from internal external stakeholders Evaluating program effectivenessSystems Integration Automation\n",
            "2392 Consultant :  Lead business process review sessions identify user stories requirements Lead Salesforce solution design sessions from identified user stories requirementsResponsible build activities configuration Salesforce Platform Facilitate unit system user testingSupport user training documentationManage project status timelines risks overall project individual workstream\n",
            "2418 ML Engineer :  Contribute development algorithms energy optimization systems across asset classes including participation wholesale energy markets level incentive will build highly scalable performant reliable products that benefit directly from work Learn grow constantly feed your passion self improvement make those around better\n",
            "2421 Software Engineer :  Collaborate with internal stakeholders various technology product groups\n",
            "2435 Consultant :  Collaborate with subject matter experts internally externally develop market insights Support sales process creating marketing collateral infused with market insights contributing market strategies proposal development product demonstrations Assume responsibility select functional industry area expertise example become expert cost insights power renewables become expert diversity solutions across energy natural resource customers North America Analyst contributes part Agile Scrum team fast paced environment with high visibility rest company\n",
            "2444 ML Engineer :  Train evaluate deploy deep learning generative models that would useful Facet Scale Facet serving capabilities user base grows ruthless about latency performance Facet integral users professional work Build tooling that will support future model development Added plus personal professional exposure photography video creators production post production including editing Facet benefitsCompetitive salary equity Paid parental leave primary secondary caregivers Three weeks paid vacation Medical Dental Vision Insurance OneMedical membership Build your work environment customize your laptop desk setup with peripheral accessory like Order work related books company Amazon account Flexible working hours have daily team stand understand work better when tethered your desk Relocation assistance Yearly stipend learning development Commuter benefits including monthly ride sharing stipend\n",
            "2449 DataScientist :  Raise issues proactively that might impact delivery commitments\n",
            "2450 DataScientist :  Works with businesses identify ways improve process execution achieve strategy through technology Evaluates overall business need assists with design implementation ensure solutions achieve overall business objectives Develops roadmap meeting short long term objectives Acts primary member project team overseeing documenting decisions that occur throughout project lifecycle Elicits specific requirements using interviews document analysis requirements workshops surveys site visits business process descriptions cases scenarios business process analysis task workflow analysis Identifies potential technical problems before they occur helps implement solutions thoroughly validating system changes relative assigned work Critically evaluates information gathered from multiple sources reconciles conflicts distinguishes user requests from underlying true need\n",
            "2460 DataScientist :  Develop innovative forecasts models algorithms solutions build prototypes production implementations Communicate technical information clearly both technical technical people\n",
            "2464 DataScientist :  Organizes conducts high quality primary secondary research synthesizes findings review colleagues Demonstrates well developed written verbal communication skills including presentations leading meetings report writingWorks willingly effectively with others across organization accomplish team goals\n",
            "2468 ML Engineer :  Performs other related work needed\n",
            "2477 Consultant :  Draft proprietary surveys that focus products categories brand experience macro consumer behavioral trendsOversee technical survey execution including programming copy creative asset coordination distribution monitoringDevelop actionable insights that focus business impactLead management customer panel communication develop ideas maintain engagement retentionSupport user experience testing initiatives identify opportunities site experience design optimization based upon direct customer feedbackManage relationships with agency account teams support resourcesContribute collaborative development focused team culture\n",
            "2490 DataScientist :  Work with stakeholders business people internal project team understand business needs interpret information reporting requirements perform testing customized technology platforms systemsCollaborate with users gather functional technical requirements ensure proper testing validationWork with team members project stakeholders plan roles constraints milestones critical pathAbility work both independently teams\n",
            "2494 Consultant :  Provide sales support Sales team partners prospective customersPresentations demonstrations CoStar Real Estate Manager applicationsImplementation Services plan developmentProof concept management deliverySupport ownership technical aspects sales pursuitRespond technical components required Provide feedback direction effectively selling differentiating CoStar Real Estate Manager applicationsAssist provide input Product ManagementTravel\n",
            "2495 ML Engineer :  Build measurement methodology such conversion lift studies brand insights tools party integrations with measurement partners Build scalable solutions integrating lift study infrastructure into house experimentation platform\n",
            "2506 DataScientist :  product features Take customer need turn into operationally excellent buildIterate publication grade Ideate approaches drive step change increases search quality\n",
            "2518 Software Engineer :  Works closely with customers business analysts team members understand business requirements that drive analysis design quality technical solutions These solutions must aligned with business strategies comply with organization architectural standards experience systems analysis design solid understanding development quality assurance integration methodologies\n",
            "2526 DataScientist :  Provide going tracking monitoring performance statistical models recommend ongoing improvements methods algorithms rewarded recognized your performance environment that will challenge give clear direction what takes succeed your role well provide development other roles interested\n",
            "2528 Consultant :  Expertise Collaborate with field sales sales training support teams help partners customers learn build move production grade environments that support Amazon ConnectDelivery Engagements include short site projects proving services support distributed computing solutions that often span private cloud public cloud services Engagements will include integration adaption existing enterprise call centers into Amazon Connect\n",
            "2531 Consultant :  Develop deep understanding provided project materials standards item specifications style guides Write original unique social studies assessment items variety WestEd projects Item types include selected response open ended performance event technology enhanced Strong consideration will given applicants with experience writing technology enhanced items Create scoring information rubric scored item types Work collaboratively with content leads editors coordinators assigned projects Demonstrate growth improvement necessary during item writing cycle each project Attend meetings each project\n",
            "2538 DataScientist :  Perform current state future state analysis individual business areas Develop business process flows using standard flowcharting methodology tools such Microsoft Visio Participate advancing firm through committees internal initiatives such recruiting marketing knowledge sharing\n",
            "2547 DataScientist :  Collaborate across disciplines deliver amazing customer experience\n",
            "2559 Software Engineer :  Work cohesively collaboratively across stakeholdersCounsel mentor junior members team continue develop team technical acumen\n",
            "2561 Software Engineer :  Develops implements backups policies proceduresAssist developing backup testing frameworkReview backup strategy infrastructure alignment with cybersecurity resilience requirementsAssist developing related policies procedures\n",
            "2562 ML Engineer :  Designing implementing deploying high frequency trading algorithmsDeveloping augmenting calibrating exchange simulators\n",
            "2570 Software Engineer :  Contribute design implementation trading order management execution management systems global fixed income productsBuild real time trading system components support products execution stylesDevelop enhance Rates execution algorithms reduce trade cost improve PnLPartner with front office traders strategists improve execution\n",
            "2574 Software Engineer :  Create maintain technical documentationDesign development Capture components related capture processing recognition business documentsOwnership technical leadership design development validation test automation deployment support production Team technical leadership distribute tasks track progress technical risk assessment problem solving early risk notification report progress status manager Perform assigned jobs with minimal assistance from supervisorRespond promptly professionally reports customer escalations\n",
            "2577 Software Engineer :  Architect develop solutions that highly scalable cost effectiveParticipate prioritization estimation sprint planning\n",
            "2579 Consultant :  Gather assess stakeholder inputs perform analysis elicit business requirements that support enhancements emerging existing business Provides input into analysis that supports assessment solution options Perform walkthrough authored requirements with technical user groups confirm acceptance business requirements prototypes mockups Obtain agreement with stakeholders implementing assigned enhancement support development workflows policies procedures Prepare participate stakeholder communication forums which include workgroups customer calls emails webinars training Work with Business Analyst ensure requirements captured effectively Analyze technical functional requirements validate that they align with authored business requirements Research identify opportunities improvement innovation based industry cross industry knowledge experience Provide research input editing business documentation including limited presentations whitepapers SOPs implementation guides reference materials based materials primary point contact with several customers including internal technical staff Plan business technical staff related BCBSA applications\n",
            "2590 DataScientist :  Learn develop skills management campaign performance campaign delivery campaign profitability Monitor analyze reporting frequent basis ensure optimal delivery performance campaigns\n",
            "2593 Software Engineer :  Intelligent Automation Solution Delivery Work with team developers through design delivery Intelligent Automation solutions business Understand concept triggers actions through process process streamlined automated through technology Solutions will form process orchestration automated workflow development business process evaluation driving insights Partner with business understand their needs define business requirements translate them into technical requirements solution designs Manage communication expectations with business stakeholders Work hand hand with offshore team design build test solutions Intelligent Automation Internal Strategy Operations Define methodology best practices design delivery intelligent automation solutions Design execute firm wide strategies that drive intelligent automation solution adoption Partner with intelligent automation leadership across firm centralize capabilities best practices Identify opportunities operational improvement within team execute cross functional initiatives process automations that improve team efficiency productivity performance Build manage internal dashboards reporting leadership track status impact team portfolio Support overall intelligent automation delivery lead Change Management Operations Governance Other duties assigned\n",
            "2597 ML Engineer :  Maintain distributed systems training deploying monitoring models scale Develop batch real time feature store ingestion make features available offline training online production Constructively review work others mentor other members team Give discussions system design team strategy Participate hours support\n",
            "2599 DataScientist :  becoming Subject Matter Expert your domain will help establish strategic product visionYou will work with partners across organization gathering requirements designing project plans determining approaches defining success criteria\n",
            "2601 Consultant :  Expertise Collaborate with field sales sales training support teams help partners customers learn build move production grade environments that support Amazon ConnectDelivery Engagements include short site projects proving services support distributed computing solutions that often span private cloud public cloud services Engagements will include integration adaption existing enterprise call centers into Amazon Connect\n",
            "2605 Consultant :  Serve technology expert assisting with platform issues coordinating solutions with internal resourcesCollaborate with sales team identify retention risks sell opportunities existing relationships\n",
            "2606 Software Engineer :  Scope development effort provide reliable resource timeline estimatesConduct performance scalability analysis neededResponsible development customer specific solutions based company technology performing integration with customers systems providing ongoing support customersProvide input performance management personnel decisionsContribute company road technical architecture well budget planning forecasting activitiesQualificationsExpertise Javascript Python Numpy Pandas VueJS HTML CSSExperience with building deploying maintaining production applicationsExperience managing cloud based infrastructure Bachelor degree Computer Science related fieldOutstanding organizational leadership skillsExperience explaining technical concepts technical audiencesInterest tech startups business philanthropyThe Person Qualities that would make great Emotional resilience high consistency growth orientedPassionate about CariClub missionEmbraces challenges daunted large projectsExcellent communication skills across levels organizationAbility take criticism improve constantlyDesire manage grow work with lean teams Adaptable resourcefulResults goal orientedCariClub PressThe Wall Street Journal Nonprofits Turn Matchmakers Fill Their BoardsCrain former trader connects young professionals charitable boardsForbes Meet Startup Helping Employees Join Profit Junior Boards Companies Like Citigroup KKRBloomberg Elite Firms Circling This Little Start UpFast Company Want give back being nonprofit board This site will helpEntrepreneur Holiday Thought Philanthropic Involvement Advance your Career Here\n",
            "2608 Software Engineer :  Work closely with product design teams create amazing intuitive experiencesParticipate medium large scale complex cross functional projects reviewing project requirements translating them into technical solutionsEnsure time delivery communicate status issues team members stakeholdersDemonstrate date expertise applies this development execution improvement action plans providing expert advice guidanceUtilize strong interpersonal skills working with numerous internal teams expand personal team knowledge upcoming productsTroubleshoot business production issues gathering evaluating information Model compliance with company policies procedures supports company mission values standards ethics integrity incorporating these into development implementation business plans using Open Door Policy demonstrating assisting others with apply these executing business processes practices\n",
            "2617 Consultant :  Support Product team accomplishing goals objectives Consumer internet businesses Lead exploratory analysis identify size product development opportunities determine tradeoffs between product features that grow optimize product offering Conduct deep dive analyses understand product performance conduct complex initiatives that address strategic questions drive assorted projects Inform development with product leadership\n",
            "2618 DataScientist :  Measure recommend improvements digital products across various MiLB properties Present thoughtful cohesive evidence support initiatives campaign proposals various stakeholders Develop dashboards reports analyses that provide insights into major projects initiatives trends around League Create distribute traffic usage reports assist internal business owners upper management MiLB Clubs partners project creation prioritization Build presentations regarding project performance dissemination internally Manage multiple tasks fast paced deadline driven environment\n",
            "2629 Consultant :  Develops reviews communication materials department translating summarizing technical information business audiences developing messaging Advanced experience with Excel Tableau Consistent exercise independent judgment discretion matters significance Regular consistent punctual attendance Ability work nights weekends variable schedule overtime necessary Other duties responsibilities assigned Comprehensivebenefits package effective including health dental vision highly discounted cable services employee perks much much more\n",
            "2631 Software Engineer :  Support Director Product shaping overall Product vision strategy then delivering realizationPerforming line management product squads operating within AGILE methodologyCollaborating closely with Business Owners define product roadmaps epics features user storiesUnderstanding business purpose story defining analyzing possible alternative ways satisfying business purpose storyWorking with team members take shared responsibility overall efforts that team committed toInteracting with stakeholders necessary clarify requirements agree prioritiesReview project team solution designs ensure technical alignment consistency against predefined target architecture established standardsWork partnership with third party suppliers formulate execute delivery customer focused Product Services\n",
            "2634 DataScientist :  Investigating impact technologies future digital banking financial world tomorrow\n",
            "2642 Software Engineer :  Decompose user requirements into logical functions components Design develop maintain front applications scalable nalytics ystem Create metrics reports based unique business needs Have solid understanding arehouse development optimization techniques\n",
            "2659 Software Engineer :  Assist performing analysis business requirements route system design executionDevelop wireframe schematic diagrams support customer requirements gathering facilitate overall business process discoveryCollaborate work closely with house development team implement custom solutionsWillingness develop NetSuite product skills areas required customer engagements dedicate time toward professional certifications\n",
            "2663 Consultant :  Work complexity responsibility will greater higher levels Other duties assigned\n",
            "2669 Software Engineer :  Become master things Medrio sAdvise internal Product team future feature enhancements releases Cross functional Custom Reporting meet customers needs Update maintain expand technology stack responsible automated services reporting Know your around Powershell Windows Task Scheduler Contribute ongoing efforts enhance customer success efforts prioritizing Medrio core value Customers First Ability tackle multitude technical projects with strong prioritization skills Ability clear expectations follow execute\n",
            "2675 Consultant :  Team leadership experience plusWork with various iCapital business units understand needs resolve issues maintain open lines communication Keep forward looking technology landscape helping shape overall technology strategy iCapital\n",
            "2679 Software Engineer :  Work with Xbox future partnerships relevant TrueSkill TrueMatch\n",
            "2685 DataScientist :  Please list what need person here make these tasks sound interesting possible\n",
            "2696 DataScientist :  Provide auditing review feedback design resources from user experience perspective user oriented scripting flows assigned channel Working identify improvement enhancement opportunities assigned channel Producing maintaining documentation activities test cases generated reports created facilitate ready reference\n",
            "2704 DataScientist :  self service dashboards monitor report onboarding programs such attendance actual planned return after onboarding process efficiency identifying bottom performing sites Assists setting adjustment hiring program goals Partners with product program owners reassess metrics track business growth success Trains program teams other stakeholders around self service dashboards\n",
            "2707 Consultant :  Serve mentor junior staff members Effectively develop manage relationships with vendors Participate technical peer review process\n",
            "2714 Consultant :  Digital rights management Tokenization\n",
            "2720 Software Engineer :  Participate roadmapping architecture discussionsLead large projects from initial inception production\n",
            "2729 Software Engineer :  Natural language processingWrite maintain excellent documentation work\n",
            "2741 ML Engineer :  best practices training testing validation build accurate reliable models\n",
            "2746 Software Engineer :  Autonomously pulls issues from team backlog supports other team members with their issues appropriate Participates team activities such backlog grooming planning daily stand retrospectives Contributes designs individual stories Incorporates aspects information security their work Develops understanding changes team deliverables affect other teams customer Additions service delivering teamsIdentifies operational issues brings them attention team Autonomously plans performs routine changes Independently resolves incidents around limited service functions Independently handles service requests Realizes that resource consumption directly affects SaaS profitability\n",
            "2765 DataScientist :  Troubleshoot discrepancies reportingTrack conversion rates between stages sales funnelFacilitate adjustment metrics sEnsure that records unique accurate completeManage team projects track hourly shifts\n",
            "2769 Consultant :  selected strategist will work closely with business initiative leaders across organization development strategic recommendations executing projects associated with KCNA strategy Additionally will work with range teams create strategies functional category brand level that drive shareholder value with clear plans implementation also participate annual Strategic Business Planning process Conduct interviews lead brainstorming sessions find critical business information help business leaders develop innovative approaches their business Interpret results from multiple project components translate these finding into clear compelling recommendations solutions Proactively take additional responsibilities projects needed continuously improve KCNA performance\n",
            "2792 ML Engineer :  Train fine tune deep learning models cases biometrics\n",
            "2809 DataScientist :  Contribute process improvement activities enhance Pharmacy does businessTravel time required\n",
            "2813 DataScientist :  Sharing knowledge findings through effective verbal written presentations stakeholdersSupporting development implementation quality improvement strategies Assisting development implementation research agenda\n",
            "2830 DataScientist :  Identify fundamental questions given technical problem come with feasible solutions evaluate results determine sound final solution Effectively handle tasks priorities deliver quality scale\n",
            "2835 DataScientist :  Extract text formatting from various file types including\n",
            "2837 DataScientist :  Design implement maintain necessary tools which assist translating research into medical devices deployed real clinical workflow project leader responsible gathering requirements collaboration with investigators creating project plans leading execution Maintain technical security standards established Medical Center MCIT adhere governance policies\n",
            "2838 Consultant :  Follow corporate protocols procedures specified your Team Lead\n",
            "2841 ML Engineer :  role model team collaborating good object oriented designs domain modeling Reinforce good development practices like test driven development continuous integrationDevelop areas continuous integration automated deployment Make recommendations process improvements such automated testing approachesIntroduce follow good development practices innovative frameworks technology solutions that help business move fasterFollow best practices like estimation planning reporting improvement everyday work foster atmosphere experimentation continuous learning\n",
            "2843 Consultant :  Monthly custom financial reporting certain business units This could include expense revenue variance reporting vendor spend against contracts vendor savings resource modeling monthly dashboard reporting including performance metrics business metrics core cost goals benchmarks Development utilization effective financial modeling collect streamline analyze monitor communicate financial results management their representation senior leadership executives Perform monthly reporting monitoring well value added analysis various levels staff management variances accruals trends metrics Respond resolve various financial requests customer service issues including limited Develop maintain foster financial communications with multi departmental management amongst Finance team\n",
            "2848 Consultant :  Help cultivate environment where team members empowered demonstrate strong sense ownership belonging\n",
            "2849 Consultant :  Manage interaction with Business stakeholders project requests needs Manage development teams monitor progress manage risk provide functional support Facilitate business process analysis including requirements case gathering documentation interpretation user specifications Monitor manage project progress relative deadlines deliverables\n",
            "2863 DataScientist :  steer monetization strategy through building optimizing managing monetization setups maximize revenue across portfolio gamesLead monetization partner integration testing rolloutManage relationships with different providers optimize performance maintain partnerships ensure compliance with brand safety guidelinesCollaborate with Product User Acquisition teams share knowledge improve efficiency outputActively constantly learn your love teach expect build that being proactive seeking knowledge solutions\n",
            "2872 Consultant :  Prepare deliver presentations that translate Qraft capabilities into practical tangible commercial Also document share research initiatives internally Mentor junior team members help them develop practical financial insights expand domain knowledge Collaboratively contribute build best practices financial services\n",
            "2883 Software Engineer :  Lead fast cycle prototyping proof concept activities evaluate proposed solutions approaches drive implementation adoption\n",
            "2884 DataScientist :  Collaborate work effectively across large matrix organization\n",
            "2886 ML Engineer :  Contribute projects from early stage research through developmentImplement optimize state algorithms distributed environmentsParticipate fully collaborative approach research applications projects\n",
            "2887 DataScientist :  Perform related duties assignedAssist other departments needed\n",
            "2897 Software Engineer :  Maintain improve deliver innovations existing product suiteContribute testing design experimentation driven analysisPresent senior leadership project proposals resultsProduce technical documentation research design\n",
            "2906 ML Engineer :  Deploying models production environments\n",
            "2908 ML Engineer :  Contribute research development technical design product featuresDevelop novel tests around security reliability robustness modelsStay current academic research related ongoing team projects\n",
            "2941 DataScientist :  Join group passionate people committed delivering happiness users each other\n",
            "2943 Consultant :  Delivery high quality senior executive level deliverables Provide performance analysis process improvement using industry best practice methodologies tools Support publication proposed rules Federal Register\n",
            "2945 Software Engineer :  Design develop maintain administrative systems trading clearing applicationsUnderstand exchange business prioritiesRecommend improvements customer experience\n",
            "2952 DataScientist :  Design oversee execution sophisticated predictive models inform contracting strategies patient cost affordability programs prescriber utilization brand performance financial modelingDevelop project work plans engagement teamsActively manage more junior team members work projectsAssist with recruiting team members participate interview process\n",
            "2982 DataScientist :  Demonstrates Research work related more following areas Customer experience improvement using virtual assistants chatbot network modeling optimization Collaborates with teams outside immediate work group Represents work team providing solutions technical issues associated with assigned projects Collaborate with platform team remediate model issues provide subject matter expert opinions model improvements Perform model validation activities including validation report write identification model risks development benchmark models Researches writes edits documentation technical requirements including evaluation plans confluence pages white papers presentations test results technical manuals formal recommendations reports Contributes company creating patents Application Programming Interfaces APIs other intellectual property Develop algorithmic solutions technical requirements custom designs future products applications\n",
            "2989 DataScientist :  Practices self development promotes learning others proactively providing information resources advice expertise with coworkers customers building relationships with cross functional stakeholders influencing others through technical explanations examples adapting competing demands responsibilities listening responding seeking addressing performance feedback providing feedback others creating executing plans capitalize strengths develop weaknesses supporting team collaboration adapting learning from change difficulties feedback Completes work assignments supports business specific projects applying expertise subject area supporting development work plans meet business priorities deadlines ensuring team follows procedures policies coordinating resources accomplish priorities deadlines collaborating cross functionally make effective business decisions solving complex problems escalating high priority issues risks appropriate recognizing capitalizing improvement opportunities Conducts communication activities providing support internal external stakeholders managing maintaining vendor relationships defining communicating brand ensure positive reputation recognition ensuring communications align with standards ensuring communication activities performance metrics documented tracked\n",
            "2990 DataScientist :  Design automated workflow process forms notificationsDesign reporting mechanismsDevelop test efficient well documented workflow processesMaintain task lists decision pointsParticipate ongoing vendor professional development meetingsCoordinate efforts with InOutsource project managers teamContribute updating repeatable templated InOutsource project methodologies\n",
            "2996 Consultant :  Build PowerPoint briefingsDraft meeting minutesTrack action itemsProvide communication support other operational tasks\n",
            "3000 Software Engineer :  Support Product owner Product Manager Support developing product vision product capabilities priorities product roadmap Support synthesizing input from business user research technical solutions refine product roadmap Integrated roadmap Write epics user stories acceptance criteria tasks Jira Manage Jira board Support assessing risks issues develop mitigation resolution strategiesSupports grooming activities supports Product Manager decompose experiences into epics user stories\n",
            "3005 Software Engineer :  Decompose user requirements into logical functions components Design develop maintain front applications scalable nalytics ystem Create metrics reports based unique business needs Have solid understanding arehouse development optimization techniques\n",
            "3026 ML Engineer :  Write validate maintain programs Python Hive order support research Write technical requirements support implementation testing improved methodologies products\n"
          ]
        }
      ]
    },
    {
      "cell_type": "code",
      "source": [
        "test[test['id'] == 1643]"
      ],
      "metadata": {
        "colab": {
          "base_uri": "https://localhost:8080/",
          "height": 81
        },
        "id": "NlNXOSW9K8-6",
        "outputId": "55c3117a-f019-4bf8-b1a3-f591101bcf57"
      },
      "execution_count": 61,
      "outputs": [
        {
          "output_type": "execute_result",
          "data": {
            "text/plain": [
              "       id                            description\n",
              "127  1643  Write documentation where appropriate"
            ],
            "text/html": [
              "\n",
              "  <div id=\"df-70a80f90-bde2-4299-9246-e9595dd2bbde\">\n",
              "    <div class=\"colab-df-container\">\n",
              "      <div>\n",
              "<style scoped>\n",
              "    .dataframe tbody tr th:only-of-type {\n",
              "        vertical-align: middle;\n",
              "    }\n",
              "\n",
              "    .dataframe tbody tr th {\n",
              "        vertical-align: top;\n",
              "    }\n",
              "\n",
              "    .dataframe thead th {\n",
              "        text-align: right;\n",
              "    }\n",
              "</style>\n",
              "<table border=\"1\" class=\"dataframe\">\n",
              "  <thead>\n",
              "    <tr style=\"text-align: right;\">\n",
              "      <th></th>\n",
              "      <th>id</th>\n",
              "      <th>description</th>\n",
              "    </tr>\n",
              "  </thead>\n",
              "  <tbody>\n",
              "    <tr>\n",
              "      <th>127</th>\n",
              "      <td>1643</td>\n",
              "      <td>Write documentation where appropriate</td>\n",
              "    </tr>\n",
              "  </tbody>\n",
              "</table>\n",
              "</div>\n",
              "      <button class=\"colab-df-convert\" onclick=\"convertToInteractive('df-70a80f90-bde2-4299-9246-e9595dd2bbde')\"\n",
              "              title=\"Convert this dataframe to an interactive table.\"\n",
              "              style=\"display:none;\">\n",
              "        \n",
              "  <svg xmlns=\"http://www.w3.org/2000/svg\" height=\"24px\"viewBox=\"0 0 24 24\"\n",
              "       width=\"24px\">\n",
              "    <path d=\"M0 0h24v24H0V0z\" fill=\"none\"/>\n",
              "    <path d=\"M18.56 5.44l.94 2.06.94-2.06 2.06-.94-2.06-.94-.94-2.06-.94 2.06-2.06.94zm-11 1L8.5 8.5l.94-2.06 2.06-.94-2.06-.94L8.5 2.5l-.94 2.06-2.06.94zm10 10l.94 2.06.94-2.06 2.06-.94-2.06-.94-.94-2.06-.94 2.06-2.06.94z\"/><path d=\"M17.41 7.96l-1.37-1.37c-.4-.4-.92-.59-1.43-.59-.52 0-1.04.2-1.43.59L10.3 9.45l-7.72 7.72c-.78.78-.78 2.05 0 2.83L4 21.41c.39.39.9.59 1.41.59.51 0 1.02-.2 1.41-.59l7.78-7.78 2.81-2.81c.8-.78.8-2.07 0-2.86zM5.41 20L4 18.59l7.72-7.72 1.47 1.35L5.41 20z\"/>\n",
              "  </svg>\n",
              "      </button>\n",
              "      \n",
              "  <style>\n",
              "    .colab-df-container {\n",
              "      display:flex;\n",
              "      flex-wrap:wrap;\n",
              "      gap: 12px;\n",
              "    }\n",
              "\n",
              "    .colab-df-convert {\n",
              "      background-color: #E8F0FE;\n",
              "      border: none;\n",
              "      border-radius: 50%;\n",
              "      cursor: pointer;\n",
              "      display: none;\n",
              "      fill: #1967D2;\n",
              "      height: 32px;\n",
              "      padding: 0 0 0 0;\n",
              "      width: 32px;\n",
              "    }\n",
              "\n",
              "    .colab-df-convert:hover {\n",
              "      background-color: #E2EBFA;\n",
              "      box-shadow: 0px 1px 2px rgba(60, 64, 67, 0.3), 0px 1px 3px 1px rgba(60, 64, 67, 0.15);\n",
              "      fill: #174EA6;\n",
              "    }\n",
              "\n",
              "    [theme=dark] .colab-df-convert {\n",
              "      background-color: #3B4455;\n",
              "      fill: #D2E3FC;\n",
              "    }\n",
              "\n",
              "    [theme=dark] .colab-df-convert:hover {\n",
              "      background-color: #434B5C;\n",
              "      box-shadow: 0px 1px 3px 1px rgba(0, 0, 0, 0.15);\n",
              "      filter: drop-shadow(0px 1px 2px rgba(0, 0, 0, 0.3));\n",
              "      fill: #FFFFFF;\n",
              "    }\n",
              "  </style>\n",
              "\n",
              "      <script>\n",
              "        const buttonEl =\n",
              "          document.querySelector('#df-70a80f90-bde2-4299-9246-e9595dd2bbde button.colab-df-convert');\n",
              "        buttonEl.style.display =\n",
              "          google.colab.kernel.accessAllowed ? 'block' : 'none';\n",
              "\n",
              "        async function convertToInteractive(key) {\n",
              "          const element = document.querySelector('#df-70a80f90-bde2-4299-9246-e9595dd2bbde');\n",
              "          const dataTable =\n",
              "            await google.colab.kernel.invokeFunction('convertToInteractive',\n",
              "                                                     [key], {});\n",
              "          if (!dataTable) return;\n",
              "\n",
              "          const docLinkHtml = 'Like what you see? Visit the ' +\n",
              "            '<a target=\"_blank\" href=https://colab.research.google.com/notebooks/data_table.ipynb>data table notebook</a>'\n",
              "            + ' to learn more about interactive tables.';\n",
              "          element.innerHTML = '';\n",
              "          dataTable['output_type'] = 'display_data';\n",
              "          await google.colab.output.renderOutput(dataTable, element);\n",
              "          const docLink = document.createElement('div');\n",
              "          docLink.innerHTML = docLinkHtml;\n",
              "          element.appendChild(docLink);\n",
              "        }\n",
              "      </script>\n",
              "    </div>\n",
              "  </div>\n",
              "  "
            ]
          },
          "metadata": {},
          "execution_count": 61
        }
      ]
    },
    {
      "cell_type": "code",
      "source": [
        ""
      ],
      "metadata": {
        "id": "FQLiKWQzLfP8"
      },
      "execution_count": null,
      "outputs": []
    }
  ]
}