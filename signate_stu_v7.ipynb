{
  "nbformat": 4,
  "nbformat_minor": 0,
  "metadata": {
    "colab": {
      "name": "signate_stu_v7.ipynb",
      "provenance": [],
      "collapsed_sections": [],
      "authorship_tag": "ABX9TyOgCTrEd4z4lWwNcM7aGrmp",
      "include_colab_link": true
    },
    "kernelspec": {
      "name": "python3",
      "display_name": "Python 3"
    },
    "language_info": {
      "name": "python"
    },
    "accelerator": "GPU",
    "gpuClass": "standard"
  },
  "cells": [
    {
      "cell_type": "markdown",
      "metadata": {
        "id": "view-in-github",
        "colab_type": "text"
      },
      "source": [
        "<a href=\"https://colab.research.google.com/github/t-nakatani/signate_stu22/blob/exp/signate_stu_v7.ipynb\" target=\"_parent\"><img src=\"https://colab.research.google.com/assets/colab-badge.svg\" alt=\"Open In Colab\"/></a>"
      ]
    },
    {
      "cell_type": "markdown",
      "source": [
        "~~distilbert-base-uncased-finetuned-sst-2-english\n",
        "クラス分類のためのモデルっぽいので期待大~~  \n",
        "2クラス分類やから他クラス分類にはdistilbert-base-uncasedを推奨する"
      ],
      "metadata": {
        "id": "GDti4y2d6yb_"
      }
    },
    {
      "cell_type": "code",
      "execution_count": 1,
      "metadata": {
        "id": "ofvp5QVbEagJ",
        "colab": {
          "base_uri": "https://localhost:8080/"
        },
        "outputId": "d6a7073c-0cd8-4868-ce3b-4c43fb5116c1"
      },
      "outputs": [
        {
          "output_type": "stream",
          "name": "stdout",
          "text": [
            "Drive already mounted at /content/drive; to attempt to forcibly remount, call drive.mount(\"/content/drive\", force_remount=True).\n"
          ]
        }
      ],
      "source": [
        "import numpy as np\n",
        "import pandas as pd\n",
        "import matplotlib.pyplot as plt\n",
        "import seaborn as sns\n",
        "import os\n",
        "\n",
        "from google.colab import drive\n",
        "drive.mount('/content/drive')\n",
        "ROOT = \"/content/drive/MyDrive/Colab Notebooks/signate/\"\n",
        "\n",
        "#学習用データと評価用データの読み込み\n",
        "train = pd.read_csv(os.path.join(ROOT, \"train_cleaned.csv\"))\n",
        "test = pd.read_csv(os.path.join(ROOT, \"test_cleaned.csv\"))\n",
        "\n",
        "jobdic = dict(zip([1, 2, 3, 4], ['DataScientist', 'ML Engineer', 'Software Engineer', 'Consultant']))"
      ]
    },
    {
      "cell_type": "code",
      "source": [
        "!pip install -q transformers==3"
      ],
      "metadata": {
        "id": "YisF3KcxVqbT"
      },
      "execution_count": 2,
      "outputs": []
    },
    {
      "cell_type": "code",
      "source": [
        "import numpy as np\n",
        "import transformers\n",
        "import torch\n",
        "from torch.utils.data import Dataset, DataLoader\n",
        "# from transformers import RobertaTokenizer, RobertaModel\n",
        "# from transformers import AutoModel, AutoTokenizer \n",
        "from transformers import AutoTokenizer, AutoModelForSequenceClassification, AutoConfig\n",
        "# from transformers import BertTokenizer, BertModel\n",
        "from torch import optim\n",
        "from torch import cuda\n",
        "import time\n",
        "from matplotlib import pyplot as plt\n",
        "from tqdm import tqdm"
      ],
      "metadata": {
        "id": "IrNv3cPZOec-"
      },
      "execution_count": 3,
      "outputs": []
    },
    {
      "cell_type": "code",
      "source": [
        "# Datasetの定義\n",
        "class CreateDataset(Dataset):\n",
        "  def __init__(self, X, y, tokenizer, max_len):\n",
        "    self.X = X\n",
        "    self.y = y\n",
        "    self.tokenizer = tokenizer\n",
        "    self.max_len = max_len\n",
        "\n",
        "  def __len__(self):  # len(Dataset)で返す値を指定\n",
        "    return len(self.X)\n",
        "\n",
        "  def __getitem__(self, index):  # Dataset[index]で返す値を指定\n",
        "    text = self.X[index]\n",
        "    inputs = self.tokenizer.encode_plus(\n",
        "      text,\n",
        "      add_special_tokens=True,\n",
        "      max_length=self.max_len,\n",
        "      pad_to_max_length=True,\n",
        "      truncation=True\n",
        "    )\n",
        "    ids = inputs['input_ids']\n",
        "    mask = inputs['attention_mask']\n",
        "    labels = self.y[index]\n",
        "\n",
        "    return {\n",
        "      'ids': torch.LongTensor(ids),\n",
        "      'mask': torch.LongTensor(mask),\n",
        "      'labels': torch.Tensor(labels)\n",
        "    }"
      ],
      "metadata": {
        "id": "bTbjxDE60aFs"
      },
      "execution_count": 4,
      "outputs": []
    },
    {
      "cell_type": "markdown",
      "source": [
        "1. from_pretrainedの文字列でconfig.from_pretrainedを呼び出し\n",
        "2. config.from_pretrainedの結果をconfigにセット"
      ],
      "metadata": {
        "id": "yYsvP_-hf-pQ"
      }
    },
    {
      "cell_type": "code",
      "source": [
        "from pandas._config import config\n",
        "# BERT分類モデルの定義\n",
        "class BERTClass(torch.nn.Module):\n",
        "  def __init__(self, drop_rate, otuput_size):\n",
        "    super().__init__()\n",
        "    self.config = AutoConfig.from_pretrained('distilbert-base-uncased', num_labels=4)\n",
        "    self.bert = AutoModelForSequenceClassification.from_pretrained('distilbert-base-uncased', config=self.config)\n",
        "    # self.drop = torch.nn.Dropout(drop_rate)\n",
        "    # self.fc = torch.nn.Linear(768, otuput_size)  # BERTの出力に合わせて768次元を指定\n",
        "\n",
        "  def forward(self, ids, mask):\n",
        "    # _, out = self.bert(ids, attention_mask=mask)\n",
        "    out = self.bert(ids, attention_mask=mask)\n",
        "    # print(ids.shape, len(out), out[0].shape)\n",
        "    # out = self.fc(self.drop(out[0]))\n",
        "    return out[0]"
      ],
      "metadata": {
        "id": "M38JBNnv7QA4"
      },
      "execution_count": 5,
      "outputs": []
    },
    {
      "cell_type": "code",
      "source": [
        "def calculate_loss_and_accuracy(model, criterion, loader, device, epoch, max_epoch):\n",
        "  \"\"\" 損失・正解率を計算\"\"\"\n",
        "  model.eval()\n",
        "  loss = 0.0\n",
        "  total = 0\n",
        "  correct = 0\n",
        "  with torch.no_grad():\n",
        "    with tqdm(loader) as pbar:\n",
        "      pbar.set_description('valid')\n",
        "      for i, data in enumerate(pbar):\n",
        "        ids = data['ids'].to(device)\n",
        "        mask = data['mask'].to(device)\n",
        "        labels = data['labels'].to(device)\n",
        "\n",
        "\n",
        "        outputs = model(ids, mask)\n",
        "        loss += criterion(outputs, labels).item()\n",
        "\n",
        "        pred = torch.argmax(outputs, dim=-1).cpu().numpy() # バッチサイズの長さの予測ラベル配列\n",
        "        labels = torch.argmax(labels, dim=-1).cpu().numpy()  # バッチサイズの長さの正解ラベル配列\n",
        "        total += len(labels)\n",
        "        correct += (pred == labels).sum().item()\n",
        "        pbar.set_postfix(Loss=loss/(i+1), Accuracy=correct/total)\n",
        "\n",
        "  return loss / len(loader), correct / total"
      ],
      "metadata": {
        "id": "KFQSOOn7SbPp"
      },
      "execution_count": 6,
      "outputs": []
    },
    {
      "cell_type": "code",
      "source": [
        "def train_val(train_loader, val_loader, model_path):\n",
        "  device = 'cuda' if cuda.is_available() else 'cpu'\n",
        "  model = BERTClass(DROP_RATE, OUTPUT_SIZE).to(device)\n",
        "  criterion = torch.nn.CrossEntropyLoss()\n",
        "  optimizer = torch.optim.AdamW(params=model.parameters(), lr=LEARNING_RATE)\n",
        "  \n",
        "  log_valid = []\n",
        "  best_acc = correct = total = 0\n",
        "  \n",
        "\n",
        "  # train\n",
        "  for epoch in range(NUM_EPOCHS):\n",
        "    print('\\nepoch:', epoch+1)\n",
        "    loss_train = 0\n",
        "    model.train()\n",
        "    with tqdm(train_loader) as pbar:\n",
        "      pbar.set_description('train')\n",
        "      for i, data in enumerate(pbar):\n",
        "        ids = data['ids'].to(device)\n",
        "        mask = data['mask'].to(device)\n",
        "        labels = data['labels'].to(device)\n",
        "\n",
        "        optimizer.zero_grad()\n",
        "\n",
        "        outputs = model(ids, mask)\n",
        "        loss = criterion(outputs, labels)\n",
        "        loss.backward()\n",
        "        optimizer.step()\n",
        "        \n",
        "        loss_train += loss.item()\n",
        "        pred = torch.argmax(outputs, dim=-1).cpu().numpy()\n",
        "        labels = torch.argmax(labels, dim=-1).cpu().numpy()\n",
        "        total += len(labels)\n",
        "        correct += (pred == labels).sum().item()\n",
        "        pbar.set_postfix(Loss=loss_train/(i+1), Accuracy=correct/total)\n",
        "\n",
        "    loss_valid, acc_valid = calculate_loss_and_accuracy(model, criterion, val_loader, device, epoch, NUM_EPOCHS)\n",
        "    log_valid.append([loss_valid, acc_valid])\n",
        "    if best_acc < acc_valid:\n",
        "      best_acc = acc_valid\n",
        "      \n",
        "      torch.save(model, os.path.join(ROOT, model_path))\n",
        "      print('==== model saved ====')\n",
        "\n",
        "  return log_valid"
      ],
      "metadata": {
        "id": "T9Hy83GPWD1C"
      },
      "execution_count": 7,
      "outputs": []
    },
    {
      "cell_type": "code",
      "source": [
        "DROP_RATE = 0.1\n",
        "OUTPUT_SIZE = 4\n",
        "BATCH_SIZE = 16\n",
        "NUM_EPOCHS = 4\n",
        "LEARNING_RATE = 7e-6\n",
        "VERSION = 'v7'"
      ],
      "metadata": {
        "id": "XfF5KLQJWJCG"
      },
      "execution_count": 8,
      "outputs": []
    },
    {
      "cell_type": "code",
      "source": [
        "# tokenizer = AutoTokenizer.from_pretrained('bert-base-uncased')"
      ],
      "metadata": {
        "id": "wOUA9ZqYLaJa"
      },
      "execution_count": 9,
      "outputs": []
    },
    {
      "cell_type": "code",
      "source": [
        "# tokenizer = AutoTokenizer.from_pretrained('bert-base-uncased')\n",
        "# txt = train['description'][1]\n",
        "# # encoded_input = tokenizer.encode_plus(txt, padding='max_length', max_length=400)\n",
        "# encoded_input = tokenizer.encode_plus(\n",
        "#       txt,\n",
        "#       add_special_tokens=True,\n",
        "#       max_length=400,\n",
        "#       pad_to_max_length=True,\n",
        "#       truncation=True\n",
        "#     )\n",
        "# out = list(zip(encoded_input['attention_mask'], encoded_input[\"input_ids\"], tokenizer.decode(encoded_input[\"input_ids\"]).split(' ')))\n"
      ],
      "metadata": {
        "id": "b6qbAq0KHfaS"
      },
      "execution_count": 10,
      "outputs": []
    },
    {
      "cell_type": "code",
      "source": [
        "# tokenizer.decode(encoded_input[\"input_ids\"])"
      ],
      "metadata": {
        "id": "0J11887bxRlk"
      },
      "execution_count": 11,
      "outputs": []
    },
    {
      "cell_type": "code",
      "source": [
        "import sklearn.metrics\n",
        "def train_val_predict(\n",
        "        df_train,       # 学習用のデータ\n",
        "        text_column,    # 対象のカラム名\n",
        "        target_column,  # 目的変数のカラム名\n",
        "        df_valid=None,  # 検証用データ\n",
        "        df_val_test=None,       # 予測用データ\n",
        "        model_file_prefix=\"\",  # 保存時のファイル名識別子\n",
        "        epochs=NUM_EPOCHS,\n",
        "        batch_size=BATCH_SIZE,\n",
        "    ):\n",
        "  \n",
        "    # model\n",
        "    model_path = \"{}_{}.pth\".format(model_file_prefix, VERSION)\n",
        "    model = BERTClass(DROP_RATE, OUTPUT_SIZE)\n",
        "    criterion = torch.nn.CrossEntropyLoss()\n",
        "    optimizer = torch.optim.AdamW(params=model.parameters(), lr=LEARNING_RATE)\n",
        "    device = 'cuda' if cuda.is_available() else 'cpu'\n",
        "\n",
        "    # dataset\n",
        "    df_val_test[target_column].fillna(0)\n",
        "\n",
        "    max_len = 400\n",
        "    tokenizer = AutoTokenizer.from_pretrained('distilbert-base-uncased')\n",
        "    dataset_train = CreateDataset(df_train[text_column].values, pd.get_dummies(df_train[target_column]).values, tokenizer, max_len)\n",
        "    dataset_val = CreateDataset(df_valid[text_column].values, pd.get_dummies(df_valid[target_column]).values, tokenizer, max_len)\n",
        "    dataset_test = CreateDataset(df_val_test[text_column].values, pd.get_dummies(df_val_test[target_column]).values, tokenizer, max_len)\n",
        "\n",
        "    dataloader_train = DataLoader(dataset_train, batch_size=BATCH_SIZE, shuffle=True)\n",
        "    dataloader_valid = DataLoader(dataset_val, batch_size=BATCH_SIZE, shuffle=True)\n",
        "    dataloader_test = DataLoader(dataset_test, batch_size=BATCH_SIZE, shuffle=False)\n",
        "\n",
        "    # train\n",
        "    print('\\n================  start train  ================')\n",
        "    metric = train_val(dataloader_train, dataloader_valid, model_path)\n",
        "    print('================  end train  ================\\n')\n",
        "\n",
        "    # predict\n",
        "    model = torch.load(os.path.join(ROOT, model_path))\n",
        "    model.eval()\n",
        "    pred_y_list = []\n",
        "    emb_list = []\n",
        "    with torch.no_grad():\n",
        "      with tqdm(dataloader_test) as pbar:\n",
        "        pbar.set_description('test')\n",
        "        for data in pbar:\n",
        "          ids = data['ids'].to(device)\n",
        "          mask = data['mask'].to(device)\n",
        "          labels = data['labels'].to(device)\n",
        "\n",
        "          output = model.forward(ids, mask)\n",
        "          pred = torch.argmax(output, dim=-1).cpu().numpy()\n",
        "\n",
        "          pred_y_list.extend(pred)\n",
        "          emb_list.extend(output.cpu().numpy())\n",
        "    return metric, pred_y_list, emb_list"
      ],
      "metadata": {
        "id": "La2mPphur18q"
      },
      "execution_count": 12,
      "outputs": []
    },
    {
      "cell_type": "code",
      "source": [
        "import sklearn.model_selection\n",
        "\n",
        "text_column, target_column, n_splits = ('description', 'jobflag', 5)\n",
        "\n",
        "df = pd.concat([train, test], ignore_index=True, sort=False)\n",
        "df_train = df[df[target_column].notnull()]\n",
        "df_test = df[df[target_column].isnull()]\n",
        "\n",
        "df_train_idx = df_train.index\n",
        "\n",
        "# store result\n",
        "df_pred = pd.DataFrame(df.index, columns=[\"index\"]).set_index(\"index\")\n",
        "df_emb = pd.DataFrame(df.index, columns=[\"index\"]).set_index(\"index\")\n",
        "df_emb_pred = None\n",
        "metric_list = []\n",
        "all_emb = []\n",
        "\n",
        "# cross validation\n",
        "kf = sklearn.model_selection.StratifiedKFold(n_splits=n_splits, shuffle=True, random_state=1234)\n",
        "for i, (train_idx, test_idx) in enumerate(kf.split(df_train, df_train[target_column])):\n",
        "  df_train_sub = df_train.iloc[train_idx]\n",
        "  df_test_sub = df_train.iloc[test_idx]\n",
        "\n",
        "  df_val_test = pd.concat([df_test_sub, df_test], ignore_index=True, sort=False)\n",
        "\n",
        "  model_file_prefix = \"cv_{}\".format(i)\n",
        "\n",
        "  # train\n",
        "  metric, pred_y_list, emb_list = train_val_predict(\n",
        "      df_train=df_train_sub, \n",
        "      text_column=text_column,\n",
        "      target_column=target_column, \n",
        "      df_valid=df_test_sub,\n",
        "      df_val_test=df_val_test,\n",
        "      model_file_prefix=model_file_prefix,\n",
        "  )\n",
        "  metric_list.append(metric)\n",
        "  all_emb.append(emb_list)\n",
        "  # break"
      ],
      "metadata": {
        "colab": {
          "base_uri": "https://localhost:8080/"
        },
        "id": "QB2vixNEo7_B",
        "outputId": "f6e1e5ed-8152-43a6-f97c-40346a0d4ffa"
      },
      "execution_count": 13,
      "outputs": [
        {
          "output_type": "stream",
          "name": "stderr",
          "text": [
            "Some weights of the model checkpoint at distilbert-base-uncased were not used when initializing DistilBertForSequenceClassification: ['vocab_transform.weight', 'vocab_transform.bias', 'vocab_layer_norm.weight', 'vocab_layer_norm.bias', 'vocab_projector.weight', 'vocab_projector.bias']\n",
            "- This IS expected if you are initializing DistilBertForSequenceClassification from the checkpoint of a model trained on another task or with another architecture (e.g. initializing a BertForSequenceClassification model from a BertForPretraining model).\n",
            "- This IS NOT expected if you are initializing DistilBertForSequenceClassification from the checkpoint of a model that you expect to be exactly identical (initializing a BertForSequenceClassification model from a BertForSequenceClassification model).\n",
            "Some weights of DistilBertForSequenceClassification were not initialized from the model checkpoint at distilbert-base-uncased and are newly initialized: ['pre_classifier.weight', 'pre_classifier.bias', 'classifier.weight', 'classifier.bias']\n",
            "You should probably TRAIN this model on a down-stream task to be able to use it for predictions and inference.\n"
          ]
        },
        {
          "output_type": "stream",
          "name": "stdout",
          "text": [
            "\n",
            "================  start train  ================\n"
          ]
        },
        {
          "output_type": "stream",
          "name": "stderr",
          "text": [
            "Some weights of the model checkpoint at distilbert-base-uncased were not used when initializing DistilBertForSequenceClassification: ['vocab_transform.weight', 'vocab_transform.bias', 'vocab_layer_norm.weight', 'vocab_layer_norm.bias', 'vocab_projector.weight', 'vocab_projector.bias']\n",
            "- This IS expected if you are initializing DistilBertForSequenceClassification from the checkpoint of a model trained on another task or with another architecture (e.g. initializing a BertForSequenceClassification model from a BertForPretraining model).\n",
            "- This IS NOT expected if you are initializing DistilBertForSequenceClassification from the checkpoint of a model that you expect to be exactly identical (initializing a BertForSequenceClassification model from a BertForSequenceClassification model).\n",
            "Some weights of DistilBertForSequenceClassification were not initialized from the model checkpoint at distilbert-base-uncased and are newly initialized: ['pre_classifier.weight', 'pre_classifier.bias', 'classifier.weight', 'classifier.bias']\n",
            "You should probably TRAIN this model on a down-stream task to be able to use it for predictions and inference.\n"
          ]
        },
        {
          "output_type": "stream",
          "name": "stdout",
          "text": [
            "\n",
            "epoch: 1\n"
          ]
        },
        {
          "output_type": "stream",
          "name": "stderr",
          "text": [
            "train: 100%|██████████| 76/76 [00:29<00:00,  2.57it/s, Accuracy=0.526, Loss=1.19]\n",
            "valid: 100%|██████████| 19/19 [00:02<00:00,  7.56it/s, Accuracy=0.674, Loss=0.945]\n"
          ]
        },
        {
          "output_type": "stream",
          "name": "stdout",
          "text": [
            "==== model saved ====\n",
            "\n",
            "epoch: 2\n"
          ]
        },
        {
          "output_type": "stream",
          "name": "stderr",
          "text": [
            "train: 100%|██████████| 76/76 [00:26<00:00,  2.84it/s, Accuracy=0.607, Loss=0.862]\n",
            "valid: 100%|██████████| 19/19 [00:02<00:00,  7.53it/s, Accuracy=0.724, Loss=0.756]\n"
          ]
        },
        {
          "output_type": "stream",
          "name": "stdout",
          "text": [
            "==== model saved ====\n",
            "\n",
            "epoch: 3\n"
          ]
        },
        {
          "output_type": "stream",
          "name": "stderr",
          "text": [
            "train: 100%|██████████| 76/76 [00:26<00:00,  2.84it/s, Accuracy=0.652, Loss=0.713]\n",
            "valid: 100%|██████████| 19/19 [00:02<00:00,  7.54it/s, Accuracy=0.766, Loss=0.682]\n"
          ]
        },
        {
          "output_type": "stream",
          "name": "stdout",
          "text": [
            "==== model saved ====\n",
            "\n",
            "epoch: 4\n"
          ]
        },
        {
          "output_type": "stream",
          "name": "stderr",
          "text": [
            "train: 100%|██████████| 76/76 [00:27<00:00,  2.79it/s, Accuracy=0.689, Loss=0.604]\n",
            "valid: 100%|██████████| 19/19 [00:02<00:00,  7.61it/s, Accuracy=0.737, Loss=0.698]\n"
          ]
        },
        {
          "output_type": "stream",
          "name": "stdout",
          "text": [
            "================  end train  ================\n",
            "\n"
          ]
        },
        {
          "output_type": "stream",
          "name": "stderr",
          "text": [
            "test: 100%|██████████| 114/114 [00:14<00:00,  7.82it/s]\n",
            "Some weights of the model checkpoint at distilbert-base-uncased were not used when initializing DistilBertForSequenceClassification: ['vocab_transform.weight', 'vocab_transform.bias', 'vocab_layer_norm.weight', 'vocab_layer_norm.bias', 'vocab_projector.weight', 'vocab_projector.bias']\n",
            "- This IS expected if you are initializing DistilBertForSequenceClassification from the checkpoint of a model trained on another task or with another architecture (e.g. initializing a BertForSequenceClassification model from a BertForPretraining model).\n",
            "- This IS NOT expected if you are initializing DistilBertForSequenceClassification from the checkpoint of a model that you expect to be exactly identical (initializing a BertForSequenceClassification model from a BertForSequenceClassification model).\n",
            "Some weights of DistilBertForSequenceClassification were not initialized from the model checkpoint at distilbert-base-uncased and are newly initialized: ['pre_classifier.weight', 'pre_classifier.bias', 'classifier.weight', 'classifier.bias']\n",
            "You should probably TRAIN this model on a down-stream task to be able to use it for predictions and inference.\n"
          ]
        },
        {
          "output_type": "stream",
          "name": "stdout",
          "text": [
            "\n",
            "================  start train  ================\n"
          ]
        },
        {
          "output_type": "stream",
          "name": "stderr",
          "text": [
            "Some weights of the model checkpoint at distilbert-base-uncased were not used when initializing DistilBertForSequenceClassification: ['vocab_transform.weight', 'vocab_transform.bias', 'vocab_layer_norm.weight', 'vocab_layer_norm.bias', 'vocab_projector.weight', 'vocab_projector.bias']\n",
            "- This IS expected if you are initializing DistilBertForSequenceClassification from the checkpoint of a model trained on another task or with another architecture (e.g. initializing a BertForSequenceClassification model from a BertForPretraining model).\n",
            "- This IS NOT expected if you are initializing DistilBertForSequenceClassification from the checkpoint of a model that you expect to be exactly identical (initializing a BertForSequenceClassification model from a BertForSequenceClassification model).\n",
            "Some weights of DistilBertForSequenceClassification were not initialized from the model checkpoint at distilbert-base-uncased and are newly initialized: ['pre_classifier.weight', 'pre_classifier.bias', 'classifier.weight', 'classifier.bias']\n",
            "You should probably TRAIN this model on a down-stream task to be able to use it for predictions and inference.\n"
          ]
        },
        {
          "output_type": "stream",
          "name": "stdout",
          "text": [
            "\n",
            "epoch: 1\n"
          ]
        },
        {
          "output_type": "stream",
          "name": "stderr",
          "text": [
            "train: 100%|██████████| 76/76 [00:27<00:00,  2.81it/s, Accuracy=0.48, Loss=1.21]\n",
            "valid: 100%|██████████| 19/19 [00:02<00:00,  7.55it/s, Accuracy=0.64, Loss=1.02]\n"
          ]
        },
        {
          "output_type": "stream",
          "name": "stdout",
          "text": [
            "==== model saved ====\n",
            "\n",
            "epoch: 2\n"
          ]
        },
        {
          "output_type": "stream",
          "name": "stderr",
          "text": [
            "train: 100%|██████████| 76/76 [00:26<00:00,  2.84it/s, Accuracy=0.576, Loss=0.892]\n",
            "valid: 100%|██████████| 19/19 [00:02<00:00,  7.56it/s, Accuracy=0.706, Loss=0.8]\n"
          ]
        },
        {
          "output_type": "stream",
          "name": "stdout",
          "text": [
            "==== model saved ====\n",
            "\n",
            "epoch: 3\n"
          ]
        },
        {
          "output_type": "stream",
          "name": "stderr",
          "text": [
            "train: 100%|██████████| 76/76 [00:26<00:00,  2.83it/s, Accuracy=0.634, Loss=0.72]\n",
            "valid: 100%|██████████| 19/19 [00:02<00:00,  7.53it/s, Accuracy=0.739, Loss=0.722]\n"
          ]
        },
        {
          "output_type": "stream",
          "name": "stdout",
          "text": [
            "==== model saved ====\n",
            "\n",
            "epoch: 4\n"
          ]
        },
        {
          "output_type": "stream",
          "name": "stderr",
          "text": [
            "train: 100%|██████████| 76/76 [00:26<00:00,  2.83it/s, Accuracy=0.671, Loss=0.617]\n",
            "valid: 100%|██████████| 19/19 [00:02<00:00,  7.54it/s, Accuracy=0.736, Loss=0.716]\n"
          ]
        },
        {
          "output_type": "stream",
          "name": "stdout",
          "text": [
            "================  end train  ================\n",
            "\n"
          ]
        },
        {
          "output_type": "stream",
          "name": "stderr",
          "text": [
            "test: 100%|██████████| 114/114 [00:14<00:00,  7.79it/s]\n",
            "Some weights of the model checkpoint at distilbert-base-uncased were not used when initializing DistilBertForSequenceClassification: ['vocab_transform.weight', 'vocab_transform.bias', 'vocab_layer_norm.weight', 'vocab_layer_norm.bias', 'vocab_projector.weight', 'vocab_projector.bias']\n",
            "- This IS expected if you are initializing DistilBertForSequenceClassification from the checkpoint of a model trained on another task or with another architecture (e.g. initializing a BertForSequenceClassification model from a BertForPretraining model).\n",
            "- This IS NOT expected if you are initializing DistilBertForSequenceClassification from the checkpoint of a model that you expect to be exactly identical (initializing a BertForSequenceClassification model from a BertForSequenceClassification model).\n",
            "Some weights of DistilBertForSequenceClassification were not initialized from the model checkpoint at distilbert-base-uncased and are newly initialized: ['pre_classifier.weight', 'pre_classifier.bias', 'classifier.weight', 'classifier.bias']\n",
            "You should probably TRAIN this model on a down-stream task to be able to use it for predictions and inference.\n"
          ]
        },
        {
          "output_type": "stream",
          "name": "stdout",
          "text": [
            "\n",
            "================  start train  ================\n"
          ]
        },
        {
          "output_type": "stream",
          "name": "stderr",
          "text": [
            "Some weights of the model checkpoint at distilbert-base-uncased were not used when initializing DistilBertForSequenceClassification: ['vocab_transform.weight', 'vocab_transform.bias', 'vocab_layer_norm.weight', 'vocab_layer_norm.bias', 'vocab_projector.weight', 'vocab_projector.bias']\n",
            "- This IS expected if you are initializing DistilBertForSequenceClassification from the checkpoint of a model trained on another task or with another architecture (e.g. initializing a BertForSequenceClassification model from a BertForPretraining model).\n",
            "- This IS NOT expected if you are initializing DistilBertForSequenceClassification from the checkpoint of a model that you expect to be exactly identical (initializing a BertForSequenceClassification model from a BertForSequenceClassification model).\n",
            "Some weights of DistilBertForSequenceClassification were not initialized from the model checkpoint at distilbert-base-uncased and are newly initialized: ['pre_classifier.weight', 'pre_classifier.bias', 'classifier.weight', 'classifier.bias']\n",
            "You should probably TRAIN this model on a down-stream task to be able to use it for predictions and inference.\n"
          ]
        },
        {
          "output_type": "stream",
          "name": "stdout",
          "text": [
            "\n",
            "epoch: 1\n"
          ]
        },
        {
          "output_type": "stream",
          "name": "stderr",
          "text": [
            "train: 100%|██████████| 76/76 [00:26<00:00,  2.83it/s, Accuracy=0.449, Loss=1.22]\n",
            "valid: 100%|██████████| 19/19 [00:02<00:00,  7.51it/s, Accuracy=0.653, Loss=1.03]\n"
          ]
        },
        {
          "output_type": "stream",
          "name": "stdout",
          "text": [
            "==== model saved ====\n",
            "\n",
            "epoch: 2\n"
          ]
        },
        {
          "output_type": "stream",
          "name": "stderr",
          "text": [
            "train: 100%|██████████| 76/76 [00:26<00:00,  2.84it/s, Accuracy=0.566, Loss=0.911]\n",
            "valid: 100%|██████████| 19/19 [00:02<00:00,  7.47it/s, Accuracy=0.696, Loss=0.802]\n"
          ]
        },
        {
          "output_type": "stream",
          "name": "stdout",
          "text": [
            "==== model saved ====\n",
            "\n",
            "epoch: 3\n"
          ]
        },
        {
          "output_type": "stream",
          "name": "stderr",
          "text": [
            "train: 100%|██████████| 76/76 [00:26<00:00,  2.84it/s, Accuracy=0.629, Loss=0.722]\n",
            "valid: 100%|██████████| 19/19 [00:02<00:00,  7.56it/s, Accuracy=0.71, Loss=0.753]\n"
          ]
        },
        {
          "output_type": "stream",
          "name": "stdout",
          "text": [
            "==== model saved ====\n",
            "\n",
            "epoch: 4\n"
          ]
        },
        {
          "output_type": "stream",
          "name": "stderr",
          "text": [
            "train: 100%|██████████| 76/76 [00:26<00:00,  2.84it/s, Accuracy=0.67, Loss=0.619]\n",
            "valid: 100%|██████████| 19/19 [00:02<00:00,  7.66it/s, Accuracy=0.736, Loss=0.703]\n"
          ]
        },
        {
          "output_type": "stream",
          "name": "stdout",
          "text": [
            "==== model saved ====\n",
            "================  end train  ================\n",
            "\n"
          ]
        },
        {
          "output_type": "stream",
          "name": "stderr",
          "text": [
            "test: 100%|██████████| 114/114 [00:15<00:00,  7.42it/s]\n",
            "Some weights of the model checkpoint at distilbert-base-uncased were not used when initializing DistilBertForSequenceClassification: ['vocab_transform.weight', 'vocab_transform.bias', 'vocab_layer_norm.weight', 'vocab_layer_norm.bias', 'vocab_projector.weight', 'vocab_projector.bias']\n",
            "- This IS expected if you are initializing DistilBertForSequenceClassification from the checkpoint of a model trained on another task or with another architecture (e.g. initializing a BertForSequenceClassification model from a BertForPretraining model).\n",
            "- This IS NOT expected if you are initializing DistilBertForSequenceClassification from the checkpoint of a model that you expect to be exactly identical (initializing a BertForSequenceClassification model from a BertForSequenceClassification model).\n",
            "Some weights of DistilBertForSequenceClassification were not initialized from the model checkpoint at distilbert-base-uncased and are newly initialized: ['pre_classifier.weight', 'pre_classifier.bias', 'classifier.weight', 'classifier.bias']\n",
            "You should probably TRAIN this model on a down-stream task to be able to use it for predictions and inference.\n"
          ]
        },
        {
          "output_type": "stream",
          "name": "stdout",
          "text": [
            "\n",
            "================  start train  ================\n"
          ]
        },
        {
          "output_type": "stream",
          "name": "stderr",
          "text": [
            "Some weights of the model checkpoint at distilbert-base-uncased were not used when initializing DistilBertForSequenceClassification: ['vocab_transform.weight', 'vocab_transform.bias', 'vocab_layer_norm.weight', 'vocab_layer_norm.bias', 'vocab_projector.weight', 'vocab_projector.bias']\n",
            "- This IS expected if you are initializing DistilBertForSequenceClassification from the checkpoint of a model trained on another task or with another architecture (e.g. initializing a BertForSequenceClassification model from a BertForPretraining model).\n",
            "- This IS NOT expected if you are initializing DistilBertForSequenceClassification from the checkpoint of a model that you expect to be exactly identical (initializing a BertForSequenceClassification model from a BertForSequenceClassification model).\n",
            "Some weights of DistilBertForSequenceClassification were not initialized from the model checkpoint at distilbert-base-uncased and are newly initialized: ['pre_classifier.weight', 'pre_classifier.bias', 'classifier.weight', 'classifier.bias']\n",
            "You should probably TRAIN this model on a down-stream task to be able to use it for predictions and inference.\n"
          ]
        },
        {
          "output_type": "stream",
          "name": "stdout",
          "text": [
            "\n",
            "epoch: 1\n"
          ]
        },
        {
          "output_type": "stream",
          "name": "stderr",
          "text": [
            "train: 100%|██████████| 76/76 [00:26<00:00,  2.86it/s, Accuracy=0.481, Loss=1.21]\n",
            "valid: 100%|██████████| 19/19 [00:03<00:00,  4.99it/s, Accuracy=0.62, Loss=1.03]\n"
          ]
        },
        {
          "output_type": "stream",
          "name": "stdout",
          "text": [
            "==== model saved ====\n",
            "\n",
            "epoch: 2\n"
          ]
        },
        {
          "output_type": "stream",
          "name": "stderr",
          "text": [
            "train: 100%|██████████| 76/76 [00:28<00:00,  2.63it/s, Accuracy=0.583, Loss=0.885]\n",
            "valid: 100%|██████████| 19/19 [00:02<00:00,  7.59it/s, Accuracy=0.7, Loss=0.813]\n"
          ]
        },
        {
          "output_type": "stream",
          "name": "stdout",
          "text": [
            "==== model saved ====\n",
            "\n",
            "epoch: 3\n"
          ]
        },
        {
          "output_type": "stream",
          "name": "stderr",
          "text": [
            "train: 100%|██████████| 76/76 [00:26<00:00,  2.84it/s, Accuracy=0.637, Loss=0.721]\n",
            "valid: 100%|██████████| 19/19 [00:02<00:00,  7.63it/s, Accuracy=0.706, Loss=0.757]\n"
          ]
        },
        {
          "output_type": "stream",
          "name": "stdout",
          "text": [
            "==== model saved ====\n",
            "\n",
            "epoch: 4\n"
          ]
        },
        {
          "output_type": "stream",
          "name": "stderr",
          "text": [
            "train: 100%|██████████| 76/76 [00:27<00:00,  2.80it/s, Accuracy=0.674, Loss=0.617]\n",
            "valid: 100%|██████████| 19/19 [00:02<00:00,  7.14it/s, Accuracy=0.719, Loss=0.758]\n"
          ]
        },
        {
          "output_type": "stream",
          "name": "stdout",
          "text": [
            "==== model saved ====\n",
            "================  end train  ================\n",
            "\n"
          ]
        },
        {
          "output_type": "stream",
          "name": "stderr",
          "text": [
            "test: 100%|██████████| 114/114 [00:15<00:00,  7.15it/s]\n",
            "Some weights of the model checkpoint at distilbert-base-uncased were not used when initializing DistilBertForSequenceClassification: ['vocab_transform.weight', 'vocab_transform.bias', 'vocab_layer_norm.weight', 'vocab_layer_norm.bias', 'vocab_projector.weight', 'vocab_projector.bias']\n",
            "- This IS expected if you are initializing DistilBertForSequenceClassification from the checkpoint of a model trained on another task or with another architecture (e.g. initializing a BertForSequenceClassification model from a BertForPretraining model).\n",
            "- This IS NOT expected if you are initializing DistilBertForSequenceClassification from the checkpoint of a model that you expect to be exactly identical (initializing a BertForSequenceClassification model from a BertForSequenceClassification model).\n",
            "Some weights of DistilBertForSequenceClassification were not initialized from the model checkpoint at distilbert-base-uncased and are newly initialized: ['pre_classifier.weight', 'pre_classifier.bias', 'classifier.weight', 'classifier.bias']\n",
            "You should probably TRAIN this model on a down-stream task to be able to use it for predictions and inference.\n"
          ]
        },
        {
          "output_type": "stream",
          "name": "stdout",
          "text": [
            "\n",
            "================  start train  ================\n"
          ]
        },
        {
          "output_type": "stream",
          "name": "stderr",
          "text": [
            "Some weights of the model checkpoint at distilbert-base-uncased were not used when initializing DistilBertForSequenceClassification: ['vocab_transform.weight', 'vocab_transform.bias', 'vocab_layer_norm.weight', 'vocab_layer_norm.bias', 'vocab_projector.weight', 'vocab_projector.bias']\n",
            "- This IS expected if you are initializing DistilBertForSequenceClassification from the checkpoint of a model trained on another task or with another architecture (e.g. initializing a BertForSequenceClassification model from a BertForPretraining model).\n",
            "- This IS NOT expected if you are initializing DistilBertForSequenceClassification from the checkpoint of a model that you expect to be exactly identical (initializing a BertForSequenceClassification model from a BertForSequenceClassification model).\n",
            "Some weights of DistilBertForSequenceClassification were not initialized from the model checkpoint at distilbert-base-uncased and are newly initialized: ['pre_classifier.weight', 'pre_classifier.bias', 'classifier.weight', 'classifier.bias']\n",
            "You should probably TRAIN this model on a down-stream task to be able to use it for predictions and inference.\n"
          ]
        },
        {
          "output_type": "stream",
          "name": "stdout",
          "text": [
            "\n",
            "epoch: 1\n"
          ]
        },
        {
          "output_type": "stream",
          "name": "stderr",
          "text": [
            "train: 100%|██████████| 76/76 [00:26<00:00,  2.86it/s, Accuracy=0.481, Loss=1.2]\n",
            "valid: 100%|██████████| 19/19 [00:02<00:00,  7.64it/s, Accuracy=0.67, Loss=1.03]\n"
          ]
        },
        {
          "output_type": "stream",
          "name": "stdout",
          "text": [
            "==== model saved ====\n",
            "\n",
            "epoch: 2\n"
          ]
        },
        {
          "output_type": "stream",
          "name": "stderr",
          "text": [
            "train: 100%|██████████| 76/76 [00:28<00:00,  2.65it/s, Accuracy=0.583, Loss=0.913]\n",
            "valid: 100%|██████████| 19/19 [00:03<00:00,  5.73it/s, Accuracy=0.677, Loss=0.86]\n"
          ]
        },
        {
          "output_type": "stream",
          "name": "stdout",
          "text": [
            "==== model saved ====\n",
            "\n",
            "epoch: 3\n"
          ]
        },
        {
          "output_type": "stream",
          "name": "stderr",
          "text": [
            "train: 100%|██████████| 76/76 [00:28<00:00,  2.66it/s, Accuracy=0.639, Loss=0.741]\n",
            "valid: 100%|██████████| 19/19 [00:02<00:00,  7.59it/s, Accuracy=0.729, Loss=0.75]\n"
          ]
        },
        {
          "output_type": "stream",
          "name": "stdout",
          "text": [
            "==== model saved ====\n",
            "\n",
            "epoch: 4\n"
          ]
        },
        {
          "output_type": "stream",
          "name": "stderr",
          "text": [
            "train: 100%|██████████| 76/76 [00:26<00:00,  2.83it/s, Accuracy=0.676, Loss=0.618]\n",
            "valid: 100%|██████████| 19/19 [00:02<00:00,  7.58it/s, Accuracy=0.746, Loss=0.708]\n"
          ]
        },
        {
          "output_type": "stream",
          "name": "stdout",
          "text": [
            "==== model saved ====\n",
            "================  end train  ================\n",
            "\n"
          ]
        },
        {
          "output_type": "stream",
          "name": "stderr",
          "text": [
            "test: 100%|██████████| 114/114 [00:14<00:00,  7.69it/s]\n"
          ]
        }
      ]
    },
    {
      "cell_type": "code",
      "source": [
        "mean_df = pd.DataFrame([[np.mean(arr_val) for arr_val in arr_vec] for arr_vec in np.moveaxis(all_emb_, 0, 2)])\n",
        "preds = [np.argmax(arr)+1 for arr in mean_df.to_numpy()]\n",
        "df_submit = pd.DataFrame([df_test.id.to_list(), preds]).T\n",
        "df_submit.to_csv(os.path.join(ROOT, 'v7_esemble.csv'), index=None, header=None)"
      ],
      "metadata": {
        "id": "zHARK-Z-lvL8"
      },
      "execution_count": 64,
      "outputs": []
    }
  ]
}